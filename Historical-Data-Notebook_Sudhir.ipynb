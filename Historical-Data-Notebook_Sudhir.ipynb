{
 "cells": [
  {
   "cell_type": "code",
   "execution_count": 0,
   "metadata": {
    "application/vnd.databricks.v1+cell": {
     "cellMetadata": {},
     "inputWidgets": {},
     "nuid": "0aae33b9-d9b5-40a2-ba8e-698f92df8c5a",
     "showTitle": false,
     "tableResultSettingsMap": {},
     "title": ""
    }
   },
   "outputs": [],
   "source": [
    "spark.conf.set(\"fs.azure.account.key.sudhirstorageac.blob.core.windows.net\", \"9535lVj6pG6hQy4DJnqLMWC79Xz3DnJGx6+XAUAi84dVw/1rcYWZ9LGLH7qOBZeOMWobkQgxM/Yk+ASteYIqOA==\")\n",
    " \n",
    "filename = dbutils.widgets.get(\"filename\")\n",
    " \n",
    "print(filename)\n",
    " \n",
    "df = spark.read.csv(f\"wasbs://sudhir-container@sudhirstorageac.blob.core.windows.net/{filename}\", header=True, inferSchema=True)\n",
    " \n",
    "df.write.csv(f\"/dbfs/tmp/{filename.split('/')[-1]}\")\n",
    " "
   ]
  },
  {
   "cell_type": "code",
   "execution_count": 0,
   "metadata": {
    "application/vnd.databricks.v1+cell": {
     "cellMetadata": {
      "byteLimit": 2048000,
      "rowLimit": 10000
     },
     "inputWidgets": {},
     "nuid": "d0ec9d1c-fdcb-4325-b7ba-63dc9b0e07dd",
     "showTitle": false,
     "tableResultSettingsMap": {},
     "title": ""
    }
   },
   "outputs": [
    {
     "data": {
      "text/html": [
       "<style scoped>\n",
       "  .table-result-container {\n",
       "    max-height: 300px;\n",
       "    overflow: auto;\n",
       "  }\n",
       "  table, th, td {\n",
       "    border: 1px solid black;\n",
       "    border-collapse: collapse;\n",
       "  }\n",
       "  th, td {\n",
       "    padding: 5px;\n",
       "  }\n",
       "  th {\n",
       "    text-align: left;\n",
       "  }\n",
       "</style><div class='table-result-container'><table class='table-result'><thead style='background-color: white'><tr><th>transaction_id</th><th>account_id</th><th>transaction_date</th><th>transaction_type</th><th>transaction_amount</th><th>merchant_id</th></tr></thead><tbody><tr><td>TXN10000</td><td>ACC1006</td><td>2023-10-08</td><td>Subscription Payment</td><td>25000</td><td>MER2030</td></tr><tr><td>TXN10001</td><td>ACC1002</td><td>2023-03-07</td><td>Withdrawal</td><td>30000</td><td>MER2007</td></tr><tr><td>TXN10002</td><td>ACC1088</td><td>2022-04-11</td><td>ATM Withdrawal</td><td>1000</td><td>MER2004</td></tr><tr><td>TXN10003</td><td>ACC1090</td><td>2022-07-21</td><td>Subscription Payment</td><td>10000</td><td>MER2014</td></tr><tr><td>TXN10004</td><td>ACC1047</td><td>2023-03-15</td><td>Withdrawal</td><td>70000</td><td>MER2035</td></tr><tr><td>TXN10005</td><td>ACC1091</td><td>2022-12-22</td><td>Withdrawal</td><td>5000</td><td>MER2073</td></tr><tr><td>TXN10006</td><td>ACC1089</td><td>2023-12-27</td><td>Subscription Payment</td><td>5000</td><td>MER2061</td></tr><tr><td>TXN10007</td><td>ACC1085</td><td>2022-09-02</td><td>Credit Card Payment</td><td>50000</td><td>MER2071</td></tr><tr><td>TXN10008</td><td>ACC1053</td><td>2023-03-02</td><td>Deposit</td><td>200000</td><td>MER2050</td></tr><tr><td>TXN10009</td><td>ACC1079</td><td>2023-12-27</td><td>Fund Transfer</td><td>1000</td><td>MER2069</td></tr><tr><td>TXN10010</td><td>ACC1076</td><td>2023-02-21</td><td>Bill Payment</td><td>500</td><td>MER2039</td></tr><tr><td>TXN10011</td><td>ACC1023</td><td>2023-11-29</td><td>Bill Payment</td><td>20000</td><td>MER2095</td></tr><tr><td>TXN10012</td><td>ACC1007</td><td>2022-10-10</td><td>Loan Payment</td><td>1000</td><td>MER2028</td></tr><tr><td>TXN10013</td><td>ACC1051</td><td>2023-07-09</td><td>Bill Payment</td><td>500</td><td>MER2030</td></tr><tr><td>TXN10014</td><td>ACC1026</td><td>2023-02-10</td><td>Online Purchase</td><td>10000</td><td>MER2062</td></tr><tr><td>TXN10015</td><td>ACC1053</td><td>2023-05-26</td><td>ATM Withdrawal</td><td>20000</td><td>MER2086</td></tr><tr><td>TXN10016</td><td>ACC1053</td><td>2023-09-22</td><td>Subscription Payment</td><td>50000</td><td>MER2095</td></tr><tr><td>TXN10017</td><td>ACC1058</td><td>2023-12-15</td><td>Credit Card Payment</td><td>50000</td><td>MER2066</td></tr><tr><td>TXN10018</td><td>ACC1065</td><td>2023-11-04</td><td>Fund Transfer</td><td>10000</td><td>MER2074</td></tr><tr><td>TXN10019</td><td>ACC1078</td><td>2023-07-24</td><td>Withdrawal</td><td>5000</td><td>MER2010</td></tr><tr><td>TXN10020</td><td>ACC1087</td><td>2023-06-16</td><td>Fund Transfer</td><td>1000</td><td>MER2093</td></tr><tr><td>TXN10021</td><td>ACC1094</td><td>2023-08-12</td><td>Loan Payment</td><td>10000</td><td>MER2078</td></tr><tr><td>TXN10022</td><td>ACC1007</td><td>2022-11-03</td><td>Loan Payment</td><td>20000</td><td>MER2051</td></tr><tr><td>TXN10023</td><td>ACC1076</td><td>2023-06-13</td><td>Subscription Payment</td><td>15000</td><td>MER2038</td></tr><tr><td>TXN10024</td><td>ACC1074</td><td>2022-11-06</td><td>Fund Transfer</td><td>5000</td><td>MER2002</td></tr><tr><td>TXN10025</td><td>ACC1074</td><td>2023-11-04</td><td>Loan Payment</td><td>2000</td><td>MER2095</td></tr><tr><td>TXN10026</td><td>ACC1054</td><td>2023-07-26</td><td>Withdrawal</td><td>10000</td><td>MER2000</td></tr><tr><td>TXN10027</td><td>ACC1052</td><td>2022-02-02</td><td>Credit Card Payment</td><td>10000</td><td>MER2081</td></tr><tr><td>TXN10028</td><td>ACC1012</td><td>2023-01-08</td><td>Subscription Payment</td><td>1000</td><td>MER2007</td></tr><tr><td>TXN10029</td><td>ACC1007</td><td>2022-12-25</td><td>Fund Transfer</td><td>20000</td><td>MER2005</td></tr><tr><td>TXN10030</td><td>ACC1096</td><td>2023-08-07</td><td>Subscription Payment</td><td>2000</td><td>MER2064</td></tr><tr><td>TXN10031</td><td>ACC1072</td><td>2023-02-19</td><td>Loan Payment</td><td>10000</td><td>MER2046</td></tr><tr><td>TXN10032</td><td>ACC1058</td><td>2023-08-23</td><td>Bill Payment</td><td>5000</td><td>MER2051</td></tr><tr><td>TXN10033</td><td>ACC1049</td><td>2023-02-09</td><td>Loan Payment</td><td>200000</td><td>MER2075</td></tr><tr><td>TXN10034</td><td>ACC1001</td><td>2023-02-01</td><td>Online Purchase</td><td>10000</td><td>MER2065</td></tr><tr><td>TXN10035</td><td>ACC1074</td><td>2022-08-17</td><td>Withdrawal</td><td>300000</td><td>MER2081</td></tr><tr><td>TXN10036</td><td>ACC1027</td><td>2023-06-06</td><td>Deposit</td><td>30000</td><td>MER2044</td></tr><tr><td>TXN10037</td><td>ACC1057</td><td>2023-11-14</td><td>ATM Withdrawal</td><td>5000</td><td>MER2072</td></tr><tr><td>TXN10038</td><td>ACC1026</td><td>2023-01-05</td><td>Online Purchase</td><td>50000</td><td>MER2079</td></tr><tr><td>TXN10039</td><td>ACC1089</td><td>2023-08-08</td><td>Deposit</td><td>2000</td><td>MER2076</td></tr><tr><td>TXN10040</td><td>ACC1013</td><td>2022-08-05</td><td>ATM Withdrawal</td><td>5000</td><td>MER2003</td></tr><tr><td>TXN10041</td><td>ACC1097</td><td>2022-08-05</td><td>Fund Transfer</td><td>500</td><td>MER2015</td></tr><tr><td>TXN10042</td><td>ACC1035</td><td>2022-09-27</td><td>Online Purchase</td><td>1000</td><td>MER2058</td></tr><tr><td>TXN10043</td><td>ACC1037</td><td>2023-01-19</td><td>Online Purchase</td><td>5000</td><td>MER2022</td></tr><tr><td>TXN10044</td><td>ACC1081</td><td>2023-02-23</td><td>Bill Payment</td><td>100000</td><td>MER2003</td></tr><tr><td>TXN10045</td><td>ACC1075</td><td>2022-11-06</td><td>Fund Transfer</td><td>10000</td><td>MER2005</td></tr><tr><td>TXN10046</td><td>ACC1055</td><td>2023-07-25</td><td>Loan Payment</td><td>1000</td><td>MER2043</td></tr><tr><td>TXN10047</td><td>ACC1034</td><td>2023-08-07</td><td>Withdrawal</td><td>5000</td><td>MER2000</td></tr><tr><td>TXN10048</td><td>ACC1050</td><td>2022-10-13</td><td>Fund Transfer</td><td>30000</td><td>MER2052</td></tr><tr><td>TXN10049</td><td>ACC1011</td><td>2023-10-10</td><td>Loan Payment</td><td>200000</td><td>MER2071</td></tr><tr><td>TXN10050</td><td>ACC1019</td><td>2023-12-04</td><td>Loan Payment</td><td>500</td><td>MER2009</td></tr><tr><td>TXN10051</td><td>ACC1060</td><td>2022-11-09</td><td>Online Purchase</td><td>2000</td><td>MER2002</td></tr><tr><td>TXN10052</td><td>ACC1063</td><td>2023-03-09</td><td>Deposit</td><td>2000</td><td>MER2040</td></tr><tr><td>TXN10053</td><td>ACC1006</td><td>2023-01-02</td><td>Deposit</td><td>10000</td><td>MER2014</td></tr><tr><td>TXN10054</td><td>ACC1029</td><td>2023-01-11</td><td>Bill Payment</td><td>5000</td><td>MER2023</td></tr><tr><td>TXN10055</td><td>ACC1021</td><td>2022-09-26</td><td>ATM Withdrawal</td><td>5000</td><td>MER2076</td></tr><tr><td>TXN10056</td><td>ACC1086</td><td>2023-11-06</td><td>Online Purchase</td><td>1000</td><td>MER2001</td></tr><tr><td>TXN10057</td><td>ACC1082</td><td>2022-09-02</td><td>ATM Withdrawal</td><td>200</td><td>MER2081</td></tr><tr><td>TXN10058</td><td>ACC1093</td><td>2022-07-04</td><td>Subscription Payment</td><td>30000</td><td>MER2069</td></tr><tr><td>TXN10059</td><td>ACC1044</td><td>2023-03-06</td><td>Credit Card Payment</td><td>500</td><td>MER2072</td></tr><tr><td>TXN10060</td><td>ACC1076</td><td>2023-11-14</td><td>ATM Withdrawal</td><td>50000</td><td>MER2087</td></tr><tr><td>TXN10061</td><td>ACC1063</td><td>2023-05-08</td><td>Deposit</td><td>500</td><td>MER2084</td></tr><tr><td>TXN10062</td><td>ACC1013</td><td>2023-03-30</td><td>Deposit</td><td>5000</td><td>MER2067</td></tr><tr><td>TXN10063</td><td>ACC1031</td><td>2023-04-05</td><td>Credit Card Payment</td><td>5000</td><td>MER2011</td></tr><tr><td>TXN10064</td><td>ACC1071</td><td>2023-06-03</td><td>Credit Card Payment</td><td>20000</td><td>MER2019</td></tr><tr><td>TXN10065</td><td>ACC1091</td><td>2023-12-30</td><td>Withdrawal</td><td>50000</td><td>MER2061</td></tr><tr><td>TXN10066</td><td>ACC1092</td><td>2023-06-17</td><td>Fund Transfer</td><td>150000</td><td>MER2016</td></tr><tr><td>TXN10067</td><td>ACC1005</td><td>2023-01-24</td><td>Bill Payment</td><td>5000</td><td>MER2049</td></tr><tr><td>TXN10068</td><td>ACC1021</td><td>2023-08-03</td><td>Online Purchase</td><td>500</td><td>MER2040</td></tr><tr><td>TXN10069</td><td>ACC1045</td><td>2022-10-28</td><td>Deposit</td><td>1000</td><td>MER2051</td></tr><tr><td>TXN10070</td><td>ACC1080</td><td>2022-07-15</td><td>Loan Payment</td><td>20000</td><td>MER2071</td></tr><tr><td>TXN10071</td><td>ACC1036</td><td>2022-05-02</td><td>Bill Payment</td><td>5000</td><td>MER2094</td></tr><tr><td>TXN10072</td><td>ACC1005</td><td>2023-05-26</td><td>Bill Payment</td><td>30000</td><td>MER2037</td></tr><tr><td>TXN10073</td><td>ACC1021</td><td>2023-09-12</td><td>Subscription Payment</td><td>2000</td><td>MER2091</td></tr><tr><td>TXN10074</td><td>ACC1098</td><td>2023-10-27</td><td>Deposit</td><td>1000</td><td>MER2011</td></tr><tr><td>TXN10075</td><td>ACC1084</td><td>2023-11-07</td><td>Credit Card Payment</td><td>20000</td><td>MER2032</td></tr><tr><td>TXN10076</td><td>ACC1001</td><td>2023-12-17</td><td>Credit Card Payment</td><td>5000</td><td>MER2074</td></tr><tr><td>TXN10077</td><td>ACC1043</td><td>2023-11-22</td><td>Withdrawal</td><td>20000</td><td>MER2012</td></tr><tr><td>TXN10078</td><td>ACC1017</td><td>2022-11-22</td><td>Fund Transfer</td><td>200000</td><td>MER2012</td></tr><tr><td>TXN10079</td><td>ACC1017</td><td>2023-01-17</td><td>Deposit</td><td>500</td><td>MER2066</td></tr><tr><td>TXN10080</td><td>ACC1047</td><td>2022-09-21</td><td>Credit Card Payment</td><td>15000</td><td>MER2018</td></tr><tr><td>TXN10081</td><td>ACC1002</td><td>2022-08-05</td><td>Loan Payment</td><td>30000</td><td>MER2019</td></tr><tr><td>TXN10082</td><td>ACC1024</td><td>2023-08-30</td><td>Withdrawal</td><td>500</td><td>MER2075</td></tr><tr><td>TXN10083</td><td>ACC1066</td><td>2023-08-23</td><td>Bill Payment</td><td>20000</td><td>MER2031</td></tr><tr><td>TXN10084</td><td>ACC1023</td><td>2023-03-14</td><td>Online Purchase</td><td>50000</td><td>MER2076</td></tr><tr><td>TXN10085</td><td>ACC1044</td><td>2023-06-12</td><td>Bill Payment</td><td>5000</td><td>MER2080</td></tr><tr><td>TXN10086</td><td>ACC1041</td><td>2023-12-06</td><td>Withdrawal</td><td>20000</td><td>MER2023</td></tr><tr><td>TXN10087</td><td>ACC1043</td><td>2022-07-15</td><td>Withdrawal</td><td>100000</td><td>MER2033</td></tr><tr><td>TXN10088</td><td>ACC1089</td><td>2022-02-13</td><td>ATM Withdrawal</td><td>10000</td><td>MER2000</td></tr><tr><td>TXN10089</td><td>ACC1002</td><td>2023-12-10</td><td>Credit Card Payment</td><td>2000</td><td>MER2081</td></tr><tr><td>TXN10090</td><td>ACC1029</td><td>2022-09-27</td><td>Deposit</td><td>1000</td><td>MER2012</td></tr><tr><td>TXN10091</td><td>ACC1060</td><td>2023-01-04</td><td>Withdrawal</td><td>10000</td><td>MER2011</td></tr><tr><td>TXN10092</td><td>ACC1009</td><td>2023-12-26</td><td>Online Purchase</td><td>25000</td><td>MER2085</td></tr><tr><td>TXN10093</td><td>ACC1009</td><td>2023-10-10</td><td>Online Purchase</td><td>500</td><td>MER2047</td></tr><tr><td>TXN10094</td><td>ACC1060</td><td>2022-08-04</td><td>Loan Payment</td><td>20000</td><td>MER2052</td></tr><tr><td>TXN10095</td><td>ACC1081</td><td>2023-11-24</td><td>ATM Withdrawal</td><td>1000</td><td>MER2016</td></tr><tr><td>TXN10096</td><td>ACC1032</td><td>2023-08-17</td><td>Withdrawal</td><td>5000</td><td>MER2017</td></tr><tr><td>TXN10097</td><td>ACC1017</td><td>2022-02-15</td><td>Fund Transfer</td><td>5000</td><td>MER2074</td></tr><tr><td>TXN10098</td><td>ACC1060</td><td>2023-11-22</td><td>Subscription Payment</td><td>5000</td><td>MER2097</td></tr><tr><td>TXN10099</td><td>ACC1004</td><td>2023-01-10</td><td>Bill Payment</td><td>300000</td><td>MER2071</td></tr></tbody></table></div>"
      ]
     },
     "metadata": {
      "application/vnd.databricks.v1+output": {
       "addedWidgets": {},
       "aggData": [],
       "aggError": "",
       "aggOverflow": false,
       "aggSchema": [],
       "aggSeriesLimitReached": false,
       "aggType": "",
       "arguments": {},
       "columnCustomDisplayInfos": {},
       "data": [
        [
         "TXN10000",
         "ACC1006",
         "2023-10-08",
         "Subscription Payment",
         25000,
         "MER2030"
        ],
        [
         "TXN10001",
         "ACC1002",
         "2023-03-07",
         "Withdrawal",
         30000,
         "MER2007"
        ],
        [
         "TXN10002",
         "ACC1088",
         "2022-04-11",
         "ATM Withdrawal",
         1000,
         "MER2004"
        ],
        [
         "TXN10003",
         "ACC1090",
         "2022-07-21",
         "Subscription Payment",
         10000,
         "MER2014"
        ],
        [
         "TXN10004",
         "ACC1047",
         "2023-03-15",
         "Withdrawal",
         70000,
         "MER2035"
        ],
        [
         "TXN10005",
         "ACC1091",
         "2022-12-22",
         "Withdrawal",
         5000,
         "MER2073"
        ],
        [
         "TXN10006",
         "ACC1089",
         "2023-12-27",
         "Subscription Payment",
         5000,
         "MER2061"
        ],
        [
         "TXN10007",
         "ACC1085",
         "2022-09-02",
         "Credit Card Payment",
         50000,
         "MER2071"
        ],
        [
         "TXN10008",
         "ACC1053",
         "2023-03-02",
         "Deposit",
         200000,
         "MER2050"
        ],
        [
         "TXN10009",
         "ACC1079",
         "2023-12-27",
         "Fund Transfer",
         1000,
         "MER2069"
        ],
        [
         "TXN10010",
         "ACC1076",
         "2023-02-21",
         "Bill Payment",
         500,
         "MER2039"
        ],
        [
         "TXN10011",
         "ACC1023",
         "2023-11-29",
         "Bill Payment",
         20000,
         "MER2095"
        ],
        [
         "TXN10012",
         "ACC1007",
         "2022-10-10",
         "Loan Payment",
         1000,
         "MER2028"
        ],
        [
         "TXN10013",
         "ACC1051",
         "2023-07-09",
         "Bill Payment",
         500,
         "MER2030"
        ],
        [
         "TXN10014",
         "ACC1026",
         "2023-02-10",
         "Online Purchase",
         10000,
         "MER2062"
        ],
        [
         "TXN10015",
         "ACC1053",
         "2023-05-26",
         "ATM Withdrawal",
         20000,
         "MER2086"
        ],
        [
         "TXN10016",
         "ACC1053",
         "2023-09-22",
         "Subscription Payment",
         50000,
         "MER2095"
        ],
        [
         "TXN10017",
         "ACC1058",
         "2023-12-15",
         "Credit Card Payment",
         50000,
         "MER2066"
        ],
        [
         "TXN10018",
         "ACC1065",
         "2023-11-04",
         "Fund Transfer",
         10000,
         "MER2074"
        ],
        [
         "TXN10019",
         "ACC1078",
         "2023-07-24",
         "Withdrawal",
         5000,
         "MER2010"
        ],
        [
         "TXN10020",
         "ACC1087",
         "2023-06-16",
         "Fund Transfer",
         1000,
         "MER2093"
        ],
        [
         "TXN10021",
         "ACC1094",
         "2023-08-12",
         "Loan Payment",
         10000,
         "MER2078"
        ],
        [
         "TXN10022",
         "ACC1007",
         "2022-11-03",
         "Loan Payment",
         20000,
         "MER2051"
        ],
        [
         "TXN10023",
         "ACC1076",
         "2023-06-13",
         "Subscription Payment",
         15000,
         "MER2038"
        ],
        [
         "TXN10024",
         "ACC1074",
         "2022-11-06",
         "Fund Transfer",
         5000,
         "MER2002"
        ],
        [
         "TXN10025",
         "ACC1074",
         "2023-11-04",
         "Loan Payment",
         2000,
         "MER2095"
        ],
        [
         "TXN10026",
         "ACC1054",
         "2023-07-26",
         "Withdrawal",
         10000,
         "MER2000"
        ],
        [
         "TXN10027",
         "ACC1052",
         "2022-02-02",
         "Credit Card Payment",
         10000,
         "MER2081"
        ],
        [
         "TXN10028",
         "ACC1012",
         "2023-01-08",
         "Subscription Payment",
         1000,
         "MER2007"
        ],
        [
         "TXN10029",
         "ACC1007",
         "2022-12-25",
         "Fund Transfer",
         20000,
         "MER2005"
        ],
        [
         "TXN10030",
         "ACC1096",
         "2023-08-07",
         "Subscription Payment",
         2000,
         "MER2064"
        ],
        [
         "TXN10031",
         "ACC1072",
         "2023-02-19",
         "Loan Payment",
         10000,
         "MER2046"
        ],
        [
         "TXN10032",
         "ACC1058",
         "2023-08-23",
         "Bill Payment",
         5000,
         "MER2051"
        ],
        [
         "TXN10033",
         "ACC1049",
         "2023-02-09",
         "Loan Payment",
         200000,
         "MER2075"
        ],
        [
         "TXN10034",
         "ACC1001",
         "2023-02-01",
         "Online Purchase",
         10000,
         "MER2065"
        ],
        [
         "TXN10035",
         "ACC1074",
         "2022-08-17",
         "Withdrawal",
         300000,
         "MER2081"
        ],
        [
         "TXN10036",
         "ACC1027",
         "2023-06-06",
         "Deposit",
         30000,
         "MER2044"
        ],
        [
         "TXN10037",
         "ACC1057",
         "2023-11-14",
         "ATM Withdrawal",
         5000,
         "MER2072"
        ],
        [
         "TXN10038",
         "ACC1026",
         "2023-01-05",
         "Online Purchase",
         50000,
         "MER2079"
        ],
        [
         "TXN10039",
         "ACC1089",
         "2023-08-08",
         "Deposit",
         2000,
         "MER2076"
        ],
        [
         "TXN10040",
         "ACC1013",
         "2022-08-05",
         "ATM Withdrawal",
         5000,
         "MER2003"
        ],
        [
         "TXN10041",
         "ACC1097",
         "2022-08-05",
         "Fund Transfer",
         500,
         "MER2015"
        ],
        [
         "TXN10042",
         "ACC1035",
         "2022-09-27",
         "Online Purchase",
         1000,
         "MER2058"
        ],
        [
         "TXN10043",
         "ACC1037",
         "2023-01-19",
         "Online Purchase",
         5000,
         "MER2022"
        ],
        [
         "TXN10044",
         "ACC1081",
         "2023-02-23",
         "Bill Payment",
         100000,
         "MER2003"
        ],
        [
         "TXN10045",
         "ACC1075",
         "2022-11-06",
         "Fund Transfer",
         10000,
         "MER2005"
        ],
        [
         "TXN10046",
         "ACC1055",
         "2023-07-25",
         "Loan Payment",
         1000,
         "MER2043"
        ],
        [
         "TXN10047",
         "ACC1034",
         "2023-08-07",
         "Withdrawal",
         5000,
         "MER2000"
        ],
        [
         "TXN10048",
         "ACC1050",
         "2022-10-13",
         "Fund Transfer",
         30000,
         "MER2052"
        ],
        [
         "TXN10049",
         "ACC1011",
         "2023-10-10",
         "Loan Payment",
         200000,
         "MER2071"
        ],
        [
         "TXN10050",
         "ACC1019",
         "2023-12-04",
         "Loan Payment",
         500,
         "MER2009"
        ],
        [
         "TXN10051",
         "ACC1060",
         "2022-11-09",
         "Online Purchase",
         2000,
         "MER2002"
        ],
        [
         "TXN10052",
         "ACC1063",
         "2023-03-09",
         "Deposit",
         2000,
         "MER2040"
        ],
        [
         "TXN10053",
         "ACC1006",
         "2023-01-02",
         "Deposit",
         10000,
         "MER2014"
        ],
        [
         "TXN10054",
         "ACC1029",
         "2023-01-11",
         "Bill Payment",
         5000,
         "MER2023"
        ],
        [
         "TXN10055",
         "ACC1021",
         "2022-09-26",
         "ATM Withdrawal",
         5000,
         "MER2076"
        ],
        [
         "TXN10056",
         "ACC1086",
         "2023-11-06",
         "Online Purchase",
         1000,
         "MER2001"
        ],
        [
         "TXN10057",
         "ACC1082",
         "2022-09-02",
         "ATM Withdrawal",
         200,
         "MER2081"
        ],
        [
         "TXN10058",
         "ACC1093",
         "2022-07-04",
         "Subscription Payment",
         30000,
         "MER2069"
        ],
        [
         "TXN10059",
         "ACC1044",
         "2023-03-06",
         "Credit Card Payment",
         500,
         "MER2072"
        ],
        [
         "TXN10060",
         "ACC1076",
         "2023-11-14",
         "ATM Withdrawal",
         50000,
         "MER2087"
        ],
        [
         "TXN10061",
         "ACC1063",
         "2023-05-08",
         "Deposit",
         500,
         "MER2084"
        ],
        [
         "TXN10062",
         "ACC1013",
         "2023-03-30",
         "Deposit",
         5000,
         "MER2067"
        ],
        [
         "TXN10063",
         "ACC1031",
         "2023-04-05",
         "Credit Card Payment",
         5000,
         "MER2011"
        ],
        [
         "TXN10064",
         "ACC1071",
         "2023-06-03",
         "Credit Card Payment",
         20000,
         "MER2019"
        ],
        [
         "TXN10065",
         "ACC1091",
         "2023-12-30",
         "Withdrawal",
         50000,
         "MER2061"
        ],
        [
         "TXN10066",
         "ACC1092",
         "2023-06-17",
         "Fund Transfer",
         150000,
         "MER2016"
        ],
        [
         "TXN10067",
         "ACC1005",
         "2023-01-24",
         "Bill Payment",
         5000,
         "MER2049"
        ],
        [
         "TXN10068",
         "ACC1021",
         "2023-08-03",
         "Online Purchase",
         500,
         "MER2040"
        ],
        [
         "TXN10069",
         "ACC1045",
         "2022-10-28",
         "Deposit",
         1000,
         "MER2051"
        ],
        [
         "TXN10070",
         "ACC1080",
         "2022-07-15",
         "Loan Payment",
         20000,
         "MER2071"
        ],
        [
         "TXN10071",
         "ACC1036",
         "2022-05-02",
         "Bill Payment",
         5000,
         "MER2094"
        ],
        [
         "TXN10072",
         "ACC1005",
         "2023-05-26",
         "Bill Payment",
         30000,
         "MER2037"
        ],
        [
         "TXN10073",
         "ACC1021",
         "2023-09-12",
         "Subscription Payment",
         2000,
         "MER2091"
        ],
        [
         "TXN10074",
         "ACC1098",
         "2023-10-27",
         "Deposit",
         1000,
         "MER2011"
        ],
        [
         "TXN10075",
         "ACC1084",
         "2023-11-07",
         "Credit Card Payment",
         20000,
         "MER2032"
        ],
        [
         "TXN10076",
         "ACC1001",
         "2023-12-17",
         "Credit Card Payment",
         5000,
         "MER2074"
        ],
        [
         "TXN10077",
         "ACC1043",
         "2023-11-22",
         "Withdrawal",
         20000,
         "MER2012"
        ],
        [
         "TXN10078",
         "ACC1017",
         "2022-11-22",
         "Fund Transfer",
         200000,
         "MER2012"
        ],
        [
         "TXN10079",
         "ACC1017",
         "2023-01-17",
         "Deposit",
         500,
         "MER2066"
        ],
        [
         "TXN10080",
         "ACC1047",
         "2022-09-21",
         "Credit Card Payment",
         15000,
         "MER2018"
        ],
        [
         "TXN10081",
         "ACC1002",
         "2022-08-05",
         "Loan Payment",
         30000,
         "MER2019"
        ],
        [
         "TXN10082",
         "ACC1024",
         "2023-08-30",
         "Withdrawal",
         500,
         "MER2075"
        ],
        [
         "TXN10083",
         "ACC1066",
         "2023-08-23",
         "Bill Payment",
         20000,
         "MER2031"
        ],
        [
         "TXN10084",
         "ACC1023",
         "2023-03-14",
         "Online Purchase",
         50000,
         "MER2076"
        ],
        [
         "TXN10085",
         "ACC1044",
         "2023-06-12",
         "Bill Payment",
         5000,
         "MER2080"
        ],
        [
         "TXN10086",
         "ACC1041",
         "2023-12-06",
         "Withdrawal",
         20000,
         "MER2023"
        ],
        [
         "TXN10087",
         "ACC1043",
         "2022-07-15",
         "Withdrawal",
         100000,
         "MER2033"
        ],
        [
         "TXN10088",
         "ACC1089",
         "2022-02-13",
         "ATM Withdrawal",
         10000,
         "MER2000"
        ],
        [
         "TXN10089",
         "ACC1002",
         "2023-12-10",
         "Credit Card Payment",
         2000,
         "MER2081"
        ],
        [
         "TXN10090",
         "ACC1029",
         "2022-09-27",
         "Deposit",
         1000,
         "MER2012"
        ],
        [
         "TXN10091",
         "ACC1060",
         "2023-01-04",
         "Withdrawal",
         10000,
         "MER2011"
        ],
        [
         "TXN10092",
         "ACC1009",
         "2023-12-26",
         "Online Purchase",
         25000,
         "MER2085"
        ],
        [
         "TXN10093",
         "ACC1009",
         "2023-10-10",
         "Online Purchase",
         500,
         "MER2047"
        ],
        [
         "TXN10094",
         "ACC1060",
         "2022-08-04",
         "Loan Payment",
         20000,
         "MER2052"
        ],
        [
         "TXN10095",
         "ACC1081",
         "2023-11-24",
         "ATM Withdrawal",
         1000,
         "MER2016"
        ],
        [
         "TXN10096",
         "ACC1032",
         "2023-08-17",
         "Withdrawal",
         5000,
         "MER2017"
        ],
        [
         "TXN10097",
         "ACC1017",
         "2022-02-15",
         "Fund Transfer",
         5000,
         "MER2074"
        ],
        [
         "TXN10098",
         "ACC1060",
         "2023-11-22",
         "Subscription Payment",
         5000,
         "MER2097"
        ],
        [
         "TXN10099",
         "ACC1004",
         "2023-01-10",
         "Bill Payment",
         300000,
         "MER2071"
        ]
       ],
       "datasetInfos": [],
       "dbfsResultPath": null,
       "isJsonSchema": true,
       "metadata": {},
       "overflow": false,
       "plotOptions": {
        "customPlotOptions": {},
        "displayType": "table",
        "pivotAggregation": null,
        "pivotColumns": null,
        "xColumns": null,
        "yColumns": null
       },
       "removedWidgets": [],
       "schema": [
        {
         "metadata": "{}",
         "name": "transaction_id",
         "type": "\"string\""
        },
        {
         "metadata": "{}",
         "name": "account_id",
         "type": "\"string\""
        },
        {
         "metadata": "{\"__detected_date_formats\":\"yyyy-M-d\"}",
         "name": "transaction_date",
         "type": "\"date\""
        },
        {
         "metadata": "{}",
         "name": "transaction_type",
         "type": "\"string\""
        },
        {
         "metadata": "{}",
         "name": "transaction_amount",
         "type": "\"integer\""
        },
        {
         "metadata": "{}",
         "name": "merchant_id",
         "type": "\"string\""
        }
       ],
       "type": "table"
      }
     },
     "output_type": "display_data"
    }
   ],
   "source": [
    "column_names = [\"transaction_id\",\"account_id\",\"transaction_date\",\"transaction_type\",\"transaction_amount\",\"merchant_id\"]\n",
    "transactional_df = spark.read.csv(\"/dbfs/tmp/transactional_data.csv\", header=False, inferSchema=True).toDF(*column_names)\n",
    "display(transactional_df)"
   ]
  },
  {
   "cell_type": "code",
   "execution_count": 0,
   "metadata": {
    "application/vnd.databricks.v1+cell": {
     "cellMetadata": {
      "byteLimit": 2048000,
      "rowLimit": 10000
     },
     "inputWidgets": {},
     "nuid": "7d403e45-eb10-4c9e-875a-4f3de0919a29",
     "showTitle": false,
     "tableResultSettingsMap": {},
     "title": ""
    }
   },
   "outputs": [
    {
     "data": {
      "text/html": [
       "<style scoped>\n",
       "  .table-result-container {\n",
       "    max-height: 300px;\n",
       "    overflow: auto;\n",
       "  }\n",
       "  table, th, td {\n",
       "    border: 1px solid black;\n",
       "    border-collapse: collapse;\n",
       "  }\n",
       "  th, td {\n",
       "    padding: 5px;\n",
       "  }\n",
       "  th {\n",
       "    text-align: left;\n",
       "  }\n",
       "</style><div class='table-result-container'><table class='table-result'><thead style='background-color: white'><tr><th>transaction_id</th><th>account_id</th><th>transaction_date</th><th>transaction_type</th><th>transaction_amount</th><th>merchant_id</th></tr></thead><tbody><tr><td>TXN10000</td><td>ACC1006</td><td>2023-10-08</td><td>Subscription Payment</td><td>25000</td><td>MER2030</td></tr><tr><td>TXN10001</td><td>ACC1002</td><td>2023-03-07</td><td>Withdrawal</td><td>30000</td><td>MER2007</td></tr><tr><td>TXN10002</td><td>ACC1088</td><td>2022-04-11</td><td>ATM Withdrawal</td><td>1000</td><td>MER2004</td></tr><tr><td>TXN10003</td><td>ACC1090</td><td>2022-07-21</td><td>Subscription Payment</td><td>10000</td><td>MER2014</td></tr><tr><td>TXN10004</td><td>ACC1047</td><td>2023-03-15</td><td>Withdrawal</td><td>70000</td><td>MER2035</td></tr><tr><td>TXN10005</td><td>ACC1091</td><td>2022-12-22</td><td>Withdrawal</td><td>5000</td><td>MER2073</td></tr><tr><td>TXN10006</td><td>ACC1089</td><td>2023-12-27</td><td>Subscription Payment</td><td>5000</td><td>MER2061</td></tr><tr><td>TXN10007</td><td>ACC1085</td><td>2022-09-02</td><td>Credit Card Payment</td><td>50000</td><td>MER2071</td></tr><tr><td>TXN10008</td><td>ACC1053</td><td>2023-03-02</td><td>Deposit</td><td>200000</td><td>MER2050</td></tr><tr><td>TXN10009</td><td>ACC1079</td><td>2023-12-27</td><td>Fund Transfer</td><td>1000</td><td>MER2069</td></tr><tr><td>TXN10010</td><td>ACC1076</td><td>2023-02-21</td><td>Bill Payment</td><td>500</td><td>MER2039</td></tr><tr><td>TXN10011</td><td>ACC1023</td><td>2023-11-29</td><td>Bill Payment</td><td>20000</td><td>MER2095</td></tr><tr><td>TXN10012</td><td>ACC1007</td><td>2022-10-10</td><td>Loan Payment</td><td>1000</td><td>MER2028</td></tr><tr><td>TXN10013</td><td>ACC1051</td><td>2023-07-09</td><td>Bill Payment</td><td>500</td><td>MER2030</td></tr><tr><td>TXN10014</td><td>ACC1026</td><td>2023-02-10</td><td>Online Purchase</td><td>10000</td><td>MER2062</td></tr><tr><td>TXN10015</td><td>ACC1053</td><td>2023-05-26</td><td>ATM Withdrawal</td><td>20000</td><td>MER2086</td></tr><tr><td>TXN10016</td><td>ACC1053</td><td>2023-09-22</td><td>Subscription Payment</td><td>50000</td><td>MER2095</td></tr><tr><td>TXN10017</td><td>ACC1058</td><td>2023-12-15</td><td>Credit Card Payment</td><td>50000</td><td>MER2066</td></tr><tr><td>TXN10018</td><td>ACC1065</td><td>2023-11-04</td><td>Fund Transfer</td><td>10000</td><td>MER2074</td></tr><tr><td>TXN10019</td><td>ACC1078</td><td>2023-07-24</td><td>Withdrawal</td><td>5000</td><td>MER2010</td></tr><tr><td>TXN10020</td><td>ACC1087</td><td>2023-06-16</td><td>Fund Transfer</td><td>1000</td><td>MER2093</td></tr><tr><td>TXN10021</td><td>ACC1094</td><td>2023-08-12</td><td>Loan Payment</td><td>10000</td><td>MER2078</td></tr><tr><td>TXN10022</td><td>ACC1007</td><td>2022-11-03</td><td>Loan Payment</td><td>20000</td><td>MER2051</td></tr><tr><td>TXN10023</td><td>ACC1076</td><td>2023-06-13</td><td>Subscription Payment</td><td>15000</td><td>MER2038</td></tr><tr><td>TXN10024</td><td>ACC1074</td><td>2022-11-06</td><td>Fund Transfer</td><td>5000</td><td>MER2002</td></tr><tr><td>TXN10025</td><td>ACC1074</td><td>2023-11-04</td><td>Loan Payment</td><td>2000</td><td>MER2095</td></tr><tr><td>TXN10026</td><td>ACC1054</td><td>2023-07-26</td><td>Withdrawal</td><td>10000</td><td>MER2000</td></tr><tr><td>TXN10027</td><td>ACC1052</td><td>2022-02-02</td><td>Credit Card Payment</td><td>10000</td><td>MER2081</td></tr><tr><td>TXN10028</td><td>ACC1012</td><td>2023-01-08</td><td>Subscription Payment</td><td>1000</td><td>MER2007</td></tr><tr><td>TXN10029</td><td>ACC1007</td><td>2022-12-25</td><td>Fund Transfer</td><td>20000</td><td>MER2005</td></tr><tr><td>TXN10030</td><td>ACC1096</td><td>2023-08-07</td><td>Subscription Payment</td><td>2000</td><td>MER2064</td></tr><tr><td>TXN10031</td><td>ACC1072</td><td>2023-02-19</td><td>Loan Payment</td><td>10000</td><td>MER2046</td></tr><tr><td>TXN10032</td><td>ACC1058</td><td>2023-08-23</td><td>Bill Payment</td><td>5000</td><td>MER2051</td></tr><tr><td>TXN10033</td><td>ACC1049</td><td>2023-02-09</td><td>Loan Payment</td><td>200000</td><td>MER2075</td></tr><tr><td>TXN10034</td><td>ACC1001</td><td>2023-02-01</td><td>Online Purchase</td><td>10000</td><td>MER2065</td></tr><tr><td>TXN10035</td><td>ACC1074</td><td>2022-08-17</td><td>Withdrawal</td><td>300000</td><td>MER2081</td></tr><tr><td>TXN10036</td><td>ACC1027</td><td>2023-06-06</td><td>Deposit</td><td>30000</td><td>MER2044</td></tr><tr><td>TXN10037</td><td>ACC1057</td><td>2023-11-14</td><td>ATM Withdrawal</td><td>5000</td><td>MER2072</td></tr><tr><td>TXN10038</td><td>ACC1026</td><td>2023-01-05</td><td>Online Purchase</td><td>50000</td><td>MER2079</td></tr><tr><td>TXN10039</td><td>ACC1089</td><td>2023-08-08</td><td>Deposit</td><td>2000</td><td>MER2076</td></tr><tr><td>TXN10040</td><td>ACC1013</td><td>2022-08-05</td><td>ATM Withdrawal</td><td>5000</td><td>MER2003</td></tr><tr><td>TXN10041</td><td>ACC1097</td><td>2022-08-05</td><td>Fund Transfer</td><td>500</td><td>MER2015</td></tr><tr><td>TXN10042</td><td>ACC1035</td><td>2022-09-27</td><td>Online Purchase</td><td>1000</td><td>MER2058</td></tr><tr><td>TXN10043</td><td>ACC1037</td><td>2023-01-19</td><td>Online Purchase</td><td>5000</td><td>MER2022</td></tr><tr><td>TXN10044</td><td>ACC1081</td><td>2023-02-23</td><td>Bill Payment</td><td>100000</td><td>MER2003</td></tr><tr><td>TXN10045</td><td>ACC1075</td><td>2022-11-06</td><td>Fund Transfer</td><td>10000</td><td>MER2005</td></tr><tr><td>TXN10046</td><td>ACC1055</td><td>2023-07-25</td><td>Loan Payment</td><td>1000</td><td>MER2043</td></tr><tr><td>TXN10047</td><td>ACC1034</td><td>2023-08-07</td><td>Withdrawal</td><td>5000</td><td>MER2000</td></tr><tr><td>TXN10048</td><td>ACC1050</td><td>2022-10-13</td><td>Fund Transfer</td><td>30000</td><td>MER2052</td></tr><tr><td>TXN10049</td><td>ACC1011</td><td>2023-10-10</td><td>Loan Payment</td><td>200000</td><td>MER2071</td></tr><tr><td>TXN10050</td><td>ACC1019</td><td>2023-12-04</td><td>Loan Payment</td><td>500</td><td>MER2009</td></tr><tr><td>TXN10051</td><td>ACC1060</td><td>2022-11-09</td><td>Online Purchase</td><td>2000</td><td>MER2002</td></tr><tr><td>TXN10052</td><td>ACC1063</td><td>2023-03-09</td><td>Deposit</td><td>2000</td><td>MER2040</td></tr><tr><td>TXN10053</td><td>ACC1006</td><td>2023-01-02</td><td>Deposit</td><td>10000</td><td>MER2014</td></tr><tr><td>TXN10054</td><td>ACC1029</td><td>2023-01-11</td><td>Bill Payment</td><td>5000</td><td>MER2023</td></tr><tr><td>TXN10055</td><td>ACC1021</td><td>2022-09-26</td><td>ATM Withdrawal</td><td>5000</td><td>MER2076</td></tr><tr><td>TXN10056</td><td>ACC1086</td><td>2023-11-06</td><td>Online Purchase</td><td>1000</td><td>MER2001</td></tr><tr><td>TXN10057</td><td>ACC1082</td><td>2022-09-02</td><td>ATM Withdrawal</td><td>200</td><td>MER2081</td></tr><tr><td>TXN10058</td><td>ACC1093</td><td>2022-07-04</td><td>Subscription Payment</td><td>30000</td><td>MER2069</td></tr><tr><td>TXN10059</td><td>ACC1044</td><td>2023-03-06</td><td>Credit Card Payment</td><td>500</td><td>MER2072</td></tr><tr><td>TXN10060</td><td>ACC1076</td><td>2023-11-14</td><td>ATM Withdrawal</td><td>50000</td><td>MER2087</td></tr><tr><td>TXN10061</td><td>ACC1063</td><td>2023-05-08</td><td>Deposit</td><td>500</td><td>MER2084</td></tr><tr><td>TXN10062</td><td>ACC1013</td><td>2023-03-30</td><td>Deposit</td><td>5000</td><td>MER2067</td></tr><tr><td>TXN10063</td><td>ACC1031</td><td>2023-04-05</td><td>Credit Card Payment</td><td>5000</td><td>MER2011</td></tr><tr><td>TXN10064</td><td>ACC1071</td><td>2023-06-03</td><td>Credit Card Payment</td><td>20000</td><td>MER2019</td></tr><tr><td>TXN10065</td><td>ACC1091</td><td>2023-12-30</td><td>Withdrawal</td><td>50000</td><td>MER2061</td></tr><tr><td>TXN10066</td><td>ACC1092</td><td>2023-06-17</td><td>Fund Transfer</td><td>150000</td><td>MER2016</td></tr><tr><td>TXN10067</td><td>ACC1005</td><td>2023-01-24</td><td>Bill Payment</td><td>5000</td><td>MER2049</td></tr><tr><td>TXN10068</td><td>ACC1021</td><td>2023-08-03</td><td>Online Purchase</td><td>500</td><td>MER2040</td></tr><tr><td>TXN10069</td><td>ACC1045</td><td>2022-10-28</td><td>Deposit</td><td>1000</td><td>MER2051</td></tr><tr><td>TXN10070</td><td>ACC1080</td><td>2022-07-15</td><td>Loan Payment</td><td>20000</td><td>MER2071</td></tr><tr><td>TXN10071</td><td>ACC1036</td><td>2022-05-02</td><td>Bill Payment</td><td>5000</td><td>MER2094</td></tr><tr><td>TXN10072</td><td>ACC1005</td><td>2023-05-26</td><td>Bill Payment</td><td>30000</td><td>MER2037</td></tr><tr><td>TXN10073</td><td>ACC1021</td><td>2023-09-12</td><td>Subscription Payment</td><td>2000</td><td>MER2091</td></tr><tr><td>TXN10074</td><td>ACC1098</td><td>2023-10-27</td><td>Deposit</td><td>1000</td><td>MER2011</td></tr><tr><td>TXN10075</td><td>ACC1084</td><td>2023-11-07</td><td>Credit Card Payment</td><td>20000</td><td>MER2032</td></tr><tr><td>TXN10076</td><td>ACC1001</td><td>2023-12-17</td><td>Credit Card Payment</td><td>5000</td><td>MER2074</td></tr><tr><td>TXN10077</td><td>ACC1043</td><td>2023-11-22</td><td>Withdrawal</td><td>20000</td><td>MER2012</td></tr><tr><td>TXN10078</td><td>ACC1017</td><td>2022-11-22</td><td>Fund Transfer</td><td>200000</td><td>MER2012</td></tr><tr><td>TXN10079</td><td>ACC1017</td><td>2023-01-17</td><td>Deposit</td><td>500</td><td>MER2066</td></tr><tr><td>TXN10080</td><td>ACC1047</td><td>2022-09-21</td><td>Credit Card Payment</td><td>15000</td><td>MER2018</td></tr><tr><td>TXN10081</td><td>ACC1002</td><td>2022-08-05</td><td>Loan Payment</td><td>30000</td><td>MER2019</td></tr><tr><td>TXN10082</td><td>ACC1024</td><td>2023-08-30</td><td>Withdrawal</td><td>500</td><td>MER2075</td></tr><tr><td>TXN10083</td><td>ACC1066</td><td>2023-08-23</td><td>Bill Payment</td><td>20000</td><td>MER2031</td></tr><tr><td>TXN10084</td><td>ACC1023</td><td>2023-03-14</td><td>Online Purchase</td><td>50000</td><td>MER2076</td></tr><tr><td>TXN10085</td><td>ACC1044</td><td>2023-06-12</td><td>Bill Payment</td><td>5000</td><td>MER2080</td></tr><tr><td>TXN10086</td><td>ACC1041</td><td>2023-12-06</td><td>Withdrawal</td><td>20000</td><td>MER2023</td></tr><tr><td>TXN10087</td><td>ACC1043</td><td>2022-07-15</td><td>Withdrawal</td><td>100000</td><td>MER2033</td></tr><tr><td>TXN10088</td><td>ACC1089</td><td>2022-02-13</td><td>ATM Withdrawal</td><td>10000</td><td>MER2000</td></tr><tr><td>TXN10089</td><td>ACC1002</td><td>2023-12-10</td><td>Credit Card Payment</td><td>2000</td><td>MER2081</td></tr><tr><td>TXN10090</td><td>ACC1029</td><td>2022-09-27</td><td>Deposit</td><td>1000</td><td>MER2012</td></tr><tr><td>TXN10091</td><td>ACC1060</td><td>2023-01-04</td><td>Withdrawal</td><td>10000</td><td>MER2011</td></tr><tr><td>TXN10092</td><td>ACC1009</td><td>2023-12-26</td><td>Online Purchase</td><td>25000</td><td>MER2085</td></tr><tr><td>TXN10093</td><td>ACC1009</td><td>2023-10-10</td><td>Online Purchase</td><td>500</td><td>MER2047</td></tr><tr><td>TXN10094</td><td>ACC1060</td><td>2022-08-04</td><td>Loan Payment</td><td>20000</td><td>MER2052</td></tr><tr><td>TXN10095</td><td>ACC1081</td><td>2023-11-24</td><td>ATM Withdrawal</td><td>1000</td><td>MER2016</td></tr><tr><td>TXN10096</td><td>ACC1032</td><td>2023-08-17</td><td>Withdrawal</td><td>5000</td><td>MER2017</td></tr><tr><td>TXN10097</td><td>ACC1017</td><td>2022-02-15</td><td>Fund Transfer</td><td>5000</td><td>MER2074</td></tr><tr><td>TXN10098</td><td>ACC1060</td><td>2023-11-22</td><td>Subscription Payment</td><td>5000</td><td>MER2097</td></tr><tr><td>TXN10099</td><td>ACC1004</td><td>2023-01-10</td><td>Bill Payment</td><td>300000</td><td>MER2071</td></tr></tbody></table></div>"
      ]
     },
     "metadata": {
      "application/vnd.databricks.v1+output": {
       "addedWidgets": {},
       "aggData": [],
       "aggError": "",
       "aggOverflow": false,
       "aggSchema": [],
       "aggSeriesLimitReached": false,
       "aggType": "",
       "arguments": {},
       "columnCustomDisplayInfos": {},
       "data": [
        [
         "TXN10000",
         "ACC1006",
         "2023-10-08",
         "Subscription Payment",
         25000,
         "MER2030"
        ],
        [
         "TXN10001",
         "ACC1002",
         "2023-03-07",
         "Withdrawal",
         30000,
         "MER2007"
        ],
        [
         "TXN10002",
         "ACC1088",
         "2022-04-11",
         "ATM Withdrawal",
         1000,
         "MER2004"
        ],
        [
         "TXN10003",
         "ACC1090",
         "2022-07-21",
         "Subscription Payment",
         10000,
         "MER2014"
        ],
        [
         "TXN10004",
         "ACC1047",
         "2023-03-15",
         "Withdrawal",
         70000,
         "MER2035"
        ],
        [
         "TXN10005",
         "ACC1091",
         "2022-12-22",
         "Withdrawal",
         5000,
         "MER2073"
        ],
        [
         "TXN10006",
         "ACC1089",
         "2023-12-27",
         "Subscription Payment",
         5000,
         "MER2061"
        ],
        [
         "TXN10007",
         "ACC1085",
         "2022-09-02",
         "Credit Card Payment",
         50000,
         "MER2071"
        ],
        [
         "TXN10008",
         "ACC1053",
         "2023-03-02",
         "Deposit",
         200000,
         "MER2050"
        ],
        [
         "TXN10009",
         "ACC1079",
         "2023-12-27",
         "Fund Transfer",
         1000,
         "MER2069"
        ],
        [
         "TXN10010",
         "ACC1076",
         "2023-02-21",
         "Bill Payment",
         500,
         "MER2039"
        ],
        [
         "TXN10011",
         "ACC1023",
         "2023-11-29",
         "Bill Payment",
         20000,
         "MER2095"
        ],
        [
         "TXN10012",
         "ACC1007",
         "2022-10-10",
         "Loan Payment",
         1000,
         "MER2028"
        ],
        [
         "TXN10013",
         "ACC1051",
         "2023-07-09",
         "Bill Payment",
         500,
         "MER2030"
        ],
        [
         "TXN10014",
         "ACC1026",
         "2023-02-10",
         "Online Purchase",
         10000,
         "MER2062"
        ],
        [
         "TXN10015",
         "ACC1053",
         "2023-05-26",
         "ATM Withdrawal",
         20000,
         "MER2086"
        ],
        [
         "TXN10016",
         "ACC1053",
         "2023-09-22",
         "Subscription Payment",
         50000,
         "MER2095"
        ],
        [
         "TXN10017",
         "ACC1058",
         "2023-12-15",
         "Credit Card Payment",
         50000,
         "MER2066"
        ],
        [
         "TXN10018",
         "ACC1065",
         "2023-11-04",
         "Fund Transfer",
         10000,
         "MER2074"
        ],
        [
         "TXN10019",
         "ACC1078",
         "2023-07-24",
         "Withdrawal",
         5000,
         "MER2010"
        ],
        [
         "TXN10020",
         "ACC1087",
         "2023-06-16",
         "Fund Transfer",
         1000,
         "MER2093"
        ],
        [
         "TXN10021",
         "ACC1094",
         "2023-08-12",
         "Loan Payment",
         10000,
         "MER2078"
        ],
        [
         "TXN10022",
         "ACC1007",
         "2022-11-03",
         "Loan Payment",
         20000,
         "MER2051"
        ],
        [
         "TXN10023",
         "ACC1076",
         "2023-06-13",
         "Subscription Payment",
         15000,
         "MER2038"
        ],
        [
         "TXN10024",
         "ACC1074",
         "2022-11-06",
         "Fund Transfer",
         5000,
         "MER2002"
        ],
        [
         "TXN10025",
         "ACC1074",
         "2023-11-04",
         "Loan Payment",
         2000,
         "MER2095"
        ],
        [
         "TXN10026",
         "ACC1054",
         "2023-07-26",
         "Withdrawal",
         10000,
         "MER2000"
        ],
        [
         "TXN10027",
         "ACC1052",
         "2022-02-02",
         "Credit Card Payment",
         10000,
         "MER2081"
        ],
        [
         "TXN10028",
         "ACC1012",
         "2023-01-08",
         "Subscription Payment",
         1000,
         "MER2007"
        ],
        [
         "TXN10029",
         "ACC1007",
         "2022-12-25",
         "Fund Transfer",
         20000,
         "MER2005"
        ],
        [
         "TXN10030",
         "ACC1096",
         "2023-08-07",
         "Subscription Payment",
         2000,
         "MER2064"
        ],
        [
         "TXN10031",
         "ACC1072",
         "2023-02-19",
         "Loan Payment",
         10000,
         "MER2046"
        ],
        [
         "TXN10032",
         "ACC1058",
         "2023-08-23",
         "Bill Payment",
         5000,
         "MER2051"
        ],
        [
         "TXN10033",
         "ACC1049",
         "2023-02-09",
         "Loan Payment",
         200000,
         "MER2075"
        ],
        [
         "TXN10034",
         "ACC1001",
         "2023-02-01",
         "Online Purchase",
         10000,
         "MER2065"
        ],
        [
         "TXN10035",
         "ACC1074",
         "2022-08-17",
         "Withdrawal",
         300000,
         "MER2081"
        ],
        [
         "TXN10036",
         "ACC1027",
         "2023-06-06",
         "Deposit",
         30000,
         "MER2044"
        ],
        [
         "TXN10037",
         "ACC1057",
         "2023-11-14",
         "ATM Withdrawal",
         5000,
         "MER2072"
        ],
        [
         "TXN10038",
         "ACC1026",
         "2023-01-05",
         "Online Purchase",
         50000,
         "MER2079"
        ],
        [
         "TXN10039",
         "ACC1089",
         "2023-08-08",
         "Deposit",
         2000,
         "MER2076"
        ],
        [
         "TXN10040",
         "ACC1013",
         "2022-08-05",
         "ATM Withdrawal",
         5000,
         "MER2003"
        ],
        [
         "TXN10041",
         "ACC1097",
         "2022-08-05",
         "Fund Transfer",
         500,
         "MER2015"
        ],
        [
         "TXN10042",
         "ACC1035",
         "2022-09-27",
         "Online Purchase",
         1000,
         "MER2058"
        ],
        [
         "TXN10043",
         "ACC1037",
         "2023-01-19",
         "Online Purchase",
         5000,
         "MER2022"
        ],
        [
         "TXN10044",
         "ACC1081",
         "2023-02-23",
         "Bill Payment",
         100000,
         "MER2003"
        ],
        [
         "TXN10045",
         "ACC1075",
         "2022-11-06",
         "Fund Transfer",
         10000,
         "MER2005"
        ],
        [
         "TXN10046",
         "ACC1055",
         "2023-07-25",
         "Loan Payment",
         1000,
         "MER2043"
        ],
        [
         "TXN10047",
         "ACC1034",
         "2023-08-07",
         "Withdrawal",
         5000,
         "MER2000"
        ],
        [
         "TXN10048",
         "ACC1050",
         "2022-10-13",
         "Fund Transfer",
         30000,
         "MER2052"
        ],
        [
         "TXN10049",
         "ACC1011",
         "2023-10-10",
         "Loan Payment",
         200000,
         "MER2071"
        ],
        [
         "TXN10050",
         "ACC1019",
         "2023-12-04",
         "Loan Payment",
         500,
         "MER2009"
        ],
        [
         "TXN10051",
         "ACC1060",
         "2022-11-09",
         "Online Purchase",
         2000,
         "MER2002"
        ],
        [
         "TXN10052",
         "ACC1063",
         "2023-03-09",
         "Deposit",
         2000,
         "MER2040"
        ],
        [
         "TXN10053",
         "ACC1006",
         "2023-01-02",
         "Deposit",
         10000,
         "MER2014"
        ],
        [
         "TXN10054",
         "ACC1029",
         "2023-01-11",
         "Bill Payment",
         5000,
         "MER2023"
        ],
        [
         "TXN10055",
         "ACC1021",
         "2022-09-26",
         "ATM Withdrawal",
         5000,
         "MER2076"
        ],
        [
         "TXN10056",
         "ACC1086",
         "2023-11-06",
         "Online Purchase",
         1000,
         "MER2001"
        ],
        [
         "TXN10057",
         "ACC1082",
         "2022-09-02",
         "ATM Withdrawal",
         200,
         "MER2081"
        ],
        [
         "TXN10058",
         "ACC1093",
         "2022-07-04",
         "Subscription Payment",
         30000,
         "MER2069"
        ],
        [
         "TXN10059",
         "ACC1044",
         "2023-03-06",
         "Credit Card Payment",
         500,
         "MER2072"
        ],
        [
         "TXN10060",
         "ACC1076",
         "2023-11-14",
         "ATM Withdrawal",
         50000,
         "MER2087"
        ],
        [
         "TXN10061",
         "ACC1063",
         "2023-05-08",
         "Deposit",
         500,
         "MER2084"
        ],
        [
         "TXN10062",
         "ACC1013",
         "2023-03-30",
         "Deposit",
         5000,
         "MER2067"
        ],
        [
         "TXN10063",
         "ACC1031",
         "2023-04-05",
         "Credit Card Payment",
         5000,
         "MER2011"
        ],
        [
         "TXN10064",
         "ACC1071",
         "2023-06-03",
         "Credit Card Payment",
         20000,
         "MER2019"
        ],
        [
         "TXN10065",
         "ACC1091",
         "2023-12-30",
         "Withdrawal",
         50000,
         "MER2061"
        ],
        [
         "TXN10066",
         "ACC1092",
         "2023-06-17",
         "Fund Transfer",
         150000,
         "MER2016"
        ],
        [
         "TXN10067",
         "ACC1005",
         "2023-01-24",
         "Bill Payment",
         5000,
         "MER2049"
        ],
        [
         "TXN10068",
         "ACC1021",
         "2023-08-03",
         "Online Purchase",
         500,
         "MER2040"
        ],
        [
         "TXN10069",
         "ACC1045",
         "2022-10-28",
         "Deposit",
         1000,
         "MER2051"
        ],
        [
         "TXN10070",
         "ACC1080",
         "2022-07-15",
         "Loan Payment",
         20000,
         "MER2071"
        ],
        [
         "TXN10071",
         "ACC1036",
         "2022-05-02",
         "Bill Payment",
         5000,
         "MER2094"
        ],
        [
         "TXN10072",
         "ACC1005",
         "2023-05-26",
         "Bill Payment",
         30000,
         "MER2037"
        ],
        [
         "TXN10073",
         "ACC1021",
         "2023-09-12",
         "Subscription Payment",
         2000,
         "MER2091"
        ],
        [
         "TXN10074",
         "ACC1098",
         "2023-10-27",
         "Deposit",
         1000,
         "MER2011"
        ],
        [
         "TXN10075",
         "ACC1084",
         "2023-11-07",
         "Credit Card Payment",
         20000,
         "MER2032"
        ],
        [
         "TXN10076",
         "ACC1001",
         "2023-12-17",
         "Credit Card Payment",
         5000,
         "MER2074"
        ],
        [
         "TXN10077",
         "ACC1043",
         "2023-11-22",
         "Withdrawal",
         20000,
         "MER2012"
        ],
        [
         "TXN10078",
         "ACC1017",
         "2022-11-22",
         "Fund Transfer",
         200000,
         "MER2012"
        ],
        [
         "TXN10079",
         "ACC1017",
         "2023-01-17",
         "Deposit",
         500,
         "MER2066"
        ],
        [
         "TXN10080",
         "ACC1047",
         "2022-09-21",
         "Credit Card Payment",
         15000,
         "MER2018"
        ],
        [
         "TXN10081",
         "ACC1002",
         "2022-08-05",
         "Loan Payment",
         30000,
         "MER2019"
        ],
        [
         "TXN10082",
         "ACC1024",
         "2023-08-30",
         "Withdrawal",
         500,
         "MER2075"
        ],
        [
         "TXN10083",
         "ACC1066",
         "2023-08-23",
         "Bill Payment",
         20000,
         "MER2031"
        ],
        [
         "TXN10084",
         "ACC1023",
         "2023-03-14",
         "Online Purchase",
         50000,
         "MER2076"
        ],
        [
         "TXN10085",
         "ACC1044",
         "2023-06-12",
         "Bill Payment",
         5000,
         "MER2080"
        ],
        [
         "TXN10086",
         "ACC1041",
         "2023-12-06",
         "Withdrawal",
         20000,
         "MER2023"
        ],
        [
         "TXN10087",
         "ACC1043",
         "2022-07-15",
         "Withdrawal",
         100000,
         "MER2033"
        ],
        [
         "TXN10088",
         "ACC1089",
         "2022-02-13",
         "ATM Withdrawal",
         10000,
         "MER2000"
        ],
        [
         "TXN10089",
         "ACC1002",
         "2023-12-10",
         "Credit Card Payment",
         2000,
         "MER2081"
        ],
        [
         "TXN10090",
         "ACC1029",
         "2022-09-27",
         "Deposit",
         1000,
         "MER2012"
        ],
        [
         "TXN10091",
         "ACC1060",
         "2023-01-04",
         "Withdrawal",
         10000,
         "MER2011"
        ],
        [
         "TXN10092",
         "ACC1009",
         "2023-12-26",
         "Online Purchase",
         25000,
         "MER2085"
        ],
        [
         "TXN10093",
         "ACC1009",
         "2023-10-10",
         "Online Purchase",
         500,
         "MER2047"
        ],
        [
         "TXN10094",
         "ACC1060",
         "2022-08-04",
         "Loan Payment",
         20000,
         "MER2052"
        ],
        [
         "TXN10095",
         "ACC1081",
         "2023-11-24",
         "ATM Withdrawal",
         1000,
         "MER2016"
        ],
        [
         "TXN10096",
         "ACC1032",
         "2023-08-17",
         "Withdrawal",
         5000,
         "MER2017"
        ],
        [
         "TXN10097",
         "ACC1017",
         "2022-02-15",
         "Fund Transfer",
         5000,
         "MER2074"
        ],
        [
         "TXN10098",
         "ACC1060",
         "2023-11-22",
         "Subscription Payment",
         5000,
         "MER2097"
        ],
        [
         "TXN10099",
         "ACC1004",
         "2023-01-10",
         "Bill Payment",
         300000,
         "MER2071"
        ]
       ],
       "datasetInfos": [],
       "dbfsResultPath": null,
       "isJsonSchema": true,
       "metadata": {},
       "overflow": false,
       "plotOptions": {
        "customPlotOptions": {},
        "displayType": "table",
        "pivotAggregation": null,
        "pivotColumns": null,
        "xColumns": null,
        "yColumns": null
       },
       "removedWidgets": [],
       "schema": [
        {
         "metadata": "{}",
         "name": "transaction_id",
         "type": "\"string\""
        },
        {
         "metadata": "{}",
         "name": "account_id",
         "type": "\"string\""
        },
        {
         "metadata": "{\"__detected_date_formats\":\"yyyy-M-d\"}",
         "name": "transaction_date",
         "type": "\"date\""
        },
        {
         "metadata": "{}",
         "name": "transaction_type",
         "type": "\"string\""
        },
        {
         "metadata": "{}",
         "name": "transaction_amount",
         "type": "\"integer\""
        },
        {
         "metadata": "{}",
         "name": "merchant_id",
         "type": "\"string\""
        }
       ],
       "type": "table"
      }
     },
     "output_type": "display_data"
    }
   ],
   "source": [
    "# Filter rows where Column1 is not null\n",
    "transactional_df = transactional_df.filter(transactional_df['transaction_id'].isNotNull())\n",
    "\n",
    "# Display the transformed DataFrame\n",
    "display(transactional_df)"
   ]
  },
  {
   "cell_type": "code",
   "execution_count": 0,
   "metadata": {
    "application/vnd.databricks.v1+cell": {
     "cellMetadata": {
      "byteLimit": 2048000,
      "rowLimit": 10000
     },
     "inputWidgets": {},
     "nuid": "6e58d5a5-7f9e-4440-a31a-7def6e3a9bb8",
     "showTitle": false,
     "tableResultSettingsMap": {},
     "title": ""
    }
   },
   "outputs": [
    {
     "name": "stdout",
     "output_type": "stream",
     "text": [
      "86\n"
     ]
    }
   ],
   "source": [
    "#Total number of transaction per day\n",
    "from pyspark.sql.functions import count\n",
    " \n",
    "daily_txn_vol = transactional_df.groupBy(\"transaction_date\").agg(count(\"*\").alias(\"txn_count\"))\n",
    "print(daily_txn_vol.count())"
   ]
  },
  {
   "cell_type": "code",
   "execution_count": 0,
   "metadata": {
    "application/vnd.databricks.v1+cell": {
     "cellMetadata": {
      "byteLimit": 2048000,
      "rowLimit": 10000
     },
     "inputWidgets": {},
     "nuid": "cf48dbff-36ad-4d5f-9713-b9d113003141",
     "showTitle": false,
     "tableResultSettingsMap": {},
     "title": ""
    }
   },
   "outputs": [
    {
     "name": "stdout",
     "output_type": "stream",
     "text": [
      "9\n"
     ]
    }
   ],
   "source": [
    "# Number of transaction of each type\n",
    "txn_type_distribution = transactional_df.groupBy(\"transaction_type\").agg(count(\"*\").alias(\"txn_count\"))\n",
    "print(txn_type_distribution.count())"
   ]
  },
  {
   "cell_type": "code",
   "execution_count": 0,
   "metadata": {
    "application/vnd.databricks.v1+cell": {
     "cellMetadata": {
      "byteLimit": 2048000,
      "rowLimit": 10000
     },
     "inputWidgets": {},
     "nuid": "a80a9102-0569-497d-9d37-23ab6b12ebfa",
     "showTitle": false,
     "tableResultSettingsMap": {},
     "title": ""
    }
   },
   "outputs": [
    {
     "data": {
      "text/html": [
       "<style scoped>\n",
       "  .table-result-container {\n",
       "    max-height: 300px;\n",
       "    overflow: auto;\n",
       "  }\n",
       "  table, th, td {\n",
       "    border: 1px solid black;\n",
       "    border-collapse: collapse;\n",
       "  }\n",
       "  th, td {\n",
       "    padding: 5px;\n",
       "  }\n",
       "  th {\n",
       "    text-align: left;\n",
       "  }\n",
       "</style><div class='table-result-container'><table class='table-result'><thead style='background-color: white'><tr><th>account_id</th><th>transaction_id</th><th>transaction_date</th><th>transaction_type</th><th>transaction_amount</th><th>merchant_id</th><th>total_spent</th><th>customer_segment</th></tr></thead><tbody><tr><td>ACC1006</td><td>TXN10000</td><td>2023-10-08</td><td>Subscription Payment</td><td>25000</td><td>MER2030</td><td>35000</td><td>Low</td></tr><tr><td>ACC1002</td><td>TXN10001</td><td>2023-03-07</td><td>Withdrawal</td><td>30000</td><td>MER2007</td><td>62000</td><td>Medium</td></tr><tr><td>ACC1088</td><td>TXN10002</td><td>2022-04-11</td><td>ATM Withdrawal</td><td>1000</td><td>MER2004</td><td>1000</td><td>Low</td></tr><tr><td>ACC1090</td><td>TXN10003</td><td>2022-07-21</td><td>Subscription Payment</td><td>10000</td><td>MER2014</td><td>10000</td><td>Low</td></tr><tr><td>ACC1047</td><td>TXN10004</td><td>2023-03-15</td><td>Withdrawal</td><td>70000</td><td>MER2035</td><td>85000</td><td>Medium</td></tr><tr><td>ACC1091</td><td>TXN10005</td><td>2022-12-22</td><td>Withdrawal</td><td>5000</td><td>MER2073</td><td>55000</td><td>Medium</td></tr><tr><td>ACC1089</td><td>TXN10006</td><td>2023-12-27</td><td>Subscription Payment</td><td>5000</td><td>MER2061</td><td>17000</td><td>Low</td></tr><tr><td>ACC1085</td><td>TXN10007</td><td>2022-09-02</td><td>Credit Card Payment</td><td>50000</td><td>MER2071</td><td>50000</td><td>Medium</td></tr><tr><td>ACC1053</td><td>TXN10008</td><td>2023-03-02</td><td>Deposit</td><td>200000</td><td>MER2050</td><td>270000</td><td>High</td></tr><tr><td>ACC1079</td><td>TXN10009</td><td>2023-12-27</td><td>Fund Transfer</td><td>1000</td><td>MER2069</td><td>1000</td><td>Low</td></tr><tr><td>ACC1076</td><td>TXN10010</td><td>2023-02-21</td><td>Bill Payment</td><td>500</td><td>MER2039</td><td>65500</td><td>Medium</td></tr><tr><td>ACC1023</td><td>TXN10011</td><td>2023-11-29</td><td>Bill Payment</td><td>20000</td><td>MER2095</td><td>70000</td><td>Medium</td></tr><tr><td>ACC1007</td><td>TXN10012</td><td>2022-10-10</td><td>Loan Payment</td><td>1000</td><td>MER2028</td><td>41000</td><td>Low</td></tr><tr><td>ACC1051</td><td>TXN10013</td><td>2023-07-09</td><td>Bill Payment</td><td>500</td><td>MER2030</td><td>500</td><td>Low</td></tr><tr><td>ACC1026</td><td>TXN10014</td><td>2023-02-10</td><td>Online Purchase</td><td>10000</td><td>MER2062</td><td>60000</td><td>Medium</td></tr><tr><td>ACC1053</td><td>TXN10015</td><td>2023-05-26</td><td>ATM Withdrawal</td><td>20000</td><td>MER2086</td><td>270000</td><td>High</td></tr><tr><td>ACC1053</td><td>TXN10016</td><td>2023-09-22</td><td>Subscription Payment</td><td>50000</td><td>MER2095</td><td>270000</td><td>High</td></tr><tr><td>ACC1058</td><td>TXN10017</td><td>2023-12-15</td><td>Credit Card Payment</td><td>50000</td><td>MER2066</td><td>55000</td><td>Medium</td></tr><tr><td>ACC1065</td><td>TXN10018</td><td>2023-11-04</td><td>Fund Transfer</td><td>10000</td><td>MER2074</td><td>10000</td><td>Low</td></tr><tr><td>ACC1078</td><td>TXN10019</td><td>2023-07-24</td><td>Withdrawal</td><td>5000</td><td>MER2010</td><td>5000</td><td>Low</td></tr><tr><td>ACC1087</td><td>TXN10020</td><td>2023-06-16</td><td>Fund Transfer</td><td>1000</td><td>MER2093</td><td>1000</td><td>Low</td></tr><tr><td>ACC1094</td><td>TXN10021</td><td>2023-08-12</td><td>Loan Payment</td><td>10000</td><td>MER2078</td><td>10000</td><td>Low</td></tr><tr><td>ACC1007</td><td>TXN10022</td><td>2022-11-03</td><td>Loan Payment</td><td>20000</td><td>MER2051</td><td>41000</td><td>Low</td></tr><tr><td>ACC1076</td><td>TXN10023</td><td>2023-06-13</td><td>Subscription Payment</td><td>15000</td><td>MER2038</td><td>65500</td><td>Medium</td></tr><tr><td>ACC1074</td><td>TXN10024</td><td>2022-11-06</td><td>Fund Transfer</td><td>5000</td><td>MER2002</td><td>307000</td><td>High</td></tr><tr><td>ACC1074</td><td>TXN10025</td><td>2023-11-04</td><td>Loan Payment</td><td>2000</td><td>MER2095</td><td>307000</td><td>High</td></tr><tr><td>ACC1054</td><td>TXN10026</td><td>2023-07-26</td><td>Withdrawal</td><td>10000</td><td>MER2000</td><td>10000</td><td>Low</td></tr><tr><td>ACC1052</td><td>TXN10027</td><td>2022-02-02</td><td>Credit Card Payment</td><td>10000</td><td>MER2081</td><td>10000</td><td>Low</td></tr><tr><td>ACC1012</td><td>TXN10028</td><td>2023-01-08</td><td>Subscription Payment</td><td>1000</td><td>MER2007</td><td>1000</td><td>Low</td></tr><tr><td>ACC1007</td><td>TXN10029</td><td>2022-12-25</td><td>Fund Transfer</td><td>20000</td><td>MER2005</td><td>41000</td><td>Low</td></tr><tr><td>ACC1096</td><td>TXN10030</td><td>2023-08-07</td><td>Subscription Payment</td><td>2000</td><td>MER2064</td><td>2000</td><td>Low</td></tr><tr><td>ACC1072</td><td>TXN10031</td><td>2023-02-19</td><td>Loan Payment</td><td>10000</td><td>MER2046</td><td>10000</td><td>Low</td></tr><tr><td>ACC1058</td><td>TXN10032</td><td>2023-08-23</td><td>Bill Payment</td><td>5000</td><td>MER2051</td><td>55000</td><td>Medium</td></tr><tr><td>ACC1049</td><td>TXN10033</td><td>2023-02-09</td><td>Loan Payment</td><td>200000</td><td>MER2075</td><td>200000</td><td>High</td></tr><tr><td>ACC1001</td><td>TXN10034</td><td>2023-02-01</td><td>Online Purchase</td><td>10000</td><td>MER2065</td><td>15000</td><td>Low</td></tr><tr><td>ACC1074</td><td>TXN10035</td><td>2022-08-17</td><td>Withdrawal</td><td>300000</td><td>MER2081</td><td>307000</td><td>High</td></tr><tr><td>ACC1027</td><td>TXN10036</td><td>2023-06-06</td><td>Deposit</td><td>30000</td><td>MER2044</td><td>30000</td><td>Low</td></tr><tr><td>ACC1057</td><td>TXN10037</td><td>2023-11-14</td><td>ATM Withdrawal</td><td>5000</td><td>MER2072</td><td>5000</td><td>Low</td></tr><tr><td>ACC1026</td><td>TXN10038</td><td>2023-01-05</td><td>Online Purchase</td><td>50000</td><td>MER2079</td><td>60000</td><td>Medium</td></tr><tr><td>ACC1089</td><td>TXN10039</td><td>2023-08-08</td><td>Deposit</td><td>2000</td><td>MER2076</td><td>17000</td><td>Low</td></tr><tr><td>ACC1013</td><td>TXN10040</td><td>2022-08-05</td><td>ATM Withdrawal</td><td>5000</td><td>MER2003</td><td>10000</td><td>Low</td></tr><tr><td>ACC1097</td><td>TXN10041</td><td>2022-08-05</td><td>Fund Transfer</td><td>500</td><td>MER2015</td><td>500</td><td>Low</td></tr><tr><td>ACC1035</td><td>TXN10042</td><td>2022-09-27</td><td>Online Purchase</td><td>1000</td><td>MER2058</td><td>1000</td><td>Low</td></tr><tr><td>ACC1037</td><td>TXN10043</td><td>2023-01-19</td><td>Online Purchase</td><td>5000</td><td>MER2022</td><td>5000</td><td>Low</td></tr><tr><td>ACC1081</td><td>TXN10044</td><td>2023-02-23</td><td>Bill Payment</td><td>100000</td><td>MER2003</td><td>101000</td><td>High</td></tr><tr><td>ACC1075</td><td>TXN10045</td><td>2022-11-06</td><td>Fund Transfer</td><td>10000</td><td>MER2005</td><td>10000</td><td>Low</td></tr><tr><td>ACC1055</td><td>TXN10046</td><td>2023-07-25</td><td>Loan Payment</td><td>1000</td><td>MER2043</td><td>1000</td><td>Low</td></tr><tr><td>ACC1034</td><td>TXN10047</td><td>2023-08-07</td><td>Withdrawal</td><td>5000</td><td>MER2000</td><td>5000</td><td>Low</td></tr><tr><td>ACC1050</td><td>TXN10048</td><td>2022-10-13</td><td>Fund Transfer</td><td>30000</td><td>MER2052</td><td>30000</td><td>Low</td></tr><tr><td>ACC1011</td><td>TXN10049</td><td>2023-10-10</td><td>Loan Payment</td><td>200000</td><td>MER2071</td><td>200000</td><td>High</td></tr><tr><td>ACC1019</td><td>TXN10050</td><td>2023-12-04</td><td>Loan Payment</td><td>500</td><td>MER2009</td><td>500</td><td>Low</td></tr><tr><td>ACC1060</td><td>TXN10051</td><td>2022-11-09</td><td>Online Purchase</td><td>2000</td><td>MER2002</td><td>37000</td><td>Low</td></tr><tr><td>ACC1063</td><td>TXN10052</td><td>2023-03-09</td><td>Deposit</td><td>2000</td><td>MER2040</td><td>2500</td><td>Low</td></tr><tr><td>ACC1006</td><td>TXN10053</td><td>2023-01-02</td><td>Deposit</td><td>10000</td><td>MER2014</td><td>35000</td><td>Low</td></tr><tr><td>ACC1029</td><td>TXN10054</td><td>2023-01-11</td><td>Bill Payment</td><td>5000</td><td>MER2023</td><td>6000</td><td>Low</td></tr><tr><td>ACC1021</td><td>TXN10055</td><td>2022-09-26</td><td>ATM Withdrawal</td><td>5000</td><td>MER2076</td><td>7500</td><td>Low</td></tr><tr><td>ACC1086</td><td>TXN10056</td><td>2023-11-06</td><td>Online Purchase</td><td>1000</td><td>MER2001</td><td>1000</td><td>Low</td></tr><tr><td>ACC1082</td><td>TXN10057</td><td>2022-09-02</td><td>ATM Withdrawal</td><td>200</td><td>MER2081</td><td>200</td><td>Low</td></tr><tr><td>ACC1093</td><td>TXN10058</td><td>2022-07-04</td><td>Subscription Payment</td><td>30000</td><td>MER2069</td><td>30000</td><td>Low</td></tr><tr><td>ACC1044</td><td>TXN10059</td><td>2023-03-06</td><td>Credit Card Payment</td><td>500</td><td>MER2072</td><td>5500</td><td>Low</td></tr><tr><td>ACC1076</td><td>TXN10060</td><td>2023-11-14</td><td>ATM Withdrawal</td><td>50000</td><td>MER2087</td><td>65500</td><td>Medium</td></tr><tr><td>ACC1063</td><td>TXN10061</td><td>2023-05-08</td><td>Deposit</td><td>500</td><td>MER2084</td><td>2500</td><td>Low</td></tr><tr><td>ACC1013</td><td>TXN10062</td><td>2023-03-30</td><td>Deposit</td><td>5000</td><td>MER2067</td><td>10000</td><td>Low</td></tr><tr><td>ACC1031</td><td>TXN10063</td><td>2023-04-05</td><td>Credit Card Payment</td><td>5000</td><td>MER2011</td><td>5000</td><td>Low</td></tr><tr><td>ACC1071</td><td>TXN10064</td><td>2023-06-03</td><td>Credit Card Payment</td><td>20000</td><td>MER2019</td><td>20000</td><td>Low</td></tr><tr><td>ACC1091</td><td>TXN10065</td><td>2023-12-30</td><td>Withdrawal</td><td>50000</td><td>MER2061</td><td>55000</td><td>Medium</td></tr><tr><td>ACC1092</td><td>TXN10066</td><td>2023-06-17</td><td>Fund Transfer</td><td>150000</td><td>MER2016</td><td>150000</td><td>High</td></tr><tr><td>ACC1005</td><td>TXN10067</td><td>2023-01-24</td><td>Bill Payment</td><td>5000</td><td>MER2049</td><td>35000</td><td>Low</td></tr><tr><td>ACC1021</td><td>TXN10068</td><td>2023-08-03</td><td>Online Purchase</td><td>500</td><td>MER2040</td><td>7500</td><td>Low</td></tr><tr><td>ACC1045</td><td>TXN10069</td><td>2022-10-28</td><td>Deposit</td><td>1000</td><td>MER2051</td><td>1000</td><td>Low</td></tr><tr><td>ACC1080</td><td>TXN10070</td><td>2022-07-15</td><td>Loan Payment</td><td>20000</td><td>MER2071</td><td>20000</td><td>Low</td></tr><tr><td>ACC1036</td><td>TXN10071</td><td>2022-05-02</td><td>Bill Payment</td><td>5000</td><td>MER2094</td><td>5000</td><td>Low</td></tr><tr><td>ACC1005</td><td>TXN10072</td><td>2023-05-26</td><td>Bill Payment</td><td>30000</td><td>MER2037</td><td>35000</td><td>Low</td></tr><tr><td>ACC1021</td><td>TXN10073</td><td>2023-09-12</td><td>Subscription Payment</td><td>2000</td><td>MER2091</td><td>7500</td><td>Low</td></tr><tr><td>ACC1098</td><td>TXN10074</td><td>2023-10-27</td><td>Deposit</td><td>1000</td><td>MER2011</td><td>1000</td><td>Low</td></tr><tr><td>ACC1084</td><td>TXN10075</td><td>2023-11-07</td><td>Credit Card Payment</td><td>20000</td><td>MER2032</td><td>20000</td><td>Low</td></tr><tr><td>ACC1001</td><td>TXN10076</td><td>2023-12-17</td><td>Credit Card Payment</td><td>5000</td><td>MER2074</td><td>15000</td><td>Low</td></tr><tr><td>ACC1043</td><td>TXN10077</td><td>2023-11-22</td><td>Withdrawal</td><td>20000</td><td>MER2012</td><td>120000</td><td>High</td></tr><tr><td>ACC1017</td><td>TXN10078</td><td>2022-11-22</td><td>Fund Transfer</td><td>200000</td><td>MER2012</td><td>205500</td><td>High</td></tr><tr><td>ACC1017</td><td>TXN10079</td><td>2023-01-17</td><td>Deposit</td><td>500</td><td>MER2066</td><td>205500</td><td>High</td></tr><tr><td>ACC1047</td><td>TXN10080</td><td>2022-09-21</td><td>Credit Card Payment</td><td>15000</td><td>MER2018</td><td>85000</td><td>Medium</td></tr><tr><td>ACC1002</td><td>TXN10081</td><td>2022-08-05</td><td>Loan Payment</td><td>30000</td><td>MER2019</td><td>62000</td><td>Medium</td></tr><tr><td>ACC1024</td><td>TXN10082</td><td>2023-08-30</td><td>Withdrawal</td><td>500</td><td>MER2075</td><td>500</td><td>Low</td></tr><tr><td>ACC1066</td><td>TXN10083</td><td>2023-08-23</td><td>Bill Payment</td><td>20000</td><td>MER2031</td><td>20000</td><td>Low</td></tr><tr><td>ACC1023</td><td>TXN10084</td><td>2023-03-14</td><td>Online Purchase</td><td>50000</td><td>MER2076</td><td>70000</td><td>Medium</td></tr><tr><td>ACC1044</td><td>TXN10085</td><td>2023-06-12</td><td>Bill Payment</td><td>5000</td><td>MER2080</td><td>5500</td><td>Low</td></tr><tr><td>ACC1041</td><td>TXN10086</td><td>2023-12-06</td><td>Withdrawal</td><td>20000</td><td>MER2023</td><td>20000</td><td>Low</td></tr><tr><td>ACC1043</td><td>TXN10087</td><td>2022-07-15</td><td>Withdrawal</td><td>100000</td><td>MER2033</td><td>120000</td><td>High</td></tr><tr><td>ACC1089</td><td>TXN10088</td><td>2022-02-13</td><td>ATM Withdrawal</td><td>10000</td><td>MER2000</td><td>17000</td><td>Low</td></tr><tr><td>ACC1002</td><td>TXN10089</td><td>2023-12-10</td><td>Credit Card Payment</td><td>2000</td><td>MER2081</td><td>62000</td><td>Medium</td></tr><tr><td>ACC1029</td><td>TXN10090</td><td>2022-09-27</td><td>Deposit</td><td>1000</td><td>MER2012</td><td>6000</td><td>Low</td></tr><tr><td>ACC1060</td><td>TXN10091</td><td>2023-01-04</td><td>Withdrawal</td><td>10000</td><td>MER2011</td><td>37000</td><td>Low</td></tr><tr><td>ACC1009</td><td>TXN10092</td><td>2023-12-26</td><td>Online Purchase</td><td>25000</td><td>MER2085</td><td>25500</td><td>Low</td></tr><tr><td>ACC1009</td><td>TXN10093</td><td>2023-10-10</td><td>Online Purchase</td><td>500</td><td>MER2047</td><td>25500</td><td>Low</td></tr><tr><td>ACC1060</td><td>TXN10094</td><td>2022-08-04</td><td>Loan Payment</td><td>20000</td><td>MER2052</td><td>37000</td><td>Low</td></tr><tr><td>ACC1081</td><td>TXN10095</td><td>2023-11-24</td><td>ATM Withdrawal</td><td>1000</td><td>MER2016</td><td>101000</td><td>High</td></tr><tr><td>ACC1032</td><td>TXN10096</td><td>2023-08-17</td><td>Withdrawal</td><td>5000</td><td>MER2017</td><td>5000</td><td>Low</td></tr><tr><td>ACC1017</td><td>TXN10097</td><td>2022-02-15</td><td>Fund Transfer</td><td>5000</td><td>MER2074</td><td>205500</td><td>High</td></tr><tr><td>ACC1060</td><td>TXN10098</td><td>2023-11-22</td><td>Subscription Payment</td><td>5000</td><td>MER2097</td><td>37000</td><td>Low</td></tr><tr><td>ACC1004</td><td>TXN10099</td><td>2023-01-10</td><td>Bill Payment</td><td>300000</td><td>MER2071</td><td>300000</td><td>High</td></tr></tbody></table></div>"
      ]
     },
     "metadata": {
      "application/vnd.databricks.v1+output": {
       "addedWidgets": {},
       "aggData": [],
       "aggError": "",
       "aggOverflow": false,
       "aggSchema": [],
       "aggSeriesLimitReached": false,
       "aggType": "",
       "arguments": {},
       "columnCustomDisplayInfos": {},
       "data": [
        [
         "ACC1006",
         "TXN10000",
         "2023-10-08",
         "Subscription Payment",
         25000,
         "MER2030",
         35000,
         "Low"
        ],
        [
         "ACC1002",
         "TXN10001",
         "2023-03-07",
         "Withdrawal",
         30000,
         "MER2007",
         62000,
         "Medium"
        ],
        [
         "ACC1088",
         "TXN10002",
         "2022-04-11",
         "ATM Withdrawal",
         1000,
         "MER2004",
         1000,
         "Low"
        ],
        [
         "ACC1090",
         "TXN10003",
         "2022-07-21",
         "Subscription Payment",
         10000,
         "MER2014",
         10000,
         "Low"
        ],
        [
         "ACC1047",
         "TXN10004",
         "2023-03-15",
         "Withdrawal",
         70000,
         "MER2035",
         85000,
         "Medium"
        ],
        [
         "ACC1091",
         "TXN10005",
         "2022-12-22",
         "Withdrawal",
         5000,
         "MER2073",
         55000,
         "Medium"
        ],
        [
         "ACC1089",
         "TXN10006",
         "2023-12-27",
         "Subscription Payment",
         5000,
         "MER2061",
         17000,
         "Low"
        ],
        [
         "ACC1085",
         "TXN10007",
         "2022-09-02",
         "Credit Card Payment",
         50000,
         "MER2071",
         50000,
         "Medium"
        ],
        [
         "ACC1053",
         "TXN10008",
         "2023-03-02",
         "Deposit",
         200000,
         "MER2050",
         270000,
         "High"
        ],
        [
         "ACC1079",
         "TXN10009",
         "2023-12-27",
         "Fund Transfer",
         1000,
         "MER2069",
         1000,
         "Low"
        ],
        [
         "ACC1076",
         "TXN10010",
         "2023-02-21",
         "Bill Payment",
         500,
         "MER2039",
         65500,
         "Medium"
        ],
        [
         "ACC1023",
         "TXN10011",
         "2023-11-29",
         "Bill Payment",
         20000,
         "MER2095",
         70000,
         "Medium"
        ],
        [
         "ACC1007",
         "TXN10012",
         "2022-10-10",
         "Loan Payment",
         1000,
         "MER2028",
         41000,
         "Low"
        ],
        [
         "ACC1051",
         "TXN10013",
         "2023-07-09",
         "Bill Payment",
         500,
         "MER2030",
         500,
         "Low"
        ],
        [
         "ACC1026",
         "TXN10014",
         "2023-02-10",
         "Online Purchase",
         10000,
         "MER2062",
         60000,
         "Medium"
        ],
        [
         "ACC1053",
         "TXN10015",
         "2023-05-26",
         "ATM Withdrawal",
         20000,
         "MER2086",
         270000,
         "High"
        ],
        [
         "ACC1053",
         "TXN10016",
         "2023-09-22",
         "Subscription Payment",
         50000,
         "MER2095",
         270000,
         "High"
        ],
        [
         "ACC1058",
         "TXN10017",
         "2023-12-15",
         "Credit Card Payment",
         50000,
         "MER2066",
         55000,
         "Medium"
        ],
        [
         "ACC1065",
         "TXN10018",
         "2023-11-04",
         "Fund Transfer",
         10000,
         "MER2074",
         10000,
         "Low"
        ],
        [
         "ACC1078",
         "TXN10019",
         "2023-07-24",
         "Withdrawal",
         5000,
         "MER2010",
         5000,
         "Low"
        ],
        [
         "ACC1087",
         "TXN10020",
         "2023-06-16",
         "Fund Transfer",
         1000,
         "MER2093",
         1000,
         "Low"
        ],
        [
         "ACC1094",
         "TXN10021",
         "2023-08-12",
         "Loan Payment",
         10000,
         "MER2078",
         10000,
         "Low"
        ],
        [
         "ACC1007",
         "TXN10022",
         "2022-11-03",
         "Loan Payment",
         20000,
         "MER2051",
         41000,
         "Low"
        ],
        [
         "ACC1076",
         "TXN10023",
         "2023-06-13",
         "Subscription Payment",
         15000,
         "MER2038",
         65500,
         "Medium"
        ],
        [
         "ACC1074",
         "TXN10024",
         "2022-11-06",
         "Fund Transfer",
         5000,
         "MER2002",
         307000,
         "High"
        ],
        [
         "ACC1074",
         "TXN10025",
         "2023-11-04",
         "Loan Payment",
         2000,
         "MER2095",
         307000,
         "High"
        ],
        [
         "ACC1054",
         "TXN10026",
         "2023-07-26",
         "Withdrawal",
         10000,
         "MER2000",
         10000,
         "Low"
        ],
        [
         "ACC1052",
         "TXN10027",
         "2022-02-02",
         "Credit Card Payment",
         10000,
         "MER2081",
         10000,
         "Low"
        ],
        [
         "ACC1012",
         "TXN10028",
         "2023-01-08",
         "Subscription Payment",
         1000,
         "MER2007",
         1000,
         "Low"
        ],
        [
         "ACC1007",
         "TXN10029",
         "2022-12-25",
         "Fund Transfer",
         20000,
         "MER2005",
         41000,
         "Low"
        ],
        [
         "ACC1096",
         "TXN10030",
         "2023-08-07",
         "Subscription Payment",
         2000,
         "MER2064",
         2000,
         "Low"
        ],
        [
         "ACC1072",
         "TXN10031",
         "2023-02-19",
         "Loan Payment",
         10000,
         "MER2046",
         10000,
         "Low"
        ],
        [
         "ACC1058",
         "TXN10032",
         "2023-08-23",
         "Bill Payment",
         5000,
         "MER2051",
         55000,
         "Medium"
        ],
        [
         "ACC1049",
         "TXN10033",
         "2023-02-09",
         "Loan Payment",
         200000,
         "MER2075",
         200000,
         "High"
        ],
        [
         "ACC1001",
         "TXN10034",
         "2023-02-01",
         "Online Purchase",
         10000,
         "MER2065",
         15000,
         "Low"
        ],
        [
         "ACC1074",
         "TXN10035",
         "2022-08-17",
         "Withdrawal",
         300000,
         "MER2081",
         307000,
         "High"
        ],
        [
         "ACC1027",
         "TXN10036",
         "2023-06-06",
         "Deposit",
         30000,
         "MER2044",
         30000,
         "Low"
        ],
        [
         "ACC1057",
         "TXN10037",
         "2023-11-14",
         "ATM Withdrawal",
         5000,
         "MER2072",
         5000,
         "Low"
        ],
        [
         "ACC1026",
         "TXN10038",
         "2023-01-05",
         "Online Purchase",
         50000,
         "MER2079",
         60000,
         "Medium"
        ],
        [
         "ACC1089",
         "TXN10039",
         "2023-08-08",
         "Deposit",
         2000,
         "MER2076",
         17000,
         "Low"
        ],
        [
         "ACC1013",
         "TXN10040",
         "2022-08-05",
         "ATM Withdrawal",
         5000,
         "MER2003",
         10000,
         "Low"
        ],
        [
         "ACC1097",
         "TXN10041",
         "2022-08-05",
         "Fund Transfer",
         500,
         "MER2015",
         500,
         "Low"
        ],
        [
         "ACC1035",
         "TXN10042",
         "2022-09-27",
         "Online Purchase",
         1000,
         "MER2058",
         1000,
         "Low"
        ],
        [
         "ACC1037",
         "TXN10043",
         "2023-01-19",
         "Online Purchase",
         5000,
         "MER2022",
         5000,
         "Low"
        ],
        [
         "ACC1081",
         "TXN10044",
         "2023-02-23",
         "Bill Payment",
         100000,
         "MER2003",
         101000,
         "High"
        ],
        [
         "ACC1075",
         "TXN10045",
         "2022-11-06",
         "Fund Transfer",
         10000,
         "MER2005",
         10000,
         "Low"
        ],
        [
         "ACC1055",
         "TXN10046",
         "2023-07-25",
         "Loan Payment",
         1000,
         "MER2043",
         1000,
         "Low"
        ],
        [
         "ACC1034",
         "TXN10047",
         "2023-08-07",
         "Withdrawal",
         5000,
         "MER2000",
         5000,
         "Low"
        ],
        [
         "ACC1050",
         "TXN10048",
         "2022-10-13",
         "Fund Transfer",
         30000,
         "MER2052",
         30000,
         "Low"
        ],
        [
         "ACC1011",
         "TXN10049",
         "2023-10-10",
         "Loan Payment",
         200000,
         "MER2071",
         200000,
         "High"
        ],
        [
         "ACC1019",
         "TXN10050",
         "2023-12-04",
         "Loan Payment",
         500,
         "MER2009",
         500,
         "Low"
        ],
        [
         "ACC1060",
         "TXN10051",
         "2022-11-09",
         "Online Purchase",
         2000,
         "MER2002",
         37000,
         "Low"
        ],
        [
         "ACC1063",
         "TXN10052",
         "2023-03-09",
         "Deposit",
         2000,
         "MER2040",
         2500,
         "Low"
        ],
        [
         "ACC1006",
         "TXN10053",
         "2023-01-02",
         "Deposit",
         10000,
         "MER2014",
         35000,
         "Low"
        ],
        [
         "ACC1029",
         "TXN10054",
         "2023-01-11",
         "Bill Payment",
         5000,
         "MER2023",
         6000,
         "Low"
        ],
        [
         "ACC1021",
         "TXN10055",
         "2022-09-26",
         "ATM Withdrawal",
         5000,
         "MER2076",
         7500,
         "Low"
        ],
        [
         "ACC1086",
         "TXN10056",
         "2023-11-06",
         "Online Purchase",
         1000,
         "MER2001",
         1000,
         "Low"
        ],
        [
         "ACC1082",
         "TXN10057",
         "2022-09-02",
         "ATM Withdrawal",
         200,
         "MER2081",
         200,
         "Low"
        ],
        [
         "ACC1093",
         "TXN10058",
         "2022-07-04",
         "Subscription Payment",
         30000,
         "MER2069",
         30000,
         "Low"
        ],
        [
         "ACC1044",
         "TXN10059",
         "2023-03-06",
         "Credit Card Payment",
         500,
         "MER2072",
         5500,
         "Low"
        ],
        [
         "ACC1076",
         "TXN10060",
         "2023-11-14",
         "ATM Withdrawal",
         50000,
         "MER2087",
         65500,
         "Medium"
        ],
        [
         "ACC1063",
         "TXN10061",
         "2023-05-08",
         "Deposit",
         500,
         "MER2084",
         2500,
         "Low"
        ],
        [
         "ACC1013",
         "TXN10062",
         "2023-03-30",
         "Deposit",
         5000,
         "MER2067",
         10000,
         "Low"
        ],
        [
         "ACC1031",
         "TXN10063",
         "2023-04-05",
         "Credit Card Payment",
         5000,
         "MER2011",
         5000,
         "Low"
        ],
        [
         "ACC1071",
         "TXN10064",
         "2023-06-03",
         "Credit Card Payment",
         20000,
         "MER2019",
         20000,
         "Low"
        ],
        [
         "ACC1091",
         "TXN10065",
         "2023-12-30",
         "Withdrawal",
         50000,
         "MER2061",
         55000,
         "Medium"
        ],
        [
         "ACC1092",
         "TXN10066",
         "2023-06-17",
         "Fund Transfer",
         150000,
         "MER2016",
         150000,
         "High"
        ],
        [
         "ACC1005",
         "TXN10067",
         "2023-01-24",
         "Bill Payment",
         5000,
         "MER2049",
         35000,
         "Low"
        ],
        [
         "ACC1021",
         "TXN10068",
         "2023-08-03",
         "Online Purchase",
         500,
         "MER2040",
         7500,
         "Low"
        ],
        [
         "ACC1045",
         "TXN10069",
         "2022-10-28",
         "Deposit",
         1000,
         "MER2051",
         1000,
         "Low"
        ],
        [
         "ACC1080",
         "TXN10070",
         "2022-07-15",
         "Loan Payment",
         20000,
         "MER2071",
         20000,
         "Low"
        ],
        [
         "ACC1036",
         "TXN10071",
         "2022-05-02",
         "Bill Payment",
         5000,
         "MER2094",
         5000,
         "Low"
        ],
        [
         "ACC1005",
         "TXN10072",
         "2023-05-26",
         "Bill Payment",
         30000,
         "MER2037",
         35000,
         "Low"
        ],
        [
         "ACC1021",
         "TXN10073",
         "2023-09-12",
         "Subscription Payment",
         2000,
         "MER2091",
         7500,
         "Low"
        ],
        [
         "ACC1098",
         "TXN10074",
         "2023-10-27",
         "Deposit",
         1000,
         "MER2011",
         1000,
         "Low"
        ],
        [
         "ACC1084",
         "TXN10075",
         "2023-11-07",
         "Credit Card Payment",
         20000,
         "MER2032",
         20000,
         "Low"
        ],
        [
         "ACC1001",
         "TXN10076",
         "2023-12-17",
         "Credit Card Payment",
         5000,
         "MER2074",
         15000,
         "Low"
        ],
        [
         "ACC1043",
         "TXN10077",
         "2023-11-22",
         "Withdrawal",
         20000,
         "MER2012",
         120000,
         "High"
        ],
        [
         "ACC1017",
         "TXN10078",
         "2022-11-22",
         "Fund Transfer",
         200000,
         "MER2012",
         205500,
         "High"
        ],
        [
         "ACC1017",
         "TXN10079",
         "2023-01-17",
         "Deposit",
         500,
         "MER2066",
         205500,
         "High"
        ],
        [
         "ACC1047",
         "TXN10080",
         "2022-09-21",
         "Credit Card Payment",
         15000,
         "MER2018",
         85000,
         "Medium"
        ],
        [
         "ACC1002",
         "TXN10081",
         "2022-08-05",
         "Loan Payment",
         30000,
         "MER2019",
         62000,
         "Medium"
        ],
        [
         "ACC1024",
         "TXN10082",
         "2023-08-30",
         "Withdrawal",
         500,
         "MER2075",
         500,
         "Low"
        ],
        [
         "ACC1066",
         "TXN10083",
         "2023-08-23",
         "Bill Payment",
         20000,
         "MER2031",
         20000,
         "Low"
        ],
        [
         "ACC1023",
         "TXN10084",
         "2023-03-14",
         "Online Purchase",
         50000,
         "MER2076",
         70000,
         "Medium"
        ],
        [
         "ACC1044",
         "TXN10085",
         "2023-06-12",
         "Bill Payment",
         5000,
         "MER2080",
         5500,
         "Low"
        ],
        [
         "ACC1041",
         "TXN10086",
         "2023-12-06",
         "Withdrawal",
         20000,
         "MER2023",
         20000,
         "Low"
        ],
        [
         "ACC1043",
         "TXN10087",
         "2022-07-15",
         "Withdrawal",
         100000,
         "MER2033",
         120000,
         "High"
        ],
        [
         "ACC1089",
         "TXN10088",
         "2022-02-13",
         "ATM Withdrawal",
         10000,
         "MER2000",
         17000,
         "Low"
        ],
        [
         "ACC1002",
         "TXN10089",
         "2023-12-10",
         "Credit Card Payment",
         2000,
         "MER2081",
         62000,
         "Medium"
        ],
        [
         "ACC1029",
         "TXN10090",
         "2022-09-27",
         "Deposit",
         1000,
         "MER2012",
         6000,
         "Low"
        ],
        [
         "ACC1060",
         "TXN10091",
         "2023-01-04",
         "Withdrawal",
         10000,
         "MER2011",
         37000,
         "Low"
        ],
        [
         "ACC1009",
         "TXN10092",
         "2023-12-26",
         "Online Purchase",
         25000,
         "MER2085",
         25500,
         "Low"
        ],
        [
         "ACC1009",
         "TXN10093",
         "2023-10-10",
         "Online Purchase",
         500,
         "MER2047",
         25500,
         "Low"
        ],
        [
         "ACC1060",
         "TXN10094",
         "2022-08-04",
         "Loan Payment",
         20000,
         "MER2052",
         37000,
         "Low"
        ],
        [
         "ACC1081",
         "TXN10095",
         "2023-11-24",
         "ATM Withdrawal",
         1000,
         "MER2016",
         101000,
         "High"
        ],
        [
         "ACC1032",
         "TXN10096",
         "2023-08-17",
         "Withdrawal",
         5000,
         "MER2017",
         5000,
         "Low"
        ],
        [
         "ACC1017",
         "TXN10097",
         "2022-02-15",
         "Fund Transfer",
         5000,
         "MER2074",
         205500,
         "High"
        ],
        [
         "ACC1060",
         "TXN10098",
         "2023-11-22",
         "Subscription Payment",
         5000,
         "MER2097",
         37000,
         "Low"
        ],
        [
         "ACC1004",
         "TXN10099",
         "2023-01-10",
         "Bill Payment",
         300000,
         "MER2071",
         300000,
         "High"
        ]
       ],
       "datasetInfos": [],
       "dbfsResultPath": null,
       "isJsonSchema": true,
       "metadata": {},
       "overflow": false,
       "plotOptions": {
        "customPlotOptions": {},
        "displayType": "table",
        "pivotAggregation": null,
        "pivotColumns": null,
        "xColumns": null,
        "yColumns": null
       },
       "removedWidgets": [],
       "schema": [
        {
         "metadata": "{}",
         "name": "account_id",
         "type": "\"string\""
        },
        {
         "metadata": "{}",
         "name": "transaction_id",
         "type": "\"string\""
        },
        {
         "metadata": "{\"__detected_date_formats\":\"yyyy-M-d\"}",
         "name": "transaction_date",
         "type": "\"date\""
        },
        {
         "metadata": "{}",
         "name": "transaction_type",
         "type": "\"string\""
        },
        {
         "metadata": "{}",
         "name": "transaction_amount",
         "type": "\"integer\""
        },
        {
         "metadata": "{}",
         "name": "merchant_id",
         "type": "\"string\""
        },
        {
         "metadata": "{}",
         "name": "total_spent",
         "type": "\"long\""
        },
        {
         "metadata": "{}",
         "name": "customer_segment",
         "type": "\"string\""
        }
       ],
       "type": "table"
      }
     },
     "output_type": "display_data"
    }
   ],
   "source": [
    "from pyspark.sql.functions import sum, when, col\n",
    "\n",
    "# Aggregate total spending per customer\n",
    "customer_spending = transactional_df.groupBy(\"account_id\").agg(sum(\"transaction_amount\").alias(\"total_spent\"))\n",
    "\n",
    "# Categorize customers into High, Medium, and Low spenders\n",
    "customer_segmented = customer_spending.withColumn(\n",
    "    \"customer_segment\",\n",
    "    when(col(\"total_spent\") >= 100000, \"High\")\n",
    "    .when(col(\"total_spent\").between(50000, 99999), \"Medium\")\n",
    "    .otherwise(\"Low\")\n",
    ")\n",
    "\n",
    "# Join the segmented data back to the original transaction DataFrame\n",
    "transactional_df_enriched = transactional_df.join(customer_segmented, on=\"account_id\", how=\"left\")\n",
    "\n",
    "transactional_df_enriched.display()"
   ]
  },
  {
   "cell_type": "code",
   "execution_count": 0,
   "metadata": {
    "application/vnd.databricks.v1+cell": {
     "cellMetadata": {
      "byteLimit": 2048000,
      "rowLimit": 10000
     },
     "inputWidgets": {},
     "nuid": "53d2efb5-f6f9-4160-8a92-2ec561d371b3",
     "showTitle": false,
     "tableResultSettingsMap": {},
     "title": ""
    }
   },
   "outputs": [
    {
     "data": {
      "text/html": [
       "<style scoped>\n",
       "  .table-result-container {\n",
       "    max-height: 300px;\n",
       "    overflow: auto;\n",
       "  }\n",
       "  table, th, td {\n",
       "    border: 1px solid black;\n",
       "    border-collapse: collapse;\n",
       "  }\n",
       "  th, td {\n",
       "    padding: 5px;\n",
       "  }\n",
       "  th {\n",
       "    text-align: left;\n",
       "  }\n",
       "</style><div class='table-result-container'><table class='table-result'><thead style='background-color: white'><tr><th>transaction_id</th><th>account_id</th><th>transaction_date</th><th>transaction_type</th><th>transaction_amount</th><th>merchant_id</th><th>prev_txn_date</th><th>days_between_txns</th><th>is_frequent_txn</th></tr></thead><tbody><tr><td>TXN10034</td><td>ACC1001</td><td>2023-02-01</td><td>Online Purchase</td><td>10000</td><td>MER2065</td><td>null</td><td>999</td><td>0</td></tr><tr><td>TXN10076</td><td>ACC1001</td><td>2023-12-17</td><td>Credit Card Payment</td><td>5000</td><td>MER2074</td><td>2023-02-01</td><td>319</td><td>0</td></tr><tr><td>TXN10081</td><td>ACC1002</td><td>2022-08-05</td><td>Loan Payment</td><td>30000</td><td>MER2019</td><td>null</td><td>999</td><td>0</td></tr><tr><td>TXN10001</td><td>ACC1002</td><td>2023-03-07</td><td>Withdrawal</td><td>30000</td><td>MER2007</td><td>2022-08-05</td><td>214</td><td>0</td></tr><tr><td>TXN10089</td><td>ACC1002</td><td>2023-12-10</td><td>Credit Card Payment</td><td>2000</td><td>MER2081</td><td>2023-03-07</td><td>278</td><td>0</td></tr><tr><td>TXN10099</td><td>ACC1004</td><td>2023-01-10</td><td>Bill Payment</td><td>300000</td><td>MER2071</td><td>null</td><td>999</td><td>0</td></tr><tr><td>TXN10067</td><td>ACC1005</td><td>2023-01-24</td><td>Bill Payment</td><td>5000</td><td>MER2049</td><td>null</td><td>999</td><td>0</td></tr><tr><td>TXN10072</td><td>ACC1005</td><td>2023-05-26</td><td>Bill Payment</td><td>30000</td><td>MER2037</td><td>2023-01-24</td><td>122</td><td>0</td></tr><tr><td>TXN10053</td><td>ACC1006</td><td>2023-01-02</td><td>Deposit</td><td>10000</td><td>MER2014</td><td>null</td><td>999</td><td>0</td></tr><tr><td>TXN10000</td><td>ACC1006</td><td>2023-10-08</td><td>Subscription Payment</td><td>25000</td><td>MER2030</td><td>2023-01-02</td><td>279</td><td>0</td></tr><tr><td>TXN10012</td><td>ACC1007</td><td>2022-10-10</td><td>Loan Payment</td><td>1000</td><td>MER2028</td><td>null</td><td>999</td><td>0</td></tr><tr><td>TXN10022</td><td>ACC1007</td><td>2022-11-03</td><td>Loan Payment</td><td>20000</td><td>MER2051</td><td>2022-10-10</td><td>24</td><td>0</td></tr><tr><td>TXN10029</td><td>ACC1007</td><td>2022-12-25</td><td>Fund Transfer</td><td>20000</td><td>MER2005</td><td>2022-11-03</td><td>52</td><td>0</td></tr><tr><td>TXN10093</td><td>ACC1009</td><td>2023-10-10</td><td>Online Purchase</td><td>500</td><td>MER2047</td><td>null</td><td>999</td><td>0</td></tr><tr><td>TXN10092</td><td>ACC1009</td><td>2023-12-26</td><td>Online Purchase</td><td>25000</td><td>MER2085</td><td>2023-10-10</td><td>77</td><td>0</td></tr><tr><td>TXN10049</td><td>ACC1011</td><td>2023-10-10</td><td>Loan Payment</td><td>200000</td><td>MER2071</td><td>null</td><td>999</td><td>0</td></tr><tr><td>TXN10028</td><td>ACC1012</td><td>2023-01-08</td><td>Subscription Payment</td><td>1000</td><td>MER2007</td><td>null</td><td>999</td><td>0</td></tr><tr><td>TXN10040</td><td>ACC1013</td><td>2022-08-05</td><td>ATM Withdrawal</td><td>5000</td><td>MER2003</td><td>null</td><td>999</td><td>0</td></tr><tr><td>TXN10062</td><td>ACC1013</td><td>2023-03-30</td><td>Deposit</td><td>5000</td><td>MER2067</td><td>2022-08-05</td><td>237</td><td>0</td></tr><tr><td>TXN10097</td><td>ACC1017</td><td>2022-02-15</td><td>Fund Transfer</td><td>5000</td><td>MER2074</td><td>null</td><td>999</td><td>0</td></tr><tr><td>TXN10078</td><td>ACC1017</td><td>2022-11-22</td><td>Fund Transfer</td><td>200000</td><td>MER2012</td><td>2022-02-15</td><td>280</td><td>0</td></tr><tr><td>TXN10079</td><td>ACC1017</td><td>2023-01-17</td><td>Deposit</td><td>500</td><td>MER2066</td><td>2022-11-22</td><td>56</td><td>0</td></tr><tr><td>TXN10050</td><td>ACC1019</td><td>2023-12-04</td><td>Loan Payment</td><td>500</td><td>MER2009</td><td>null</td><td>999</td><td>0</td></tr><tr><td>TXN10055</td><td>ACC1021</td><td>2022-09-26</td><td>ATM Withdrawal</td><td>5000</td><td>MER2076</td><td>null</td><td>999</td><td>0</td></tr><tr><td>TXN10068</td><td>ACC1021</td><td>2023-08-03</td><td>Online Purchase</td><td>500</td><td>MER2040</td><td>2022-09-26</td><td>311</td><td>0</td></tr><tr><td>TXN10073</td><td>ACC1021</td><td>2023-09-12</td><td>Subscription Payment</td><td>2000</td><td>MER2091</td><td>2023-08-03</td><td>40</td><td>0</td></tr><tr><td>TXN10084</td><td>ACC1023</td><td>2023-03-14</td><td>Online Purchase</td><td>50000</td><td>MER2076</td><td>null</td><td>999</td><td>0</td></tr><tr><td>TXN10011</td><td>ACC1023</td><td>2023-11-29</td><td>Bill Payment</td><td>20000</td><td>MER2095</td><td>2023-03-14</td><td>260</td><td>0</td></tr><tr><td>TXN10082</td><td>ACC1024</td><td>2023-08-30</td><td>Withdrawal</td><td>500</td><td>MER2075</td><td>null</td><td>999</td><td>0</td></tr><tr><td>TXN10038</td><td>ACC1026</td><td>2023-01-05</td><td>Online Purchase</td><td>50000</td><td>MER2079</td><td>null</td><td>999</td><td>0</td></tr><tr><td>TXN10014</td><td>ACC1026</td><td>2023-02-10</td><td>Online Purchase</td><td>10000</td><td>MER2062</td><td>2023-01-05</td><td>36</td><td>0</td></tr><tr><td>TXN10036</td><td>ACC1027</td><td>2023-06-06</td><td>Deposit</td><td>30000</td><td>MER2044</td><td>null</td><td>999</td><td>0</td></tr><tr><td>TXN10090</td><td>ACC1029</td><td>2022-09-27</td><td>Deposit</td><td>1000</td><td>MER2012</td><td>null</td><td>999</td><td>0</td></tr><tr><td>TXN10054</td><td>ACC1029</td><td>2023-01-11</td><td>Bill Payment</td><td>5000</td><td>MER2023</td><td>2022-09-27</td><td>106</td><td>0</td></tr><tr><td>TXN10063</td><td>ACC1031</td><td>2023-04-05</td><td>Credit Card Payment</td><td>5000</td><td>MER2011</td><td>null</td><td>999</td><td>0</td></tr><tr><td>TXN10096</td><td>ACC1032</td><td>2023-08-17</td><td>Withdrawal</td><td>5000</td><td>MER2017</td><td>null</td><td>999</td><td>0</td></tr><tr><td>TXN10047</td><td>ACC1034</td><td>2023-08-07</td><td>Withdrawal</td><td>5000</td><td>MER2000</td><td>null</td><td>999</td><td>0</td></tr><tr><td>TXN10042</td><td>ACC1035</td><td>2022-09-27</td><td>Online Purchase</td><td>1000</td><td>MER2058</td><td>null</td><td>999</td><td>0</td></tr><tr><td>TXN10071</td><td>ACC1036</td><td>2022-05-02</td><td>Bill Payment</td><td>5000</td><td>MER2094</td><td>null</td><td>999</td><td>0</td></tr><tr><td>TXN10043</td><td>ACC1037</td><td>2023-01-19</td><td>Online Purchase</td><td>5000</td><td>MER2022</td><td>null</td><td>999</td><td>0</td></tr><tr><td>TXN10086</td><td>ACC1041</td><td>2023-12-06</td><td>Withdrawal</td><td>20000</td><td>MER2023</td><td>null</td><td>999</td><td>0</td></tr><tr><td>TXN10087</td><td>ACC1043</td><td>2022-07-15</td><td>Withdrawal</td><td>100000</td><td>MER2033</td><td>null</td><td>999</td><td>0</td></tr><tr><td>TXN10077</td><td>ACC1043</td><td>2023-11-22</td><td>Withdrawal</td><td>20000</td><td>MER2012</td><td>2022-07-15</td><td>495</td><td>0</td></tr><tr><td>TXN10059</td><td>ACC1044</td><td>2023-03-06</td><td>Credit Card Payment</td><td>500</td><td>MER2072</td><td>null</td><td>999</td><td>0</td></tr><tr><td>TXN10085</td><td>ACC1044</td><td>2023-06-12</td><td>Bill Payment</td><td>5000</td><td>MER2080</td><td>2023-03-06</td><td>98</td><td>0</td></tr><tr><td>TXN10069</td><td>ACC1045</td><td>2022-10-28</td><td>Deposit</td><td>1000</td><td>MER2051</td><td>null</td><td>999</td><td>0</td></tr><tr><td>TXN10080</td><td>ACC1047</td><td>2022-09-21</td><td>Credit Card Payment</td><td>15000</td><td>MER2018</td><td>null</td><td>999</td><td>0</td></tr><tr><td>TXN10004</td><td>ACC1047</td><td>2023-03-15</td><td>Withdrawal</td><td>70000</td><td>MER2035</td><td>2022-09-21</td><td>175</td><td>0</td></tr><tr><td>TXN10033</td><td>ACC1049</td><td>2023-02-09</td><td>Loan Payment</td><td>200000</td><td>MER2075</td><td>null</td><td>999</td><td>0</td></tr><tr><td>TXN10048</td><td>ACC1050</td><td>2022-10-13</td><td>Fund Transfer</td><td>30000</td><td>MER2052</td><td>null</td><td>999</td><td>0</td></tr><tr><td>TXN10013</td><td>ACC1051</td><td>2023-07-09</td><td>Bill Payment</td><td>500</td><td>MER2030</td><td>null</td><td>999</td><td>0</td></tr><tr><td>TXN10027</td><td>ACC1052</td><td>2022-02-02</td><td>Credit Card Payment</td><td>10000</td><td>MER2081</td><td>null</td><td>999</td><td>0</td></tr><tr><td>TXN10008</td><td>ACC1053</td><td>2023-03-02</td><td>Deposit</td><td>200000</td><td>MER2050</td><td>null</td><td>999</td><td>0</td></tr><tr><td>TXN10015</td><td>ACC1053</td><td>2023-05-26</td><td>ATM Withdrawal</td><td>20000</td><td>MER2086</td><td>2023-03-02</td><td>85</td><td>0</td></tr><tr><td>TXN10016</td><td>ACC1053</td><td>2023-09-22</td><td>Subscription Payment</td><td>50000</td><td>MER2095</td><td>2023-05-26</td><td>119</td><td>0</td></tr><tr><td>TXN10026</td><td>ACC1054</td><td>2023-07-26</td><td>Withdrawal</td><td>10000</td><td>MER2000</td><td>null</td><td>999</td><td>0</td></tr><tr><td>TXN10046</td><td>ACC1055</td><td>2023-07-25</td><td>Loan Payment</td><td>1000</td><td>MER2043</td><td>null</td><td>999</td><td>0</td></tr><tr><td>TXN10037</td><td>ACC1057</td><td>2023-11-14</td><td>ATM Withdrawal</td><td>5000</td><td>MER2072</td><td>null</td><td>999</td><td>0</td></tr><tr><td>TXN10032</td><td>ACC1058</td><td>2023-08-23</td><td>Bill Payment</td><td>5000</td><td>MER2051</td><td>null</td><td>999</td><td>0</td></tr><tr><td>TXN10017</td><td>ACC1058</td><td>2023-12-15</td><td>Credit Card Payment</td><td>50000</td><td>MER2066</td><td>2023-08-23</td><td>114</td><td>0</td></tr><tr><td>TXN10094</td><td>ACC1060</td><td>2022-08-04</td><td>Loan Payment</td><td>20000</td><td>MER2052</td><td>null</td><td>999</td><td>0</td></tr><tr><td>TXN10051</td><td>ACC1060</td><td>2022-11-09</td><td>Online Purchase</td><td>2000</td><td>MER2002</td><td>2022-08-04</td><td>97</td><td>0</td></tr><tr><td>TXN10091</td><td>ACC1060</td><td>2023-01-04</td><td>Withdrawal</td><td>10000</td><td>MER2011</td><td>2022-11-09</td><td>56</td><td>0</td></tr><tr><td>TXN10098</td><td>ACC1060</td><td>2023-11-22</td><td>Subscription Payment</td><td>5000</td><td>MER2097</td><td>2023-01-04</td><td>322</td><td>0</td></tr><tr><td>TXN10052</td><td>ACC1063</td><td>2023-03-09</td><td>Deposit</td><td>2000</td><td>MER2040</td><td>null</td><td>999</td><td>0</td></tr><tr><td>TXN10061</td><td>ACC1063</td><td>2023-05-08</td><td>Deposit</td><td>500</td><td>MER2084</td><td>2023-03-09</td><td>60</td><td>0</td></tr><tr><td>TXN10018</td><td>ACC1065</td><td>2023-11-04</td><td>Fund Transfer</td><td>10000</td><td>MER2074</td><td>null</td><td>999</td><td>0</td></tr><tr><td>TXN10083</td><td>ACC1066</td><td>2023-08-23</td><td>Bill Payment</td><td>20000</td><td>MER2031</td><td>null</td><td>999</td><td>0</td></tr><tr><td>TXN10064</td><td>ACC1071</td><td>2023-06-03</td><td>Credit Card Payment</td><td>20000</td><td>MER2019</td><td>null</td><td>999</td><td>0</td></tr><tr><td>TXN10031</td><td>ACC1072</td><td>2023-02-19</td><td>Loan Payment</td><td>10000</td><td>MER2046</td><td>null</td><td>999</td><td>0</td></tr><tr><td>TXN10035</td><td>ACC1074</td><td>2022-08-17</td><td>Withdrawal</td><td>300000</td><td>MER2081</td><td>null</td><td>999</td><td>0</td></tr><tr><td>TXN10024</td><td>ACC1074</td><td>2022-11-06</td><td>Fund Transfer</td><td>5000</td><td>MER2002</td><td>2022-08-17</td><td>81</td><td>0</td></tr><tr><td>TXN10025</td><td>ACC1074</td><td>2023-11-04</td><td>Loan Payment</td><td>2000</td><td>MER2095</td><td>2022-11-06</td><td>363</td><td>0</td></tr><tr><td>TXN10045</td><td>ACC1075</td><td>2022-11-06</td><td>Fund Transfer</td><td>10000</td><td>MER2005</td><td>null</td><td>999</td><td>0</td></tr><tr><td>TXN10010</td><td>ACC1076</td><td>2023-02-21</td><td>Bill Payment</td><td>500</td><td>MER2039</td><td>null</td><td>999</td><td>0</td></tr><tr><td>TXN10023</td><td>ACC1076</td><td>2023-06-13</td><td>Subscription Payment</td><td>15000</td><td>MER2038</td><td>2023-02-21</td><td>112</td><td>0</td></tr><tr><td>TXN10060</td><td>ACC1076</td><td>2023-11-14</td><td>ATM Withdrawal</td><td>50000</td><td>MER2087</td><td>2023-06-13</td><td>154</td><td>0</td></tr><tr><td>TXN10019</td><td>ACC1078</td><td>2023-07-24</td><td>Withdrawal</td><td>5000</td><td>MER2010</td><td>null</td><td>999</td><td>0</td></tr><tr><td>TXN10009</td><td>ACC1079</td><td>2023-12-27</td><td>Fund Transfer</td><td>1000</td><td>MER2069</td><td>null</td><td>999</td><td>0</td></tr><tr><td>TXN10070</td><td>ACC1080</td><td>2022-07-15</td><td>Loan Payment</td><td>20000</td><td>MER2071</td><td>null</td><td>999</td><td>0</td></tr><tr><td>TXN10044</td><td>ACC1081</td><td>2023-02-23</td><td>Bill Payment</td><td>100000</td><td>MER2003</td><td>null</td><td>999</td><td>0</td></tr><tr><td>TXN10095</td><td>ACC1081</td><td>2023-11-24</td><td>ATM Withdrawal</td><td>1000</td><td>MER2016</td><td>2023-02-23</td><td>274</td><td>0</td></tr><tr><td>TXN10057</td><td>ACC1082</td><td>2022-09-02</td><td>ATM Withdrawal</td><td>200</td><td>MER2081</td><td>null</td><td>999</td><td>0</td></tr><tr><td>TXN10075</td><td>ACC1084</td><td>2023-11-07</td><td>Credit Card Payment</td><td>20000</td><td>MER2032</td><td>null</td><td>999</td><td>0</td></tr><tr><td>TXN10007</td><td>ACC1085</td><td>2022-09-02</td><td>Credit Card Payment</td><td>50000</td><td>MER2071</td><td>null</td><td>999</td><td>0</td></tr><tr><td>TXN10056</td><td>ACC1086</td><td>2023-11-06</td><td>Online Purchase</td><td>1000</td><td>MER2001</td><td>null</td><td>999</td><td>0</td></tr><tr><td>TXN10020</td><td>ACC1087</td><td>2023-06-16</td><td>Fund Transfer</td><td>1000</td><td>MER2093</td><td>null</td><td>999</td><td>0</td></tr><tr><td>TXN10002</td><td>ACC1088</td><td>2022-04-11</td><td>ATM Withdrawal</td><td>1000</td><td>MER2004</td><td>null</td><td>999</td><td>0</td></tr><tr><td>TXN10088</td><td>ACC1089</td><td>2022-02-13</td><td>ATM Withdrawal</td><td>10000</td><td>MER2000</td><td>null</td><td>999</td><td>0</td></tr><tr><td>TXN10039</td><td>ACC1089</td><td>2023-08-08</td><td>Deposit</td><td>2000</td><td>MER2076</td><td>2022-02-13</td><td>541</td><td>0</td></tr><tr><td>TXN10006</td><td>ACC1089</td><td>2023-12-27</td><td>Subscription Payment</td><td>5000</td><td>MER2061</td><td>2023-08-08</td><td>141</td><td>0</td></tr><tr><td>TXN10003</td><td>ACC1090</td><td>2022-07-21</td><td>Subscription Payment</td><td>10000</td><td>MER2014</td><td>null</td><td>999</td><td>0</td></tr><tr><td>TXN10005</td><td>ACC1091</td><td>2022-12-22</td><td>Withdrawal</td><td>5000</td><td>MER2073</td><td>null</td><td>999</td><td>0</td></tr><tr><td>TXN10065</td><td>ACC1091</td><td>2023-12-30</td><td>Withdrawal</td><td>50000</td><td>MER2061</td><td>2022-12-22</td><td>373</td><td>0</td></tr><tr><td>TXN10066</td><td>ACC1092</td><td>2023-06-17</td><td>Fund Transfer</td><td>150000</td><td>MER2016</td><td>null</td><td>999</td><td>0</td></tr><tr><td>TXN10058</td><td>ACC1093</td><td>2022-07-04</td><td>Subscription Payment</td><td>30000</td><td>MER2069</td><td>null</td><td>999</td><td>0</td></tr><tr><td>TXN10021</td><td>ACC1094</td><td>2023-08-12</td><td>Loan Payment</td><td>10000</td><td>MER2078</td><td>null</td><td>999</td><td>0</td></tr><tr><td>TXN10030</td><td>ACC1096</td><td>2023-08-07</td><td>Subscription Payment</td><td>2000</td><td>MER2064</td><td>null</td><td>999</td><td>0</td></tr><tr><td>TXN10041</td><td>ACC1097</td><td>2022-08-05</td><td>Fund Transfer</td><td>500</td><td>MER2015</td><td>null</td><td>999</td><td>0</td></tr><tr><td>TXN10074</td><td>ACC1098</td><td>2023-10-27</td><td>Deposit</td><td>1000</td><td>MER2011</td><td>null</td><td>999</td><td>0</td></tr></tbody></table></div>"
      ]
     },
     "metadata": {
      "application/vnd.databricks.v1+output": {
       "addedWidgets": {},
       "aggData": [],
       "aggError": "",
       "aggOverflow": false,
       "aggSchema": [],
       "aggSeriesLimitReached": false,
       "aggType": "",
       "arguments": {},
       "columnCustomDisplayInfos": {},
       "data": [
        [
         "TXN10034",
         "ACC1001",
         "2023-02-01",
         "Online Purchase",
         10000,
         "MER2065",
         null,
         999,
         0
        ],
        [
         "TXN10076",
         "ACC1001",
         "2023-12-17",
         "Credit Card Payment",
         5000,
         "MER2074",
         "2023-02-01",
         319,
         0
        ],
        [
         "TXN10081",
         "ACC1002",
         "2022-08-05",
         "Loan Payment",
         30000,
         "MER2019",
         null,
         999,
         0
        ],
        [
         "TXN10001",
         "ACC1002",
         "2023-03-07",
         "Withdrawal",
         30000,
         "MER2007",
         "2022-08-05",
         214,
         0
        ],
        [
         "TXN10089",
         "ACC1002",
         "2023-12-10",
         "Credit Card Payment",
         2000,
         "MER2081",
         "2023-03-07",
         278,
         0
        ],
        [
         "TXN10099",
         "ACC1004",
         "2023-01-10",
         "Bill Payment",
         300000,
         "MER2071",
         null,
         999,
         0
        ],
        [
         "TXN10067",
         "ACC1005",
         "2023-01-24",
         "Bill Payment",
         5000,
         "MER2049",
         null,
         999,
         0
        ],
        [
         "TXN10072",
         "ACC1005",
         "2023-05-26",
         "Bill Payment",
         30000,
         "MER2037",
         "2023-01-24",
         122,
         0
        ],
        [
         "TXN10053",
         "ACC1006",
         "2023-01-02",
         "Deposit",
         10000,
         "MER2014",
         null,
         999,
         0
        ],
        [
         "TXN10000",
         "ACC1006",
         "2023-10-08",
         "Subscription Payment",
         25000,
         "MER2030",
         "2023-01-02",
         279,
         0
        ],
        [
         "TXN10012",
         "ACC1007",
         "2022-10-10",
         "Loan Payment",
         1000,
         "MER2028",
         null,
         999,
         0
        ],
        [
         "TXN10022",
         "ACC1007",
         "2022-11-03",
         "Loan Payment",
         20000,
         "MER2051",
         "2022-10-10",
         24,
         0
        ],
        [
         "TXN10029",
         "ACC1007",
         "2022-12-25",
         "Fund Transfer",
         20000,
         "MER2005",
         "2022-11-03",
         52,
         0
        ],
        [
         "TXN10093",
         "ACC1009",
         "2023-10-10",
         "Online Purchase",
         500,
         "MER2047",
         null,
         999,
         0
        ],
        [
         "TXN10092",
         "ACC1009",
         "2023-12-26",
         "Online Purchase",
         25000,
         "MER2085",
         "2023-10-10",
         77,
         0
        ],
        [
         "TXN10049",
         "ACC1011",
         "2023-10-10",
         "Loan Payment",
         200000,
         "MER2071",
         null,
         999,
         0
        ],
        [
         "TXN10028",
         "ACC1012",
         "2023-01-08",
         "Subscription Payment",
         1000,
         "MER2007",
         null,
         999,
         0
        ],
        [
         "TXN10040",
         "ACC1013",
         "2022-08-05",
         "ATM Withdrawal",
         5000,
         "MER2003",
         null,
         999,
         0
        ],
        [
         "TXN10062",
         "ACC1013",
         "2023-03-30",
         "Deposit",
         5000,
         "MER2067",
         "2022-08-05",
         237,
         0
        ],
        [
         "TXN10097",
         "ACC1017",
         "2022-02-15",
         "Fund Transfer",
         5000,
         "MER2074",
         null,
         999,
         0
        ],
        [
         "TXN10078",
         "ACC1017",
         "2022-11-22",
         "Fund Transfer",
         200000,
         "MER2012",
         "2022-02-15",
         280,
         0
        ],
        [
         "TXN10079",
         "ACC1017",
         "2023-01-17",
         "Deposit",
         500,
         "MER2066",
         "2022-11-22",
         56,
         0
        ],
        [
         "TXN10050",
         "ACC1019",
         "2023-12-04",
         "Loan Payment",
         500,
         "MER2009",
         null,
         999,
         0
        ],
        [
         "TXN10055",
         "ACC1021",
         "2022-09-26",
         "ATM Withdrawal",
         5000,
         "MER2076",
         null,
         999,
         0
        ],
        [
         "TXN10068",
         "ACC1021",
         "2023-08-03",
         "Online Purchase",
         500,
         "MER2040",
         "2022-09-26",
         311,
         0
        ],
        [
         "TXN10073",
         "ACC1021",
         "2023-09-12",
         "Subscription Payment",
         2000,
         "MER2091",
         "2023-08-03",
         40,
         0
        ],
        [
         "TXN10084",
         "ACC1023",
         "2023-03-14",
         "Online Purchase",
         50000,
         "MER2076",
         null,
         999,
         0
        ],
        [
         "TXN10011",
         "ACC1023",
         "2023-11-29",
         "Bill Payment",
         20000,
         "MER2095",
         "2023-03-14",
         260,
         0
        ],
        [
         "TXN10082",
         "ACC1024",
         "2023-08-30",
         "Withdrawal",
         500,
         "MER2075",
         null,
         999,
         0
        ],
        [
         "TXN10038",
         "ACC1026",
         "2023-01-05",
         "Online Purchase",
         50000,
         "MER2079",
         null,
         999,
         0
        ],
        [
         "TXN10014",
         "ACC1026",
         "2023-02-10",
         "Online Purchase",
         10000,
         "MER2062",
         "2023-01-05",
         36,
         0
        ],
        [
         "TXN10036",
         "ACC1027",
         "2023-06-06",
         "Deposit",
         30000,
         "MER2044",
         null,
         999,
         0
        ],
        [
         "TXN10090",
         "ACC1029",
         "2022-09-27",
         "Deposit",
         1000,
         "MER2012",
         null,
         999,
         0
        ],
        [
         "TXN10054",
         "ACC1029",
         "2023-01-11",
         "Bill Payment",
         5000,
         "MER2023",
         "2022-09-27",
         106,
         0
        ],
        [
         "TXN10063",
         "ACC1031",
         "2023-04-05",
         "Credit Card Payment",
         5000,
         "MER2011",
         null,
         999,
         0
        ],
        [
         "TXN10096",
         "ACC1032",
         "2023-08-17",
         "Withdrawal",
         5000,
         "MER2017",
         null,
         999,
         0
        ],
        [
         "TXN10047",
         "ACC1034",
         "2023-08-07",
         "Withdrawal",
         5000,
         "MER2000",
         null,
         999,
         0
        ],
        [
         "TXN10042",
         "ACC1035",
         "2022-09-27",
         "Online Purchase",
         1000,
         "MER2058",
         null,
         999,
         0
        ],
        [
         "TXN10071",
         "ACC1036",
         "2022-05-02",
         "Bill Payment",
         5000,
         "MER2094",
         null,
         999,
         0
        ],
        [
         "TXN10043",
         "ACC1037",
         "2023-01-19",
         "Online Purchase",
         5000,
         "MER2022",
         null,
         999,
         0
        ],
        [
         "TXN10086",
         "ACC1041",
         "2023-12-06",
         "Withdrawal",
         20000,
         "MER2023",
         null,
         999,
         0
        ],
        [
         "TXN10087",
         "ACC1043",
         "2022-07-15",
         "Withdrawal",
         100000,
         "MER2033",
         null,
         999,
         0
        ],
        [
         "TXN10077",
         "ACC1043",
         "2023-11-22",
         "Withdrawal",
         20000,
         "MER2012",
         "2022-07-15",
         495,
         0
        ],
        [
         "TXN10059",
         "ACC1044",
         "2023-03-06",
         "Credit Card Payment",
         500,
         "MER2072",
         null,
         999,
         0
        ],
        [
         "TXN10085",
         "ACC1044",
         "2023-06-12",
         "Bill Payment",
         5000,
         "MER2080",
         "2023-03-06",
         98,
         0
        ],
        [
         "TXN10069",
         "ACC1045",
         "2022-10-28",
         "Deposit",
         1000,
         "MER2051",
         null,
         999,
         0
        ],
        [
         "TXN10080",
         "ACC1047",
         "2022-09-21",
         "Credit Card Payment",
         15000,
         "MER2018",
         null,
         999,
         0
        ],
        [
         "TXN10004",
         "ACC1047",
         "2023-03-15",
         "Withdrawal",
         70000,
         "MER2035",
         "2022-09-21",
         175,
         0
        ],
        [
         "TXN10033",
         "ACC1049",
         "2023-02-09",
         "Loan Payment",
         200000,
         "MER2075",
         null,
         999,
         0
        ],
        [
         "TXN10048",
         "ACC1050",
         "2022-10-13",
         "Fund Transfer",
         30000,
         "MER2052",
         null,
         999,
         0
        ],
        [
         "TXN10013",
         "ACC1051",
         "2023-07-09",
         "Bill Payment",
         500,
         "MER2030",
         null,
         999,
         0
        ],
        [
         "TXN10027",
         "ACC1052",
         "2022-02-02",
         "Credit Card Payment",
         10000,
         "MER2081",
         null,
         999,
         0
        ],
        [
         "TXN10008",
         "ACC1053",
         "2023-03-02",
         "Deposit",
         200000,
         "MER2050",
         null,
         999,
         0
        ],
        [
         "TXN10015",
         "ACC1053",
         "2023-05-26",
         "ATM Withdrawal",
         20000,
         "MER2086",
         "2023-03-02",
         85,
         0
        ],
        [
         "TXN10016",
         "ACC1053",
         "2023-09-22",
         "Subscription Payment",
         50000,
         "MER2095",
         "2023-05-26",
         119,
         0
        ],
        [
         "TXN10026",
         "ACC1054",
         "2023-07-26",
         "Withdrawal",
         10000,
         "MER2000",
         null,
         999,
         0
        ],
        [
         "TXN10046",
         "ACC1055",
         "2023-07-25",
         "Loan Payment",
         1000,
         "MER2043",
         null,
         999,
         0
        ],
        [
         "TXN10037",
         "ACC1057",
         "2023-11-14",
         "ATM Withdrawal",
         5000,
         "MER2072",
         null,
         999,
         0
        ],
        [
         "TXN10032",
         "ACC1058",
         "2023-08-23",
         "Bill Payment",
         5000,
         "MER2051",
         null,
         999,
         0
        ],
        [
         "TXN10017",
         "ACC1058",
         "2023-12-15",
         "Credit Card Payment",
         50000,
         "MER2066",
         "2023-08-23",
         114,
         0
        ],
        [
         "TXN10094",
         "ACC1060",
         "2022-08-04",
         "Loan Payment",
         20000,
         "MER2052",
         null,
         999,
         0
        ],
        [
         "TXN10051",
         "ACC1060",
         "2022-11-09",
         "Online Purchase",
         2000,
         "MER2002",
         "2022-08-04",
         97,
         0
        ],
        [
         "TXN10091",
         "ACC1060",
         "2023-01-04",
         "Withdrawal",
         10000,
         "MER2011",
         "2022-11-09",
         56,
         0
        ],
        [
         "TXN10098",
         "ACC1060",
         "2023-11-22",
         "Subscription Payment",
         5000,
         "MER2097",
         "2023-01-04",
         322,
         0
        ],
        [
         "TXN10052",
         "ACC1063",
         "2023-03-09",
         "Deposit",
         2000,
         "MER2040",
         null,
         999,
         0
        ],
        [
         "TXN10061",
         "ACC1063",
         "2023-05-08",
         "Deposit",
         500,
         "MER2084",
         "2023-03-09",
         60,
         0
        ],
        [
         "TXN10018",
         "ACC1065",
         "2023-11-04",
         "Fund Transfer",
         10000,
         "MER2074",
         null,
         999,
         0
        ],
        [
         "TXN10083",
         "ACC1066",
         "2023-08-23",
         "Bill Payment",
         20000,
         "MER2031",
         null,
         999,
         0
        ],
        [
         "TXN10064",
         "ACC1071",
         "2023-06-03",
         "Credit Card Payment",
         20000,
         "MER2019",
         null,
         999,
         0
        ],
        [
         "TXN10031",
         "ACC1072",
         "2023-02-19",
         "Loan Payment",
         10000,
         "MER2046",
         null,
         999,
         0
        ],
        [
         "TXN10035",
         "ACC1074",
         "2022-08-17",
         "Withdrawal",
         300000,
         "MER2081",
         null,
         999,
         0
        ],
        [
         "TXN10024",
         "ACC1074",
         "2022-11-06",
         "Fund Transfer",
         5000,
         "MER2002",
         "2022-08-17",
         81,
         0
        ],
        [
         "TXN10025",
         "ACC1074",
         "2023-11-04",
         "Loan Payment",
         2000,
         "MER2095",
         "2022-11-06",
         363,
         0
        ],
        [
         "TXN10045",
         "ACC1075",
         "2022-11-06",
         "Fund Transfer",
         10000,
         "MER2005",
         null,
         999,
         0
        ],
        [
         "TXN10010",
         "ACC1076",
         "2023-02-21",
         "Bill Payment",
         500,
         "MER2039",
         null,
         999,
         0
        ],
        [
         "TXN10023",
         "ACC1076",
         "2023-06-13",
         "Subscription Payment",
         15000,
         "MER2038",
         "2023-02-21",
         112,
         0
        ],
        [
         "TXN10060",
         "ACC1076",
         "2023-11-14",
         "ATM Withdrawal",
         50000,
         "MER2087",
         "2023-06-13",
         154,
         0
        ],
        [
         "TXN10019",
         "ACC1078",
         "2023-07-24",
         "Withdrawal",
         5000,
         "MER2010",
         null,
         999,
         0
        ],
        [
         "TXN10009",
         "ACC1079",
         "2023-12-27",
         "Fund Transfer",
         1000,
         "MER2069",
         null,
         999,
         0
        ],
        [
         "TXN10070",
         "ACC1080",
         "2022-07-15",
         "Loan Payment",
         20000,
         "MER2071",
         null,
         999,
         0
        ],
        [
         "TXN10044",
         "ACC1081",
         "2023-02-23",
         "Bill Payment",
         100000,
         "MER2003",
         null,
         999,
         0
        ],
        [
         "TXN10095",
         "ACC1081",
         "2023-11-24",
         "ATM Withdrawal",
         1000,
         "MER2016",
         "2023-02-23",
         274,
         0
        ],
        [
         "TXN10057",
         "ACC1082",
         "2022-09-02",
         "ATM Withdrawal",
         200,
         "MER2081",
         null,
         999,
         0
        ],
        [
         "TXN10075",
         "ACC1084",
         "2023-11-07",
         "Credit Card Payment",
         20000,
         "MER2032",
         null,
         999,
         0
        ],
        [
         "TXN10007",
         "ACC1085",
         "2022-09-02",
         "Credit Card Payment",
         50000,
         "MER2071",
         null,
         999,
         0
        ],
        [
         "TXN10056",
         "ACC1086",
         "2023-11-06",
         "Online Purchase",
         1000,
         "MER2001",
         null,
         999,
         0
        ],
        [
         "TXN10020",
         "ACC1087",
         "2023-06-16",
         "Fund Transfer",
         1000,
         "MER2093",
         null,
         999,
         0
        ],
        [
         "TXN10002",
         "ACC1088",
         "2022-04-11",
         "ATM Withdrawal",
         1000,
         "MER2004",
         null,
         999,
         0
        ],
        [
         "TXN10088",
         "ACC1089",
         "2022-02-13",
         "ATM Withdrawal",
         10000,
         "MER2000",
         null,
         999,
         0
        ],
        [
         "TXN10039",
         "ACC1089",
         "2023-08-08",
         "Deposit",
         2000,
         "MER2076",
         "2022-02-13",
         541,
         0
        ],
        [
         "TXN10006",
         "ACC1089",
         "2023-12-27",
         "Subscription Payment",
         5000,
         "MER2061",
         "2023-08-08",
         141,
         0
        ],
        [
         "TXN10003",
         "ACC1090",
         "2022-07-21",
         "Subscription Payment",
         10000,
         "MER2014",
         null,
         999,
         0
        ],
        [
         "TXN10005",
         "ACC1091",
         "2022-12-22",
         "Withdrawal",
         5000,
         "MER2073",
         null,
         999,
         0
        ],
        [
         "TXN10065",
         "ACC1091",
         "2023-12-30",
         "Withdrawal",
         50000,
         "MER2061",
         "2022-12-22",
         373,
         0
        ],
        [
         "TXN10066",
         "ACC1092",
         "2023-06-17",
         "Fund Transfer",
         150000,
         "MER2016",
         null,
         999,
         0
        ],
        [
         "TXN10058",
         "ACC1093",
         "2022-07-04",
         "Subscription Payment",
         30000,
         "MER2069",
         null,
         999,
         0
        ],
        [
         "TXN10021",
         "ACC1094",
         "2023-08-12",
         "Loan Payment",
         10000,
         "MER2078",
         null,
         999,
         0
        ],
        [
         "TXN10030",
         "ACC1096",
         "2023-08-07",
         "Subscription Payment",
         2000,
         "MER2064",
         null,
         999,
         0
        ],
        [
         "TXN10041",
         "ACC1097",
         "2022-08-05",
         "Fund Transfer",
         500,
         "MER2015",
         null,
         999,
         0
        ],
        [
         "TXN10074",
         "ACC1098",
         "2023-10-27",
         "Deposit",
         1000,
         "MER2011",
         null,
         999,
         0
        ]
       ],
       "datasetInfos": [],
       "dbfsResultPath": null,
       "isJsonSchema": true,
       "metadata": {},
       "overflow": false,
       "plotOptions": {
        "customPlotOptions": {},
        "displayType": "table",
        "pivotAggregation": null,
        "pivotColumns": null,
        "xColumns": null,
        "yColumns": null
       },
       "removedWidgets": [],
       "schema": [
        {
         "metadata": "{}",
         "name": "transaction_id",
         "type": "\"string\""
        },
        {
         "metadata": "{}",
         "name": "account_id",
         "type": "\"string\""
        },
        {
         "metadata": "{\"__detected_date_formats\":\"yyyy-M-d\"}",
         "name": "transaction_date",
         "type": "\"date\""
        },
        {
         "metadata": "{}",
         "name": "transaction_type",
         "type": "\"string\""
        },
        {
         "metadata": "{}",
         "name": "transaction_amount",
         "type": "\"integer\""
        },
        {
         "metadata": "{}",
         "name": "merchant_id",
         "type": "\"string\""
        },
        {
         "metadata": "{}",
         "name": "prev_txn_date",
         "type": "\"date\""
        },
        {
         "metadata": "{}",
         "name": "days_between_txns",
         "type": "\"integer\""
        },
        {
         "metadata": "{}",
         "name": "is_frequent_txn",
         "type": "\"integer\""
        }
       ],
       "type": "table"
      }
     },
     "output_type": "display_data"
    }
   ],
   "source": [
    "from pyspark.sql.window import Window\n",
    "from pyspark.sql.functions import lag, datediff, when, col\n",
    " \n",
    "# Define window specification\n",
    "windowSpec = Window.partitionBy(\"account_id\").orderBy(\"transaction_date\")\n",
    " \n",
    "# Get previous transaction date\n",
    "transactional_df = transactional_df.withColumn(\"prev_txn_date\", lag(\"transaction_date\").over(windowSpec))\n",
    " \n",
    "# Calculate days between transactions, replacing NULLs with a high value (e.g., 999)\n",
    "transactional_df = transactional_df.withColumn(\n",
    "    \"days_between_txns\",\n",
    "    when(col(\"prev_txn_date\").isNotNull(), datediff(col(\"transaction_date\"), col(\"prev_txn_date\")))\n",
    "    .otherwise(999)  # Large number for first transaction\n",
    ")\n",
    " \n",
    "# Flag frequent transactions within 2 days\n",
    "transactional_df = transactional_df.withColumn(\"is_frequent_txn\", when(col(\"days_between_txns\") <= 2, 1).otherwise(0))\n",
    " \n",
    "# Display the corrected DataFrame\n",
    "display(transactional_df)"
   ]
  },
  {
   "cell_type": "code",
   "execution_count": 0,
   "metadata": {
    "application/vnd.databricks.v1+cell": {
     "cellMetadata": {
      "byteLimit": 2048000,
      "rowLimit": 10000
     },
     "inputWidgets": {},
     "nuid": "b46ea5d2-2b89-4a21-95b8-73e06e939668",
     "showTitle": false,
     "tableResultSettingsMap": {},
     "title": ""
    }
   },
   "outputs": [
    {
     "data": {
      "text/html": [
       "<style scoped>\n",
       "  .table-result-container {\n",
       "    max-height: 300px;\n",
       "    overflow: auto;\n",
       "  }\n",
       "  table, th, td {\n",
       "    border: 1px solid black;\n",
       "    border-collapse: collapse;\n",
       "  }\n",
       "  th, td {\n",
       "    padding: 5px;\n",
       "  }\n",
       "  th {\n",
       "    text-align: left;\n",
       "  }\n",
       "</style><div class='table-result-container'><table class='table-result'><thead style='background-color: white'><tr><th>account_id</th><th>first_name</th><th>last_name</th><th>signup_date</th><th>account_type</th><th>email</th></tr></thead><tbody><tr><td>ACC1000</td><td>Nimrat</td><td>Patil</td><td>2022-01-01</td><td>Current Account</td><td>nimrat.patil@gmail.com</td></tr><tr><td>ACC1001</td><td>Ekaraj</td><td>Gara</td><td>2022-05-31</td><td>Savings Account</td><td>ekaraj.gara@yahoo.com</td></tr><tr><td>ACC1002</td><td>Ekiya</td><td>Contractor</td><td>2022-01-01</td><td>Loan Account</td><td>ekiya.contractor@hotmail.com</td></tr><tr><td>ACC1003</td><td>Christopher</td><td>Patil</td><td>2022-03-02</td><td>Loan Account</td><td>christopher.patil@outlook.com</td></tr><tr><td>ACC1004</td><td>Jyoti</td><td>Issac</td><td>2022-08-29</td><td>Recurring Deposit</td><td>jyoti.issac@hotmail.com</td></tr><tr><td>ACC1005</td><td>Devansh</td><td>Soman</td><td>2022-04-01</td><td>Recurring Deposit</td><td>devansh.soman@outlook.com</td></tr><tr><td>ACC1006</td><td>Krishna</td><td>Gera</td><td>2022-03-02</td><td>Savings Account</td><td>krishna.gera@hotmail.com</td></tr><tr><td>ACC1007</td><td>Zilmil</td><td>Sagar</td><td>2022-05-01</td><td>Fixed Deposit</td><td>zilmil.sagar@outlook.com</td></tr><tr><td>ACC1008</td><td>Vritti</td><td>Swamy</td><td>2022-05-01</td><td>Recurring Deposit</td><td>vritti.swamy@outlook.com</td></tr><tr><td>ACC1009</td><td>Vasana</td><td>Kari</td><td>2022-05-01</td><td>Current Account</td><td>vasana.kari@yahoo.com</td></tr><tr><td>ACC1010</td><td>Idika</td><td>Sheth</td><td>2022-07-30</td><td>Current Account</td><td>idika.sheth@hotmail.com</td></tr><tr><td>ACC1011</td><td>Tanvi</td><td>Rai</td><td>2022-07-30</td><td>Fixed Deposit</td><td>tanvi.rai@yahoo.com</td></tr><tr><td>ACC1012</td><td>Advika</td><td>Singh</td><td>2022-03-02</td><td>Credit Card Account</td><td>advika.singh@outlook.com</td></tr><tr><td>ACC1013</td><td>Hamsini</td><td>Kamdar</td><td>2022-03-02</td><td>Loan Account</td><td>hamsini.kamdar@gmail.com</td></tr><tr><td>ACC1014</td><td>Matthew</td><td>Deo</td><td>2022-04-01</td><td>Recurring Deposit</td><td>matthew.deo@yahoo.com</td></tr><tr><td>ACC1015</td><td>Bhanumati</td><td>Rau</td><td>2022-01-31</td><td>Fixed Deposit</td><td>bhanumati.rau@yahoo.com</td></tr><tr><td>ACC1016</td><td>Zilmil</td><td>Gour</td><td>2022-09-28</td><td>Credit Card Account</td><td>zilmil.gour@gmail.com</td></tr><tr><td>ACC1017</td><td>Netra</td><td>Gera</td><td>2022-09-28</td><td>Savings Account</td><td>netra.gera@yahoo.com</td></tr><tr><td>ACC1018</td><td>Fiyaz</td><td>Din</td><td>2022-04-01</td><td>Savings Account</td><td>fiyaz.din@yahoo.com</td></tr><tr><td>ACC1019</td><td>Odika</td><td>Kumar</td><td>2022-03-02</td><td>Loan Account</td><td>odika.kumar@outlook.com</td></tr><tr><td>ACC1020</td><td>Anamika</td><td>Kakar</td><td>2022-03-02</td><td>Credit Card Account</td><td>anamika.kakar@outlook.com</td></tr><tr><td>ACC1021</td><td>Zashil</td><td>Setty</td><td>2022-06-30</td><td>Fixed Deposit</td><td>zashil.setty@gmail.com</td></tr><tr><td>ACC1022</td><td>Rushil</td><td>Dubey</td><td>2022-04-01</td><td>Loan Account</td><td>rushil.dubey@hotmail.com</td></tr><tr><td>ACC1023</td><td>Samar</td><td>Mallick</td><td>2022-09-28</td><td>Recurring Deposit</td><td>samar.mallick@gmail.com</td></tr><tr><td>ACC1024</td><td>Yuvraj</td><td>Dhar</td><td>2022-07-30</td><td>Fixed Deposit</td><td>yuvraj.dhar@gmail.com</td></tr><tr><td>ACC1025</td><td>Leela</td><td>Thaker</td><td>2022-01-31</td><td>Current Account</td><td>leela.thaker@yahoo.com</td></tr><tr><td>ACC1026</td><td>Anita</td><td>Pal</td><td>2022-08-29</td><td>Credit Card Account</td><td>anita.pal@hotmail.com</td></tr><tr><td>ACC1027</td><td>Oeshi</td><td>Rau</td><td>2022-08-29</td><td>Recurring Deposit</td><td>oeshi.rau@gmail.com</td></tr><tr><td>ACC1028</td><td>Azad</td><td>Kata</td><td>2022-09-28</td><td>Savings Account</td><td>azad.kata@outlook.com</td></tr><tr><td>ACC1029</td><td>Isaiah</td><td>Gopal</td><td>2022-05-31</td><td>Loan Account</td><td>isaiah.gopal@hotmail.com</td></tr><tr><td>ACC1030</td><td>Isha</td><td>Bhatt</td><td>2022-09-28</td><td>Current Account</td><td>isha.bhatt@outlook.com</td></tr><tr><td>ACC1031</td><td>Samuel</td><td>Varkey</td><td>2022-04-01</td><td>Credit Card Account</td><td>samuel.varkey@hotmail.com</td></tr><tr><td>ACC1032</td><td>Upma</td><td>Bhatia</td><td>2022-08-29</td><td>Fixed Deposit</td><td>upma.bhatia@hotmail.com</td></tr><tr><td>ACC1033</td><td>Ryan</td><td>Munshi</td><td>2022-01-01</td><td>Loan Account</td><td>ryan.munshi@outlook.com</td></tr><tr><td>ACC1034</td><td>Reyansh</td><td>Gour</td><td>2022-07-30</td><td>Recurring Deposit</td><td>reyansh.gour@gmail.com</td></tr><tr><td>ACC1035</td><td>Jagvi</td><td>Sethi</td><td>2022-05-01</td><td>Savings Account</td><td>jagvi.sethi@gmail.com</td></tr><tr><td>ACC1036</td><td>Ladli</td><td>Shanker</td><td>2022-03-02</td><td>Fixed Deposit</td><td>ladli.shanker@outlook.com</td></tr><tr><td>ACC1037</td><td>Vincent</td><td>Muni</td><td>2022-01-31</td><td>Recurring Deposit</td><td>vincent.muni@gmail.com</td></tr><tr><td>ACC1038</td><td>Nimrat</td><td>Narayan</td><td>2022-09-28</td><td>Current Account</td><td>nimrat.narayan@yahoo.com</td></tr><tr><td>ACC1039</td><td>Zayyan</td><td>Suresh</td><td>2022-05-01</td><td>Loan Account</td><td>zayyan.suresh@outlook.com</td></tr><tr><td>ACC1040</td><td>Guneet</td><td>Ravel</td><td>2022-04-01</td><td>Current Account</td><td>guneet.ravel@yahoo.com</td></tr><tr><td>ACC1041</td><td>Parth</td><td>Luthra</td><td>2022-08-29</td><td>Credit Card Account</td><td>parth.luthra@outlook.com</td></tr><tr><td>ACC1042</td><td>Ranveer</td><td>Karnik</td><td>2022-09-28</td><td>Current Account</td><td>ranveer.karnik@gmail.com</td></tr><tr><td>ACC1043</td><td>Daksh</td><td>Rajagopal</td><td>2022-05-01</td><td>Current Account</td><td>daksh.rajagopal@hotmail.com</td></tr><tr><td>ACC1044</td><td>Yamini</td><td>Loke</td><td>2022-04-01</td><td>Savings Account</td><td>yamini.loke@outlook.com</td></tr><tr><td>ACC1045</td><td>Abha</td><td>Mohanty</td><td>2022-04-01</td><td>Fixed Deposit</td><td>abha.mohanty@outlook.com</td></tr><tr><td>ACC1046</td><td>Indali</td><td>Kalla</td><td>2022-01-31</td><td>Credit Card Account</td><td>indali.kalla@yahoo.com</td></tr><tr><td>ACC1047</td><td>Zilmil</td><td>Nagy</td><td>2022-03-02</td><td>Recurring Deposit</td><td>zilmil.nagy@yahoo.com</td></tr><tr><td>ACC1048</td><td>Barkha</td><td>Ahluwalia</td><td>2022-05-31</td><td>Current Account</td><td>barkha.ahluwalia@gmail.com</td></tr><tr><td>ACC1049</td><td>Rajata</td><td>Wadhwa</td><td>2022-08-29</td><td>Current Account</td><td>rajata.wadhwa@hotmail.com</td></tr><tr><td>ACC1050</td><td>Janani</td><td>Gulati</td><td>2022-08-29</td><td>Loan Account</td><td>janani.gulati@outlook.com</td></tr><tr><td>ACC1051</td><td>Divya</td><td>Gaba</td><td>2022-08-29</td><td>Fixed Deposit</td><td>divya.gaba@outlook.com</td></tr><tr><td>ACC1052</td><td>Raghav</td><td>Modi</td><td>2022-04-01</td><td>Loan Account</td><td>raghav.modi@hotmail.com</td></tr><tr><td>ACC1053</td><td>Zehaan</td><td>Das</td><td>2022-04-01</td><td>Loan Account</td><td>zehaan.das@gmail.com</td></tr><tr><td>ACC1054</td><td>Mitali</td><td>Peri</td><td>2022-03-02</td><td>Savings Account</td><td>mitali.peri@gmail.com</td></tr><tr><td>ACC1055</td><td>Gaurang</td><td>Pillai</td><td>2022-01-01</td><td>Current Account</td><td>gaurang.pillai@gmail.com</td></tr><tr><td>ACC1056</td><td>Omaja</td><td>Hans</td><td>2022-01-01</td><td>Recurring Deposit</td><td>omaja.hans@yahoo.com</td></tr><tr><td>ACC1057</td><td>Dalbir</td><td>Doctor</td><td>2022-05-01</td><td>Current Account</td><td>dalbir.doctor@gmail.com</td></tr><tr><td>ACC1058</td><td>Maanav</td><td>Dua</td><td>2022-01-31</td><td>Current Account</td><td>maanav.dua@gmail.com</td></tr><tr><td>ACC1059</td><td>Januja</td><td>Mutti</td><td>2022-01-31</td><td>Fixed Deposit</td><td>januja.mutti@gmail.com</td></tr><tr><td>ACC1060</td><td>Bhavini</td><td>Kapadia</td><td>2022-06-30</td><td>Recurring Deposit</td><td>bhavini.kapadia@outlook.com</td></tr><tr><td>ACC1061</td><td>Nikita</td><td>Thaker</td><td>2022-05-01</td><td>Savings Account</td><td>nikita.thaker@hotmail.com</td></tr><tr><td>ACC1062</td><td>Chanakya</td><td>Chopra</td><td>2022-03-02</td><td>Fixed Deposit</td><td>chanakya.chopra@outlook.com</td></tr><tr><td>ACC1063</td><td>Fiyaz</td><td>Iyer</td><td>2022-06-30</td><td>Recurring Deposit</td><td>fiyaz.iyer@gmail.com</td></tr><tr><td>ACC1064</td><td>Teerth</td><td>Lanka</td><td>2022-05-01</td><td>Current Account</td><td>teerth.lanka@hotmail.com</td></tr><tr><td>ACC1065</td><td>Adya</td><td>Minhas</td><td>2022-08-29</td><td>Loan Account</td><td>adya.minhas@gmail.com</td></tr><tr><td>ACC1066</td><td>Indali</td><td>Murthy</td><td>2022-08-29</td><td>Loan Account</td><td>indali.murthy@yahoo.com</td></tr><tr><td>ACC1067</td><td>Megha</td><td>De</td><td>2022-05-01</td><td>Loan Account</td><td>megha.de@hotmail.com</td></tr><tr><td>ACC1068</td><td>Hemang</td><td>Mitter</td><td>2022-06-30</td><td>Fixed Deposit</td><td>hemang.mitter@gmail.com</td></tr><tr><td>ACC1069</td><td>Oviya</td><td>Kumer</td><td>2022-09-28</td><td>Current Account</td><td>oviya.kumer@gmail.com</td></tr><tr><td>ACC1070</td><td>Jairaj</td><td>Shetty</td><td>2022-09-28</td><td>Current Account</td><td>jairaj.shetty@hotmail.com</td></tr><tr><td>ACC1071</td><td>Yauvani</td><td>Korpal</td><td>2022-06-30</td><td>Fixed Deposit</td><td>yauvani.korpal@hotmail.com</td></tr><tr><td>ACC1072</td><td>Ayaan</td><td>Seth</td><td>2022-07-30</td><td>Fixed Deposit</td><td>ayaan.seth@gmail.com</td></tr><tr><td>ACC1073</td><td>Varsha</td><td>Choudhary</td><td>2022-06-30</td><td>Current Account</td><td>varsha.choudhary@hotmail.com</td></tr><tr><td>ACC1074</td><td>Hamsini</td><td>Doshi</td><td>2022-05-01</td><td>Current Account</td><td>hamsini.doshi@hotmail.com</td></tr><tr><td>ACC1075</td><td>Gaurika</td><td>Iyer</td><td>2022-07-30</td><td>Loan Account</td><td>gaurika.iyer@yahoo.com</td></tr><tr><td>ACC1076</td><td>Vanya</td><td>Naidu</td><td>2022-05-31</td><td>Savings Account</td><td>vanya.naidu@yahoo.com</td></tr><tr><td>ACC1077</td><td>Orinder</td><td>Rastogi</td><td>2022-05-01</td><td>Current Account</td><td>orinder.rastogi@outlook.com</td></tr><tr><td>ACC1078</td><td>Viraj</td><td>Behl</td><td>2022-09-28</td><td>Loan Account</td><td>viraj.behl@outlook.com</td></tr><tr><td>ACC1079</td><td>Eshana</td><td>Srinivasan</td><td>2022-05-01</td><td>Savings Account</td><td>eshana.srinivasan@yahoo.com</td></tr><tr><td>ACC1080</td><td>Netra</td><td>Hayre</td><td>2022-04-01</td><td>Recurring Deposit</td><td>netra.hayre@gmail.com</td></tr><tr><td>ACC1081</td><td>Jhalak</td><td>Lalla</td><td>2022-01-31</td><td>Savings Account</td><td>jhalak.lalla@hotmail.com</td></tr><tr><td>ACC1082</td><td>Netra</td><td>Magar</td><td>2022-08-29</td><td>Savings Account</td><td>netra.magar@hotmail.com</td></tr><tr><td>ACC1083</td><td>Jairaj</td><td>Soni</td><td>2022-09-28</td><td>Credit Card Account</td><td>jairaj.soni@yahoo.com</td></tr><tr><td>ACC1084</td><td>Ekapad</td><td>Char</td><td>2022-08-29</td><td>Recurring Deposit</td><td>ekapad.char@outlook.com</td></tr><tr><td>ACC1085</td><td>Frado</td><td>Oak</td><td>2022-05-31</td><td>Fixed Deposit</td><td>frado.oak@hotmail.com</td></tr><tr><td>ACC1086</td><td>Harshil</td><td>Din</td><td>2022-01-31</td><td>Recurring Deposit</td><td>harshil.din@yahoo.com</td></tr><tr><td>ACC1087</td><td>Ranbir</td><td>Nagarajan</td><td>2022-03-02</td><td>Savings Account</td><td>ranbir.nagarajan@gmail.com</td></tr><tr><td>ACC1088</td><td>Watika</td><td>Balay</td><td>2022-05-31</td><td>Credit Card Account</td><td>watika.balay@outlook.com</td></tr><tr><td>ACC1089</td><td>Ekansh</td><td>Kothari</td><td>2022-08-29</td><td>Savings Account</td><td>ekansh.kothari@yahoo.com</td></tr><tr><td>ACC1090</td><td>Yauvani</td><td>Pandya</td><td>2022-01-01</td><td>Loan Account</td><td>yauvani.pandya@hotmail.com</td></tr><tr><td>ACC1091</td><td>Balendra</td><td>Kalita</td><td>2022-01-01</td><td>Recurring Deposit</td><td>balendra.kalita@hotmail.com</td></tr><tr><td>ACC1092</td><td>Nilima</td><td>Mani</td><td>2022-01-31</td><td>Credit Card Account</td><td>nilima.mani@hotmail.com</td></tr><tr><td>ACC1093</td><td>Rushil</td><td>Lata</td><td>2022-07-30</td><td>Credit Card Account</td><td>rushil.lata@yahoo.com</td></tr><tr><td>ACC1094</td><td>Mason</td><td>Srinivasan</td><td>2022-06-30</td><td>Current Account</td><td>mason.srinivasan@outlook.com</td></tr><tr><td>ACC1095</td><td>Avi</td><td>Nagarajan</td><td>2022-03-02</td><td>Credit Card Account</td><td>avi.nagarajan@yahoo.com</td></tr><tr><td>ACC1096</td><td>Falan</td><td>Wason</td><td>2022-07-30</td><td>Savings Account</td><td>falan.wason@hotmail.com</td></tr><tr><td>ACC1097</td><td>Turvi</td><td>Sangha</td><td>2022-05-01</td><td>Loan Account</td><td>turvi.sangha@outlook.com</td></tr><tr><td>ACC1098</td><td>Warda</td><td>Edwin</td><td>2022-05-01</td><td>Savings Account</td><td>warda.edwin@yahoo.com</td></tr><tr><td>ACC1099</td><td>Vaishnavi</td><td>Vig</td><td>2022-05-31</td><td>Loan Account</td><td>vaishnavi.vig@outlook.com</td></tr></tbody></table></div>"
      ]
     },
     "metadata": {
      "application/vnd.databricks.v1+output": {
       "addedWidgets": {},
       "aggData": [],
       "aggError": "",
       "aggOverflow": false,
       "aggSchema": [],
       "aggSeriesLimitReached": false,
       "aggType": "",
       "arguments": {},
       "columnCustomDisplayInfos": {},
       "data": [
        [
         "ACC1000",
         "Nimrat",
         "Patil",
         "2022-01-01",
         "Current Account",
         "nimrat.patil@gmail.com"
        ],
        [
         "ACC1001",
         "Ekaraj",
         "Gara",
         "2022-05-31",
         "Savings Account",
         "ekaraj.gara@yahoo.com"
        ],
        [
         "ACC1002",
         "Ekiya",
         "Contractor",
         "2022-01-01",
         "Loan Account",
         "ekiya.contractor@hotmail.com"
        ],
        [
         "ACC1003",
         "Christopher",
         "Patil",
         "2022-03-02",
         "Loan Account",
         "christopher.patil@outlook.com"
        ],
        [
         "ACC1004",
         "Jyoti",
         "Issac",
         "2022-08-29",
         "Recurring Deposit",
         "jyoti.issac@hotmail.com"
        ],
        [
         "ACC1005",
         "Devansh",
         "Soman",
         "2022-04-01",
         "Recurring Deposit",
         "devansh.soman@outlook.com"
        ],
        [
         "ACC1006",
         "Krishna",
         "Gera",
         "2022-03-02",
         "Savings Account",
         "krishna.gera@hotmail.com"
        ],
        [
         "ACC1007",
         "Zilmil",
         "Sagar",
         "2022-05-01",
         "Fixed Deposit",
         "zilmil.sagar@outlook.com"
        ],
        [
         "ACC1008",
         "Vritti",
         "Swamy",
         "2022-05-01",
         "Recurring Deposit",
         "vritti.swamy@outlook.com"
        ],
        [
         "ACC1009",
         "Vasana",
         "Kari",
         "2022-05-01",
         "Current Account",
         "vasana.kari@yahoo.com"
        ],
        [
         "ACC1010",
         "Idika",
         "Sheth",
         "2022-07-30",
         "Current Account",
         "idika.sheth@hotmail.com"
        ],
        [
         "ACC1011",
         "Tanvi",
         "Rai",
         "2022-07-30",
         "Fixed Deposit",
         "tanvi.rai@yahoo.com"
        ],
        [
         "ACC1012",
         "Advika",
         "Singh",
         "2022-03-02",
         "Credit Card Account",
         "advika.singh@outlook.com"
        ],
        [
         "ACC1013",
         "Hamsini",
         "Kamdar",
         "2022-03-02",
         "Loan Account",
         "hamsini.kamdar@gmail.com"
        ],
        [
         "ACC1014",
         "Matthew",
         "Deo",
         "2022-04-01",
         "Recurring Deposit",
         "matthew.deo@yahoo.com"
        ],
        [
         "ACC1015",
         "Bhanumati",
         "Rau",
         "2022-01-31",
         "Fixed Deposit",
         "bhanumati.rau@yahoo.com"
        ],
        [
         "ACC1016",
         "Zilmil",
         "Gour",
         "2022-09-28",
         "Credit Card Account",
         "zilmil.gour@gmail.com"
        ],
        [
         "ACC1017",
         "Netra",
         "Gera",
         "2022-09-28",
         "Savings Account",
         "netra.gera@yahoo.com"
        ],
        [
         "ACC1018",
         "Fiyaz",
         "Din",
         "2022-04-01",
         "Savings Account",
         "fiyaz.din@yahoo.com"
        ],
        [
         "ACC1019",
         "Odika",
         "Kumar",
         "2022-03-02",
         "Loan Account",
         "odika.kumar@outlook.com"
        ],
        [
         "ACC1020",
         "Anamika",
         "Kakar",
         "2022-03-02",
         "Credit Card Account",
         "anamika.kakar@outlook.com"
        ],
        [
         "ACC1021",
         "Zashil",
         "Setty",
         "2022-06-30",
         "Fixed Deposit",
         "zashil.setty@gmail.com"
        ],
        [
         "ACC1022",
         "Rushil",
         "Dubey",
         "2022-04-01",
         "Loan Account",
         "rushil.dubey@hotmail.com"
        ],
        [
         "ACC1023",
         "Samar",
         "Mallick",
         "2022-09-28",
         "Recurring Deposit",
         "samar.mallick@gmail.com"
        ],
        [
         "ACC1024",
         "Yuvraj",
         "Dhar",
         "2022-07-30",
         "Fixed Deposit",
         "yuvraj.dhar@gmail.com"
        ],
        [
         "ACC1025",
         "Leela",
         "Thaker",
         "2022-01-31",
         "Current Account",
         "leela.thaker@yahoo.com"
        ],
        [
         "ACC1026",
         "Anita",
         "Pal",
         "2022-08-29",
         "Credit Card Account",
         "anita.pal@hotmail.com"
        ],
        [
         "ACC1027",
         "Oeshi",
         "Rau",
         "2022-08-29",
         "Recurring Deposit",
         "oeshi.rau@gmail.com"
        ],
        [
         "ACC1028",
         "Azad",
         "Kata",
         "2022-09-28",
         "Savings Account",
         "azad.kata@outlook.com"
        ],
        [
         "ACC1029",
         "Isaiah",
         "Gopal",
         "2022-05-31",
         "Loan Account",
         "isaiah.gopal@hotmail.com"
        ],
        [
         "ACC1030",
         "Isha",
         "Bhatt",
         "2022-09-28",
         "Current Account",
         "isha.bhatt@outlook.com"
        ],
        [
         "ACC1031",
         "Samuel",
         "Varkey",
         "2022-04-01",
         "Credit Card Account",
         "samuel.varkey@hotmail.com"
        ],
        [
         "ACC1032",
         "Upma",
         "Bhatia",
         "2022-08-29",
         "Fixed Deposit",
         "upma.bhatia@hotmail.com"
        ],
        [
         "ACC1033",
         "Ryan",
         "Munshi",
         "2022-01-01",
         "Loan Account",
         "ryan.munshi@outlook.com"
        ],
        [
         "ACC1034",
         "Reyansh",
         "Gour",
         "2022-07-30",
         "Recurring Deposit",
         "reyansh.gour@gmail.com"
        ],
        [
         "ACC1035",
         "Jagvi",
         "Sethi",
         "2022-05-01",
         "Savings Account",
         "jagvi.sethi@gmail.com"
        ],
        [
         "ACC1036",
         "Ladli",
         "Shanker",
         "2022-03-02",
         "Fixed Deposit",
         "ladli.shanker@outlook.com"
        ],
        [
         "ACC1037",
         "Vincent",
         "Muni",
         "2022-01-31",
         "Recurring Deposit",
         "vincent.muni@gmail.com"
        ],
        [
         "ACC1038",
         "Nimrat",
         "Narayan",
         "2022-09-28",
         "Current Account",
         "nimrat.narayan@yahoo.com"
        ],
        [
         "ACC1039",
         "Zayyan",
         "Suresh",
         "2022-05-01",
         "Loan Account",
         "zayyan.suresh@outlook.com"
        ],
        [
         "ACC1040",
         "Guneet",
         "Ravel",
         "2022-04-01",
         "Current Account",
         "guneet.ravel@yahoo.com"
        ],
        [
         "ACC1041",
         "Parth",
         "Luthra",
         "2022-08-29",
         "Credit Card Account",
         "parth.luthra@outlook.com"
        ],
        [
         "ACC1042",
         "Ranveer",
         "Karnik",
         "2022-09-28",
         "Current Account",
         "ranveer.karnik@gmail.com"
        ],
        [
         "ACC1043",
         "Daksh",
         "Rajagopal",
         "2022-05-01",
         "Current Account",
         "daksh.rajagopal@hotmail.com"
        ],
        [
         "ACC1044",
         "Yamini",
         "Loke",
         "2022-04-01",
         "Savings Account",
         "yamini.loke@outlook.com"
        ],
        [
         "ACC1045",
         "Abha",
         "Mohanty",
         "2022-04-01",
         "Fixed Deposit",
         "abha.mohanty@outlook.com"
        ],
        [
         "ACC1046",
         "Indali",
         "Kalla",
         "2022-01-31",
         "Credit Card Account",
         "indali.kalla@yahoo.com"
        ],
        [
         "ACC1047",
         "Zilmil",
         "Nagy",
         "2022-03-02",
         "Recurring Deposit",
         "zilmil.nagy@yahoo.com"
        ],
        [
         "ACC1048",
         "Barkha",
         "Ahluwalia",
         "2022-05-31",
         "Current Account",
         "barkha.ahluwalia@gmail.com"
        ],
        [
         "ACC1049",
         "Rajata",
         "Wadhwa",
         "2022-08-29",
         "Current Account",
         "rajata.wadhwa@hotmail.com"
        ],
        [
         "ACC1050",
         "Janani",
         "Gulati",
         "2022-08-29",
         "Loan Account",
         "janani.gulati@outlook.com"
        ],
        [
         "ACC1051",
         "Divya",
         "Gaba",
         "2022-08-29",
         "Fixed Deposit",
         "divya.gaba@outlook.com"
        ],
        [
         "ACC1052",
         "Raghav",
         "Modi",
         "2022-04-01",
         "Loan Account",
         "raghav.modi@hotmail.com"
        ],
        [
         "ACC1053",
         "Zehaan",
         "Das",
         "2022-04-01",
         "Loan Account",
         "zehaan.das@gmail.com"
        ],
        [
         "ACC1054",
         "Mitali",
         "Peri",
         "2022-03-02",
         "Savings Account",
         "mitali.peri@gmail.com"
        ],
        [
         "ACC1055",
         "Gaurang",
         "Pillai",
         "2022-01-01",
         "Current Account",
         "gaurang.pillai@gmail.com"
        ],
        [
         "ACC1056",
         "Omaja",
         "Hans",
         "2022-01-01",
         "Recurring Deposit",
         "omaja.hans@yahoo.com"
        ],
        [
         "ACC1057",
         "Dalbir",
         "Doctor",
         "2022-05-01",
         "Current Account",
         "dalbir.doctor@gmail.com"
        ],
        [
         "ACC1058",
         "Maanav",
         "Dua",
         "2022-01-31",
         "Current Account",
         "maanav.dua@gmail.com"
        ],
        [
         "ACC1059",
         "Januja",
         "Mutti",
         "2022-01-31",
         "Fixed Deposit",
         "januja.mutti@gmail.com"
        ],
        [
         "ACC1060",
         "Bhavini",
         "Kapadia",
         "2022-06-30",
         "Recurring Deposit",
         "bhavini.kapadia@outlook.com"
        ],
        [
         "ACC1061",
         "Nikita",
         "Thaker",
         "2022-05-01",
         "Savings Account",
         "nikita.thaker@hotmail.com"
        ],
        [
         "ACC1062",
         "Chanakya",
         "Chopra",
         "2022-03-02",
         "Fixed Deposit",
         "chanakya.chopra@outlook.com"
        ],
        [
         "ACC1063",
         "Fiyaz",
         "Iyer",
         "2022-06-30",
         "Recurring Deposit",
         "fiyaz.iyer@gmail.com"
        ],
        [
         "ACC1064",
         "Teerth",
         "Lanka",
         "2022-05-01",
         "Current Account",
         "teerth.lanka@hotmail.com"
        ],
        [
         "ACC1065",
         "Adya",
         "Minhas",
         "2022-08-29",
         "Loan Account",
         "adya.minhas@gmail.com"
        ],
        [
         "ACC1066",
         "Indali",
         "Murthy",
         "2022-08-29",
         "Loan Account",
         "indali.murthy@yahoo.com"
        ],
        [
         "ACC1067",
         "Megha",
         "De",
         "2022-05-01",
         "Loan Account",
         "megha.de@hotmail.com"
        ],
        [
         "ACC1068",
         "Hemang",
         "Mitter",
         "2022-06-30",
         "Fixed Deposit",
         "hemang.mitter@gmail.com"
        ],
        [
         "ACC1069",
         "Oviya",
         "Kumer",
         "2022-09-28",
         "Current Account",
         "oviya.kumer@gmail.com"
        ],
        [
         "ACC1070",
         "Jairaj",
         "Shetty",
         "2022-09-28",
         "Current Account",
         "jairaj.shetty@hotmail.com"
        ],
        [
         "ACC1071",
         "Yauvani",
         "Korpal",
         "2022-06-30",
         "Fixed Deposit",
         "yauvani.korpal@hotmail.com"
        ],
        [
         "ACC1072",
         "Ayaan",
         "Seth",
         "2022-07-30",
         "Fixed Deposit",
         "ayaan.seth@gmail.com"
        ],
        [
         "ACC1073",
         "Varsha",
         "Choudhary",
         "2022-06-30",
         "Current Account",
         "varsha.choudhary@hotmail.com"
        ],
        [
         "ACC1074",
         "Hamsini",
         "Doshi",
         "2022-05-01",
         "Current Account",
         "hamsini.doshi@hotmail.com"
        ],
        [
         "ACC1075",
         "Gaurika",
         "Iyer",
         "2022-07-30",
         "Loan Account",
         "gaurika.iyer@yahoo.com"
        ],
        [
         "ACC1076",
         "Vanya",
         "Naidu",
         "2022-05-31",
         "Savings Account",
         "vanya.naidu@yahoo.com"
        ],
        [
         "ACC1077",
         "Orinder",
         "Rastogi",
         "2022-05-01",
         "Current Account",
         "orinder.rastogi@outlook.com"
        ],
        [
         "ACC1078",
         "Viraj",
         "Behl",
         "2022-09-28",
         "Loan Account",
         "viraj.behl@outlook.com"
        ],
        [
         "ACC1079",
         "Eshana",
         "Srinivasan",
         "2022-05-01",
         "Savings Account",
         "eshana.srinivasan@yahoo.com"
        ],
        [
         "ACC1080",
         "Netra",
         "Hayre",
         "2022-04-01",
         "Recurring Deposit",
         "netra.hayre@gmail.com"
        ],
        [
         "ACC1081",
         "Jhalak",
         "Lalla",
         "2022-01-31",
         "Savings Account",
         "jhalak.lalla@hotmail.com"
        ],
        [
         "ACC1082",
         "Netra",
         "Magar",
         "2022-08-29",
         "Savings Account",
         "netra.magar@hotmail.com"
        ],
        [
         "ACC1083",
         "Jairaj",
         "Soni",
         "2022-09-28",
         "Credit Card Account",
         "jairaj.soni@yahoo.com"
        ],
        [
         "ACC1084",
         "Ekapad",
         "Char",
         "2022-08-29",
         "Recurring Deposit",
         "ekapad.char@outlook.com"
        ],
        [
         "ACC1085",
         "Frado",
         "Oak",
         "2022-05-31",
         "Fixed Deposit",
         "frado.oak@hotmail.com"
        ],
        [
         "ACC1086",
         "Harshil",
         "Din",
         "2022-01-31",
         "Recurring Deposit",
         "harshil.din@yahoo.com"
        ],
        [
         "ACC1087",
         "Ranbir",
         "Nagarajan",
         "2022-03-02",
         "Savings Account",
         "ranbir.nagarajan@gmail.com"
        ],
        [
         "ACC1088",
         "Watika",
         "Balay",
         "2022-05-31",
         "Credit Card Account",
         "watika.balay@outlook.com"
        ],
        [
         "ACC1089",
         "Ekansh",
         "Kothari",
         "2022-08-29",
         "Savings Account",
         "ekansh.kothari@yahoo.com"
        ],
        [
         "ACC1090",
         "Yauvani",
         "Pandya",
         "2022-01-01",
         "Loan Account",
         "yauvani.pandya@hotmail.com"
        ],
        [
         "ACC1091",
         "Balendra",
         "Kalita",
         "2022-01-01",
         "Recurring Deposit",
         "balendra.kalita@hotmail.com"
        ],
        [
         "ACC1092",
         "Nilima",
         "Mani",
         "2022-01-31",
         "Credit Card Account",
         "nilima.mani@hotmail.com"
        ],
        [
         "ACC1093",
         "Rushil",
         "Lata",
         "2022-07-30",
         "Credit Card Account",
         "rushil.lata@yahoo.com"
        ],
        [
         "ACC1094",
         "Mason",
         "Srinivasan",
         "2022-06-30",
         "Current Account",
         "mason.srinivasan@outlook.com"
        ],
        [
         "ACC1095",
         "Avi",
         "Nagarajan",
         "2022-03-02",
         "Credit Card Account",
         "avi.nagarajan@yahoo.com"
        ],
        [
         "ACC1096",
         "Falan",
         "Wason",
         "2022-07-30",
         "Savings Account",
         "falan.wason@hotmail.com"
        ],
        [
         "ACC1097",
         "Turvi",
         "Sangha",
         "2022-05-01",
         "Loan Account",
         "turvi.sangha@outlook.com"
        ],
        [
         "ACC1098",
         "Warda",
         "Edwin",
         "2022-05-01",
         "Savings Account",
         "warda.edwin@yahoo.com"
        ],
        [
         "ACC1099",
         "Vaishnavi",
         "Vig",
         "2022-05-31",
         "Loan Account",
         "vaishnavi.vig@outlook.com"
        ]
       ],
       "datasetInfos": [],
       "dbfsResultPath": null,
       "isJsonSchema": true,
       "metadata": {},
       "overflow": false,
       "plotOptions": {
        "customPlotOptions": {},
        "displayType": "table",
        "pivotAggregation": null,
        "pivotColumns": null,
        "xColumns": null,
        "yColumns": null
       },
       "removedWidgets": [],
       "schema": [
        {
         "metadata": "{}",
         "name": "account_id",
         "type": "\"string\""
        },
        {
         "metadata": "{}",
         "name": "first_name",
         "type": "\"string\""
        },
        {
         "metadata": "{}",
         "name": "last_name",
         "type": "\"string\""
        },
        {
         "metadata": "{\"__detected_date_formats\":\"yyyy-M-d\"}",
         "name": "signup_date",
         "type": "\"date\""
        },
        {
         "metadata": "{}",
         "name": "account_type",
         "type": "\"string\""
        },
        {
         "metadata": "{}",
         "name": "email",
         "type": "\"string\""
        }
       ],
       "type": "table"
      }
     },
     "output_type": "display_data"
    }
   ],
   "source": [
    "column_names = [\"account_id\",\"first_name\",\"last_name\",\"signup_date\",\"account_type\",\"email\"]\n",
    "customer_df = spark.read.csv(\"/dbfs/tmp/customer_data.csv\", header=False, inferSchema=True).toDF(*column_names)\n",
    "display(customer_df)"
   ]
  },
  {
   "cell_type": "code",
   "execution_count": 0,
   "metadata": {
    "application/vnd.databricks.v1+cell": {
     "cellMetadata": {
      "byteLimit": 2048000,
      "rowLimit": 10000
     },
     "inputWidgets": {},
     "nuid": "38f59e16-ee5f-4943-8525-e4c9d120143b",
     "showTitle": false,
     "tableResultSettingsMap": {},
     "title": ""
    }
   },
   "outputs": [
    {
     "data": {
      "text/html": [
       "<style scoped>\n",
       "  .table-result-container {\n",
       "    max-height: 300px;\n",
       "    overflow: auto;\n",
       "  }\n",
       "  table, th, td {\n",
       "    border: 1px solid black;\n",
       "    border-collapse: collapse;\n",
       "  }\n",
       "  th, td {\n",
       "    padding: 5px;\n",
       "  }\n",
       "  th {\n",
       "    text-align: left;\n",
       "  }\n",
       "</style><div class='table-result-container'><table class='table-result'><thead style='background-color: white'><tr><th>account_id</th><th>first_name</th><th>last_name</th><th>signup_date</th><th>account_type</th><th>email</th></tr></thead><tbody><tr><td>ACC1000</td><td>Nimrat</td><td>Patil</td><td>2022-01-01</td><td>Current Account</td><td>nimrat.patil@gmail.com</td></tr><tr><td>ACC1001</td><td>Ekaraj</td><td>Gara</td><td>2022-05-31</td><td>Savings Account</td><td>ekaraj.gara@yahoo.com</td></tr><tr><td>ACC1002</td><td>Ekiya</td><td>Contractor</td><td>2022-01-01</td><td>Loan Account</td><td>ekiya.contractor@hotmail.com</td></tr><tr><td>ACC1003</td><td>Christopher</td><td>Patil</td><td>2022-03-02</td><td>Loan Account</td><td>christopher.patil@outlook.com</td></tr><tr><td>ACC1004</td><td>Jyoti</td><td>Issac</td><td>2022-08-29</td><td>Recurring Deposit</td><td>jyoti.issac@hotmail.com</td></tr><tr><td>ACC1005</td><td>Devansh</td><td>Soman</td><td>2022-04-01</td><td>Recurring Deposit</td><td>devansh.soman@outlook.com</td></tr><tr><td>ACC1006</td><td>Krishna</td><td>Gera</td><td>2022-03-02</td><td>Savings Account</td><td>krishna.gera@hotmail.com</td></tr><tr><td>ACC1007</td><td>Zilmil</td><td>Sagar</td><td>2022-05-01</td><td>Fixed Deposit</td><td>zilmil.sagar@outlook.com</td></tr><tr><td>ACC1008</td><td>Vritti</td><td>Swamy</td><td>2022-05-01</td><td>Recurring Deposit</td><td>vritti.swamy@outlook.com</td></tr><tr><td>ACC1009</td><td>Vasana</td><td>Kari</td><td>2022-05-01</td><td>Current Account</td><td>vasana.kari@yahoo.com</td></tr><tr><td>ACC1010</td><td>Idika</td><td>Sheth</td><td>2022-07-30</td><td>Current Account</td><td>idika.sheth@hotmail.com</td></tr><tr><td>ACC1011</td><td>Tanvi</td><td>Rai</td><td>2022-07-30</td><td>Fixed Deposit</td><td>tanvi.rai@yahoo.com</td></tr><tr><td>ACC1012</td><td>Advika</td><td>Singh</td><td>2022-03-02</td><td>Credit Card Account</td><td>advika.singh@outlook.com</td></tr><tr><td>ACC1013</td><td>Hamsini</td><td>Kamdar</td><td>2022-03-02</td><td>Loan Account</td><td>hamsini.kamdar@gmail.com</td></tr><tr><td>ACC1014</td><td>Matthew</td><td>Deo</td><td>2022-04-01</td><td>Recurring Deposit</td><td>matthew.deo@yahoo.com</td></tr><tr><td>ACC1015</td><td>Bhanumati</td><td>Rau</td><td>2022-01-31</td><td>Fixed Deposit</td><td>bhanumati.rau@yahoo.com</td></tr><tr><td>ACC1016</td><td>Zilmil</td><td>Gour</td><td>2022-09-28</td><td>Credit Card Account</td><td>zilmil.gour@gmail.com</td></tr><tr><td>ACC1017</td><td>Netra</td><td>Gera</td><td>2022-09-28</td><td>Savings Account</td><td>netra.gera@yahoo.com</td></tr><tr><td>ACC1018</td><td>Fiyaz</td><td>Din</td><td>2022-04-01</td><td>Savings Account</td><td>fiyaz.din@yahoo.com</td></tr><tr><td>ACC1019</td><td>Odika</td><td>Kumar</td><td>2022-03-02</td><td>Loan Account</td><td>odika.kumar@outlook.com</td></tr><tr><td>ACC1020</td><td>Anamika</td><td>Kakar</td><td>2022-03-02</td><td>Credit Card Account</td><td>anamika.kakar@outlook.com</td></tr><tr><td>ACC1021</td><td>Zashil</td><td>Setty</td><td>2022-06-30</td><td>Fixed Deposit</td><td>zashil.setty@gmail.com</td></tr><tr><td>ACC1022</td><td>Rushil</td><td>Dubey</td><td>2022-04-01</td><td>Loan Account</td><td>rushil.dubey@hotmail.com</td></tr><tr><td>ACC1023</td><td>Samar</td><td>Mallick</td><td>2022-09-28</td><td>Recurring Deposit</td><td>samar.mallick@gmail.com</td></tr><tr><td>ACC1024</td><td>Yuvraj</td><td>Dhar</td><td>2022-07-30</td><td>Fixed Deposit</td><td>yuvraj.dhar@gmail.com</td></tr><tr><td>ACC1025</td><td>Leela</td><td>Thaker</td><td>2022-01-31</td><td>Current Account</td><td>leela.thaker@yahoo.com</td></tr><tr><td>ACC1026</td><td>Anita</td><td>Pal</td><td>2022-08-29</td><td>Credit Card Account</td><td>anita.pal@hotmail.com</td></tr><tr><td>ACC1027</td><td>Oeshi</td><td>Rau</td><td>2022-08-29</td><td>Recurring Deposit</td><td>oeshi.rau@gmail.com</td></tr><tr><td>ACC1028</td><td>Azad</td><td>Kata</td><td>2022-09-28</td><td>Savings Account</td><td>azad.kata@outlook.com</td></tr><tr><td>ACC1029</td><td>Isaiah</td><td>Gopal</td><td>2022-05-31</td><td>Loan Account</td><td>isaiah.gopal@hotmail.com</td></tr><tr><td>ACC1030</td><td>Isha</td><td>Bhatt</td><td>2022-09-28</td><td>Current Account</td><td>isha.bhatt@outlook.com</td></tr><tr><td>ACC1031</td><td>Samuel</td><td>Varkey</td><td>2022-04-01</td><td>Credit Card Account</td><td>samuel.varkey@hotmail.com</td></tr><tr><td>ACC1032</td><td>Upma</td><td>Bhatia</td><td>2022-08-29</td><td>Fixed Deposit</td><td>upma.bhatia@hotmail.com</td></tr><tr><td>ACC1033</td><td>Ryan</td><td>Munshi</td><td>2022-01-01</td><td>Loan Account</td><td>ryan.munshi@outlook.com</td></tr><tr><td>ACC1034</td><td>Reyansh</td><td>Gour</td><td>2022-07-30</td><td>Recurring Deposit</td><td>reyansh.gour@gmail.com</td></tr><tr><td>ACC1035</td><td>Jagvi</td><td>Sethi</td><td>2022-05-01</td><td>Savings Account</td><td>jagvi.sethi@gmail.com</td></tr><tr><td>ACC1036</td><td>Ladli</td><td>Shanker</td><td>2022-03-02</td><td>Fixed Deposit</td><td>ladli.shanker@outlook.com</td></tr><tr><td>ACC1037</td><td>Vincent</td><td>Muni</td><td>2022-01-31</td><td>Recurring Deposit</td><td>vincent.muni@gmail.com</td></tr><tr><td>ACC1038</td><td>Nimrat</td><td>Narayan</td><td>2022-09-28</td><td>Current Account</td><td>nimrat.narayan@yahoo.com</td></tr><tr><td>ACC1039</td><td>Zayyan</td><td>Suresh</td><td>2022-05-01</td><td>Loan Account</td><td>zayyan.suresh@outlook.com</td></tr><tr><td>ACC1040</td><td>Guneet</td><td>Ravel</td><td>2022-04-01</td><td>Current Account</td><td>guneet.ravel@yahoo.com</td></tr><tr><td>ACC1041</td><td>Parth</td><td>Luthra</td><td>2022-08-29</td><td>Credit Card Account</td><td>parth.luthra@outlook.com</td></tr><tr><td>ACC1042</td><td>Ranveer</td><td>Karnik</td><td>2022-09-28</td><td>Current Account</td><td>ranveer.karnik@gmail.com</td></tr><tr><td>ACC1043</td><td>Daksh</td><td>Rajagopal</td><td>2022-05-01</td><td>Current Account</td><td>daksh.rajagopal@hotmail.com</td></tr><tr><td>ACC1044</td><td>Yamini</td><td>Loke</td><td>2022-04-01</td><td>Savings Account</td><td>yamini.loke@outlook.com</td></tr><tr><td>ACC1045</td><td>Abha</td><td>Mohanty</td><td>2022-04-01</td><td>Fixed Deposit</td><td>abha.mohanty@outlook.com</td></tr><tr><td>ACC1046</td><td>Indali</td><td>Kalla</td><td>2022-01-31</td><td>Credit Card Account</td><td>indali.kalla@yahoo.com</td></tr><tr><td>ACC1047</td><td>Zilmil</td><td>Nagy</td><td>2022-03-02</td><td>Recurring Deposit</td><td>zilmil.nagy@yahoo.com</td></tr><tr><td>ACC1048</td><td>Barkha</td><td>Ahluwalia</td><td>2022-05-31</td><td>Current Account</td><td>barkha.ahluwalia@gmail.com</td></tr><tr><td>ACC1049</td><td>Rajata</td><td>Wadhwa</td><td>2022-08-29</td><td>Current Account</td><td>rajata.wadhwa@hotmail.com</td></tr><tr><td>ACC1050</td><td>Janani</td><td>Gulati</td><td>2022-08-29</td><td>Loan Account</td><td>janani.gulati@outlook.com</td></tr><tr><td>ACC1051</td><td>Divya</td><td>Gaba</td><td>2022-08-29</td><td>Fixed Deposit</td><td>divya.gaba@outlook.com</td></tr><tr><td>ACC1052</td><td>Raghav</td><td>Modi</td><td>2022-04-01</td><td>Loan Account</td><td>raghav.modi@hotmail.com</td></tr><tr><td>ACC1053</td><td>Zehaan</td><td>Das</td><td>2022-04-01</td><td>Loan Account</td><td>zehaan.das@gmail.com</td></tr><tr><td>ACC1054</td><td>Mitali</td><td>Peri</td><td>2022-03-02</td><td>Savings Account</td><td>mitali.peri@gmail.com</td></tr><tr><td>ACC1055</td><td>Gaurang</td><td>Pillai</td><td>2022-01-01</td><td>Current Account</td><td>gaurang.pillai@gmail.com</td></tr><tr><td>ACC1056</td><td>Omaja</td><td>Hans</td><td>2022-01-01</td><td>Recurring Deposit</td><td>omaja.hans@yahoo.com</td></tr><tr><td>ACC1057</td><td>Dalbir</td><td>Doctor</td><td>2022-05-01</td><td>Current Account</td><td>dalbir.doctor@gmail.com</td></tr><tr><td>ACC1058</td><td>Maanav</td><td>Dua</td><td>2022-01-31</td><td>Current Account</td><td>maanav.dua@gmail.com</td></tr><tr><td>ACC1059</td><td>Januja</td><td>Mutti</td><td>2022-01-31</td><td>Fixed Deposit</td><td>januja.mutti@gmail.com</td></tr><tr><td>ACC1060</td><td>Bhavini</td><td>Kapadia</td><td>2022-06-30</td><td>Recurring Deposit</td><td>bhavini.kapadia@outlook.com</td></tr><tr><td>ACC1061</td><td>Nikita</td><td>Thaker</td><td>2022-05-01</td><td>Savings Account</td><td>nikita.thaker@hotmail.com</td></tr><tr><td>ACC1062</td><td>Chanakya</td><td>Chopra</td><td>2022-03-02</td><td>Fixed Deposit</td><td>chanakya.chopra@outlook.com</td></tr><tr><td>ACC1063</td><td>Fiyaz</td><td>Iyer</td><td>2022-06-30</td><td>Recurring Deposit</td><td>fiyaz.iyer@gmail.com</td></tr><tr><td>ACC1064</td><td>Teerth</td><td>Lanka</td><td>2022-05-01</td><td>Current Account</td><td>teerth.lanka@hotmail.com</td></tr><tr><td>ACC1065</td><td>Adya</td><td>Minhas</td><td>2022-08-29</td><td>Loan Account</td><td>adya.minhas@gmail.com</td></tr><tr><td>ACC1066</td><td>Indali</td><td>Murthy</td><td>2022-08-29</td><td>Loan Account</td><td>indali.murthy@yahoo.com</td></tr><tr><td>ACC1067</td><td>Megha</td><td>De</td><td>2022-05-01</td><td>Loan Account</td><td>megha.de@hotmail.com</td></tr><tr><td>ACC1068</td><td>Hemang</td><td>Mitter</td><td>2022-06-30</td><td>Fixed Deposit</td><td>hemang.mitter@gmail.com</td></tr><tr><td>ACC1069</td><td>Oviya</td><td>Kumer</td><td>2022-09-28</td><td>Current Account</td><td>oviya.kumer@gmail.com</td></tr><tr><td>ACC1070</td><td>Jairaj</td><td>Shetty</td><td>2022-09-28</td><td>Current Account</td><td>jairaj.shetty@hotmail.com</td></tr><tr><td>ACC1071</td><td>Yauvani</td><td>Korpal</td><td>2022-06-30</td><td>Fixed Deposit</td><td>yauvani.korpal@hotmail.com</td></tr><tr><td>ACC1072</td><td>Ayaan</td><td>Seth</td><td>2022-07-30</td><td>Fixed Deposit</td><td>ayaan.seth@gmail.com</td></tr><tr><td>ACC1073</td><td>Varsha</td><td>Choudhary</td><td>2022-06-30</td><td>Current Account</td><td>varsha.choudhary@hotmail.com</td></tr><tr><td>ACC1074</td><td>Hamsini</td><td>Doshi</td><td>2022-05-01</td><td>Current Account</td><td>hamsini.doshi@hotmail.com</td></tr><tr><td>ACC1075</td><td>Gaurika</td><td>Iyer</td><td>2022-07-30</td><td>Loan Account</td><td>gaurika.iyer@yahoo.com</td></tr><tr><td>ACC1076</td><td>Vanya</td><td>Naidu</td><td>2022-05-31</td><td>Savings Account</td><td>vanya.naidu@yahoo.com</td></tr><tr><td>ACC1077</td><td>Orinder</td><td>Rastogi</td><td>2022-05-01</td><td>Current Account</td><td>orinder.rastogi@outlook.com</td></tr><tr><td>ACC1078</td><td>Viraj</td><td>Behl</td><td>2022-09-28</td><td>Loan Account</td><td>viraj.behl@outlook.com</td></tr><tr><td>ACC1079</td><td>Eshana</td><td>Srinivasan</td><td>2022-05-01</td><td>Savings Account</td><td>eshana.srinivasan@yahoo.com</td></tr><tr><td>ACC1080</td><td>Netra</td><td>Hayre</td><td>2022-04-01</td><td>Recurring Deposit</td><td>netra.hayre@gmail.com</td></tr><tr><td>ACC1081</td><td>Jhalak</td><td>Lalla</td><td>2022-01-31</td><td>Savings Account</td><td>jhalak.lalla@hotmail.com</td></tr><tr><td>ACC1082</td><td>Netra</td><td>Magar</td><td>2022-08-29</td><td>Savings Account</td><td>netra.magar@hotmail.com</td></tr><tr><td>ACC1083</td><td>Jairaj</td><td>Soni</td><td>2022-09-28</td><td>Credit Card Account</td><td>jairaj.soni@yahoo.com</td></tr><tr><td>ACC1084</td><td>Ekapad</td><td>Char</td><td>2022-08-29</td><td>Recurring Deposit</td><td>ekapad.char@outlook.com</td></tr><tr><td>ACC1085</td><td>Frado</td><td>Oak</td><td>2022-05-31</td><td>Fixed Deposit</td><td>frado.oak@hotmail.com</td></tr><tr><td>ACC1086</td><td>Harshil</td><td>Din</td><td>2022-01-31</td><td>Recurring Deposit</td><td>harshil.din@yahoo.com</td></tr><tr><td>ACC1087</td><td>Ranbir</td><td>Nagarajan</td><td>2022-03-02</td><td>Savings Account</td><td>ranbir.nagarajan@gmail.com</td></tr><tr><td>ACC1088</td><td>Watika</td><td>Balay</td><td>2022-05-31</td><td>Credit Card Account</td><td>watika.balay@outlook.com</td></tr><tr><td>ACC1089</td><td>Ekansh</td><td>Kothari</td><td>2022-08-29</td><td>Savings Account</td><td>ekansh.kothari@yahoo.com</td></tr><tr><td>ACC1090</td><td>Yauvani</td><td>Pandya</td><td>2022-01-01</td><td>Loan Account</td><td>yauvani.pandya@hotmail.com</td></tr><tr><td>ACC1091</td><td>Balendra</td><td>Kalita</td><td>2022-01-01</td><td>Recurring Deposit</td><td>balendra.kalita@hotmail.com</td></tr><tr><td>ACC1092</td><td>Nilima</td><td>Mani</td><td>2022-01-31</td><td>Credit Card Account</td><td>nilima.mani@hotmail.com</td></tr><tr><td>ACC1093</td><td>Rushil</td><td>Lata</td><td>2022-07-30</td><td>Credit Card Account</td><td>rushil.lata@yahoo.com</td></tr><tr><td>ACC1094</td><td>Mason</td><td>Srinivasan</td><td>2022-06-30</td><td>Current Account</td><td>mason.srinivasan@outlook.com</td></tr><tr><td>ACC1095</td><td>Avi</td><td>Nagarajan</td><td>2022-03-02</td><td>Credit Card Account</td><td>avi.nagarajan@yahoo.com</td></tr><tr><td>ACC1096</td><td>Falan</td><td>Wason</td><td>2022-07-30</td><td>Savings Account</td><td>falan.wason@hotmail.com</td></tr><tr><td>ACC1097</td><td>Turvi</td><td>Sangha</td><td>2022-05-01</td><td>Loan Account</td><td>turvi.sangha@outlook.com</td></tr><tr><td>ACC1098</td><td>Warda</td><td>Edwin</td><td>2022-05-01</td><td>Savings Account</td><td>warda.edwin@yahoo.com</td></tr><tr><td>ACC1099</td><td>Vaishnavi</td><td>Vig</td><td>2022-05-31</td><td>Loan Account</td><td>vaishnavi.vig@outlook.com</td></tr></tbody></table></div>"
      ]
     },
     "metadata": {
      "application/vnd.databricks.v1+output": {
       "addedWidgets": {},
       "aggData": [],
       "aggError": "",
       "aggOverflow": false,
       "aggSchema": [],
       "aggSeriesLimitReached": false,
       "aggType": "",
       "arguments": {},
       "columnCustomDisplayInfos": {},
       "data": [
        [
         "ACC1000",
         "Nimrat",
         "Patil",
         "2022-01-01",
         "Current Account",
         "nimrat.patil@gmail.com"
        ],
        [
         "ACC1001",
         "Ekaraj",
         "Gara",
         "2022-05-31",
         "Savings Account",
         "ekaraj.gara@yahoo.com"
        ],
        [
         "ACC1002",
         "Ekiya",
         "Contractor",
         "2022-01-01",
         "Loan Account",
         "ekiya.contractor@hotmail.com"
        ],
        [
         "ACC1003",
         "Christopher",
         "Patil",
         "2022-03-02",
         "Loan Account",
         "christopher.patil@outlook.com"
        ],
        [
         "ACC1004",
         "Jyoti",
         "Issac",
         "2022-08-29",
         "Recurring Deposit",
         "jyoti.issac@hotmail.com"
        ],
        [
         "ACC1005",
         "Devansh",
         "Soman",
         "2022-04-01",
         "Recurring Deposit",
         "devansh.soman@outlook.com"
        ],
        [
         "ACC1006",
         "Krishna",
         "Gera",
         "2022-03-02",
         "Savings Account",
         "krishna.gera@hotmail.com"
        ],
        [
         "ACC1007",
         "Zilmil",
         "Sagar",
         "2022-05-01",
         "Fixed Deposit",
         "zilmil.sagar@outlook.com"
        ],
        [
         "ACC1008",
         "Vritti",
         "Swamy",
         "2022-05-01",
         "Recurring Deposit",
         "vritti.swamy@outlook.com"
        ],
        [
         "ACC1009",
         "Vasana",
         "Kari",
         "2022-05-01",
         "Current Account",
         "vasana.kari@yahoo.com"
        ],
        [
         "ACC1010",
         "Idika",
         "Sheth",
         "2022-07-30",
         "Current Account",
         "idika.sheth@hotmail.com"
        ],
        [
         "ACC1011",
         "Tanvi",
         "Rai",
         "2022-07-30",
         "Fixed Deposit",
         "tanvi.rai@yahoo.com"
        ],
        [
         "ACC1012",
         "Advika",
         "Singh",
         "2022-03-02",
         "Credit Card Account",
         "advika.singh@outlook.com"
        ],
        [
         "ACC1013",
         "Hamsini",
         "Kamdar",
         "2022-03-02",
         "Loan Account",
         "hamsini.kamdar@gmail.com"
        ],
        [
         "ACC1014",
         "Matthew",
         "Deo",
         "2022-04-01",
         "Recurring Deposit",
         "matthew.deo@yahoo.com"
        ],
        [
         "ACC1015",
         "Bhanumati",
         "Rau",
         "2022-01-31",
         "Fixed Deposit",
         "bhanumati.rau@yahoo.com"
        ],
        [
         "ACC1016",
         "Zilmil",
         "Gour",
         "2022-09-28",
         "Credit Card Account",
         "zilmil.gour@gmail.com"
        ],
        [
         "ACC1017",
         "Netra",
         "Gera",
         "2022-09-28",
         "Savings Account",
         "netra.gera@yahoo.com"
        ],
        [
         "ACC1018",
         "Fiyaz",
         "Din",
         "2022-04-01",
         "Savings Account",
         "fiyaz.din@yahoo.com"
        ],
        [
         "ACC1019",
         "Odika",
         "Kumar",
         "2022-03-02",
         "Loan Account",
         "odika.kumar@outlook.com"
        ],
        [
         "ACC1020",
         "Anamika",
         "Kakar",
         "2022-03-02",
         "Credit Card Account",
         "anamika.kakar@outlook.com"
        ],
        [
         "ACC1021",
         "Zashil",
         "Setty",
         "2022-06-30",
         "Fixed Deposit",
         "zashil.setty@gmail.com"
        ],
        [
         "ACC1022",
         "Rushil",
         "Dubey",
         "2022-04-01",
         "Loan Account",
         "rushil.dubey@hotmail.com"
        ],
        [
         "ACC1023",
         "Samar",
         "Mallick",
         "2022-09-28",
         "Recurring Deposit",
         "samar.mallick@gmail.com"
        ],
        [
         "ACC1024",
         "Yuvraj",
         "Dhar",
         "2022-07-30",
         "Fixed Deposit",
         "yuvraj.dhar@gmail.com"
        ],
        [
         "ACC1025",
         "Leela",
         "Thaker",
         "2022-01-31",
         "Current Account",
         "leela.thaker@yahoo.com"
        ],
        [
         "ACC1026",
         "Anita",
         "Pal",
         "2022-08-29",
         "Credit Card Account",
         "anita.pal@hotmail.com"
        ],
        [
         "ACC1027",
         "Oeshi",
         "Rau",
         "2022-08-29",
         "Recurring Deposit",
         "oeshi.rau@gmail.com"
        ],
        [
         "ACC1028",
         "Azad",
         "Kata",
         "2022-09-28",
         "Savings Account",
         "azad.kata@outlook.com"
        ],
        [
         "ACC1029",
         "Isaiah",
         "Gopal",
         "2022-05-31",
         "Loan Account",
         "isaiah.gopal@hotmail.com"
        ],
        [
         "ACC1030",
         "Isha",
         "Bhatt",
         "2022-09-28",
         "Current Account",
         "isha.bhatt@outlook.com"
        ],
        [
         "ACC1031",
         "Samuel",
         "Varkey",
         "2022-04-01",
         "Credit Card Account",
         "samuel.varkey@hotmail.com"
        ],
        [
         "ACC1032",
         "Upma",
         "Bhatia",
         "2022-08-29",
         "Fixed Deposit",
         "upma.bhatia@hotmail.com"
        ],
        [
         "ACC1033",
         "Ryan",
         "Munshi",
         "2022-01-01",
         "Loan Account",
         "ryan.munshi@outlook.com"
        ],
        [
         "ACC1034",
         "Reyansh",
         "Gour",
         "2022-07-30",
         "Recurring Deposit",
         "reyansh.gour@gmail.com"
        ],
        [
         "ACC1035",
         "Jagvi",
         "Sethi",
         "2022-05-01",
         "Savings Account",
         "jagvi.sethi@gmail.com"
        ],
        [
         "ACC1036",
         "Ladli",
         "Shanker",
         "2022-03-02",
         "Fixed Deposit",
         "ladli.shanker@outlook.com"
        ],
        [
         "ACC1037",
         "Vincent",
         "Muni",
         "2022-01-31",
         "Recurring Deposit",
         "vincent.muni@gmail.com"
        ],
        [
         "ACC1038",
         "Nimrat",
         "Narayan",
         "2022-09-28",
         "Current Account",
         "nimrat.narayan@yahoo.com"
        ],
        [
         "ACC1039",
         "Zayyan",
         "Suresh",
         "2022-05-01",
         "Loan Account",
         "zayyan.suresh@outlook.com"
        ],
        [
         "ACC1040",
         "Guneet",
         "Ravel",
         "2022-04-01",
         "Current Account",
         "guneet.ravel@yahoo.com"
        ],
        [
         "ACC1041",
         "Parth",
         "Luthra",
         "2022-08-29",
         "Credit Card Account",
         "parth.luthra@outlook.com"
        ],
        [
         "ACC1042",
         "Ranveer",
         "Karnik",
         "2022-09-28",
         "Current Account",
         "ranveer.karnik@gmail.com"
        ],
        [
         "ACC1043",
         "Daksh",
         "Rajagopal",
         "2022-05-01",
         "Current Account",
         "daksh.rajagopal@hotmail.com"
        ],
        [
         "ACC1044",
         "Yamini",
         "Loke",
         "2022-04-01",
         "Savings Account",
         "yamini.loke@outlook.com"
        ],
        [
         "ACC1045",
         "Abha",
         "Mohanty",
         "2022-04-01",
         "Fixed Deposit",
         "abha.mohanty@outlook.com"
        ],
        [
         "ACC1046",
         "Indali",
         "Kalla",
         "2022-01-31",
         "Credit Card Account",
         "indali.kalla@yahoo.com"
        ],
        [
         "ACC1047",
         "Zilmil",
         "Nagy",
         "2022-03-02",
         "Recurring Deposit",
         "zilmil.nagy@yahoo.com"
        ],
        [
         "ACC1048",
         "Barkha",
         "Ahluwalia",
         "2022-05-31",
         "Current Account",
         "barkha.ahluwalia@gmail.com"
        ],
        [
         "ACC1049",
         "Rajata",
         "Wadhwa",
         "2022-08-29",
         "Current Account",
         "rajata.wadhwa@hotmail.com"
        ],
        [
         "ACC1050",
         "Janani",
         "Gulati",
         "2022-08-29",
         "Loan Account",
         "janani.gulati@outlook.com"
        ],
        [
         "ACC1051",
         "Divya",
         "Gaba",
         "2022-08-29",
         "Fixed Deposit",
         "divya.gaba@outlook.com"
        ],
        [
         "ACC1052",
         "Raghav",
         "Modi",
         "2022-04-01",
         "Loan Account",
         "raghav.modi@hotmail.com"
        ],
        [
         "ACC1053",
         "Zehaan",
         "Das",
         "2022-04-01",
         "Loan Account",
         "zehaan.das@gmail.com"
        ],
        [
         "ACC1054",
         "Mitali",
         "Peri",
         "2022-03-02",
         "Savings Account",
         "mitali.peri@gmail.com"
        ],
        [
         "ACC1055",
         "Gaurang",
         "Pillai",
         "2022-01-01",
         "Current Account",
         "gaurang.pillai@gmail.com"
        ],
        [
         "ACC1056",
         "Omaja",
         "Hans",
         "2022-01-01",
         "Recurring Deposit",
         "omaja.hans@yahoo.com"
        ],
        [
         "ACC1057",
         "Dalbir",
         "Doctor",
         "2022-05-01",
         "Current Account",
         "dalbir.doctor@gmail.com"
        ],
        [
         "ACC1058",
         "Maanav",
         "Dua",
         "2022-01-31",
         "Current Account",
         "maanav.dua@gmail.com"
        ],
        [
         "ACC1059",
         "Januja",
         "Mutti",
         "2022-01-31",
         "Fixed Deposit",
         "januja.mutti@gmail.com"
        ],
        [
         "ACC1060",
         "Bhavini",
         "Kapadia",
         "2022-06-30",
         "Recurring Deposit",
         "bhavini.kapadia@outlook.com"
        ],
        [
         "ACC1061",
         "Nikita",
         "Thaker",
         "2022-05-01",
         "Savings Account",
         "nikita.thaker@hotmail.com"
        ],
        [
         "ACC1062",
         "Chanakya",
         "Chopra",
         "2022-03-02",
         "Fixed Deposit",
         "chanakya.chopra@outlook.com"
        ],
        [
         "ACC1063",
         "Fiyaz",
         "Iyer",
         "2022-06-30",
         "Recurring Deposit",
         "fiyaz.iyer@gmail.com"
        ],
        [
         "ACC1064",
         "Teerth",
         "Lanka",
         "2022-05-01",
         "Current Account",
         "teerth.lanka@hotmail.com"
        ],
        [
         "ACC1065",
         "Adya",
         "Minhas",
         "2022-08-29",
         "Loan Account",
         "adya.minhas@gmail.com"
        ],
        [
         "ACC1066",
         "Indali",
         "Murthy",
         "2022-08-29",
         "Loan Account",
         "indali.murthy@yahoo.com"
        ],
        [
         "ACC1067",
         "Megha",
         "De",
         "2022-05-01",
         "Loan Account",
         "megha.de@hotmail.com"
        ],
        [
         "ACC1068",
         "Hemang",
         "Mitter",
         "2022-06-30",
         "Fixed Deposit",
         "hemang.mitter@gmail.com"
        ],
        [
         "ACC1069",
         "Oviya",
         "Kumer",
         "2022-09-28",
         "Current Account",
         "oviya.kumer@gmail.com"
        ],
        [
         "ACC1070",
         "Jairaj",
         "Shetty",
         "2022-09-28",
         "Current Account",
         "jairaj.shetty@hotmail.com"
        ],
        [
         "ACC1071",
         "Yauvani",
         "Korpal",
         "2022-06-30",
         "Fixed Deposit",
         "yauvani.korpal@hotmail.com"
        ],
        [
         "ACC1072",
         "Ayaan",
         "Seth",
         "2022-07-30",
         "Fixed Deposit",
         "ayaan.seth@gmail.com"
        ],
        [
         "ACC1073",
         "Varsha",
         "Choudhary",
         "2022-06-30",
         "Current Account",
         "varsha.choudhary@hotmail.com"
        ],
        [
         "ACC1074",
         "Hamsini",
         "Doshi",
         "2022-05-01",
         "Current Account",
         "hamsini.doshi@hotmail.com"
        ],
        [
         "ACC1075",
         "Gaurika",
         "Iyer",
         "2022-07-30",
         "Loan Account",
         "gaurika.iyer@yahoo.com"
        ],
        [
         "ACC1076",
         "Vanya",
         "Naidu",
         "2022-05-31",
         "Savings Account",
         "vanya.naidu@yahoo.com"
        ],
        [
         "ACC1077",
         "Orinder",
         "Rastogi",
         "2022-05-01",
         "Current Account",
         "orinder.rastogi@outlook.com"
        ],
        [
         "ACC1078",
         "Viraj",
         "Behl",
         "2022-09-28",
         "Loan Account",
         "viraj.behl@outlook.com"
        ],
        [
         "ACC1079",
         "Eshana",
         "Srinivasan",
         "2022-05-01",
         "Savings Account",
         "eshana.srinivasan@yahoo.com"
        ],
        [
         "ACC1080",
         "Netra",
         "Hayre",
         "2022-04-01",
         "Recurring Deposit",
         "netra.hayre@gmail.com"
        ],
        [
         "ACC1081",
         "Jhalak",
         "Lalla",
         "2022-01-31",
         "Savings Account",
         "jhalak.lalla@hotmail.com"
        ],
        [
         "ACC1082",
         "Netra",
         "Magar",
         "2022-08-29",
         "Savings Account",
         "netra.magar@hotmail.com"
        ],
        [
         "ACC1083",
         "Jairaj",
         "Soni",
         "2022-09-28",
         "Credit Card Account",
         "jairaj.soni@yahoo.com"
        ],
        [
         "ACC1084",
         "Ekapad",
         "Char",
         "2022-08-29",
         "Recurring Deposit",
         "ekapad.char@outlook.com"
        ],
        [
         "ACC1085",
         "Frado",
         "Oak",
         "2022-05-31",
         "Fixed Deposit",
         "frado.oak@hotmail.com"
        ],
        [
         "ACC1086",
         "Harshil",
         "Din",
         "2022-01-31",
         "Recurring Deposit",
         "harshil.din@yahoo.com"
        ],
        [
         "ACC1087",
         "Ranbir",
         "Nagarajan",
         "2022-03-02",
         "Savings Account",
         "ranbir.nagarajan@gmail.com"
        ],
        [
         "ACC1088",
         "Watika",
         "Balay",
         "2022-05-31",
         "Credit Card Account",
         "watika.balay@outlook.com"
        ],
        [
         "ACC1089",
         "Ekansh",
         "Kothari",
         "2022-08-29",
         "Savings Account",
         "ekansh.kothari@yahoo.com"
        ],
        [
         "ACC1090",
         "Yauvani",
         "Pandya",
         "2022-01-01",
         "Loan Account",
         "yauvani.pandya@hotmail.com"
        ],
        [
         "ACC1091",
         "Balendra",
         "Kalita",
         "2022-01-01",
         "Recurring Deposit",
         "balendra.kalita@hotmail.com"
        ],
        [
         "ACC1092",
         "Nilima",
         "Mani",
         "2022-01-31",
         "Credit Card Account",
         "nilima.mani@hotmail.com"
        ],
        [
         "ACC1093",
         "Rushil",
         "Lata",
         "2022-07-30",
         "Credit Card Account",
         "rushil.lata@yahoo.com"
        ],
        [
         "ACC1094",
         "Mason",
         "Srinivasan",
         "2022-06-30",
         "Current Account",
         "mason.srinivasan@outlook.com"
        ],
        [
         "ACC1095",
         "Avi",
         "Nagarajan",
         "2022-03-02",
         "Credit Card Account",
         "avi.nagarajan@yahoo.com"
        ],
        [
         "ACC1096",
         "Falan",
         "Wason",
         "2022-07-30",
         "Savings Account",
         "falan.wason@hotmail.com"
        ],
        [
         "ACC1097",
         "Turvi",
         "Sangha",
         "2022-05-01",
         "Loan Account",
         "turvi.sangha@outlook.com"
        ],
        [
         "ACC1098",
         "Warda",
         "Edwin",
         "2022-05-01",
         "Savings Account",
         "warda.edwin@yahoo.com"
        ],
        [
         "ACC1099",
         "Vaishnavi",
         "Vig",
         "2022-05-31",
         "Loan Account",
         "vaishnavi.vig@outlook.com"
        ]
       ],
       "datasetInfos": [],
       "dbfsResultPath": null,
       "isJsonSchema": true,
       "metadata": {},
       "overflow": false,
       "plotOptions": {
        "customPlotOptions": {},
        "displayType": "table",
        "pivotAggregation": null,
        "pivotColumns": null,
        "xColumns": null,
        "yColumns": null
       },
       "removedWidgets": [],
       "schema": [
        {
         "metadata": "{}",
         "name": "account_id",
         "type": "\"string\""
        },
        {
         "metadata": "{}",
         "name": "first_name",
         "type": "\"string\""
        },
        {
         "metadata": "{}",
         "name": "last_name",
         "type": "\"string\""
        },
        {
         "metadata": "{\"__detected_date_formats\":\"yyyy-M-d\"}",
         "name": "signup_date",
         "type": "\"date\""
        },
        {
         "metadata": "{}",
         "name": "account_type",
         "type": "\"string\""
        },
        {
         "metadata": "{}",
         "name": "email",
         "type": "\"string\""
        }
       ],
       "type": "table"
      }
     },
     "output_type": "display_data"
    }
   ],
   "source": [
    "# Filter rows where Column1 is not null\n",
    "customer_df =customer_df.filter(customer_df.account_id.isNotNull())\n",
    "\n",
    "# Display the transformed DataFrame\n",
    "display(customer_df)"
   ]
  },
  {
   "cell_type": "code",
   "execution_count": 0,
   "metadata": {
    "application/vnd.databricks.v1+cell": {
     "cellMetadata": {
      "byteLimit": 2048000,
      "rowLimit": 10000
     },
     "inputWidgets": {},
     "nuid": "b2add50c-cacc-4fdd-b52c-22508b42873b",
     "showTitle": false,
     "tableResultSettingsMap": {},
     "title": ""
    }
   },
   "outputs": [
    {
     "data": {
      "text/html": [
       "<style scoped>\n",
       "  .table-result-container {\n",
       "    max-height: 300px;\n",
       "    overflow: auto;\n",
       "  }\n",
       "  table, th, td {\n",
       "    border: 1px solid black;\n",
       "    border-collapse: collapse;\n",
       "  }\n",
       "  th, td {\n",
       "    padding: 5px;\n",
       "  }\n",
       "  th {\n",
       "    text-align: left;\n",
       "  }\n",
       "</style><div class='table-result-container'><table class='table-result'><thead style='background-color: white'><tr><th>merchant_id</th><th>merchant_name</th><th>category</th><th>risk_rating</th></tr></thead><tbody><tr><td>MER2000</td><td>Sandal PLC</td><td>E-commerce</td><td>0.82</td></tr><tr><td>MER2001</td><td>Kanda, Chaudry and Mammen</td><td>Entertainment</td><td>0.85</td></tr><tr><td>MER2002</td><td>Gupta, Grover and Bora</td><td>Pharmacy</td><td>0.81</td></tr><tr><td>MER2003</td><td>Barman, Lad and Palan</td><td>E-commerce</td><td>0.75</td></tr><tr><td>MER2004</td><td>Sagar, Basu and Kanda</td><td>E-commerce</td><td>0.36</td></tr><tr><td>MER2005</td><td>Kar Ltd</td><td>Automotive</td><td>0.96</td></tr><tr><td>MER2006</td><td>Prasad, Buch and Natt</td><td>Retail</td><td>0.99</td></tr><tr><td>MER2007</td><td>Seshadri-Pai</td><td>Transport</td><td>0.88</td></tr><tr><td>MER2008</td><td>Hora Ltd</td><td>Healthcare</td><td>0.26</td></tr><tr><td>MER2009</td><td>Mangal and Sons</td><td>Entertainment</td><td>0.63</td></tr><tr><td>MER2010</td><td>Dugar-Koshy</td><td>Healthcare</td><td>0.44</td></tr><tr><td>MER2011</td><td>Kohli-Kala</td><td>Healthcare</td><td>0.88</td></tr><tr><td>MER2012</td><td>Sahni, Bumb and Soni</td><td>Transport</td><td>0.75</td></tr><tr><td>MER2013</td><td>Agate and Sons</td><td>Retail</td><td>0.69</td></tr><tr><td>MER2014</td><td>Sarma-Sandhu</td><td>Transport</td><td>0.52</td></tr><tr><td>MER2015</td><td>Varghese, Contractor and Soni</td><td>E-commerce</td><td>0.4</td></tr><tr><td>MER2016</td><td>Chana, Garg and Mangal</td><td>Food</td><td>0.67</td></tr><tr><td>MER2017</td><td>Modi, Pandya and Bhatt</td><td>Education</td><td>0.96</td></tr><tr><td>MER2018</td><td>Banerjee, Wadhwa and Shere</td><td>Entertainment</td><td>0.23</td></tr><tr><td>MER2019</td><td>Taneja-Pathak</td><td>Entertainment</td><td>0.53</td></tr><tr><td>MER2020</td><td>Balay, Mukherjee and Saini</td><td>Fashion</td><td>0.79</td></tr><tr><td>MER2021</td><td>Pillai-Ramachandran</td><td>Transport</td><td>0.93</td></tr><tr><td>MER2022</td><td>Doctor-Pradhan</td><td>Fashion</td><td>0.54</td></tr><tr><td>MER2023</td><td>Sehgal, Kale and Venkatesh</td><td>Entertainment</td><td>0.49</td></tr><tr><td>MER2024</td><td>Bakshi, Oza and Dugal</td><td>Pharmacy</td><td>0.32</td></tr><tr><td>MER2025</td><td>Kanda-Seth</td><td>Entertainment</td><td>0.79</td></tr><tr><td>MER2026</td><td>Deol Inc</td><td>E-commerce</td><td>0.31</td></tr><tr><td>MER2027</td><td>Wable LLC</td><td>Electronics</td><td>0.64</td></tr><tr><td>MER2028</td><td>Barman PLC</td><td>Automotive</td><td>0.2</td></tr><tr><td>MER2029</td><td>Bhalla and Sons</td><td>Hospitality</td><td>0.86</td></tr><tr><td>MER2030</td><td>Kaur, Sane and Das</td><td>E-commerce</td><td>0.78</td></tr><tr><td>MER2031</td><td>Baria-Yadav</td><td>Finance</td><td>0.44</td></tr><tr><td>MER2032</td><td>Divan-Ben</td><td>Education</td><td>0.13</td></tr><tr><td>MER2033</td><td>Sathe-Swaminathan</td><td>Entertainment</td><td>0.87</td></tr><tr><td>MER2034</td><td>Kaur and Sons</td><td>Education</td><td>0.91</td></tr><tr><td>MER2035</td><td>Setty Ltd</td><td>Food</td><td>0.84</td></tr><tr><td>MER2036</td><td>Guha, Gour and Kannan</td><td>Food</td><td>0.91</td></tr><tr><td>MER2037</td><td>Ranganathan-Babu</td><td>E-commerce</td><td>0.91</td></tr><tr><td>MER2038</td><td>Toor LLC</td><td>Food</td><td>0.21</td></tr><tr><td>MER2039</td><td>Ganesh-Bhasin</td><td>Hospitality</td><td>0.63</td></tr><tr><td>MER2040</td><td>Nori, Pandit and Misra</td><td>Automotive</td><td>0.75</td></tr><tr><td>MER2041</td><td>Shenoy-Kibe</td><td>Automotive</td><td>0.63</td></tr><tr><td>MER2042</td><td>Dugar, Krish and Sodhi</td><td>Pharmacy</td><td>0.68</td></tr><tr><td>MER2043</td><td>Pant-Srivastava</td><td>Automotive</td><td>0.56</td></tr><tr><td>MER2044</td><td>Shan and Sons</td><td>Fashion</td><td>0.73</td></tr><tr><td>MER2045</td><td>Wali and Sons</td><td>Healthcare</td><td>0.3</td></tr><tr><td>MER2046</td><td>Sarna-Kala</td><td>Finance</td><td>0.77</td></tr><tr><td>MER2047</td><td>Joshi Group</td><td>Finance</td><td>0.47</td></tr><tr><td>MER2048</td><td>Kale, Rana and Jani</td><td>Food</td><td>0.13</td></tr><tr><td>MER2049</td><td>Sant PLC</td><td>Transport</td><td>0.46</td></tr><tr><td>MER2050</td><td>Ramaswamy, Konda and Gole</td><td>Pharmacy</td><td>0.85</td></tr><tr><td>MER2051</td><td>Singhal, Pingle and Keer</td><td>Entertainment</td><td>0.41</td></tr><tr><td>MER2052</td><td>Prabhu-Maharaj</td><td>Automotive</td><td>0.79</td></tr><tr><td>MER2053</td><td>Merchant, Bhargava and Baral</td><td>Pharmacy</td><td>0.38</td></tr><tr><td>MER2054</td><td>Bhargava, Sabharwal and Shukla</td><td>Electronics</td><td>0.45</td></tr><tr><td>MER2055</td><td>Setty, Patel and Kibe</td><td>Food</td><td>0.1</td></tr><tr><td>MER2056</td><td>Atwal, Khosla and Rajagopalan</td><td>Retail</td><td>0.31</td></tr><tr><td>MER2057</td><td>Bhatti-Gala</td><td>Finance</td><td>0.68</td></tr><tr><td>MER2058</td><td>Gara-Trivedi</td><td>Transport</td><td>0.38</td></tr><tr><td>MER2059</td><td>Chowdhury-Apte</td><td>E-commerce</td><td>0.16</td></tr><tr><td>MER2060</td><td>Saha-Vig</td><td>Finance</td><td>0.86</td></tr><tr><td>MER2061</td><td>Bassi PLC</td><td>Hospitality</td><td>0.75</td></tr><tr><td>MER2062</td><td>Tak-Chaudhry</td><td>Transport</td><td>0.39</td></tr><tr><td>MER2063</td><td>Kulkarni-Patil</td><td>Finance</td><td>0.43</td></tr><tr><td>MER2064</td><td>Narain-Srinivasan</td><td>Transport</td><td>0.57</td></tr><tr><td>MER2065</td><td>Trivedi Group</td><td>Electronics</td><td>0.95</td></tr><tr><td>MER2066</td><td>Venkatesh, Dugar and Kamdar</td><td>Entertainment</td><td>0.83</td></tr><tr><td>MER2067</td><td>Kumer PLC</td><td>Education</td><td>0.71</td></tr><tr><td>MER2068</td><td>De-Subramanian</td><td>Food</td><td>0.16</td></tr><tr><td>MER2069</td><td>Mital-Goswami</td><td>Fashion</td><td>0.48</td></tr><tr><td>MER2070</td><td>Ratta Group</td><td>E-commerce</td><td>0.49</td></tr><tr><td>MER2071</td><td>Om, Gulati and Saxena</td><td>Finance</td><td>0.17</td></tr><tr><td>MER2072</td><td>Kala LLC</td><td>Food</td><td>0.78</td></tr><tr><td>MER2073</td><td>Halder-Dey</td><td>Electronics</td><td>0.79</td></tr><tr><td>MER2074</td><td>Ghosh LLC</td><td>Retail</td><td>0.7</td></tr><tr><td>MER2075</td><td>Kari-Kurian</td><td>E-commerce</td><td>0.23</td></tr><tr><td>MER2076</td><td>Bahri, Kaul and Rao</td><td>Education</td><td>0.44</td></tr><tr><td>MER2077</td><td>Chaudhari, Vala and Varghese</td><td>Fashion</td><td>0.35</td></tr><tr><td>MER2078</td><td>Deol-Dewan</td><td>Entertainment</td><td>0.63</td></tr><tr><td>MER2079</td><td>Bhakta-Kibe</td><td>Transport</td><td>0.38</td></tr><tr><td>MER2080</td><td>Vaidya Group</td><td>Education</td><td>0.18</td></tr><tr><td>MER2081</td><td>Dash, Dhaliwal and Mani</td><td>Entertainment</td><td>0.43</td></tr><tr><td>MER2082</td><td>Roy, Pillai and Bandi</td><td>Electronics</td><td>0.59</td></tr><tr><td>MER2083</td><td>Chana-Bose</td><td>Finance</td><td>0.67</td></tr><tr><td>MER2084</td><td>Ranganathan-Kamdar</td><td>E-commerce</td><td>0.37</td></tr><tr><td>MER2085</td><td>Sarraf-Sane</td><td>Automotive</td><td>0.35</td></tr><tr><td>MER2086</td><td>Halder, Garg and Sen</td><td>Education</td><td>0.18</td></tr><tr><td>MER2087</td><td>Kumar Ltd</td><td>Automotive</td><td>0.6</td></tr><tr><td>MER2088</td><td>Varughese, Narasimhan and Pandey</td><td>Automotive</td><td>0.11</td></tr><tr><td>MER2089</td><td>Maharaj Inc</td><td>Fashion</td><td>0.63</td></tr><tr><td>MER2090</td><td>Bora-Dayal</td><td>Electronics</td><td>0.22</td></tr><tr><td>MER2091</td><td>Agate Ltd</td><td>Finance</td><td>0.77</td></tr><tr><td>MER2092</td><td>Bassi-Nagar</td><td>Hospitality</td><td>0.84</td></tr><tr><td>MER2093</td><td>Dugar-Pathak</td><td>Education</td><td>0.45</td></tr><tr><td>MER2094</td><td>Borde-Bhatt</td><td>Healthcare</td><td>0.74</td></tr><tr><td>MER2095</td><td>Sant, Mitter and Kant</td><td>Education</td><td>0.65</td></tr><tr><td>MER2096</td><td>Barad-Mital</td><td>Automotive</td><td>0.42</td></tr><tr><td>MER2097</td><td>Raj-Pau</td><td>Food</td><td>0.76</td></tr><tr><td>MER2098</td><td>Doshi and Sons</td><td>Hospitality</td><td>0.83</td></tr><tr><td>MER2099</td><td>Butala PLC</td><td>Healthcare</td><td>0.39</td></tr></tbody></table></div>"
      ]
     },
     "metadata": {
      "application/vnd.databricks.v1+output": {
       "addedWidgets": {},
       "aggData": [],
       "aggError": "",
       "aggOverflow": false,
       "aggSchema": [],
       "aggSeriesLimitReached": false,
       "aggType": "",
       "arguments": {},
       "columnCustomDisplayInfos": {},
       "data": [
        [
         "MER2000",
         "Sandal PLC",
         "E-commerce",
         0.82
        ],
        [
         "MER2001",
         "Kanda, Chaudry and Mammen",
         "Entertainment",
         0.85
        ],
        [
         "MER2002",
         "Gupta, Grover and Bora",
         "Pharmacy",
         0.81
        ],
        [
         "MER2003",
         "Barman, Lad and Palan",
         "E-commerce",
         0.75
        ],
        [
         "MER2004",
         "Sagar, Basu and Kanda",
         "E-commerce",
         0.36
        ],
        [
         "MER2005",
         "Kar Ltd",
         "Automotive",
         0.96
        ],
        [
         "MER2006",
         "Prasad, Buch and Natt",
         "Retail",
         0.99
        ],
        [
         "MER2007",
         "Seshadri-Pai",
         "Transport",
         0.88
        ],
        [
         "MER2008",
         "Hora Ltd",
         "Healthcare",
         0.26
        ],
        [
         "MER2009",
         "Mangal and Sons",
         "Entertainment",
         0.63
        ],
        [
         "MER2010",
         "Dugar-Koshy",
         "Healthcare",
         0.44
        ],
        [
         "MER2011",
         "Kohli-Kala",
         "Healthcare",
         0.88
        ],
        [
         "MER2012",
         "Sahni, Bumb and Soni",
         "Transport",
         0.75
        ],
        [
         "MER2013",
         "Agate and Sons",
         "Retail",
         0.69
        ],
        [
         "MER2014",
         "Sarma-Sandhu",
         "Transport",
         0.52
        ],
        [
         "MER2015",
         "Varghese, Contractor and Soni",
         "E-commerce",
         0.4
        ],
        [
         "MER2016",
         "Chana, Garg and Mangal",
         "Food",
         0.67
        ],
        [
         "MER2017",
         "Modi, Pandya and Bhatt",
         "Education",
         0.96
        ],
        [
         "MER2018",
         "Banerjee, Wadhwa and Shere",
         "Entertainment",
         0.23
        ],
        [
         "MER2019",
         "Taneja-Pathak",
         "Entertainment",
         0.53
        ],
        [
         "MER2020",
         "Balay, Mukherjee and Saini",
         "Fashion",
         0.79
        ],
        [
         "MER2021",
         "Pillai-Ramachandran",
         "Transport",
         0.93
        ],
        [
         "MER2022",
         "Doctor-Pradhan",
         "Fashion",
         0.54
        ],
        [
         "MER2023",
         "Sehgal, Kale and Venkatesh",
         "Entertainment",
         0.49
        ],
        [
         "MER2024",
         "Bakshi, Oza and Dugal",
         "Pharmacy",
         0.32
        ],
        [
         "MER2025",
         "Kanda-Seth",
         "Entertainment",
         0.79
        ],
        [
         "MER2026",
         "Deol Inc",
         "E-commerce",
         0.31
        ],
        [
         "MER2027",
         "Wable LLC",
         "Electronics",
         0.64
        ],
        [
         "MER2028",
         "Barman PLC",
         "Automotive",
         0.2
        ],
        [
         "MER2029",
         "Bhalla and Sons",
         "Hospitality",
         0.86
        ],
        [
         "MER2030",
         "Kaur, Sane and Das",
         "E-commerce",
         0.78
        ],
        [
         "MER2031",
         "Baria-Yadav",
         "Finance",
         0.44
        ],
        [
         "MER2032",
         "Divan-Ben",
         "Education",
         0.13
        ],
        [
         "MER2033",
         "Sathe-Swaminathan",
         "Entertainment",
         0.87
        ],
        [
         "MER2034",
         "Kaur and Sons",
         "Education",
         0.91
        ],
        [
         "MER2035",
         "Setty Ltd",
         "Food",
         0.84
        ],
        [
         "MER2036",
         "Guha, Gour and Kannan",
         "Food",
         0.91
        ],
        [
         "MER2037",
         "Ranganathan-Babu",
         "E-commerce",
         0.91
        ],
        [
         "MER2038",
         "Toor LLC",
         "Food",
         0.21
        ],
        [
         "MER2039",
         "Ganesh-Bhasin",
         "Hospitality",
         0.63
        ],
        [
         "MER2040",
         "Nori, Pandit and Misra",
         "Automotive",
         0.75
        ],
        [
         "MER2041",
         "Shenoy-Kibe",
         "Automotive",
         0.63
        ],
        [
         "MER2042",
         "Dugar, Krish and Sodhi",
         "Pharmacy",
         0.68
        ],
        [
         "MER2043",
         "Pant-Srivastava",
         "Automotive",
         0.56
        ],
        [
         "MER2044",
         "Shan and Sons",
         "Fashion",
         0.73
        ],
        [
         "MER2045",
         "Wali and Sons",
         "Healthcare",
         0.3
        ],
        [
         "MER2046",
         "Sarna-Kala",
         "Finance",
         0.77
        ],
        [
         "MER2047",
         "Joshi Group",
         "Finance",
         0.47
        ],
        [
         "MER2048",
         "Kale, Rana and Jani",
         "Food",
         0.13
        ],
        [
         "MER2049",
         "Sant PLC",
         "Transport",
         0.46
        ],
        [
         "MER2050",
         "Ramaswamy, Konda and Gole",
         "Pharmacy",
         0.85
        ],
        [
         "MER2051",
         "Singhal, Pingle and Keer",
         "Entertainment",
         0.41
        ],
        [
         "MER2052",
         "Prabhu-Maharaj",
         "Automotive",
         0.79
        ],
        [
         "MER2053",
         "Merchant, Bhargava and Baral",
         "Pharmacy",
         0.38
        ],
        [
         "MER2054",
         "Bhargava, Sabharwal and Shukla",
         "Electronics",
         0.45
        ],
        [
         "MER2055",
         "Setty, Patel and Kibe",
         "Food",
         0.1
        ],
        [
         "MER2056",
         "Atwal, Khosla and Rajagopalan",
         "Retail",
         0.31
        ],
        [
         "MER2057",
         "Bhatti-Gala",
         "Finance",
         0.68
        ],
        [
         "MER2058",
         "Gara-Trivedi",
         "Transport",
         0.38
        ],
        [
         "MER2059",
         "Chowdhury-Apte",
         "E-commerce",
         0.16
        ],
        [
         "MER2060",
         "Saha-Vig",
         "Finance",
         0.86
        ],
        [
         "MER2061",
         "Bassi PLC",
         "Hospitality",
         0.75
        ],
        [
         "MER2062",
         "Tak-Chaudhry",
         "Transport",
         0.39
        ],
        [
         "MER2063",
         "Kulkarni-Patil",
         "Finance",
         0.43
        ],
        [
         "MER2064",
         "Narain-Srinivasan",
         "Transport",
         0.57
        ],
        [
         "MER2065",
         "Trivedi Group",
         "Electronics",
         0.95
        ],
        [
         "MER2066",
         "Venkatesh, Dugar and Kamdar",
         "Entertainment",
         0.83
        ],
        [
         "MER2067",
         "Kumer PLC",
         "Education",
         0.71
        ],
        [
         "MER2068",
         "De-Subramanian",
         "Food",
         0.16
        ],
        [
         "MER2069",
         "Mital-Goswami",
         "Fashion",
         0.48
        ],
        [
         "MER2070",
         "Ratta Group",
         "E-commerce",
         0.49
        ],
        [
         "MER2071",
         "Om, Gulati and Saxena",
         "Finance",
         0.17
        ],
        [
         "MER2072",
         "Kala LLC",
         "Food",
         0.78
        ],
        [
         "MER2073",
         "Halder-Dey",
         "Electronics",
         0.79
        ],
        [
         "MER2074",
         "Ghosh LLC",
         "Retail",
         0.7
        ],
        [
         "MER2075",
         "Kari-Kurian",
         "E-commerce",
         0.23
        ],
        [
         "MER2076",
         "Bahri, Kaul and Rao",
         "Education",
         0.44
        ],
        [
         "MER2077",
         "Chaudhari, Vala and Varghese",
         "Fashion",
         0.35
        ],
        [
         "MER2078",
         "Deol-Dewan",
         "Entertainment",
         0.63
        ],
        [
         "MER2079",
         "Bhakta-Kibe",
         "Transport",
         0.38
        ],
        [
         "MER2080",
         "Vaidya Group",
         "Education",
         0.18
        ],
        [
         "MER2081",
         "Dash, Dhaliwal and Mani",
         "Entertainment",
         0.43
        ],
        [
         "MER2082",
         "Roy, Pillai and Bandi",
         "Electronics",
         0.59
        ],
        [
         "MER2083",
         "Chana-Bose",
         "Finance",
         0.67
        ],
        [
         "MER2084",
         "Ranganathan-Kamdar",
         "E-commerce",
         0.37
        ],
        [
         "MER2085",
         "Sarraf-Sane",
         "Automotive",
         0.35
        ],
        [
         "MER2086",
         "Halder, Garg and Sen",
         "Education",
         0.18
        ],
        [
         "MER2087",
         "Kumar Ltd",
         "Automotive",
         0.6
        ],
        [
         "MER2088",
         "Varughese, Narasimhan and Pandey",
         "Automotive",
         0.11
        ],
        [
         "MER2089",
         "Maharaj Inc",
         "Fashion",
         0.63
        ],
        [
         "MER2090",
         "Bora-Dayal",
         "Electronics",
         0.22
        ],
        [
         "MER2091",
         "Agate Ltd",
         "Finance",
         0.77
        ],
        [
         "MER2092",
         "Bassi-Nagar",
         "Hospitality",
         0.84
        ],
        [
         "MER2093",
         "Dugar-Pathak",
         "Education",
         0.45
        ],
        [
         "MER2094",
         "Borde-Bhatt",
         "Healthcare",
         0.74
        ],
        [
         "MER2095",
         "Sant, Mitter and Kant",
         "Education",
         0.65
        ],
        [
         "MER2096",
         "Barad-Mital",
         "Automotive",
         0.42
        ],
        [
         "MER2097",
         "Raj-Pau",
         "Food",
         0.76
        ],
        [
         "MER2098",
         "Doshi and Sons",
         "Hospitality",
         0.83
        ],
        [
         "MER2099",
         "Butala PLC",
         "Healthcare",
         0.39
        ]
       ],
       "datasetInfos": [],
       "dbfsResultPath": null,
       "isJsonSchema": true,
       "metadata": {},
       "overflow": false,
       "plotOptions": {
        "customPlotOptions": {},
        "displayType": "table",
        "pivotAggregation": null,
        "pivotColumns": null,
        "xColumns": null,
        "yColumns": null
       },
       "removedWidgets": [],
       "schema": [
        {
         "metadata": "{}",
         "name": "merchant_id",
         "type": "\"string\""
        },
        {
         "metadata": "{}",
         "name": "merchant_name",
         "type": "\"string\""
        },
        {
         "metadata": "{}",
         "name": "category",
         "type": "\"string\""
        },
        {
         "metadata": "{}",
         "name": "risk_rating",
         "type": "\"double\""
        }
       ],
       "type": "table"
      }
     },
     "output_type": "display_data"
    }
   ],
   "source": [
    "column_names = [\"merchant_id\",\"merchant_name\",\"category\",\"risk_rating\"]\n",
    "merchant_df = spark.read.csv(\"/dbfs/tmp/merchant_data.csv\", header=False, inferSchema=True).toDF(*column_names)\n",
    "display(merchant_df)"
   ]
  },
  {
   "cell_type": "code",
   "execution_count": 0,
   "metadata": {
    "application/vnd.databricks.v1+cell": {
     "cellMetadata": {
      "byteLimit": 2048000,
      "rowLimit": 10000
     },
     "inputWidgets": {},
     "nuid": "3c4e0067-c653-4015-ac3e-b68aa7a8b802",
     "showTitle": false,
     "tableResultSettingsMap": {},
     "title": ""
    }
   },
   "outputs": [
    {
     "data": {
      "text/html": [
       "<style scoped>\n",
       "  .table-result-container {\n",
       "    max-height: 300px;\n",
       "    overflow: auto;\n",
       "  }\n",
       "  table, th, td {\n",
       "    border: 1px solid black;\n",
       "    border-collapse: collapse;\n",
       "  }\n",
       "  th, td {\n",
       "    padding: 5px;\n",
       "  }\n",
       "  th {\n",
       "    text-align: left;\n",
       "  }\n",
       "</style><div class='table-result-container'><table class='table-result'><thead style='background-color: white'><tr><th>merchant_id</th><th>merchant_name</th><th>category</th><th>risk_rating</th></tr></thead><tbody><tr><td>MER2000</td><td>Sandal PLC</td><td>E-commerce</td><td>0.82</td></tr><tr><td>MER2001</td><td>Kanda, Chaudry and Mammen</td><td>Entertainment</td><td>0.85</td></tr><tr><td>MER2002</td><td>Gupta, Grover and Bora</td><td>Pharmacy</td><td>0.81</td></tr><tr><td>MER2003</td><td>Barman, Lad and Palan</td><td>E-commerce</td><td>0.75</td></tr><tr><td>MER2004</td><td>Sagar, Basu and Kanda</td><td>E-commerce</td><td>0.36</td></tr><tr><td>MER2005</td><td>Kar Ltd</td><td>Automotive</td><td>0.96</td></tr><tr><td>MER2006</td><td>Prasad, Buch and Natt</td><td>Retail</td><td>0.99</td></tr><tr><td>MER2007</td><td>Seshadri-Pai</td><td>Transport</td><td>0.88</td></tr><tr><td>MER2008</td><td>Hora Ltd</td><td>Healthcare</td><td>0.26</td></tr><tr><td>MER2009</td><td>Mangal and Sons</td><td>Entertainment</td><td>0.63</td></tr><tr><td>MER2010</td><td>Dugar-Koshy</td><td>Healthcare</td><td>0.44</td></tr><tr><td>MER2011</td><td>Kohli-Kala</td><td>Healthcare</td><td>0.88</td></tr><tr><td>MER2012</td><td>Sahni, Bumb and Soni</td><td>Transport</td><td>0.75</td></tr><tr><td>MER2013</td><td>Agate and Sons</td><td>Retail</td><td>0.69</td></tr><tr><td>MER2014</td><td>Sarma-Sandhu</td><td>Transport</td><td>0.52</td></tr><tr><td>MER2015</td><td>Varghese, Contractor and Soni</td><td>E-commerce</td><td>0.4</td></tr><tr><td>MER2016</td><td>Chana, Garg and Mangal</td><td>Food</td><td>0.67</td></tr><tr><td>MER2017</td><td>Modi, Pandya and Bhatt</td><td>Education</td><td>0.96</td></tr><tr><td>MER2018</td><td>Banerjee, Wadhwa and Shere</td><td>Entertainment</td><td>0.23</td></tr><tr><td>MER2019</td><td>Taneja-Pathak</td><td>Entertainment</td><td>0.53</td></tr><tr><td>MER2020</td><td>Balay, Mukherjee and Saini</td><td>Fashion</td><td>0.79</td></tr><tr><td>MER2021</td><td>Pillai-Ramachandran</td><td>Transport</td><td>0.93</td></tr><tr><td>MER2022</td><td>Doctor-Pradhan</td><td>Fashion</td><td>0.54</td></tr><tr><td>MER2023</td><td>Sehgal, Kale and Venkatesh</td><td>Entertainment</td><td>0.49</td></tr><tr><td>MER2024</td><td>Bakshi, Oza and Dugal</td><td>Pharmacy</td><td>0.32</td></tr><tr><td>MER2025</td><td>Kanda-Seth</td><td>Entertainment</td><td>0.79</td></tr><tr><td>MER2026</td><td>Deol Inc</td><td>E-commerce</td><td>0.31</td></tr><tr><td>MER2027</td><td>Wable LLC</td><td>Electronics</td><td>0.64</td></tr><tr><td>MER2028</td><td>Barman PLC</td><td>Automotive</td><td>0.2</td></tr><tr><td>MER2029</td><td>Bhalla and Sons</td><td>Hospitality</td><td>0.86</td></tr><tr><td>MER2030</td><td>Kaur, Sane and Das</td><td>E-commerce</td><td>0.78</td></tr><tr><td>MER2031</td><td>Baria-Yadav</td><td>Finance</td><td>0.44</td></tr><tr><td>MER2032</td><td>Divan-Ben</td><td>Education</td><td>0.13</td></tr><tr><td>MER2033</td><td>Sathe-Swaminathan</td><td>Entertainment</td><td>0.87</td></tr><tr><td>MER2034</td><td>Kaur and Sons</td><td>Education</td><td>0.91</td></tr><tr><td>MER2035</td><td>Setty Ltd</td><td>Food</td><td>0.84</td></tr><tr><td>MER2036</td><td>Guha, Gour and Kannan</td><td>Food</td><td>0.91</td></tr><tr><td>MER2037</td><td>Ranganathan-Babu</td><td>E-commerce</td><td>0.91</td></tr><tr><td>MER2038</td><td>Toor LLC</td><td>Food</td><td>0.21</td></tr><tr><td>MER2039</td><td>Ganesh-Bhasin</td><td>Hospitality</td><td>0.63</td></tr><tr><td>MER2040</td><td>Nori, Pandit and Misra</td><td>Automotive</td><td>0.75</td></tr><tr><td>MER2041</td><td>Shenoy-Kibe</td><td>Automotive</td><td>0.63</td></tr><tr><td>MER2042</td><td>Dugar, Krish and Sodhi</td><td>Pharmacy</td><td>0.68</td></tr><tr><td>MER2043</td><td>Pant-Srivastava</td><td>Automotive</td><td>0.56</td></tr><tr><td>MER2044</td><td>Shan and Sons</td><td>Fashion</td><td>0.73</td></tr><tr><td>MER2045</td><td>Wali and Sons</td><td>Healthcare</td><td>0.3</td></tr><tr><td>MER2046</td><td>Sarna-Kala</td><td>Finance</td><td>0.77</td></tr><tr><td>MER2047</td><td>Joshi Group</td><td>Finance</td><td>0.47</td></tr><tr><td>MER2048</td><td>Kale, Rana and Jani</td><td>Food</td><td>0.13</td></tr><tr><td>MER2049</td><td>Sant PLC</td><td>Transport</td><td>0.46</td></tr><tr><td>MER2050</td><td>Ramaswamy, Konda and Gole</td><td>Pharmacy</td><td>0.85</td></tr><tr><td>MER2051</td><td>Singhal, Pingle and Keer</td><td>Entertainment</td><td>0.41</td></tr><tr><td>MER2052</td><td>Prabhu-Maharaj</td><td>Automotive</td><td>0.79</td></tr><tr><td>MER2053</td><td>Merchant, Bhargava and Baral</td><td>Pharmacy</td><td>0.38</td></tr><tr><td>MER2054</td><td>Bhargava, Sabharwal and Shukla</td><td>Electronics</td><td>0.45</td></tr><tr><td>MER2055</td><td>Setty, Patel and Kibe</td><td>Food</td><td>0.1</td></tr><tr><td>MER2056</td><td>Atwal, Khosla and Rajagopalan</td><td>Retail</td><td>0.31</td></tr><tr><td>MER2057</td><td>Bhatti-Gala</td><td>Finance</td><td>0.68</td></tr><tr><td>MER2058</td><td>Gara-Trivedi</td><td>Transport</td><td>0.38</td></tr><tr><td>MER2059</td><td>Chowdhury-Apte</td><td>E-commerce</td><td>0.16</td></tr><tr><td>MER2060</td><td>Saha-Vig</td><td>Finance</td><td>0.86</td></tr><tr><td>MER2061</td><td>Bassi PLC</td><td>Hospitality</td><td>0.75</td></tr><tr><td>MER2062</td><td>Tak-Chaudhry</td><td>Transport</td><td>0.39</td></tr><tr><td>MER2063</td><td>Kulkarni-Patil</td><td>Finance</td><td>0.43</td></tr><tr><td>MER2064</td><td>Narain-Srinivasan</td><td>Transport</td><td>0.57</td></tr><tr><td>MER2065</td><td>Trivedi Group</td><td>Electronics</td><td>0.95</td></tr><tr><td>MER2066</td><td>Venkatesh, Dugar and Kamdar</td><td>Entertainment</td><td>0.83</td></tr><tr><td>MER2067</td><td>Kumer PLC</td><td>Education</td><td>0.71</td></tr><tr><td>MER2068</td><td>De-Subramanian</td><td>Food</td><td>0.16</td></tr><tr><td>MER2069</td><td>Mital-Goswami</td><td>Fashion</td><td>0.48</td></tr><tr><td>MER2070</td><td>Ratta Group</td><td>E-commerce</td><td>0.49</td></tr><tr><td>MER2071</td><td>Om, Gulati and Saxena</td><td>Finance</td><td>0.17</td></tr><tr><td>MER2072</td><td>Kala LLC</td><td>Food</td><td>0.78</td></tr><tr><td>MER2073</td><td>Halder-Dey</td><td>Electronics</td><td>0.79</td></tr><tr><td>MER2074</td><td>Ghosh LLC</td><td>Retail</td><td>0.7</td></tr><tr><td>MER2075</td><td>Kari-Kurian</td><td>E-commerce</td><td>0.23</td></tr><tr><td>MER2076</td><td>Bahri, Kaul and Rao</td><td>Education</td><td>0.44</td></tr><tr><td>MER2077</td><td>Chaudhari, Vala and Varghese</td><td>Fashion</td><td>0.35</td></tr><tr><td>MER2078</td><td>Deol-Dewan</td><td>Entertainment</td><td>0.63</td></tr><tr><td>MER2079</td><td>Bhakta-Kibe</td><td>Transport</td><td>0.38</td></tr><tr><td>MER2080</td><td>Vaidya Group</td><td>Education</td><td>0.18</td></tr><tr><td>MER2081</td><td>Dash, Dhaliwal and Mani</td><td>Entertainment</td><td>0.43</td></tr><tr><td>MER2082</td><td>Roy, Pillai and Bandi</td><td>Electronics</td><td>0.59</td></tr><tr><td>MER2083</td><td>Chana-Bose</td><td>Finance</td><td>0.67</td></tr><tr><td>MER2084</td><td>Ranganathan-Kamdar</td><td>E-commerce</td><td>0.37</td></tr><tr><td>MER2085</td><td>Sarraf-Sane</td><td>Automotive</td><td>0.35</td></tr><tr><td>MER2086</td><td>Halder, Garg and Sen</td><td>Education</td><td>0.18</td></tr><tr><td>MER2087</td><td>Kumar Ltd</td><td>Automotive</td><td>0.6</td></tr><tr><td>MER2088</td><td>Varughese, Narasimhan and Pandey</td><td>Automotive</td><td>0.11</td></tr><tr><td>MER2089</td><td>Maharaj Inc</td><td>Fashion</td><td>0.63</td></tr><tr><td>MER2090</td><td>Bora-Dayal</td><td>Electronics</td><td>0.22</td></tr><tr><td>MER2091</td><td>Agate Ltd</td><td>Finance</td><td>0.77</td></tr><tr><td>MER2092</td><td>Bassi-Nagar</td><td>Hospitality</td><td>0.84</td></tr><tr><td>MER2093</td><td>Dugar-Pathak</td><td>Education</td><td>0.45</td></tr><tr><td>MER2094</td><td>Borde-Bhatt</td><td>Healthcare</td><td>0.74</td></tr><tr><td>MER2095</td><td>Sant, Mitter and Kant</td><td>Education</td><td>0.65</td></tr><tr><td>MER2096</td><td>Barad-Mital</td><td>Automotive</td><td>0.42</td></tr><tr><td>MER2097</td><td>Raj-Pau</td><td>Food</td><td>0.76</td></tr><tr><td>MER2098</td><td>Doshi and Sons</td><td>Hospitality</td><td>0.83</td></tr><tr><td>MER2099</td><td>Butala PLC</td><td>Healthcare</td><td>0.39</td></tr></tbody></table></div>"
      ]
     },
     "metadata": {
      "application/vnd.databricks.v1+output": {
       "addedWidgets": {},
       "aggData": [],
       "aggError": "",
       "aggOverflow": false,
       "aggSchema": [],
       "aggSeriesLimitReached": false,
       "aggType": "",
       "arguments": {},
       "columnCustomDisplayInfos": {},
       "data": [
        [
         "MER2000",
         "Sandal PLC",
         "E-commerce",
         0.82
        ],
        [
         "MER2001",
         "Kanda, Chaudry and Mammen",
         "Entertainment",
         0.85
        ],
        [
         "MER2002",
         "Gupta, Grover and Bora",
         "Pharmacy",
         0.81
        ],
        [
         "MER2003",
         "Barman, Lad and Palan",
         "E-commerce",
         0.75
        ],
        [
         "MER2004",
         "Sagar, Basu and Kanda",
         "E-commerce",
         0.36
        ],
        [
         "MER2005",
         "Kar Ltd",
         "Automotive",
         0.96
        ],
        [
         "MER2006",
         "Prasad, Buch and Natt",
         "Retail",
         0.99
        ],
        [
         "MER2007",
         "Seshadri-Pai",
         "Transport",
         0.88
        ],
        [
         "MER2008",
         "Hora Ltd",
         "Healthcare",
         0.26
        ],
        [
         "MER2009",
         "Mangal and Sons",
         "Entertainment",
         0.63
        ],
        [
         "MER2010",
         "Dugar-Koshy",
         "Healthcare",
         0.44
        ],
        [
         "MER2011",
         "Kohli-Kala",
         "Healthcare",
         0.88
        ],
        [
         "MER2012",
         "Sahni, Bumb and Soni",
         "Transport",
         0.75
        ],
        [
         "MER2013",
         "Agate and Sons",
         "Retail",
         0.69
        ],
        [
         "MER2014",
         "Sarma-Sandhu",
         "Transport",
         0.52
        ],
        [
         "MER2015",
         "Varghese, Contractor and Soni",
         "E-commerce",
         0.4
        ],
        [
         "MER2016",
         "Chana, Garg and Mangal",
         "Food",
         0.67
        ],
        [
         "MER2017",
         "Modi, Pandya and Bhatt",
         "Education",
         0.96
        ],
        [
         "MER2018",
         "Banerjee, Wadhwa and Shere",
         "Entertainment",
         0.23
        ],
        [
         "MER2019",
         "Taneja-Pathak",
         "Entertainment",
         0.53
        ],
        [
         "MER2020",
         "Balay, Mukherjee and Saini",
         "Fashion",
         0.79
        ],
        [
         "MER2021",
         "Pillai-Ramachandran",
         "Transport",
         0.93
        ],
        [
         "MER2022",
         "Doctor-Pradhan",
         "Fashion",
         0.54
        ],
        [
         "MER2023",
         "Sehgal, Kale and Venkatesh",
         "Entertainment",
         0.49
        ],
        [
         "MER2024",
         "Bakshi, Oza and Dugal",
         "Pharmacy",
         0.32
        ],
        [
         "MER2025",
         "Kanda-Seth",
         "Entertainment",
         0.79
        ],
        [
         "MER2026",
         "Deol Inc",
         "E-commerce",
         0.31
        ],
        [
         "MER2027",
         "Wable LLC",
         "Electronics",
         0.64
        ],
        [
         "MER2028",
         "Barman PLC",
         "Automotive",
         0.2
        ],
        [
         "MER2029",
         "Bhalla and Sons",
         "Hospitality",
         0.86
        ],
        [
         "MER2030",
         "Kaur, Sane and Das",
         "E-commerce",
         0.78
        ],
        [
         "MER2031",
         "Baria-Yadav",
         "Finance",
         0.44
        ],
        [
         "MER2032",
         "Divan-Ben",
         "Education",
         0.13
        ],
        [
         "MER2033",
         "Sathe-Swaminathan",
         "Entertainment",
         0.87
        ],
        [
         "MER2034",
         "Kaur and Sons",
         "Education",
         0.91
        ],
        [
         "MER2035",
         "Setty Ltd",
         "Food",
         0.84
        ],
        [
         "MER2036",
         "Guha, Gour and Kannan",
         "Food",
         0.91
        ],
        [
         "MER2037",
         "Ranganathan-Babu",
         "E-commerce",
         0.91
        ],
        [
         "MER2038",
         "Toor LLC",
         "Food",
         0.21
        ],
        [
         "MER2039",
         "Ganesh-Bhasin",
         "Hospitality",
         0.63
        ],
        [
         "MER2040",
         "Nori, Pandit and Misra",
         "Automotive",
         0.75
        ],
        [
         "MER2041",
         "Shenoy-Kibe",
         "Automotive",
         0.63
        ],
        [
         "MER2042",
         "Dugar, Krish and Sodhi",
         "Pharmacy",
         0.68
        ],
        [
         "MER2043",
         "Pant-Srivastava",
         "Automotive",
         0.56
        ],
        [
         "MER2044",
         "Shan and Sons",
         "Fashion",
         0.73
        ],
        [
         "MER2045",
         "Wali and Sons",
         "Healthcare",
         0.3
        ],
        [
         "MER2046",
         "Sarna-Kala",
         "Finance",
         0.77
        ],
        [
         "MER2047",
         "Joshi Group",
         "Finance",
         0.47
        ],
        [
         "MER2048",
         "Kale, Rana and Jani",
         "Food",
         0.13
        ],
        [
         "MER2049",
         "Sant PLC",
         "Transport",
         0.46
        ],
        [
         "MER2050",
         "Ramaswamy, Konda and Gole",
         "Pharmacy",
         0.85
        ],
        [
         "MER2051",
         "Singhal, Pingle and Keer",
         "Entertainment",
         0.41
        ],
        [
         "MER2052",
         "Prabhu-Maharaj",
         "Automotive",
         0.79
        ],
        [
         "MER2053",
         "Merchant, Bhargava and Baral",
         "Pharmacy",
         0.38
        ],
        [
         "MER2054",
         "Bhargava, Sabharwal and Shukla",
         "Electronics",
         0.45
        ],
        [
         "MER2055",
         "Setty, Patel and Kibe",
         "Food",
         0.1
        ],
        [
         "MER2056",
         "Atwal, Khosla and Rajagopalan",
         "Retail",
         0.31
        ],
        [
         "MER2057",
         "Bhatti-Gala",
         "Finance",
         0.68
        ],
        [
         "MER2058",
         "Gara-Trivedi",
         "Transport",
         0.38
        ],
        [
         "MER2059",
         "Chowdhury-Apte",
         "E-commerce",
         0.16
        ],
        [
         "MER2060",
         "Saha-Vig",
         "Finance",
         0.86
        ],
        [
         "MER2061",
         "Bassi PLC",
         "Hospitality",
         0.75
        ],
        [
         "MER2062",
         "Tak-Chaudhry",
         "Transport",
         0.39
        ],
        [
         "MER2063",
         "Kulkarni-Patil",
         "Finance",
         0.43
        ],
        [
         "MER2064",
         "Narain-Srinivasan",
         "Transport",
         0.57
        ],
        [
         "MER2065",
         "Trivedi Group",
         "Electronics",
         0.95
        ],
        [
         "MER2066",
         "Venkatesh, Dugar and Kamdar",
         "Entertainment",
         0.83
        ],
        [
         "MER2067",
         "Kumer PLC",
         "Education",
         0.71
        ],
        [
         "MER2068",
         "De-Subramanian",
         "Food",
         0.16
        ],
        [
         "MER2069",
         "Mital-Goswami",
         "Fashion",
         0.48
        ],
        [
         "MER2070",
         "Ratta Group",
         "E-commerce",
         0.49
        ],
        [
         "MER2071",
         "Om, Gulati and Saxena",
         "Finance",
         0.17
        ],
        [
         "MER2072",
         "Kala LLC",
         "Food",
         0.78
        ],
        [
         "MER2073",
         "Halder-Dey",
         "Electronics",
         0.79
        ],
        [
         "MER2074",
         "Ghosh LLC",
         "Retail",
         0.7
        ],
        [
         "MER2075",
         "Kari-Kurian",
         "E-commerce",
         0.23
        ],
        [
         "MER2076",
         "Bahri, Kaul and Rao",
         "Education",
         0.44
        ],
        [
         "MER2077",
         "Chaudhari, Vala and Varghese",
         "Fashion",
         0.35
        ],
        [
         "MER2078",
         "Deol-Dewan",
         "Entertainment",
         0.63
        ],
        [
         "MER2079",
         "Bhakta-Kibe",
         "Transport",
         0.38
        ],
        [
         "MER2080",
         "Vaidya Group",
         "Education",
         0.18
        ],
        [
         "MER2081",
         "Dash, Dhaliwal and Mani",
         "Entertainment",
         0.43
        ],
        [
         "MER2082",
         "Roy, Pillai and Bandi",
         "Electronics",
         0.59
        ],
        [
         "MER2083",
         "Chana-Bose",
         "Finance",
         0.67
        ],
        [
         "MER2084",
         "Ranganathan-Kamdar",
         "E-commerce",
         0.37
        ],
        [
         "MER2085",
         "Sarraf-Sane",
         "Automotive",
         0.35
        ],
        [
         "MER2086",
         "Halder, Garg and Sen",
         "Education",
         0.18
        ],
        [
         "MER2087",
         "Kumar Ltd",
         "Automotive",
         0.6
        ],
        [
         "MER2088",
         "Varughese, Narasimhan and Pandey",
         "Automotive",
         0.11
        ],
        [
         "MER2089",
         "Maharaj Inc",
         "Fashion",
         0.63
        ],
        [
         "MER2090",
         "Bora-Dayal",
         "Electronics",
         0.22
        ],
        [
         "MER2091",
         "Agate Ltd",
         "Finance",
         0.77
        ],
        [
         "MER2092",
         "Bassi-Nagar",
         "Hospitality",
         0.84
        ],
        [
         "MER2093",
         "Dugar-Pathak",
         "Education",
         0.45
        ],
        [
         "MER2094",
         "Borde-Bhatt",
         "Healthcare",
         0.74
        ],
        [
         "MER2095",
         "Sant, Mitter and Kant",
         "Education",
         0.65
        ],
        [
         "MER2096",
         "Barad-Mital",
         "Automotive",
         0.42
        ],
        [
         "MER2097",
         "Raj-Pau",
         "Food",
         0.76
        ],
        [
         "MER2098",
         "Doshi and Sons",
         "Hospitality",
         0.83
        ],
        [
         "MER2099",
         "Butala PLC",
         "Healthcare",
         0.39
        ]
       ],
       "datasetInfos": [],
       "dbfsResultPath": null,
       "isJsonSchema": true,
       "metadata": {},
       "overflow": false,
       "plotOptions": {
        "customPlotOptions": {},
        "displayType": "table",
        "pivotAggregation": null,
        "pivotColumns": null,
        "xColumns": null,
        "yColumns": null
       },
       "removedWidgets": [],
       "schema": [
        {
         "metadata": "{}",
         "name": "merchant_id",
         "type": "\"string\""
        },
        {
         "metadata": "{}",
         "name": "merchant_name",
         "type": "\"string\""
        },
        {
         "metadata": "{}",
         "name": "category",
         "type": "\"string\""
        },
        {
         "metadata": "{}",
         "name": "risk_rating",
         "type": "\"double\""
        }
       ],
       "type": "table"
      }
     },
     "output_type": "display_data"
    }
   ],
   "source": [
    "# Filter rows where Column1 is not null\n",
    "merchant_df = merchant_df.filter(merchant_df['merchant_id'].isNotNull())\n",
    "\n",
    "# Display the transformed DataFrame\n",
    "display(merchant_df)"
   ]
  },
  {
   "cell_type": "code",
   "execution_count": 0,
   "metadata": {
    "application/vnd.databricks.v1+cell": {
     "cellMetadata": {
      "byteLimit": 2048000,
      "rowLimit": 10000
     },
     "inputWidgets": {},
     "nuid": "271faf9b-533e-40e5-9aef-a40e1c8bc31c",
     "showTitle": false,
     "tableResultSettingsMap": {},
     "title": ""
    }
   },
   "outputs": [
    {
     "name": "stdout",
     "output_type": "stream",
     "text": [
      "root\n",
      " |-- merchant_id: string (nullable = true)\n",
      " |-- merchant_name: string (nullable = true)\n",
      " |-- category: string (nullable = true)\n",
      " |-- risk_rating: double (nullable = true)\n",
      "\n"
     ]
    }
   ],
   "source": [
    "merchant_df.printSchema()"
   ]
  },
  {
   "cell_type": "code",
   "execution_count": 0,
   "metadata": {
    "application/vnd.databricks.v1+cell": {
     "cellMetadata": {
      "byteLimit": 2048000,
      "rowLimit": 10000
     },
     "inputWidgets": {},
     "nuid": "39a0245a-fbf4-411d-9a91-a4433a05b123",
     "showTitle": false,
     "tableResultSettingsMap": {},
     "title": ""
    }
   },
   "outputs": [],
   "source": [
    "from pyspark.sql.functions import col\n",
    " \n",
    "# Drop rows if merchant_id, merchant_name, or category is NULL\n",
    "merchant_df = merchant_df.dropna(subset=[\"merchant_id\", \"merchant_name\", \"category\"])\n",
    " \n",
    "# Fill missing risk ratings with the average risk rating\n",
    "avg_risk = merchant_df.selectExpr(\"avg(risk_rating)\").collect()[0][0]\n",
    "merchant_df = merchant_df.fillna({\"risk_rating\": avg_risk})"
   ]
  },
  {
   "cell_type": "code",
   "execution_count": 0,
   "metadata": {
    "application/vnd.databricks.v1+cell": {
     "cellMetadata": {
      "byteLimit": 2048000,
      "rowLimit": 10000
     },
     "inputWidgets": {},
     "nuid": "b054efe6-5d69-40c1-aa27-4bd685c90362",
     "showTitle": false,
     "tableResultSettingsMap": {},
     "title": ""
    }
   },
   "outputs": [
    {
     "data": {
      "text/html": [
       "<style scoped>\n",
       "  .table-result-container {\n",
       "    max-height: 300px;\n",
       "    overflow: auto;\n",
       "  }\n",
       "  table, th, td {\n",
       "    border: 1px solid black;\n",
       "    border-collapse: collapse;\n",
       "  }\n",
       "  th, td {\n",
       "    padding: 5px;\n",
       "  }\n",
       "  th {\n",
       "    text-align: left;\n",
       "  }\n",
       "</style><div class='table-result-container'><table class='table-result'><thead style='background-color: white'><tr><th>merchant_id</th><th>merchant_name</th><th>category</th><th>risk_rating</th><th>risk_category</th></tr></thead><tbody><tr><td>MER2000</td><td>Sandal PLC</td><td>E-commerce</td><td>0.82</td><td>High</td></tr><tr><td>MER2001</td><td>Kanda, Chaudry and Mammen</td><td>Entertainment</td><td>0.85</td><td>High</td></tr><tr><td>MER2002</td><td>Gupta, Grover and Bora</td><td>Pharmacy</td><td>0.81</td><td>High</td></tr><tr><td>MER2003</td><td>Barman, Lad and Palan</td><td>E-commerce</td><td>0.75</td><td>Medium</td></tr><tr><td>MER2004</td><td>Sagar, Basu and Kanda</td><td>E-commerce</td><td>0.36</td><td>Low</td></tr><tr><td>MER2005</td><td>Kar Ltd</td><td>Automotive</td><td>0.96</td><td>High</td></tr><tr><td>MER2006</td><td>Prasad, Buch and Natt</td><td>Retail</td><td>0.99</td><td>High</td></tr><tr><td>MER2007</td><td>Seshadri-Pai</td><td>Transport</td><td>0.88</td><td>High</td></tr><tr><td>MER2008</td><td>Hora Ltd</td><td>Healthcare</td><td>0.26</td><td>Low</td></tr><tr><td>MER2009</td><td>Mangal and Sons</td><td>Entertainment</td><td>0.63</td><td>Medium</td></tr><tr><td>MER2010</td><td>Dugar-Koshy</td><td>Healthcare</td><td>0.44</td><td>Low</td></tr><tr><td>MER2011</td><td>Kohli-Kala</td><td>Healthcare</td><td>0.88</td><td>High</td></tr><tr><td>MER2012</td><td>Sahni, Bumb and Soni</td><td>Transport</td><td>0.75</td><td>Medium</td></tr><tr><td>MER2013</td><td>Agate and Sons</td><td>Retail</td><td>0.69</td><td>Medium</td></tr><tr><td>MER2014</td><td>Sarma-Sandhu</td><td>Transport</td><td>0.52</td><td>Medium</td></tr><tr><td>MER2015</td><td>Varghese, Contractor and Soni</td><td>E-commerce</td><td>0.4</td><td>Low</td></tr><tr><td>MER2016</td><td>Chana, Garg and Mangal</td><td>Food</td><td>0.67</td><td>Medium</td></tr><tr><td>MER2017</td><td>Modi, Pandya and Bhatt</td><td>Education</td><td>0.96</td><td>High</td></tr><tr><td>MER2018</td><td>Banerjee, Wadhwa and Shere</td><td>Entertainment</td><td>0.23</td><td>Low</td></tr><tr><td>MER2019</td><td>Taneja-Pathak</td><td>Entertainment</td><td>0.53</td><td>Medium</td></tr><tr><td>MER2020</td><td>Balay, Mukherjee and Saini</td><td>Fashion</td><td>0.79</td><td>Medium</td></tr><tr><td>MER2021</td><td>Pillai-Ramachandran</td><td>Transport</td><td>0.93</td><td>High</td></tr><tr><td>MER2022</td><td>Doctor-Pradhan</td><td>Fashion</td><td>0.54</td><td>Medium</td></tr><tr><td>MER2023</td><td>Sehgal, Kale and Venkatesh</td><td>Entertainment</td><td>0.49</td><td>Low</td></tr><tr><td>MER2024</td><td>Bakshi, Oza and Dugal</td><td>Pharmacy</td><td>0.32</td><td>Low</td></tr><tr><td>MER2025</td><td>Kanda-Seth</td><td>Entertainment</td><td>0.79</td><td>Medium</td></tr><tr><td>MER2026</td><td>Deol Inc</td><td>E-commerce</td><td>0.31</td><td>Low</td></tr><tr><td>MER2027</td><td>Wable LLC</td><td>Electronics</td><td>0.64</td><td>Medium</td></tr><tr><td>MER2028</td><td>Barman PLC</td><td>Automotive</td><td>0.2</td><td>Low</td></tr><tr><td>MER2029</td><td>Bhalla and Sons</td><td>Hospitality</td><td>0.86</td><td>High</td></tr><tr><td>MER2030</td><td>Kaur, Sane and Das</td><td>E-commerce</td><td>0.78</td><td>Medium</td></tr><tr><td>MER2031</td><td>Baria-Yadav</td><td>Finance</td><td>0.44</td><td>Low</td></tr><tr><td>MER2032</td><td>Divan-Ben</td><td>Education</td><td>0.13</td><td>Low</td></tr><tr><td>MER2033</td><td>Sathe-Swaminathan</td><td>Entertainment</td><td>0.87</td><td>High</td></tr><tr><td>MER2034</td><td>Kaur and Sons</td><td>Education</td><td>0.91</td><td>High</td></tr><tr><td>MER2035</td><td>Setty Ltd</td><td>Food</td><td>0.84</td><td>High</td></tr><tr><td>MER2036</td><td>Guha, Gour and Kannan</td><td>Food</td><td>0.91</td><td>High</td></tr><tr><td>MER2037</td><td>Ranganathan-Babu</td><td>E-commerce</td><td>0.91</td><td>High</td></tr><tr><td>MER2038</td><td>Toor LLC</td><td>Food</td><td>0.21</td><td>Low</td></tr><tr><td>MER2039</td><td>Ganesh-Bhasin</td><td>Hospitality</td><td>0.63</td><td>Medium</td></tr><tr><td>MER2040</td><td>Nori, Pandit and Misra</td><td>Automotive</td><td>0.75</td><td>Medium</td></tr><tr><td>MER2041</td><td>Shenoy-Kibe</td><td>Automotive</td><td>0.63</td><td>Medium</td></tr><tr><td>MER2042</td><td>Dugar, Krish and Sodhi</td><td>Pharmacy</td><td>0.68</td><td>Medium</td></tr><tr><td>MER2043</td><td>Pant-Srivastava</td><td>Automotive</td><td>0.56</td><td>Medium</td></tr><tr><td>MER2044</td><td>Shan and Sons</td><td>Fashion</td><td>0.73</td><td>Medium</td></tr><tr><td>MER2045</td><td>Wali and Sons</td><td>Healthcare</td><td>0.3</td><td>Low</td></tr><tr><td>MER2046</td><td>Sarna-Kala</td><td>Finance</td><td>0.77</td><td>Medium</td></tr><tr><td>MER2047</td><td>Joshi Group</td><td>Finance</td><td>0.47</td><td>Low</td></tr><tr><td>MER2048</td><td>Kale, Rana and Jani</td><td>Food</td><td>0.13</td><td>Low</td></tr><tr><td>MER2049</td><td>Sant PLC</td><td>Transport</td><td>0.46</td><td>Low</td></tr><tr><td>MER2050</td><td>Ramaswamy, Konda and Gole</td><td>Pharmacy</td><td>0.85</td><td>High</td></tr><tr><td>MER2051</td><td>Singhal, Pingle and Keer</td><td>Entertainment</td><td>0.41</td><td>Low</td></tr><tr><td>MER2052</td><td>Prabhu-Maharaj</td><td>Automotive</td><td>0.79</td><td>Medium</td></tr><tr><td>MER2053</td><td>Merchant, Bhargava and Baral</td><td>Pharmacy</td><td>0.38</td><td>Low</td></tr><tr><td>MER2054</td><td>Bhargava, Sabharwal and Shukla</td><td>Electronics</td><td>0.45</td><td>Low</td></tr><tr><td>MER2055</td><td>Setty, Patel and Kibe</td><td>Food</td><td>0.1</td><td>Low</td></tr><tr><td>MER2056</td><td>Atwal, Khosla and Rajagopalan</td><td>Retail</td><td>0.31</td><td>Low</td></tr><tr><td>MER2057</td><td>Bhatti-Gala</td><td>Finance</td><td>0.68</td><td>Medium</td></tr><tr><td>MER2058</td><td>Gara-Trivedi</td><td>Transport</td><td>0.38</td><td>Low</td></tr><tr><td>MER2059</td><td>Chowdhury-Apte</td><td>E-commerce</td><td>0.16</td><td>Low</td></tr><tr><td>MER2060</td><td>Saha-Vig</td><td>Finance</td><td>0.86</td><td>High</td></tr><tr><td>MER2061</td><td>Bassi PLC</td><td>Hospitality</td><td>0.75</td><td>Medium</td></tr><tr><td>MER2062</td><td>Tak-Chaudhry</td><td>Transport</td><td>0.39</td><td>Low</td></tr><tr><td>MER2063</td><td>Kulkarni-Patil</td><td>Finance</td><td>0.43</td><td>Low</td></tr><tr><td>MER2064</td><td>Narain-Srinivasan</td><td>Transport</td><td>0.57</td><td>Medium</td></tr><tr><td>MER2065</td><td>Trivedi Group</td><td>Electronics</td><td>0.95</td><td>High</td></tr><tr><td>MER2066</td><td>Venkatesh, Dugar and Kamdar</td><td>Entertainment</td><td>0.83</td><td>High</td></tr><tr><td>MER2067</td><td>Kumer PLC</td><td>Education</td><td>0.71</td><td>Medium</td></tr><tr><td>MER2068</td><td>De-Subramanian</td><td>Food</td><td>0.16</td><td>Low</td></tr><tr><td>MER2069</td><td>Mital-Goswami</td><td>Fashion</td><td>0.48</td><td>Low</td></tr><tr><td>MER2070</td><td>Ratta Group</td><td>E-commerce</td><td>0.49</td><td>Low</td></tr><tr><td>MER2071</td><td>Om, Gulati and Saxena</td><td>Finance</td><td>0.17</td><td>Low</td></tr><tr><td>MER2072</td><td>Kala LLC</td><td>Food</td><td>0.78</td><td>Medium</td></tr><tr><td>MER2073</td><td>Halder-Dey</td><td>Electronics</td><td>0.79</td><td>Medium</td></tr><tr><td>MER2074</td><td>Ghosh LLC</td><td>Retail</td><td>0.7</td><td>Medium</td></tr><tr><td>MER2075</td><td>Kari-Kurian</td><td>E-commerce</td><td>0.23</td><td>Low</td></tr><tr><td>MER2076</td><td>Bahri, Kaul and Rao</td><td>Education</td><td>0.44</td><td>Low</td></tr><tr><td>MER2077</td><td>Chaudhari, Vala and Varghese</td><td>Fashion</td><td>0.35</td><td>Low</td></tr><tr><td>MER2078</td><td>Deol-Dewan</td><td>Entertainment</td><td>0.63</td><td>Medium</td></tr><tr><td>MER2079</td><td>Bhakta-Kibe</td><td>Transport</td><td>0.38</td><td>Low</td></tr><tr><td>MER2080</td><td>Vaidya Group</td><td>Education</td><td>0.18</td><td>Low</td></tr><tr><td>MER2081</td><td>Dash, Dhaliwal and Mani</td><td>Entertainment</td><td>0.43</td><td>Low</td></tr><tr><td>MER2082</td><td>Roy, Pillai and Bandi</td><td>Electronics</td><td>0.59</td><td>Medium</td></tr><tr><td>MER2083</td><td>Chana-Bose</td><td>Finance</td><td>0.67</td><td>Medium</td></tr><tr><td>MER2084</td><td>Ranganathan-Kamdar</td><td>E-commerce</td><td>0.37</td><td>Low</td></tr><tr><td>MER2085</td><td>Sarraf-Sane</td><td>Automotive</td><td>0.35</td><td>Low</td></tr><tr><td>MER2086</td><td>Halder, Garg and Sen</td><td>Education</td><td>0.18</td><td>Low</td></tr><tr><td>MER2087</td><td>Kumar Ltd</td><td>Automotive</td><td>0.6</td><td>Medium</td></tr><tr><td>MER2088</td><td>Varughese, Narasimhan and Pandey</td><td>Automotive</td><td>0.11</td><td>Low</td></tr><tr><td>MER2089</td><td>Maharaj Inc</td><td>Fashion</td><td>0.63</td><td>Medium</td></tr><tr><td>MER2090</td><td>Bora-Dayal</td><td>Electronics</td><td>0.22</td><td>Low</td></tr><tr><td>MER2091</td><td>Agate Ltd</td><td>Finance</td><td>0.77</td><td>Medium</td></tr><tr><td>MER2092</td><td>Bassi-Nagar</td><td>Hospitality</td><td>0.84</td><td>High</td></tr><tr><td>MER2093</td><td>Dugar-Pathak</td><td>Education</td><td>0.45</td><td>Low</td></tr><tr><td>MER2094</td><td>Borde-Bhatt</td><td>Healthcare</td><td>0.74</td><td>Medium</td></tr><tr><td>MER2095</td><td>Sant, Mitter and Kant</td><td>Education</td><td>0.65</td><td>Medium</td></tr><tr><td>MER2096</td><td>Barad-Mital</td><td>Automotive</td><td>0.42</td><td>Low</td></tr><tr><td>MER2097</td><td>Raj-Pau</td><td>Food</td><td>0.76</td><td>Medium</td></tr><tr><td>MER2098</td><td>Doshi and Sons</td><td>Hospitality</td><td>0.83</td><td>High</td></tr><tr><td>MER2099</td><td>Butala PLC</td><td>Healthcare</td><td>0.39</td><td>Low</td></tr></tbody></table></div>"
      ]
     },
     "metadata": {
      "application/vnd.databricks.v1+output": {
       "addedWidgets": {},
       "aggData": [],
       "aggError": "",
       "aggOverflow": false,
       "aggSchema": [],
       "aggSeriesLimitReached": false,
       "aggType": "",
       "arguments": {},
       "columnCustomDisplayInfos": {},
       "data": [
        [
         "MER2000",
         "Sandal PLC",
         "E-commerce",
         0.82,
         "High"
        ],
        [
         "MER2001",
         "Kanda, Chaudry and Mammen",
         "Entertainment",
         0.85,
         "High"
        ],
        [
         "MER2002",
         "Gupta, Grover and Bora",
         "Pharmacy",
         0.81,
         "High"
        ],
        [
         "MER2003",
         "Barman, Lad and Palan",
         "E-commerce",
         0.75,
         "Medium"
        ],
        [
         "MER2004",
         "Sagar, Basu and Kanda",
         "E-commerce",
         0.36,
         "Low"
        ],
        [
         "MER2005",
         "Kar Ltd",
         "Automotive",
         0.96,
         "High"
        ],
        [
         "MER2006",
         "Prasad, Buch and Natt",
         "Retail",
         0.99,
         "High"
        ],
        [
         "MER2007",
         "Seshadri-Pai",
         "Transport",
         0.88,
         "High"
        ],
        [
         "MER2008",
         "Hora Ltd",
         "Healthcare",
         0.26,
         "Low"
        ],
        [
         "MER2009",
         "Mangal and Sons",
         "Entertainment",
         0.63,
         "Medium"
        ],
        [
         "MER2010",
         "Dugar-Koshy",
         "Healthcare",
         0.44,
         "Low"
        ],
        [
         "MER2011",
         "Kohli-Kala",
         "Healthcare",
         0.88,
         "High"
        ],
        [
         "MER2012",
         "Sahni, Bumb and Soni",
         "Transport",
         0.75,
         "Medium"
        ],
        [
         "MER2013",
         "Agate and Sons",
         "Retail",
         0.69,
         "Medium"
        ],
        [
         "MER2014",
         "Sarma-Sandhu",
         "Transport",
         0.52,
         "Medium"
        ],
        [
         "MER2015",
         "Varghese, Contractor and Soni",
         "E-commerce",
         0.4,
         "Low"
        ],
        [
         "MER2016",
         "Chana, Garg and Mangal",
         "Food",
         0.67,
         "Medium"
        ],
        [
         "MER2017",
         "Modi, Pandya and Bhatt",
         "Education",
         0.96,
         "High"
        ],
        [
         "MER2018",
         "Banerjee, Wadhwa and Shere",
         "Entertainment",
         0.23,
         "Low"
        ],
        [
         "MER2019",
         "Taneja-Pathak",
         "Entertainment",
         0.53,
         "Medium"
        ],
        [
         "MER2020",
         "Balay, Mukherjee and Saini",
         "Fashion",
         0.79,
         "Medium"
        ],
        [
         "MER2021",
         "Pillai-Ramachandran",
         "Transport",
         0.93,
         "High"
        ],
        [
         "MER2022",
         "Doctor-Pradhan",
         "Fashion",
         0.54,
         "Medium"
        ],
        [
         "MER2023",
         "Sehgal, Kale and Venkatesh",
         "Entertainment",
         0.49,
         "Low"
        ],
        [
         "MER2024",
         "Bakshi, Oza and Dugal",
         "Pharmacy",
         0.32,
         "Low"
        ],
        [
         "MER2025",
         "Kanda-Seth",
         "Entertainment",
         0.79,
         "Medium"
        ],
        [
         "MER2026",
         "Deol Inc",
         "E-commerce",
         0.31,
         "Low"
        ],
        [
         "MER2027",
         "Wable LLC",
         "Electronics",
         0.64,
         "Medium"
        ],
        [
         "MER2028",
         "Barman PLC",
         "Automotive",
         0.2,
         "Low"
        ],
        [
         "MER2029",
         "Bhalla and Sons",
         "Hospitality",
         0.86,
         "High"
        ],
        [
         "MER2030",
         "Kaur, Sane and Das",
         "E-commerce",
         0.78,
         "Medium"
        ],
        [
         "MER2031",
         "Baria-Yadav",
         "Finance",
         0.44,
         "Low"
        ],
        [
         "MER2032",
         "Divan-Ben",
         "Education",
         0.13,
         "Low"
        ],
        [
         "MER2033",
         "Sathe-Swaminathan",
         "Entertainment",
         0.87,
         "High"
        ],
        [
         "MER2034",
         "Kaur and Sons",
         "Education",
         0.91,
         "High"
        ],
        [
         "MER2035",
         "Setty Ltd",
         "Food",
         0.84,
         "High"
        ],
        [
         "MER2036",
         "Guha, Gour and Kannan",
         "Food",
         0.91,
         "High"
        ],
        [
         "MER2037",
         "Ranganathan-Babu",
         "E-commerce",
         0.91,
         "High"
        ],
        [
         "MER2038",
         "Toor LLC",
         "Food",
         0.21,
         "Low"
        ],
        [
         "MER2039",
         "Ganesh-Bhasin",
         "Hospitality",
         0.63,
         "Medium"
        ],
        [
         "MER2040",
         "Nori, Pandit and Misra",
         "Automotive",
         0.75,
         "Medium"
        ],
        [
         "MER2041",
         "Shenoy-Kibe",
         "Automotive",
         0.63,
         "Medium"
        ],
        [
         "MER2042",
         "Dugar, Krish and Sodhi",
         "Pharmacy",
         0.68,
         "Medium"
        ],
        [
         "MER2043",
         "Pant-Srivastava",
         "Automotive",
         0.56,
         "Medium"
        ],
        [
         "MER2044",
         "Shan and Sons",
         "Fashion",
         0.73,
         "Medium"
        ],
        [
         "MER2045",
         "Wali and Sons",
         "Healthcare",
         0.3,
         "Low"
        ],
        [
         "MER2046",
         "Sarna-Kala",
         "Finance",
         0.77,
         "Medium"
        ],
        [
         "MER2047",
         "Joshi Group",
         "Finance",
         0.47,
         "Low"
        ],
        [
         "MER2048",
         "Kale, Rana and Jani",
         "Food",
         0.13,
         "Low"
        ],
        [
         "MER2049",
         "Sant PLC",
         "Transport",
         0.46,
         "Low"
        ],
        [
         "MER2050",
         "Ramaswamy, Konda and Gole",
         "Pharmacy",
         0.85,
         "High"
        ],
        [
         "MER2051",
         "Singhal, Pingle and Keer",
         "Entertainment",
         0.41,
         "Low"
        ],
        [
         "MER2052",
         "Prabhu-Maharaj",
         "Automotive",
         0.79,
         "Medium"
        ],
        [
         "MER2053",
         "Merchant, Bhargava and Baral",
         "Pharmacy",
         0.38,
         "Low"
        ],
        [
         "MER2054",
         "Bhargava, Sabharwal and Shukla",
         "Electronics",
         0.45,
         "Low"
        ],
        [
         "MER2055",
         "Setty, Patel and Kibe",
         "Food",
         0.1,
         "Low"
        ],
        [
         "MER2056",
         "Atwal, Khosla and Rajagopalan",
         "Retail",
         0.31,
         "Low"
        ],
        [
         "MER2057",
         "Bhatti-Gala",
         "Finance",
         0.68,
         "Medium"
        ],
        [
         "MER2058",
         "Gara-Trivedi",
         "Transport",
         0.38,
         "Low"
        ],
        [
         "MER2059",
         "Chowdhury-Apte",
         "E-commerce",
         0.16,
         "Low"
        ],
        [
         "MER2060",
         "Saha-Vig",
         "Finance",
         0.86,
         "High"
        ],
        [
         "MER2061",
         "Bassi PLC",
         "Hospitality",
         0.75,
         "Medium"
        ],
        [
         "MER2062",
         "Tak-Chaudhry",
         "Transport",
         0.39,
         "Low"
        ],
        [
         "MER2063",
         "Kulkarni-Patil",
         "Finance",
         0.43,
         "Low"
        ],
        [
         "MER2064",
         "Narain-Srinivasan",
         "Transport",
         0.57,
         "Medium"
        ],
        [
         "MER2065",
         "Trivedi Group",
         "Electronics",
         0.95,
         "High"
        ],
        [
         "MER2066",
         "Venkatesh, Dugar and Kamdar",
         "Entertainment",
         0.83,
         "High"
        ],
        [
         "MER2067",
         "Kumer PLC",
         "Education",
         0.71,
         "Medium"
        ],
        [
         "MER2068",
         "De-Subramanian",
         "Food",
         0.16,
         "Low"
        ],
        [
         "MER2069",
         "Mital-Goswami",
         "Fashion",
         0.48,
         "Low"
        ],
        [
         "MER2070",
         "Ratta Group",
         "E-commerce",
         0.49,
         "Low"
        ],
        [
         "MER2071",
         "Om, Gulati and Saxena",
         "Finance",
         0.17,
         "Low"
        ],
        [
         "MER2072",
         "Kala LLC",
         "Food",
         0.78,
         "Medium"
        ],
        [
         "MER2073",
         "Halder-Dey",
         "Electronics",
         0.79,
         "Medium"
        ],
        [
         "MER2074",
         "Ghosh LLC",
         "Retail",
         0.7,
         "Medium"
        ],
        [
         "MER2075",
         "Kari-Kurian",
         "E-commerce",
         0.23,
         "Low"
        ],
        [
         "MER2076",
         "Bahri, Kaul and Rao",
         "Education",
         0.44,
         "Low"
        ],
        [
         "MER2077",
         "Chaudhari, Vala and Varghese",
         "Fashion",
         0.35,
         "Low"
        ],
        [
         "MER2078",
         "Deol-Dewan",
         "Entertainment",
         0.63,
         "Medium"
        ],
        [
         "MER2079",
         "Bhakta-Kibe",
         "Transport",
         0.38,
         "Low"
        ],
        [
         "MER2080",
         "Vaidya Group",
         "Education",
         0.18,
         "Low"
        ],
        [
         "MER2081",
         "Dash, Dhaliwal and Mani",
         "Entertainment",
         0.43,
         "Low"
        ],
        [
         "MER2082",
         "Roy, Pillai and Bandi",
         "Electronics",
         0.59,
         "Medium"
        ],
        [
         "MER2083",
         "Chana-Bose",
         "Finance",
         0.67,
         "Medium"
        ],
        [
         "MER2084",
         "Ranganathan-Kamdar",
         "E-commerce",
         0.37,
         "Low"
        ],
        [
         "MER2085",
         "Sarraf-Sane",
         "Automotive",
         0.35,
         "Low"
        ],
        [
         "MER2086",
         "Halder, Garg and Sen",
         "Education",
         0.18,
         "Low"
        ],
        [
         "MER2087",
         "Kumar Ltd",
         "Automotive",
         0.6,
         "Medium"
        ],
        [
         "MER2088",
         "Varughese, Narasimhan and Pandey",
         "Automotive",
         0.11,
         "Low"
        ],
        [
         "MER2089",
         "Maharaj Inc",
         "Fashion",
         0.63,
         "Medium"
        ],
        [
         "MER2090",
         "Bora-Dayal",
         "Electronics",
         0.22,
         "Low"
        ],
        [
         "MER2091",
         "Agate Ltd",
         "Finance",
         0.77,
         "Medium"
        ],
        [
         "MER2092",
         "Bassi-Nagar",
         "Hospitality",
         0.84,
         "High"
        ],
        [
         "MER2093",
         "Dugar-Pathak",
         "Education",
         0.45,
         "Low"
        ],
        [
         "MER2094",
         "Borde-Bhatt",
         "Healthcare",
         0.74,
         "Medium"
        ],
        [
         "MER2095",
         "Sant, Mitter and Kant",
         "Education",
         0.65,
         "Medium"
        ],
        [
         "MER2096",
         "Barad-Mital",
         "Automotive",
         0.42,
         "Low"
        ],
        [
         "MER2097",
         "Raj-Pau",
         "Food",
         0.76,
         "Medium"
        ],
        [
         "MER2098",
         "Doshi and Sons",
         "Hospitality",
         0.83,
         "High"
        ],
        [
         "MER2099",
         "Butala PLC",
         "Healthcare",
         0.39,
         "Low"
        ]
       ],
       "datasetInfos": [],
       "dbfsResultPath": null,
       "isJsonSchema": true,
       "metadata": {},
       "overflow": false,
       "plotOptions": {
        "customPlotOptions": {},
        "displayType": "table",
        "pivotAggregation": null,
        "pivotColumns": null,
        "xColumns": null,
        "yColumns": null
       },
       "removedWidgets": [],
       "schema": [
        {
         "metadata": "{}",
         "name": "merchant_id",
         "type": "\"string\""
        },
        {
         "metadata": "{}",
         "name": "merchant_name",
         "type": "\"string\""
        },
        {
         "metadata": "{}",
         "name": "category",
         "type": "\"string\""
        },
        {
         "metadata": "{}",
         "name": "risk_rating",
         "type": "\"double\""
        },
        {
         "metadata": "{}",
         "name": "risk_category",
         "type": "\"string\""
        }
       ],
       "type": "table"
      }
     },
     "output_type": "display_data"
    }
   ],
   "source": [
    "from pyspark.sql.functions import when\n",
    " \n",
    "merchant_df = merchant_df.withColumn(\"risk_category\", when(col(\"risk_rating\") >= 0.8, \"High\").when(col(\"risk_rating\") >= 0.5, \"Medium\").otherwise(\"Low\"))\n",
    "merchant_df.display()"
   ]
  },
  {
   "cell_type": "code",
   "execution_count": 0,
   "metadata": {
    "application/vnd.databricks.v1+cell": {
     "cellMetadata": {
      "byteLimit": 2048000,
      "rowLimit": 10000
     },
     "inputWidgets": {},
     "nuid": "ffe6b5cc-ad66-454c-8044-478e2dac1cb7",
     "showTitle": false,
     "tableResultSettingsMap": {},
     "title": ""
    }
   },
   "outputs": [
    {
     "data": {
      "text/html": [
       "<style scoped>\n",
       "  .table-result-container {\n",
       "    max-height: 300px;\n",
       "    overflow: auto;\n",
       "  }\n",
       "  table, th, td {\n",
       "    border: 1px solid black;\n",
       "    border-collapse: collapse;\n",
       "  }\n",
       "  th, td {\n",
       "    padding: 5px;\n",
       "  }\n",
       "  th {\n",
       "    text-align: left;\n",
       "  }\n",
       "</style><div class='table-result-container'><table class='table-result'><thead style='background-color: white'><tr><th>compliance_id</th><th>transaction_id</th><th>compliance_check</th><th>status</th></tr></thead><tbody><tr><td>COMP7000</td><td>TXN10031</td><td>No Issues</td><td>Failed</td></tr><tr><td>COMP7001</td><td>TXN10042</td><td>Sanction List Matched</td><td>Failed</td></tr><tr><td>COMP7002</td><td>TXN10067</td><td>High-Risk Country Alert</td><td>Failed</td></tr><tr><td>COMP7003</td><td>TXN10030</td><td>Mismatched Beneficiary Info</td><td>Passed</td></tr><tr><td>COMP7004</td><td>TXN10029</td><td>Multiple Failed Logins</td><td>Failed</td></tr><tr><td>COMP7005</td><td>TXN10025</td><td>Unusual Transaction Pattern</td><td>Failed</td></tr><tr><td>COMP7006</td><td>TXN10093</td><td>Unusual Transaction Pattern</td><td>Failed</td></tr><tr><td>COMP7007</td><td>TXN10033</td><td>Mismatched Beneficiary Info</td><td>Failed</td></tr><tr><td>COMP7008</td><td>TXN10070</td><td>Unusual Transaction Pattern</td><td>Passed</td></tr><tr><td>COMP7009</td><td>TXN10001</td><td>AML Flagged</td><td>Failed</td></tr><tr><td>COMP7010</td><td>TXN10011</td><td>No Issues</td><td>Failed</td></tr><tr><td>COMP7011</td><td>TXN10037</td><td>High-Risk Country Alert</td><td>Failed</td></tr><tr><td>COMP7012</td><td>TXN10002</td><td>Unusual Transaction Pattern</td><td>Failed</td></tr><tr><td>COMP7013</td><td>TXN10050</td><td>Excessive Cash Deposits</td><td>Passed</td></tr><tr><td>COMP7014</td><td>TXN10056</td><td>PEP Involvement</td><td>Failed</td></tr><tr><td>COMP7015</td><td>TXN10070</td><td>No Issues</td><td>Failed</td></tr><tr><td>COMP7016</td><td>TXN10046</td><td>Excessive Cash Deposits</td><td>Failed</td></tr><tr><td>COMP7017</td><td>TXN10010</td><td>AML Flagged</td><td>Passed</td></tr><tr><td>COMP7018</td><td>TXN10008</td><td>Sanction List Matched</td><td>Passed</td></tr><tr><td>COMP7019</td><td>TXN10050</td><td>Multiple Failed Logins</td><td>Passed</td></tr><tr><td>COMP7020</td><td>TXN10035</td><td>Sanction List Matched</td><td>Passed</td></tr><tr><td>COMP7021</td><td>TXN10084</td><td>Excessive Cash Deposits</td><td>Passed</td></tr><tr><td>COMP7022</td><td>TXN10019</td><td>Mismatched Beneficiary Info</td><td>Failed</td></tr><tr><td>COMP7023</td><td>TXN10026</td><td>Mismatched Beneficiary Info</td><td>Passed</td></tr><tr><td>COMP7024</td><td>TXN10050</td><td>Sanction List Matched</td><td>Passed</td></tr><tr><td>COMP7025</td><td>TXN10090</td><td>High-Risk Country Alert</td><td>Passed</td></tr><tr><td>COMP7026</td><td>TXN10073</td><td>No Issues</td><td>Passed</td></tr><tr><td>COMP7027</td><td>TXN10041</td><td>Multiple Failed Logins</td><td>Passed</td></tr><tr><td>COMP7028</td><td>TXN10051</td><td>PEP Involvement</td><td>Passed</td></tr><tr><td>COMP7029</td><td>TXN10037</td><td>High-Risk Country Alert</td><td>Passed</td></tr><tr><td>COMP7030</td><td>TXN10088</td><td>KYC Verified</td><td>Passed</td></tr><tr><td>COMP7031</td><td>TXN10066</td><td>AML Flagged</td><td>Passed</td></tr><tr><td>COMP7032</td><td>TXN10005</td><td>PEP Involvement</td><td>Passed</td></tr><tr><td>COMP7033</td><td>TXN10094</td><td>No Issues</td><td>Failed</td></tr><tr><td>COMP7034</td><td>TXN10004</td><td>No Issues</td><td>Passed</td></tr><tr><td>COMP7035</td><td>TXN10073</td><td>High-Risk Country Alert</td><td>Failed</td></tr><tr><td>COMP7036</td><td>TXN10044</td><td>Sanction List Matched</td><td>Failed</td></tr><tr><td>COMP7037</td><td>TXN10082</td><td>Multiple Failed Logins</td><td>Passed</td></tr><tr><td>COMP7038</td><td>TXN10087</td><td>AML Flagged</td><td>Failed</td></tr><tr><td>COMP7039</td><td>TXN10010</td><td>Unusual Transaction Pattern</td><td>Passed</td></tr><tr><td>COMP7040</td><td>TXN10051</td><td>Sanction List Matched</td><td>Failed</td></tr><tr><td>COMP7041</td><td>TXN10073</td><td>PEP Involvement</td><td>Passed</td></tr><tr><td>COMP7042</td><td>TXN10016</td><td>PEP Involvement</td><td>Failed</td></tr><tr><td>COMP7043</td><td>TXN10095</td><td>AML Flagged</td><td>Failed</td></tr><tr><td>COMP7044</td><td>TXN10071</td><td>Multiple Failed Logins</td><td>Passed</td></tr><tr><td>COMP7045</td><td>TXN10049</td><td>KYC Verified</td><td>Passed</td></tr><tr><td>COMP7046</td><td>TXN10037</td><td>Sanction List Matched</td><td>Failed</td></tr><tr><td>COMP7047</td><td>TXN10046</td><td>PEP Involvement</td><td>Failed</td></tr><tr><td>COMP7048</td><td>TXN10053</td><td>Unusual Transaction Pattern</td><td>Failed</td></tr><tr><td>COMP7049</td><td>TXN10031</td><td>AML Flagged</td><td>Failed</td></tr><tr><td>COMP7050</td><td>TXN10013</td><td>No Issues</td><td>Passed</td></tr><tr><td>COMP7051</td><td>TXN10003</td><td>Sanction List Matched</td><td>Failed</td></tr><tr><td>COMP7052</td><td>TXN10042</td><td>Sanction List Matched</td><td>Passed</td></tr><tr><td>COMP7053</td><td>TXN10085</td><td>PEP Involvement</td><td>Failed</td></tr><tr><td>COMP7054</td><td>TXN10080</td><td>Sanction List Matched</td><td>Passed</td></tr><tr><td>COMP7055</td><td>TXN10094</td><td>Sanction List Matched</td><td>Passed</td></tr><tr><td>COMP7056</td><td>TXN10097</td><td>Unusual Transaction Pattern</td><td>Passed</td></tr><tr><td>COMP7057</td><td>TXN10009</td><td>Excessive Cash Deposits</td><td>Passed</td></tr><tr><td>COMP7058</td><td>TXN10012</td><td>PEP Involvement</td><td>Passed</td></tr><tr><td>COMP7059</td><td>TXN10026</td><td>PEP Involvement</td><td>Failed</td></tr><tr><td>COMP7060</td><td>TXN10047</td><td>Excessive Cash Deposits</td><td>Passed</td></tr><tr><td>COMP7061</td><td>TXN10052</td><td>KYC Verified</td><td>Passed</td></tr><tr><td>COMP7062</td><td>TXN10063</td><td>PEP Involvement</td><td>Passed</td></tr><tr><td>COMP7063</td><td>TXN10027</td><td>PEP Involvement</td><td>Failed</td></tr><tr><td>COMP7064</td><td>TXN10070</td><td>Excessive Cash Deposits</td><td>Passed</td></tr><tr><td>COMP7065</td><td>TXN10067</td><td>Excessive Cash Deposits</td><td>Passed</td></tr><tr><td>COMP7066</td><td>TXN10012</td><td>Excessive Cash Deposits</td><td>Passed</td></tr><tr><td>COMP7067</td><td>TXN10082</td><td>No Issues</td><td>Failed</td></tr><tr><td>COMP7068</td><td>TXN10090</td><td>No Issues</td><td>Failed</td></tr><tr><td>COMP7069</td><td>TXN10049</td><td>Excessive Cash Deposits</td><td>Failed</td></tr><tr><td>COMP7070</td><td>TXN10050</td><td>AML Flagged</td><td>Failed</td></tr><tr><td>COMP7071</td><td>TXN10029</td><td>Mismatched Beneficiary Info</td><td>Passed</td></tr><tr><td>COMP7072</td><td>TXN10040</td><td>High-Risk Country Alert</td><td>Passed</td></tr><tr><td>COMP7073</td><td>TXN10074</td><td>Mismatched Beneficiary Info</td><td>Failed</td></tr><tr><td>COMP7074</td><td>TXN10067</td><td>Unusual Transaction Pattern</td><td>Passed</td></tr><tr><td>COMP7075</td><td>TXN10025</td><td>Unusual Transaction Pattern</td><td>Failed</td></tr><tr><td>COMP7076</td><td>TXN10050</td><td>High-Risk Country Alert</td><td>Failed</td></tr><tr><td>COMP7077</td><td>TXN10010</td><td>AML Flagged</td><td>Passed</td></tr><tr><td>COMP7078</td><td>TXN10024</td><td>No Issues</td><td>Failed</td></tr><tr><td>COMP7079</td><td>TXN10058</td><td>Unusual Transaction Pattern</td><td>Failed</td></tr><tr><td>COMP7080</td><td>TXN10071</td><td>Sanction List Matched</td><td>Passed</td></tr><tr><td>COMP7081</td><td>TXN10056</td><td>Mismatched Beneficiary Info</td><td>Failed</td></tr><tr><td>COMP7082</td><td>TXN10048</td><td>Excessive Cash Deposits</td><td>Failed</td></tr><tr><td>COMP7083</td><td>TXN10069</td><td>Excessive Cash Deposits</td><td>Passed</td></tr><tr><td>COMP7084</td><td>TXN10018</td><td>Sanction List Matched</td><td>Passed</td></tr><tr><td>COMP7085</td><td>TXN10037</td><td>High-Risk Country Alert</td><td>Failed</td></tr><tr><td>COMP7086</td><td>TXN10079</td><td>Excessive Cash Deposits</td><td>Passed</td></tr><tr><td>COMP7087</td><td>TXN10013</td><td>High-Risk Country Alert</td><td>Failed</td></tr><tr><td>COMP7088</td><td>TXN10058</td><td>Sanction List Matched</td><td>Failed</td></tr><tr><td>COMP7089</td><td>TXN10002</td><td>PEP Involvement</td><td>Failed</td></tr><tr><td>COMP7090</td><td>TXN10062</td><td>Sanction List Matched</td><td>Failed</td></tr><tr><td>COMP7091</td><td>TXN10043</td><td>High-Risk Country Alert</td><td>Passed</td></tr><tr><td>COMP7092</td><td>TXN10082</td><td>Multiple Failed Logins</td><td>Failed</td></tr><tr><td>COMP7093</td><td>TXN10058</td><td>Multiple Failed Logins</td><td>Passed</td></tr><tr><td>COMP7094</td><td>TXN10039</td><td>PEP Involvement</td><td>Failed</td></tr><tr><td>COMP7095</td><td>TXN10009</td><td>High-Risk Country Alert</td><td>Passed</td></tr><tr><td>COMP7096</td><td>TXN10083</td><td>Sanction List Matched</td><td>Passed</td></tr><tr><td>COMP7097</td><td>TXN10053</td><td>KYC Verified</td><td>Failed</td></tr><tr><td>COMP7098</td><td>TXN10010</td><td>KYC Verified</td><td>Failed</td></tr><tr><td>COMP7099</td><td>TXN10093</td><td>Sanction List Matched</td><td>Failed</td></tr></tbody></table></div>"
      ]
     },
     "metadata": {
      "application/vnd.databricks.v1+output": {
       "addedWidgets": {},
       "aggData": [],
       "aggError": "",
       "aggOverflow": false,
       "aggSchema": [],
       "aggSeriesLimitReached": false,
       "aggType": "",
       "arguments": {},
       "columnCustomDisplayInfos": {},
       "data": [
        [
         "COMP7000",
         "TXN10031",
         "No Issues",
         "Failed"
        ],
        [
         "COMP7001",
         "TXN10042",
         "Sanction List Matched",
         "Failed"
        ],
        [
         "COMP7002",
         "TXN10067",
         "High-Risk Country Alert",
         "Failed"
        ],
        [
         "COMP7003",
         "TXN10030",
         "Mismatched Beneficiary Info",
         "Passed"
        ],
        [
         "COMP7004",
         "TXN10029",
         "Multiple Failed Logins",
         "Failed"
        ],
        [
         "COMP7005",
         "TXN10025",
         "Unusual Transaction Pattern",
         "Failed"
        ],
        [
         "COMP7006",
         "TXN10093",
         "Unusual Transaction Pattern",
         "Failed"
        ],
        [
         "COMP7007",
         "TXN10033",
         "Mismatched Beneficiary Info",
         "Failed"
        ],
        [
         "COMP7008",
         "TXN10070",
         "Unusual Transaction Pattern",
         "Passed"
        ],
        [
         "COMP7009",
         "TXN10001",
         "AML Flagged",
         "Failed"
        ],
        [
         "COMP7010",
         "TXN10011",
         "No Issues",
         "Failed"
        ],
        [
         "COMP7011",
         "TXN10037",
         "High-Risk Country Alert",
         "Failed"
        ],
        [
         "COMP7012",
         "TXN10002",
         "Unusual Transaction Pattern",
         "Failed"
        ],
        [
         "COMP7013",
         "TXN10050",
         "Excessive Cash Deposits",
         "Passed"
        ],
        [
         "COMP7014",
         "TXN10056",
         "PEP Involvement",
         "Failed"
        ],
        [
         "COMP7015",
         "TXN10070",
         "No Issues",
         "Failed"
        ],
        [
         "COMP7016",
         "TXN10046",
         "Excessive Cash Deposits",
         "Failed"
        ],
        [
         "COMP7017",
         "TXN10010",
         "AML Flagged",
         "Passed"
        ],
        [
         "COMP7018",
         "TXN10008",
         "Sanction List Matched",
         "Passed"
        ],
        [
         "COMP7019",
         "TXN10050",
         "Multiple Failed Logins",
         "Passed"
        ],
        [
         "COMP7020",
         "TXN10035",
         "Sanction List Matched",
         "Passed"
        ],
        [
         "COMP7021",
         "TXN10084",
         "Excessive Cash Deposits",
         "Passed"
        ],
        [
         "COMP7022",
         "TXN10019",
         "Mismatched Beneficiary Info",
         "Failed"
        ],
        [
         "COMP7023",
         "TXN10026",
         "Mismatched Beneficiary Info",
         "Passed"
        ],
        [
         "COMP7024",
         "TXN10050",
         "Sanction List Matched",
         "Passed"
        ],
        [
         "COMP7025",
         "TXN10090",
         "High-Risk Country Alert",
         "Passed"
        ],
        [
         "COMP7026",
         "TXN10073",
         "No Issues",
         "Passed"
        ],
        [
         "COMP7027",
         "TXN10041",
         "Multiple Failed Logins",
         "Passed"
        ],
        [
         "COMP7028",
         "TXN10051",
         "PEP Involvement",
         "Passed"
        ],
        [
         "COMP7029",
         "TXN10037",
         "High-Risk Country Alert",
         "Passed"
        ],
        [
         "COMP7030",
         "TXN10088",
         "KYC Verified",
         "Passed"
        ],
        [
         "COMP7031",
         "TXN10066",
         "AML Flagged",
         "Passed"
        ],
        [
         "COMP7032",
         "TXN10005",
         "PEP Involvement",
         "Passed"
        ],
        [
         "COMP7033",
         "TXN10094",
         "No Issues",
         "Failed"
        ],
        [
         "COMP7034",
         "TXN10004",
         "No Issues",
         "Passed"
        ],
        [
         "COMP7035",
         "TXN10073",
         "High-Risk Country Alert",
         "Failed"
        ],
        [
         "COMP7036",
         "TXN10044",
         "Sanction List Matched",
         "Failed"
        ],
        [
         "COMP7037",
         "TXN10082",
         "Multiple Failed Logins",
         "Passed"
        ],
        [
         "COMP7038",
         "TXN10087",
         "AML Flagged",
         "Failed"
        ],
        [
         "COMP7039",
         "TXN10010",
         "Unusual Transaction Pattern",
         "Passed"
        ],
        [
         "COMP7040",
         "TXN10051",
         "Sanction List Matched",
         "Failed"
        ],
        [
         "COMP7041",
         "TXN10073",
         "PEP Involvement",
         "Passed"
        ],
        [
         "COMP7042",
         "TXN10016",
         "PEP Involvement",
         "Failed"
        ],
        [
         "COMP7043",
         "TXN10095",
         "AML Flagged",
         "Failed"
        ],
        [
         "COMP7044",
         "TXN10071",
         "Multiple Failed Logins",
         "Passed"
        ],
        [
         "COMP7045",
         "TXN10049",
         "KYC Verified",
         "Passed"
        ],
        [
         "COMP7046",
         "TXN10037",
         "Sanction List Matched",
         "Failed"
        ],
        [
         "COMP7047",
         "TXN10046",
         "PEP Involvement",
         "Failed"
        ],
        [
         "COMP7048",
         "TXN10053",
         "Unusual Transaction Pattern",
         "Failed"
        ],
        [
         "COMP7049",
         "TXN10031",
         "AML Flagged",
         "Failed"
        ],
        [
         "COMP7050",
         "TXN10013",
         "No Issues",
         "Passed"
        ],
        [
         "COMP7051",
         "TXN10003",
         "Sanction List Matched",
         "Failed"
        ],
        [
         "COMP7052",
         "TXN10042",
         "Sanction List Matched",
         "Passed"
        ],
        [
         "COMP7053",
         "TXN10085",
         "PEP Involvement",
         "Failed"
        ],
        [
         "COMP7054",
         "TXN10080",
         "Sanction List Matched",
         "Passed"
        ],
        [
         "COMP7055",
         "TXN10094",
         "Sanction List Matched",
         "Passed"
        ],
        [
         "COMP7056",
         "TXN10097",
         "Unusual Transaction Pattern",
         "Passed"
        ],
        [
         "COMP7057",
         "TXN10009",
         "Excessive Cash Deposits",
         "Passed"
        ],
        [
         "COMP7058",
         "TXN10012",
         "PEP Involvement",
         "Passed"
        ],
        [
         "COMP7059",
         "TXN10026",
         "PEP Involvement",
         "Failed"
        ],
        [
         "COMP7060",
         "TXN10047",
         "Excessive Cash Deposits",
         "Passed"
        ],
        [
         "COMP7061",
         "TXN10052",
         "KYC Verified",
         "Passed"
        ],
        [
         "COMP7062",
         "TXN10063",
         "PEP Involvement",
         "Passed"
        ],
        [
         "COMP7063",
         "TXN10027",
         "PEP Involvement",
         "Failed"
        ],
        [
         "COMP7064",
         "TXN10070",
         "Excessive Cash Deposits",
         "Passed"
        ],
        [
         "COMP7065",
         "TXN10067",
         "Excessive Cash Deposits",
         "Passed"
        ],
        [
         "COMP7066",
         "TXN10012",
         "Excessive Cash Deposits",
         "Passed"
        ],
        [
         "COMP7067",
         "TXN10082",
         "No Issues",
         "Failed"
        ],
        [
         "COMP7068",
         "TXN10090",
         "No Issues",
         "Failed"
        ],
        [
         "COMP7069",
         "TXN10049",
         "Excessive Cash Deposits",
         "Failed"
        ],
        [
         "COMP7070",
         "TXN10050",
         "AML Flagged",
         "Failed"
        ],
        [
         "COMP7071",
         "TXN10029",
         "Mismatched Beneficiary Info",
         "Passed"
        ],
        [
         "COMP7072",
         "TXN10040",
         "High-Risk Country Alert",
         "Passed"
        ],
        [
         "COMP7073",
         "TXN10074",
         "Mismatched Beneficiary Info",
         "Failed"
        ],
        [
         "COMP7074",
         "TXN10067",
         "Unusual Transaction Pattern",
         "Passed"
        ],
        [
         "COMP7075",
         "TXN10025",
         "Unusual Transaction Pattern",
         "Failed"
        ],
        [
         "COMP7076",
         "TXN10050",
         "High-Risk Country Alert",
         "Failed"
        ],
        [
         "COMP7077",
         "TXN10010",
         "AML Flagged",
         "Passed"
        ],
        [
         "COMP7078",
         "TXN10024",
         "No Issues",
         "Failed"
        ],
        [
         "COMP7079",
         "TXN10058",
         "Unusual Transaction Pattern",
         "Failed"
        ],
        [
         "COMP7080",
         "TXN10071",
         "Sanction List Matched",
         "Passed"
        ],
        [
         "COMP7081",
         "TXN10056",
         "Mismatched Beneficiary Info",
         "Failed"
        ],
        [
         "COMP7082",
         "TXN10048",
         "Excessive Cash Deposits",
         "Failed"
        ],
        [
         "COMP7083",
         "TXN10069",
         "Excessive Cash Deposits",
         "Passed"
        ],
        [
         "COMP7084",
         "TXN10018",
         "Sanction List Matched",
         "Passed"
        ],
        [
         "COMP7085",
         "TXN10037",
         "High-Risk Country Alert",
         "Failed"
        ],
        [
         "COMP7086",
         "TXN10079",
         "Excessive Cash Deposits",
         "Passed"
        ],
        [
         "COMP7087",
         "TXN10013",
         "High-Risk Country Alert",
         "Failed"
        ],
        [
         "COMP7088",
         "TXN10058",
         "Sanction List Matched",
         "Failed"
        ],
        [
         "COMP7089",
         "TXN10002",
         "PEP Involvement",
         "Failed"
        ],
        [
         "COMP7090",
         "TXN10062",
         "Sanction List Matched",
         "Failed"
        ],
        [
         "COMP7091",
         "TXN10043",
         "High-Risk Country Alert",
         "Passed"
        ],
        [
         "COMP7092",
         "TXN10082",
         "Multiple Failed Logins",
         "Failed"
        ],
        [
         "COMP7093",
         "TXN10058",
         "Multiple Failed Logins",
         "Passed"
        ],
        [
         "COMP7094",
         "TXN10039",
         "PEP Involvement",
         "Failed"
        ],
        [
         "COMP7095",
         "TXN10009",
         "High-Risk Country Alert",
         "Passed"
        ],
        [
         "COMP7096",
         "TXN10083",
         "Sanction List Matched",
         "Passed"
        ],
        [
         "COMP7097",
         "TXN10053",
         "KYC Verified",
         "Failed"
        ],
        [
         "COMP7098",
         "TXN10010",
         "KYC Verified",
         "Failed"
        ],
        [
         "COMP7099",
         "TXN10093",
         "Sanction List Matched",
         "Failed"
        ]
       ],
       "datasetInfos": [],
       "dbfsResultPath": null,
       "isJsonSchema": true,
       "metadata": {},
       "overflow": false,
       "plotOptions": {
        "customPlotOptions": {},
        "displayType": "table",
        "pivotAggregation": null,
        "pivotColumns": null,
        "xColumns": null,
        "yColumns": null
       },
       "removedWidgets": [],
       "schema": [
        {
         "metadata": "{}",
         "name": "compliance_id",
         "type": "\"string\""
        },
        {
         "metadata": "{}",
         "name": "transaction_id",
         "type": "\"string\""
        },
        {
         "metadata": "{}",
         "name": "compliance_check",
         "type": "\"string\""
        },
        {
         "metadata": "{}",
         "name": "status",
         "type": "\"string\""
        }
       ],
       "type": "table"
      }
     },
     "output_type": "display_data"
    }
   ],
   "source": [
    "column_names = [\"compliance_id\",\"transaction_id\",\"compliance_check\",\"status\"]\n",
    "compliance_df = spark.read.csv(\"/dbfs/tmp/compliance_data.csv\", header=False, inferSchema=True).toDF(*column_names)\n",
    "display(compliance_df)"
   ]
  },
  {
   "cell_type": "code",
   "execution_count": 0,
   "metadata": {
    "application/vnd.databricks.v1+cell": {
     "cellMetadata": {
      "byteLimit": 2048000,
      "rowLimit": 10000
     },
     "inputWidgets": {},
     "nuid": "883af60f-90d4-4110-913b-56e128e23ae3",
     "showTitle": false,
     "tableResultSettingsMap": {},
     "title": ""
    }
   },
   "outputs": [
    {
     "data": {
      "text/html": [
       "<style scoped>\n",
       "  .table-result-container {\n",
       "    max-height: 300px;\n",
       "    overflow: auto;\n",
       "  }\n",
       "  table, th, td {\n",
       "    border: 1px solid black;\n",
       "    border-collapse: collapse;\n",
       "  }\n",
       "  th, td {\n",
       "    padding: 5px;\n",
       "  }\n",
       "  th {\n",
       "    text-align: left;\n",
       "  }\n",
       "</style><div class='table-result-container'><table class='table-result'><thead style='background-color: white'><tr><th>compliance_id</th><th>transaction_id</th><th>compliance_check</th><th>status</th><th>NewColumn</th></tr></thead><tbody><tr><td>COMP7000</td><td>TXN10031</td><td>No Issues</td><td>Failed</td><td>ConstantValue</td></tr><tr><td>COMP7001</td><td>TXN10042</td><td>Sanction List Matched</td><td>Failed</td><td>ConstantValue</td></tr><tr><td>COMP7002</td><td>TXN10067</td><td>High-Risk Country Alert</td><td>Failed</td><td>ConstantValue</td></tr><tr><td>COMP7003</td><td>TXN10030</td><td>Mismatched Beneficiary Info</td><td>Passed</td><td>ConstantValue</td></tr><tr><td>COMP7004</td><td>TXN10029</td><td>Multiple Failed Logins</td><td>Failed</td><td>ConstantValue</td></tr><tr><td>COMP7005</td><td>TXN10025</td><td>Unusual Transaction Pattern</td><td>Failed</td><td>ConstantValue</td></tr><tr><td>COMP7006</td><td>TXN10093</td><td>Unusual Transaction Pattern</td><td>Failed</td><td>ConstantValue</td></tr><tr><td>COMP7007</td><td>TXN10033</td><td>Mismatched Beneficiary Info</td><td>Failed</td><td>ConstantValue</td></tr><tr><td>COMP7008</td><td>TXN10070</td><td>Unusual Transaction Pattern</td><td>Passed</td><td>ConstantValue</td></tr><tr><td>COMP7009</td><td>TXN10001</td><td>AML Flagged</td><td>Failed</td><td>ConstantValue</td></tr><tr><td>COMP7010</td><td>TXN10011</td><td>No Issues</td><td>Failed</td><td>ConstantValue</td></tr><tr><td>COMP7011</td><td>TXN10037</td><td>High-Risk Country Alert</td><td>Failed</td><td>ConstantValue</td></tr><tr><td>COMP7012</td><td>TXN10002</td><td>Unusual Transaction Pattern</td><td>Failed</td><td>ConstantValue</td></tr><tr><td>COMP7013</td><td>TXN10050</td><td>Excessive Cash Deposits</td><td>Passed</td><td>ConstantValue</td></tr><tr><td>COMP7014</td><td>TXN10056</td><td>PEP Involvement</td><td>Failed</td><td>ConstantValue</td></tr><tr><td>COMP7015</td><td>TXN10070</td><td>No Issues</td><td>Failed</td><td>ConstantValue</td></tr><tr><td>COMP7016</td><td>TXN10046</td><td>Excessive Cash Deposits</td><td>Failed</td><td>ConstantValue</td></tr><tr><td>COMP7017</td><td>TXN10010</td><td>AML Flagged</td><td>Passed</td><td>ConstantValue</td></tr><tr><td>COMP7018</td><td>TXN10008</td><td>Sanction List Matched</td><td>Passed</td><td>ConstantValue</td></tr><tr><td>COMP7019</td><td>TXN10050</td><td>Multiple Failed Logins</td><td>Passed</td><td>ConstantValue</td></tr><tr><td>COMP7020</td><td>TXN10035</td><td>Sanction List Matched</td><td>Passed</td><td>ConstantValue</td></tr><tr><td>COMP7021</td><td>TXN10084</td><td>Excessive Cash Deposits</td><td>Passed</td><td>ConstantValue</td></tr><tr><td>COMP7022</td><td>TXN10019</td><td>Mismatched Beneficiary Info</td><td>Failed</td><td>ConstantValue</td></tr><tr><td>COMP7023</td><td>TXN10026</td><td>Mismatched Beneficiary Info</td><td>Passed</td><td>ConstantValue</td></tr><tr><td>COMP7024</td><td>TXN10050</td><td>Sanction List Matched</td><td>Passed</td><td>ConstantValue</td></tr><tr><td>COMP7025</td><td>TXN10090</td><td>High-Risk Country Alert</td><td>Passed</td><td>ConstantValue</td></tr><tr><td>COMP7026</td><td>TXN10073</td><td>No Issues</td><td>Passed</td><td>ConstantValue</td></tr><tr><td>COMP7027</td><td>TXN10041</td><td>Multiple Failed Logins</td><td>Passed</td><td>ConstantValue</td></tr><tr><td>COMP7028</td><td>TXN10051</td><td>PEP Involvement</td><td>Passed</td><td>ConstantValue</td></tr><tr><td>COMP7029</td><td>TXN10037</td><td>High-Risk Country Alert</td><td>Passed</td><td>ConstantValue</td></tr><tr><td>COMP7030</td><td>TXN10088</td><td>KYC Verified</td><td>Passed</td><td>ConstantValue</td></tr><tr><td>COMP7031</td><td>TXN10066</td><td>AML Flagged</td><td>Passed</td><td>ConstantValue</td></tr><tr><td>COMP7032</td><td>TXN10005</td><td>PEP Involvement</td><td>Passed</td><td>ConstantValue</td></tr><tr><td>COMP7033</td><td>TXN10094</td><td>No Issues</td><td>Failed</td><td>ConstantValue</td></tr><tr><td>COMP7034</td><td>TXN10004</td><td>No Issues</td><td>Passed</td><td>ConstantValue</td></tr><tr><td>COMP7035</td><td>TXN10073</td><td>High-Risk Country Alert</td><td>Failed</td><td>ConstantValue</td></tr><tr><td>COMP7036</td><td>TXN10044</td><td>Sanction List Matched</td><td>Failed</td><td>ConstantValue</td></tr><tr><td>COMP7037</td><td>TXN10082</td><td>Multiple Failed Logins</td><td>Passed</td><td>ConstantValue</td></tr><tr><td>COMP7038</td><td>TXN10087</td><td>AML Flagged</td><td>Failed</td><td>ConstantValue</td></tr><tr><td>COMP7039</td><td>TXN10010</td><td>Unusual Transaction Pattern</td><td>Passed</td><td>ConstantValue</td></tr><tr><td>COMP7040</td><td>TXN10051</td><td>Sanction List Matched</td><td>Failed</td><td>ConstantValue</td></tr><tr><td>COMP7041</td><td>TXN10073</td><td>PEP Involvement</td><td>Passed</td><td>ConstantValue</td></tr><tr><td>COMP7042</td><td>TXN10016</td><td>PEP Involvement</td><td>Failed</td><td>ConstantValue</td></tr><tr><td>COMP7043</td><td>TXN10095</td><td>AML Flagged</td><td>Failed</td><td>ConstantValue</td></tr><tr><td>COMP7044</td><td>TXN10071</td><td>Multiple Failed Logins</td><td>Passed</td><td>ConstantValue</td></tr><tr><td>COMP7045</td><td>TXN10049</td><td>KYC Verified</td><td>Passed</td><td>ConstantValue</td></tr><tr><td>COMP7046</td><td>TXN10037</td><td>Sanction List Matched</td><td>Failed</td><td>ConstantValue</td></tr><tr><td>COMP7047</td><td>TXN10046</td><td>PEP Involvement</td><td>Failed</td><td>ConstantValue</td></tr><tr><td>COMP7048</td><td>TXN10053</td><td>Unusual Transaction Pattern</td><td>Failed</td><td>ConstantValue</td></tr><tr><td>COMP7049</td><td>TXN10031</td><td>AML Flagged</td><td>Failed</td><td>ConstantValue</td></tr><tr><td>COMP7050</td><td>TXN10013</td><td>No Issues</td><td>Passed</td><td>ConstantValue</td></tr><tr><td>COMP7051</td><td>TXN10003</td><td>Sanction List Matched</td><td>Failed</td><td>ConstantValue</td></tr><tr><td>COMP7052</td><td>TXN10042</td><td>Sanction List Matched</td><td>Passed</td><td>ConstantValue</td></tr><tr><td>COMP7053</td><td>TXN10085</td><td>PEP Involvement</td><td>Failed</td><td>ConstantValue</td></tr><tr><td>COMP7054</td><td>TXN10080</td><td>Sanction List Matched</td><td>Passed</td><td>ConstantValue</td></tr><tr><td>COMP7055</td><td>TXN10094</td><td>Sanction List Matched</td><td>Passed</td><td>ConstantValue</td></tr><tr><td>COMP7056</td><td>TXN10097</td><td>Unusual Transaction Pattern</td><td>Passed</td><td>ConstantValue</td></tr><tr><td>COMP7057</td><td>TXN10009</td><td>Excessive Cash Deposits</td><td>Passed</td><td>ConstantValue</td></tr><tr><td>COMP7058</td><td>TXN10012</td><td>PEP Involvement</td><td>Passed</td><td>ConstantValue</td></tr><tr><td>COMP7059</td><td>TXN10026</td><td>PEP Involvement</td><td>Failed</td><td>ConstantValue</td></tr><tr><td>COMP7060</td><td>TXN10047</td><td>Excessive Cash Deposits</td><td>Passed</td><td>ConstantValue</td></tr><tr><td>COMP7061</td><td>TXN10052</td><td>KYC Verified</td><td>Passed</td><td>ConstantValue</td></tr><tr><td>COMP7062</td><td>TXN10063</td><td>PEP Involvement</td><td>Passed</td><td>ConstantValue</td></tr><tr><td>COMP7063</td><td>TXN10027</td><td>PEP Involvement</td><td>Failed</td><td>ConstantValue</td></tr><tr><td>COMP7064</td><td>TXN10070</td><td>Excessive Cash Deposits</td><td>Passed</td><td>ConstantValue</td></tr><tr><td>COMP7065</td><td>TXN10067</td><td>Excessive Cash Deposits</td><td>Passed</td><td>ConstantValue</td></tr><tr><td>COMP7066</td><td>TXN10012</td><td>Excessive Cash Deposits</td><td>Passed</td><td>ConstantValue</td></tr><tr><td>COMP7067</td><td>TXN10082</td><td>No Issues</td><td>Failed</td><td>ConstantValue</td></tr><tr><td>COMP7068</td><td>TXN10090</td><td>No Issues</td><td>Failed</td><td>ConstantValue</td></tr><tr><td>COMP7069</td><td>TXN10049</td><td>Excessive Cash Deposits</td><td>Failed</td><td>ConstantValue</td></tr><tr><td>COMP7070</td><td>TXN10050</td><td>AML Flagged</td><td>Failed</td><td>ConstantValue</td></tr><tr><td>COMP7071</td><td>TXN10029</td><td>Mismatched Beneficiary Info</td><td>Passed</td><td>ConstantValue</td></tr><tr><td>COMP7072</td><td>TXN10040</td><td>High-Risk Country Alert</td><td>Passed</td><td>ConstantValue</td></tr><tr><td>COMP7073</td><td>TXN10074</td><td>Mismatched Beneficiary Info</td><td>Failed</td><td>ConstantValue</td></tr><tr><td>COMP7074</td><td>TXN10067</td><td>Unusual Transaction Pattern</td><td>Passed</td><td>ConstantValue</td></tr><tr><td>COMP7075</td><td>TXN10025</td><td>Unusual Transaction Pattern</td><td>Failed</td><td>ConstantValue</td></tr><tr><td>COMP7076</td><td>TXN10050</td><td>High-Risk Country Alert</td><td>Failed</td><td>ConstantValue</td></tr><tr><td>COMP7077</td><td>TXN10010</td><td>AML Flagged</td><td>Passed</td><td>ConstantValue</td></tr><tr><td>COMP7078</td><td>TXN10024</td><td>No Issues</td><td>Failed</td><td>ConstantValue</td></tr><tr><td>COMP7079</td><td>TXN10058</td><td>Unusual Transaction Pattern</td><td>Failed</td><td>ConstantValue</td></tr><tr><td>COMP7080</td><td>TXN10071</td><td>Sanction List Matched</td><td>Passed</td><td>ConstantValue</td></tr><tr><td>COMP7081</td><td>TXN10056</td><td>Mismatched Beneficiary Info</td><td>Failed</td><td>ConstantValue</td></tr><tr><td>COMP7082</td><td>TXN10048</td><td>Excessive Cash Deposits</td><td>Failed</td><td>ConstantValue</td></tr><tr><td>COMP7083</td><td>TXN10069</td><td>Excessive Cash Deposits</td><td>Passed</td><td>ConstantValue</td></tr><tr><td>COMP7084</td><td>TXN10018</td><td>Sanction List Matched</td><td>Passed</td><td>ConstantValue</td></tr><tr><td>COMP7085</td><td>TXN10037</td><td>High-Risk Country Alert</td><td>Failed</td><td>ConstantValue</td></tr><tr><td>COMP7086</td><td>TXN10079</td><td>Excessive Cash Deposits</td><td>Passed</td><td>ConstantValue</td></tr><tr><td>COMP7087</td><td>TXN10013</td><td>High-Risk Country Alert</td><td>Failed</td><td>ConstantValue</td></tr><tr><td>COMP7088</td><td>TXN10058</td><td>Sanction List Matched</td><td>Failed</td><td>ConstantValue</td></tr><tr><td>COMP7089</td><td>TXN10002</td><td>PEP Involvement</td><td>Failed</td><td>ConstantValue</td></tr><tr><td>COMP7090</td><td>TXN10062</td><td>Sanction List Matched</td><td>Failed</td><td>ConstantValue</td></tr><tr><td>COMP7091</td><td>TXN10043</td><td>High-Risk Country Alert</td><td>Passed</td><td>ConstantValue</td></tr><tr><td>COMP7092</td><td>TXN10082</td><td>Multiple Failed Logins</td><td>Failed</td><td>ConstantValue</td></tr><tr><td>COMP7093</td><td>TXN10058</td><td>Multiple Failed Logins</td><td>Passed</td><td>ConstantValue</td></tr><tr><td>COMP7094</td><td>TXN10039</td><td>PEP Involvement</td><td>Failed</td><td>ConstantValue</td></tr><tr><td>COMP7095</td><td>TXN10009</td><td>High-Risk Country Alert</td><td>Passed</td><td>ConstantValue</td></tr><tr><td>COMP7096</td><td>TXN10083</td><td>Sanction List Matched</td><td>Passed</td><td>ConstantValue</td></tr><tr><td>COMP7097</td><td>TXN10053</td><td>KYC Verified</td><td>Failed</td><td>ConstantValue</td></tr><tr><td>COMP7098</td><td>TXN10010</td><td>KYC Verified</td><td>Failed</td><td>ConstantValue</td></tr><tr><td>COMP7099</td><td>TXN10093</td><td>Sanction List Matched</td><td>Failed</td><td>ConstantValue</td></tr></tbody></table></div>"
      ]
     },
     "metadata": {
      "application/vnd.databricks.v1+output": {
       "addedWidgets": {},
       "aggData": [],
       "aggError": "",
       "aggOverflow": false,
       "aggSchema": [],
       "aggSeriesLimitReached": false,
       "aggType": "",
       "arguments": {},
       "columnCustomDisplayInfos": {},
       "data": [
        [
         "COMP7000",
         "TXN10031",
         "No Issues",
         "Failed",
         "ConstantValue"
        ],
        [
         "COMP7001",
         "TXN10042",
         "Sanction List Matched",
         "Failed",
         "ConstantValue"
        ],
        [
         "COMP7002",
         "TXN10067",
         "High-Risk Country Alert",
         "Failed",
         "ConstantValue"
        ],
        [
         "COMP7003",
         "TXN10030",
         "Mismatched Beneficiary Info",
         "Passed",
         "ConstantValue"
        ],
        [
         "COMP7004",
         "TXN10029",
         "Multiple Failed Logins",
         "Failed",
         "ConstantValue"
        ],
        [
         "COMP7005",
         "TXN10025",
         "Unusual Transaction Pattern",
         "Failed",
         "ConstantValue"
        ],
        [
         "COMP7006",
         "TXN10093",
         "Unusual Transaction Pattern",
         "Failed",
         "ConstantValue"
        ],
        [
         "COMP7007",
         "TXN10033",
         "Mismatched Beneficiary Info",
         "Failed",
         "ConstantValue"
        ],
        [
         "COMP7008",
         "TXN10070",
         "Unusual Transaction Pattern",
         "Passed",
         "ConstantValue"
        ],
        [
         "COMP7009",
         "TXN10001",
         "AML Flagged",
         "Failed",
         "ConstantValue"
        ],
        [
         "COMP7010",
         "TXN10011",
         "No Issues",
         "Failed",
         "ConstantValue"
        ],
        [
         "COMP7011",
         "TXN10037",
         "High-Risk Country Alert",
         "Failed",
         "ConstantValue"
        ],
        [
         "COMP7012",
         "TXN10002",
         "Unusual Transaction Pattern",
         "Failed",
         "ConstantValue"
        ],
        [
         "COMP7013",
         "TXN10050",
         "Excessive Cash Deposits",
         "Passed",
         "ConstantValue"
        ],
        [
         "COMP7014",
         "TXN10056",
         "PEP Involvement",
         "Failed",
         "ConstantValue"
        ],
        [
         "COMP7015",
         "TXN10070",
         "No Issues",
         "Failed",
         "ConstantValue"
        ],
        [
         "COMP7016",
         "TXN10046",
         "Excessive Cash Deposits",
         "Failed",
         "ConstantValue"
        ],
        [
         "COMP7017",
         "TXN10010",
         "AML Flagged",
         "Passed",
         "ConstantValue"
        ],
        [
         "COMP7018",
         "TXN10008",
         "Sanction List Matched",
         "Passed",
         "ConstantValue"
        ],
        [
         "COMP7019",
         "TXN10050",
         "Multiple Failed Logins",
         "Passed",
         "ConstantValue"
        ],
        [
         "COMP7020",
         "TXN10035",
         "Sanction List Matched",
         "Passed",
         "ConstantValue"
        ],
        [
         "COMP7021",
         "TXN10084",
         "Excessive Cash Deposits",
         "Passed",
         "ConstantValue"
        ],
        [
         "COMP7022",
         "TXN10019",
         "Mismatched Beneficiary Info",
         "Failed",
         "ConstantValue"
        ],
        [
         "COMP7023",
         "TXN10026",
         "Mismatched Beneficiary Info",
         "Passed",
         "ConstantValue"
        ],
        [
         "COMP7024",
         "TXN10050",
         "Sanction List Matched",
         "Passed",
         "ConstantValue"
        ],
        [
         "COMP7025",
         "TXN10090",
         "High-Risk Country Alert",
         "Passed",
         "ConstantValue"
        ],
        [
         "COMP7026",
         "TXN10073",
         "No Issues",
         "Passed",
         "ConstantValue"
        ],
        [
         "COMP7027",
         "TXN10041",
         "Multiple Failed Logins",
         "Passed",
         "ConstantValue"
        ],
        [
         "COMP7028",
         "TXN10051",
         "PEP Involvement",
         "Passed",
         "ConstantValue"
        ],
        [
         "COMP7029",
         "TXN10037",
         "High-Risk Country Alert",
         "Passed",
         "ConstantValue"
        ],
        [
         "COMP7030",
         "TXN10088",
         "KYC Verified",
         "Passed",
         "ConstantValue"
        ],
        [
         "COMP7031",
         "TXN10066",
         "AML Flagged",
         "Passed",
         "ConstantValue"
        ],
        [
         "COMP7032",
         "TXN10005",
         "PEP Involvement",
         "Passed",
         "ConstantValue"
        ],
        [
         "COMP7033",
         "TXN10094",
         "No Issues",
         "Failed",
         "ConstantValue"
        ],
        [
         "COMP7034",
         "TXN10004",
         "No Issues",
         "Passed",
         "ConstantValue"
        ],
        [
         "COMP7035",
         "TXN10073",
         "High-Risk Country Alert",
         "Failed",
         "ConstantValue"
        ],
        [
         "COMP7036",
         "TXN10044",
         "Sanction List Matched",
         "Failed",
         "ConstantValue"
        ],
        [
         "COMP7037",
         "TXN10082",
         "Multiple Failed Logins",
         "Passed",
         "ConstantValue"
        ],
        [
         "COMP7038",
         "TXN10087",
         "AML Flagged",
         "Failed",
         "ConstantValue"
        ],
        [
         "COMP7039",
         "TXN10010",
         "Unusual Transaction Pattern",
         "Passed",
         "ConstantValue"
        ],
        [
         "COMP7040",
         "TXN10051",
         "Sanction List Matched",
         "Failed",
         "ConstantValue"
        ],
        [
         "COMP7041",
         "TXN10073",
         "PEP Involvement",
         "Passed",
         "ConstantValue"
        ],
        [
         "COMP7042",
         "TXN10016",
         "PEP Involvement",
         "Failed",
         "ConstantValue"
        ],
        [
         "COMP7043",
         "TXN10095",
         "AML Flagged",
         "Failed",
         "ConstantValue"
        ],
        [
         "COMP7044",
         "TXN10071",
         "Multiple Failed Logins",
         "Passed",
         "ConstantValue"
        ],
        [
         "COMP7045",
         "TXN10049",
         "KYC Verified",
         "Passed",
         "ConstantValue"
        ],
        [
         "COMP7046",
         "TXN10037",
         "Sanction List Matched",
         "Failed",
         "ConstantValue"
        ],
        [
         "COMP7047",
         "TXN10046",
         "PEP Involvement",
         "Failed",
         "ConstantValue"
        ],
        [
         "COMP7048",
         "TXN10053",
         "Unusual Transaction Pattern",
         "Failed",
         "ConstantValue"
        ],
        [
         "COMP7049",
         "TXN10031",
         "AML Flagged",
         "Failed",
         "ConstantValue"
        ],
        [
         "COMP7050",
         "TXN10013",
         "No Issues",
         "Passed",
         "ConstantValue"
        ],
        [
         "COMP7051",
         "TXN10003",
         "Sanction List Matched",
         "Failed",
         "ConstantValue"
        ],
        [
         "COMP7052",
         "TXN10042",
         "Sanction List Matched",
         "Passed",
         "ConstantValue"
        ],
        [
         "COMP7053",
         "TXN10085",
         "PEP Involvement",
         "Failed",
         "ConstantValue"
        ],
        [
         "COMP7054",
         "TXN10080",
         "Sanction List Matched",
         "Passed",
         "ConstantValue"
        ],
        [
         "COMP7055",
         "TXN10094",
         "Sanction List Matched",
         "Passed",
         "ConstantValue"
        ],
        [
         "COMP7056",
         "TXN10097",
         "Unusual Transaction Pattern",
         "Passed",
         "ConstantValue"
        ],
        [
         "COMP7057",
         "TXN10009",
         "Excessive Cash Deposits",
         "Passed",
         "ConstantValue"
        ],
        [
         "COMP7058",
         "TXN10012",
         "PEP Involvement",
         "Passed",
         "ConstantValue"
        ],
        [
         "COMP7059",
         "TXN10026",
         "PEP Involvement",
         "Failed",
         "ConstantValue"
        ],
        [
         "COMP7060",
         "TXN10047",
         "Excessive Cash Deposits",
         "Passed",
         "ConstantValue"
        ],
        [
         "COMP7061",
         "TXN10052",
         "KYC Verified",
         "Passed",
         "ConstantValue"
        ],
        [
         "COMP7062",
         "TXN10063",
         "PEP Involvement",
         "Passed",
         "ConstantValue"
        ],
        [
         "COMP7063",
         "TXN10027",
         "PEP Involvement",
         "Failed",
         "ConstantValue"
        ],
        [
         "COMP7064",
         "TXN10070",
         "Excessive Cash Deposits",
         "Passed",
         "ConstantValue"
        ],
        [
         "COMP7065",
         "TXN10067",
         "Excessive Cash Deposits",
         "Passed",
         "ConstantValue"
        ],
        [
         "COMP7066",
         "TXN10012",
         "Excessive Cash Deposits",
         "Passed",
         "ConstantValue"
        ],
        [
         "COMP7067",
         "TXN10082",
         "No Issues",
         "Failed",
         "ConstantValue"
        ],
        [
         "COMP7068",
         "TXN10090",
         "No Issues",
         "Failed",
         "ConstantValue"
        ],
        [
         "COMP7069",
         "TXN10049",
         "Excessive Cash Deposits",
         "Failed",
         "ConstantValue"
        ],
        [
         "COMP7070",
         "TXN10050",
         "AML Flagged",
         "Failed",
         "ConstantValue"
        ],
        [
         "COMP7071",
         "TXN10029",
         "Mismatched Beneficiary Info",
         "Passed",
         "ConstantValue"
        ],
        [
         "COMP7072",
         "TXN10040",
         "High-Risk Country Alert",
         "Passed",
         "ConstantValue"
        ],
        [
         "COMP7073",
         "TXN10074",
         "Mismatched Beneficiary Info",
         "Failed",
         "ConstantValue"
        ],
        [
         "COMP7074",
         "TXN10067",
         "Unusual Transaction Pattern",
         "Passed",
         "ConstantValue"
        ],
        [
         "COMP7075",
         "TXN10025",
         "Unusual Transaction Pattern",
         "Failed",
         "ConstantValue"
        ],
        [
         "COMP7076",
         "TXN10050",
         "High-Risk Country Alert",
         "Failed",
         "ConstantValue"
        ],
        [
         "COMP7077",
         "TXN10010",
         "AML Flagged",
         "Passed",
         "ConstantValue"
        ],
        [
         "COMP7078",
         "TXN10024",
         "No Issues",
         "Failed",
         "ConstantValue"
        ],
        [
         "COMP7079",
         "TXN10058",
         "Unusual Transaction Pattern",
         "Failed",
         "ConstantValue"
        ],
        [
         "COMP7080",
         "TXN10071",
         "Sanction List Matched",
         "Passed",
         "ConstantValue"
        ],
        [
         "COMP7081",
         "TXN10056",
         "Mismatched Beneficiary Info",
         "Failed",
         "ConstantValue"
        ],
        [
         "COMP7082",
         "TXN10048",
         "Excessive Cash Deposits",
         "Failed",
         "ConstantValue"
        ],
        [
         "COMP7083",
         "TXN10069",
         "Excessive Cash Deposits",
         "Passed",
         "ConstantValue"
        ],
        [
         "COMP7084",
         "TXN10018",
         "Sanction List Matched",
         "Passed",
         "ConstantValue"
        ],
        [
         "COMP7085",
         "TXN10037",
         "High-Risk Country Alert",
         "Failed",
         "ConstantValue"
        ],
        [
         "COMP7086",
         "TXN10079",
         "Excessive Cash Deposits",
         "Passed",
         "ConstantValue"
        ],
        [
         "COMP7087",
         "TXN10013",
         "High-Risk Country Alert",
         "Failed",
         "ConstantValue"
        ],
        [
         "COMP7088",
         "TXN10058",
         "Sanction List Matched",
         "Failed",
         "ConstantValue"
        ],
        [
         "COMP7089",
         "TXN10002",
         "PEP Involvement",
         "Failed",
         "ConstantValue"
        ],
        [
         "COMP7090",
         "TXN10062",
         "Sanction List Matched",
         "Failed",
         "ConstantValue"
        ],
        [
         "COMP7091",
         "TXN10043",
         "High-Risk Country Alert",
         "Passed",
         "ConstantValue"
        ],
        [
         "COMP7092",
         "TXN10082",
         "Multiple Failed Logins",
         "Failed",
         "ConstantValue"
        ],
        [
         "COMP7093",
         "TXN10058",
         "Multiple Failed Logins",
         "Passed",
         "ConstantValue"
        ],
        [
         "COMP7094",
         "TXN10039",
         "PEP Involvement",
         "Failed",
         "ConstantValue"
        ],
        [
         "COMP7095",
         "TXN10009",
         "High-Risk Country Alert",
         "Passed",
         "ConstantValue"
        ],
        [
         "COMP7096",
         "TXN10083",
         "Sanction List Matched",
         "Passed",
         "ConstantValue"
        ],
        [
         "COMP7097",
         "TXN10053",
         "KYC Verified",
         "Failed",
         "ConstantValue"
        ],
        [
         "COMP7098",
         "TXN10010",
         "KYC Verified",
         "Failed",
         "ConstantValue"
        ],
        [
         "COMP7099",
         "TXN10093",
         "Sanction List Matched",
         "Failed",
         "ConstantValue"
        ]
       ],
       "datasetInfos": [],
       "dbfsResultPath": null,
       "isJsonSchema": true,
       "metadata": {},
       "overflow": false,
       "plotOptions": {
        "customPlotOptions": {},
        "displayType": "table",
        "pivotAggregation": null,
        "pivotColumns": null,
        "xColumns": null,
        "yColumns": null
       },
       "removedWidgets": [],
       "schema": [
        {
         "metadata": "{}",
         "name": "compliance_id",
         "type": "\"string\""
        },
        {
         "metadata": "{}",
         "name": "transaction_id",
         "type": "\"string\""
        },
        {
         "metadata": "{}",
         "name": "compliance_check",
         "type": "\"string\""
        },
        {
         "metadata": "{}",
         "name": "status",
         "type": "\"string\""
        },
        {
         "metadata": "{}",
         "name": "NewColumn",
         "type": "\"string\""
        }
       ],
       "type": "table"
      }
     },
     "output_type": "display_data"
    }
   ],
   "source": [
    "from pyspark.sql.functions import lit\n",
    "# Filter rows where Column1 is not null\n",
    "compliance_df = compliance_df.filter(compliance_df.compliance_id.isNotNull())\n",
    " \n",
    "# Add a new column with a constant value\n",
    "compliance_df = compliance_df.withColumn(\"NewColumn\", lit(\"ConstantValue\"))\n",
    " \n",
    "# Display the transformed DataFrame\n",
    "display(compliance_df)"
   ]
  },
  {
   "cell_type": "code",
   "execution_count": 0,
   "metadata": {
    "application/vnd.databricks.v1+cell": {
     "cellMetadata": {
      "byteLimit": 2048000,
      "rowLimit": 10000
     },
     "inputWidgets": {},
     "nuid": "6bbae42d-d4e0-4ce9-b3f0-c3f4b764e600",
     "showTitle": false,
     "tableResultSettingsMap": {},
     "title": ""
    }
   },
   "outputs": [
    {
     "data": {
      "text/html": [
       "<style scoped>\n",
       "  .table-result-container {\n",
       "    max-height: 300px;\n",
       "    overflow: auto;\n",
       "  }\n",
       "  table, th, td {\n",
       "    border: 1px solid black;\n",
       "    border-collapse: collapse;\n",
       "  }\n",
       "  th, td {\n",
       "    padding: 5px;\n",
       "  }\n",
       "  th {\n",
       "    text-align: left;\n",
       "  }\n",
       "</style><div class='table-result-container'><table class='table-result'><thead style='background-color: white'><tr><th>fraud_id</th><th>transaction_id</th><th>account_id</th><th>fraud_score</th><th>detection_date</th></tr></thead><tbody><tr><td>FRD5000</td><td>TXN10058</td><td>ACC1093</td><td>0.99</td><td>2024-03-30</td></tr><tr><td>FRD5001</td><td>TXN10063</td><td>ACC1031</td><td>0.34</td><td>2024-02-13</td></tr><tr><td>FRD5002</td><td>TXN10043</td><td>ACC1037</td><td>0.66</td><td>2024-02-17</td></tr><tr><td>FRD5003</td><td>TXN10077</td><td>ACC1043</td><td>0.55</td><td>2024-02-04</td></tr><tr><td>FRD5004</td><td>TXN10079</td><td>ACC1017</td><td>0.32</td><td>2024-02-16</td></tr><tr><td>FRD5005</td><td>TXN10008</td><td>ACC1053</td><td>0.93</td><td>2024-02-08</td></tr><tr><td>FRD5006</td><td>TXN10002</td><td>ACC1088</td><td>0.32</td><td>2024-03-29</td></tr><tr><td>FRD5007</td><td>TXN10051</td><td>ACC1060</td><td>0.95</td><td>2024-02-02</td></tr><tr><td>FRD5008</td><td>TXN10083</td><td>ACC1066</td><td>0.88</td><td>2024-02-25</td></tr><tr><td>FRD5009</td><td>TXN10027</td><td>ACC1052</td><td>0.41</td><td>2024-03-03</td></tr><tr><td>FRD5010</td><td>TXN10007</td><td>ACC1085</td><td>0.36</td><td>2024-02-19</td></tr><tr><td>FRD5011</td><td>TXN10072</td><td>ACC1005</td><td>0.65</td><td>2024-03-22</td></tr><tr><td>FRD5012</td><td>TXN10088</td><td>ACC1089</td><td>0.3</td><td>2024-03-06</td></tr><tr><td>FRD5013</td><td>TXN10097</td><td>ACC1017</td><td>0.48</td><td>2024-02-17</td></tr><tr><td>FRD5014</td><td>TXN10070</td><td>ACC1080</td><td>0.62</td><td>2024-02-23</td></tr><tr><td>FRD5015</td><td>TXN10022</td><td>ACC1007</td><td>0.42</td><td>2024-03-21</td></tr><tr><td>FRD5016</td><td>TXN10082</td><td>ACC1024</td><td>0.41</td><td>2024-02-07</td></tr><tr><td>FRD5017</td><td>TXN10015</td><td>ACC1053</td><td>0.69</td><td>2024-02-27</td></tr><tr><td>FRD5018</td><td>TXN10092</td><td>ACC1009</td><td>0.36</td><td>2024-03-31</td></tr><tr><td>FRD5019</td><td>TXN10008</td><td>ACC1053</td><td>0.88</td><td>2024-02-08</td></tr><tr><td>FRD5020</td><td>TXN10098</td><td>ACC1060</td><td>0.44</td><td>2024-03-19</td></tr><tr><td>FRD5021</td><td>TXN10091</td><td>ACC1060</td><td>0.47</td><td>2024-03-30</td></tr><tr><td>FRD5022</td><td>TXN10028</td><td>ACC1012</td><td>0.55</td><td>2024-03-09</td></tr><tr><td>FRD5023</td><td>TXN10085</td><td>ACC1044</td><td>0.57</td><td>2024-02-08</td></tr><tr><td>FRD5024</td><td>TXN10061</td><td>ACC1063</td><td>0.55</td><td>2024-03-13</td></tr><tr><td>FRD5025</td><td>TXN10023</td><td>ACC1076</td><td>0.32</td><td>2024-03-09</td></tr><tr><td>FRD5026</td><td>TXN10086</td><td>ACC1041</td><td>0.64</td><td>2024-03-06</td></tr><tr><td>FRD5027</td><td>TXN10023</td><td>ACC1076</td><td>0.41</td><td>2024-03-20</td></tr><tr><td>FRD5028</td><td>TXN10037</td><td>ACC1057</td><td>0.89</td><td>2024-02-10</td></tr><tr><td>FRD5029</td><td>TXN10029</td><td>ACC1007</td><td>0.33</td><td>2024-03-19</td></tr></tbody></table></div>"
      ]
     },
     "metadata": {
      "application/vnd.databricks.v1+output": {
       "addedWidgets": {},
       "aggData": [],
       "aggError": "",
       "aggOverflow": false,
       "aggSchema": [],
       "aggSeriesLimitReached": false,
       "aggType": "",
       "arguments": {},
       "columnCustomDisplayInfos": {},
       "data": [
        [
         "FRD5000",
         "TXN10058",
         "ACC1093",
         0.99,
         "2024-03-30"
        ],
        [
         "FRD5001",
         "TXN10063",
         "ACC1031",
         0.34,
         "2024-02-13"
        ],
        [
         "FRD5002",
         "TXN10043",
         "ACC1037",
         0.66,
         "2024-02-17"
        ],
        [
         "FRD5003",
         "TXN10077",
         "ACC1043",
         0.55,
         "2024-02-04"
        ],
        [
         "FRD5004",
         "TXN10079",
         "ACC1017",
         0.32,
         "2024-02-16"
        ],
        [
         "FRD5005",
         "TXN10008",
         "ACC1053",
         0.93,
         "2024-02-08"
        ],
        [
         "FRD5006",
         "TXN10002",
         "ACC1088",
         0.32,
         "2024-03-29"
        ],
        [
         "FRD5007",
         "TXN10051",
         "ACC1060",
         0.95,
         "2024-02-02"
        ],
        [
         "FRD5008",
         "TXN10083",
         "ACC1066",
         0.88,
         "2024-02-25"
        ],
        [
         "FRD5009",
         "TXN10027",
         "ACC1052",
         0.41,
         "2024-03-03"
        ],
        [
         "FRD5010",
         "TXN10007",
         "ACC1085",
         0.36,
         "2024-02-19"
        ],
        [
         "FRD5011",
         "TXN10072",
         "ACC1005",
         0.65,
         "2024-03-22"
        ],
        [
         "FRD5012",
         "TXN10088",
         "ACC1089",
         0.3,
         "2024-03-06"
        ],
        [
         "FRD5013",
         "TXN10097",
         "ACC1017",
         0.48,
         "2024-02-17"
        ],
        [
         "FRD5014",
         "TXN10070",
         "ACC1080",
         0.62,
         "2024-02-23"
        ],
        [
         "FRD5015",
         "TXN10022",
         "ACC1007",
         0.42,
         "2024-03-21"
        ],
        [
         "FRD5016",
         "TXN10082",
         "ACC1024",
         0.41,
         "2024-02-07"
        ],
        [
         "FRD5017",
         "TXN10015",
         "ACC1053",
         0.69,
         "2024-02-27"
        ],
        [
         "FRD5018",
         "TXN10092",
         "ACC1009",
         0.36,
         "2024-03-31"
        ],
        [
         "FRD5019",
         "TXN10008",
         "ACC1053",
         0.88,
         "2024-02-08"
        ],
        [
         "FRD5020",
         "TXN10098",
         "ACC1060",
         0.44,
         "2024-03-19"
        ],
        [
         "FRD5021",
         "TXN10091",
         "ACC1060",
         0.47,
         "2024-03-30"
        ],
        [
         "FRD5022",
         "TXN10028",
         "ACC1012",
         0.55,
         "2024-03-09"
        ],
        [
         "FRD5023",
         "TXN10085",
         "ACC1044",
         0.57,
         "2024-02-08"
        ],
        [
         "FRD5024",
         "TXN10061",
         "ACC1063",
         0.55,
         "2024-03-13"
        ],
        [
         "FRD5025",
         "TXN10023",
         "ACC1076",
         0.32,
         "2024-03-09"
        ],
        [
         "FRD5026",
         "TXN10086",
         "ACC1041",
         0.64,
         "2024-03-06"
        ],
        [
         "FRD5027",
         "TXN10023",
         "ACC1076",
         0.41,
         "2024-03-20"
        ],
        [
         "FRD5028",
         "TXN10037",
         "ACC1057",
         0.89,
         "2024-02-10"
        ],
        [
         "FRD5029",
         "TXN10029",
         "ACC1007",
         0.33,
         "2024-03-19"
        ]
       ],
       "datasetInfos": [],
       "dbfsResultPath": null,
       "isJsonSchema": true,
       "metadata": {},
       "overflow": false,
       "plotOptions": {
        "customPlotOptions": {},
        "displayType": "table",
        "pivotAggregation": null,
        "pivotColumns": null,
        "xColumns": null,
        "yColumns": null
       },
       "removedWidgets": [],
       "schema": [
        {
         "metadata": "{}",
         "name": "fraud_id",
         "type": "\"string\""
        },
        {
         "metadata": "{}",
         "name": "transaction_id",
         "type": "\"string\""
        },
        {
         "metadata": "{}",
         "name": "account_id",
         "type": "\"string\""
        },
        {
         "metadata": "{}",
         "name": "fraud_score",
         "type": "\"double\""
        },
        {
         "metadata": "{\"__detected_date_formats\":\"yyyy-M-d\"}",
         "name": "detection_date",
         "type": "\"date\""
        }
       ],
       "type": "table"
      }
     },
     "output_type": "display_data"
    }
   ],
   "source": [
    "column_names = [\"fraud_id\",\"transaction_id\",\"account_id\",\"fraud_score\",\"detection_date\"]\n",
    "fraud_detection_df = spark.read.csv(\"/dbfs/tmp/fraud_detection_data.csv\", header=False, inferSchema=True).toDF(*column_names)\n",
    "display(fraud_detection_df)"
   ]
  },
  {
   "cell_type": "code",
   "execution_count": 0,
   "metadata": {
    "application/vnd.databricks.v1+cell": {
     "cellMetadata": {
      "byteLimit": 2048000,
      "rowLimit": 10000
     },
     "inputWidgets": {},
     "nuid": "69b777ca-e694-42c6-8a52-757ddd664593",
     "showTitle": false,
     "tableResultSettingsMap": {},
     "title": ""
    }
   },
   "outputs": [
    {
     "data": {
      "text/html": [
       "<style scoped>\n",
       "  .table-result-container {\n",
       "    max-height: 300px;\n",
       "    overflow: auto;\n",
       "  }\n",
       "  table, th, td {\n",
       "    border: 1px solid black;\n",
       "    border-collapse: collapse;\n",
       "  }\n",
       "  th, td {\n",
       "    padding: 5px;\n",
       "  }\n",
       "  th {\n",
       "    text-align: left;\n",
       "  }\n",
       "</style><div class='table-result-container'><table class='table-result'><thead style='background-color: white'><tr><th>fraud_id</th><th>transaction_id</th><th>account_id</th><th>fraud_score</th><th>detection_date</th></tr></thead><tbody><tr><td>FRD5000</td><td>TXN10058</td><td>ACC1093</td><td>0.99</td><td>2024-03-30</td></tr><tr><td>FRD5001</td><td>TXN10063</td><td>ACC1031</td><td>0.34</td><td>2024-02-13</td></tr><tr><td>FRD5002</td><td>TXN10043</td><td>ACC1037</td><td>0.66</td><td>2024-02-17</td></tr><tr><td>FRD5003</td><td>TXN10077</td><td>ACC1043</td><td>0.55</td><td>2024-02-04</td></tr><tr><td>FRD5004</td><td>TXN10079</td><td>ACC1017</td><td>0.32</td><td>2024-02-16</td></tr><tr><td>FRD5005</td><td>TXN10008</td><td>ACC1053</td><td>0.93</td><td>2024-02-08</td></tr><tr><td>FRD5006</td><td>TXN10002</td><td>ACC1088</td><td>0.32</td><td>2024-03-29</td></tr><tr><td>FRD5007</td><td>TXN10051</td><td>ACC1060</td><td>0.95</td><td>2024-02-02</td></tr><tr><td>FRD5008</td><td>TXN10083</td><td>ACC1066</td><td>0.88</td><td>2024-02-25</td></tr><tr><td>FRD5009</td><td>TXN10027</td><td>ACC1052</td><td>0.41</td><td>2024-03-03</td></tr><tr><td>FRD5010</td><td>TXN10007</td><td>ACC1085</td><td>0.36</td><td>2024-02-19</td></tr><tr><td>FRD5011</td><td>TXN10072</td><td>ACC1005</td><td>0.65</td><td>2024-03-22</td></tr><tr><td>FRD5012</td><td>TXN10088</td><td>ACC1089</td><td>0.3</td><td>2024-03-06</td></tr><tr><td>FRD5013</td><td>TXN10097</td><td>ACC1017</td><td>0.48</td><td>2024-02-17</td></tr><tr><td>FRD5014</td><td>TXN10070</td><td>ACC1080</td><td>0.62</td><td>2024-02-23</td></tr><tr><td>FRD5015</td><td>TXN10022</td><td>ACC1007</td><td>0.42</td><td>2024-03-21</td></tr><tr><td>FRD5016</td><td>TXN10082</td><td>ACC1024</td><td>0.41</td><td>2024-02-07</td></tr><tr><td>FRD5017</td><td>TXN10015</td><td>ACC1053</td><td>0.69</td><td>2024-02-27</td></tr><tr><td>FRD5018</td><td>TXN10092</td><td>ACC1009</td><td>0.36</td><td>2024-03-31</td></tr><tr><td>FRD5019</td><td>TXN10008</td><td>ACC1053</td><td>0.88</td><td>2024-02-08</td></tr><tr><td>FRD5020</td><td>TXN10098</td><td>ACC1060</td><td>0.44</td><td>2024-03-19</td></tr><tr><td>FRD5021</td><td>TXN10091</td><td>ACC1060</td><td>0.47</td><td>2024-03-30</td></tr><tr><td>FRD5022</td><td>TXN10028</td><td>ACC1012</td><td>0.55</td><td>2024-03-09</td></tr><tr><td>FRD5023</td><td>TXN10085</td><td>ACC1044</td><td>0.57</td><td>2024-02-08</td></tr><tr><td>FRD5024</td><td>TXN10061</td><td>ACC1063</td><td>0.55</td><td>2024-03-13</td></tr><tr><td>FRD5025</td><td>TXN10023</td><td>ACC1076</td><td>0.32</td><td>2024-03-09</td></tr><tr><td>FRD5026</td><td>TXN10086</td><td>ACC1041</td><td>0.64</td><td>2024-03-06</td></tr><tr><td>FRD5027</td><td>TXN10023</td><td>ACC1076</td><td>0.41</td><td>2024-03-20</td></tr><tr><td>FRD5028</td><td>TXN10037</td><td>ACC1057</td><td>0.89</td><td>2024-02-10</td></tr><tr><td>FRD5029</td><td>TXN10029</td><td>ACC1007</td><td>0.33</td><td>2024-03-19</td></tr></tbody></table></div>"
      ]
     },
     "metadata": {
      "application/vnd.databricks.v1+output": {
       "addedWidgets": {},
       "aggData": [],
       "aggError": "",
       "aggOverflow": false,
       "aggSchema": [],
       "aggSeriesLimitReached": false,
       "aggType": "",
       "arguments": {},
       "columnCustomDisplayInfos": {},
       "data": [
        [
         "FRD5000",
         "TXN10058",
         "ACC1093",
         0.99,
         "2024-03-30"
        ],
        [
         "FRD5001",
         "TXN10063",
         "ACC1031",
         0.34,
         "2024-02-13"
        ],
        [
         "FRD5002",
         "TXN10043",
         "ACC1037",
         0.66,
         "2024-02-17"
        ],
        [
         "FRD5003",
         "TXN10077",
         "ACC1043",
         0.55,
         "2024-02-04"
        ],
        [
         "FRD5004",
         "TXN10079",
         "ACC1017",
         0.32,
         "2024-02-16"
        ],
        [
         "FRD5005",
         "TXN10008",
         "ACC1053",
         0.93,
         "2024-02-08"
        ],
        [
         "FRD5006",
         "TXN10002",
         "ACC1088",
         0.32,
         "2024-03-29"
        ],
        [
         "FRD5007",
         "TXN10051",
         "ACC1060",
         0.95,
         "2024-02-02"
        ],
        [
         "FRD5008",
         "TXN10083",
         "ACC1066",
         0.88,
         "2024-02-25"
        ],
        [
         "FRD5009",
         "TXN10027",
         "ACC1052",
         0.41,
         "2024-03-03"
        ],
        [
         "FRD5010",
         "TXN10007",
         "ACC1085",
         0.36,
         "2024-02-19"
        ],
        [
         "FRD5011",
         "TXN10072",
         "ACC1005",
         0.65,
         "2024-03-22"
        ],
        [
         "FRD5012",
         "TXN10088",
         "ACC1089",
         0.3,
         "2024-03-06"
        ],
        [
         "FRD5013",
         "TXN10097",
         "ACC1017",
         0.48,
         "2024-02-17"
        ],
        [
         "FRD5014",
         "TXN10070",
         "ACC1080",
         0.62,
         "2024-02-23"
        ],
        [
         "FRD5015",
         "TXN10022",
         "ACC1007",
         0.42,
         "2024-03-21"
        ],
        [
         "FRD5016",
         "TXN10082",
         "ACC1024",
         0.41,
         "2024-02-07"
        ],
        [
         "FRD5017",
         "TXN10015",
         "ACC1053",
         0.69,
         "2024-02-27"
        ],
        [
         "FRD5018",
         "TXN10092",
         "ACC1009",
         0.36,
         "2024-03-31"
        ],
        [
         "FRD5019",
         "TXN10008",
         "ACC1053",
         0.88,
         "2024-02-08"
        ],
        [
         "FRD5020",
         "TXN10098",
         "ACC1060",
         0.44,
         "2024-03-19"
        ],
        [
         "FRD5021",
         "TXN10091",
         "ACC1060",
         0.47,
         "2024-03-30"
        ],
        [
         "FRD5022",
         "TXN10028",
         "ACC1012",
         0.55,
         "2024-03-09"
        ],
        [
         "FRD5023",
         "TXN10085",
         "ACC1044",
         0.57,
         "2024-02-08"
        ],
        [
         "FRD5024",
         "TXN10061",
         "ACC1063",
         0.55,
         "2024-03-13"
        ],
        [
         "FRD5025",
         "TXN10023",
         "ACC1076",
         0.32,
         "2024-03-09"
        ],
        [
         "FRD5026",
         "TXN10086",
         "ACC1041",
         0.64,
         "2024-03-06"
        ],
        [
         "FRD5027",
         "TXN10023",
         "ACC1076",
         0.41,
         "2024-03-20"
        ],
        [
         "FRD5028",
         "TXN10037",
         "ACC1057",
         0.89,
         "2024-02-10"
        ],
        [
         "FRD5029",
         "TXN10029",
         "ACC1007",
         0.33,
         "2024-03-19"
        ]
       ],
       "datasetInfos": [],
       "dbfsResultPath": null,
       "isJsonSchema": true,
       "metadata": {},
       "overflow": false,
       "plotOptions": {
        "customPlotOptions": {},
        "displayType": "table",
        "pivotAggregation": null,
        "pivotColumns": null,
        "xColumns": null,
        "yColumns": null
       },
       "removedWidgets": [],
       "schema": [
        {
         "metadata": "{}",
         "name": "fraud_id",
         "type": "\"string\""
        },
        {
         "metadata": "{}",
         "name": "transaction_id",
         "type": "\"string\""
        },
        {
         "metadata": "{}",
         "name": "account_id",
         "type": "\"string\""
        },
        {
         "metadata": "{}",
         "name": "fraud_score",
         "type": "\"double\""
        },
        {
         "metadata": "{\"__detected_date_formats\":\"yyyy-M-d\"}",
         "name": "detection_date",
         "type": "\"date\""
        }
       ],
       "type": "table"
      }
     },
     "output_type": "display_data"
    }
   ],
   "source": [
    "# Filter rows where Column1 is not null\n",
    "fraud_detection_df = fraud_detection_df.filter(fraud_detection_df.account_id.isNotNull())\n",
    "\n",
    "# Display the transformed DataFrame\n",
    "display(fraud_detection_df)"
   ]
  },
  {
   "cell_type": "code",
   "execution_count": 0,
   "metadata": {
    "application/vnd.databricks.v1+cell": {
     "cellMetadata": {
      "byteLimit": 2048000,
      "rowLimit": 10000
     },
     "inputWidgets": {},
     "nuid": "fa91763e-0bb2-4344-a0b3-896d6816f632",
     "showTitle": false,
     "tableResultSettingsMap": {},
     "title": ""
    }
   },
   "outputs": [
    {
     "data": {
      "text/html": [
       "<style scoped>\n",
       "  .table-result-container {\n",
       "    max-height: 300px;\n",
       "    overflow: auto;\n",
       "  }\n",
       "  table, th, td {\n",
       "    border: 1px solid black;\n",
       "    border-collapse: collapse;\n",
       "  }\n",
       "  th, td {\n",
       "    padding: 5px;\n",
       "  }\n",
       "  th {\n",
       "    text-align: left;\n",
       "  }\n",
       "</style><div class='table-result-container'><table class='table-result'><thead style='background-color: white'><tr><th>fraud_id</th><th>transaction_id</th><th>account_id</th><th>fraud_score</th><th>detection_date</th><th>fraud_risk_level</th></tr></thead><tbody><tr><td>FRD5000</td><td>TXN10058</td><td>ACC1093</td><td>0.99</td><td>2024-03-30</td><td>High</td></tr><tr><td>FRD5001</td><td>TXN10063</td><td>ACC1031</td><td>0.34</td><td>2024-02-13</td><td>Medium</td></tr><tr><td>FRD5002</td><td>TXN10043</td><td>ACC1037</td><td>0.66</td><td>2024-02-17</td><td>Medium</td></tr><tr><td>FRD5003</td><td>TXN10077</td><td>ACC1043</td><td>0.55</td><td>2024-02-04</td><td>Medium</td></tr><tr><td>FRD5004</td><td>TXN10079</td><td>ACC1017</td><td>0.32</td><td>2024-02-16</td><td>Medium</td></tr><tr><td>FRD5005</td><td>TXN10008</td><td>ACC1053</td><td>0.93</td><td>2024-02-08</td><td>High</td></tr><tr><td>FRD5006</td><td>TXN10002</td><td>ACC1088</td><td>0.32</td><td>2024-03-29</td><td>Medium</td></tr><tr><td>FRD5007</td><td>TXN10051</td><td>ACC1060</td><td>0.95</td><td>2024-02-02</td><td>High</td></tr><tr><td>FRD5008</td><td>TXN10083</td><td>ACC1066</td><td>0.88</td><td>2024-02-25</td><td>High</td></tr><tr><td>FRD5009</td><td>TXN10027</td><td>ACC1052</td><td>0.41</td><td>2024-03-03</td><td>Medium</td></tr><tr><td>FRD5010</td><td>TXN10007</td><td>ACC1085</td><td>0.36</td><td>2024-02-19</td><td>Medium</td></tr><tr><td>FRD5011</td><td>TXN10072</td><td>ACC1005</td><td>0.65</td><td>2024-03-22</td><td>Medium</td></tr><tr><td>FRD5012</td><td>TXN10088</td><td>ACC1089</td><td>0.3</td><td>2024-03-06</td><td>Medium</td></tr><tr><td>FRD5013</td><td>TXN10097</td><td>ACC1017</td><td>0.48</td><td>2024-02-17</td><td>Medium</td></tr><tr><td>FRD5014</td><td>TXN10070</td><td>ACC1080</td><td>0.62</td><td>2024-02-23</td><td>Medium</td></tr><tr><td>FRD5015</td><td>TXN10022</td><td>ACC1007</td><td>0.42</td><td>2024-03-21</td><td>Medium</td></tr><tr><td>FRD5016</td><td>TXN10082</td><td>ACC1024</td><td>0.41</td><td>2024-02-07</td><td>Medium</td></tr><tr><td>FRD5017</td><td>TXN10015</td><td>ACC1053</td><td>0.69</td><td>2024-02-27</td><td>Medium</td></tr><tr><td>FRD5018</td><td>TXN10092</td><td>ACC1009</td><td>0.36</td><td>2024-03-31</td><td>Medium</td></tr><tr><td>FRD5019</td><td>TXN10008</td><td>ACC1053</td><td>0.88</td><td>2024-02-08</td><td>High</td></tr><tr><td>FRD5020</td><td>TXN10098</td><td>ACC1060</td><td>0.44</td><td>2024-03-19</td><td>Medium</td></tr><tr><td>FRD5021</td><td>TXN10091</td><td>ACC1060</td><td>0.47</td><td>2024-03-30</td><td>Medium</td></tr><tr><td>FRD5022</td><td>TXN10028</td><td>ACC1012</td><td>0.55</td><td>2024-03-09</td><td>Medium</td></tr><tr><td>FRD5023</td><td>TXN10085</td><td>ACC1044</td><td>0.57</td><td>2024-02-08</td><td>Medium</td></tr><tr><td>FRD5024</td><td>TXN10061</td><td>ACC1063</td><td>0.55</td><td>2024-03-13</td><td>Medium</td></tr><tr><td>FRD5025</td><td>TXN10023</td><td>ACC1076</td><td>0.32</td><td>2024-03-09</td><td>Medium</td></tr><tr><td>FRD5026</td><td>TXN10086</td><td>ACC1041</td><td>0.64</td><td>2024-03-06</td><td>Medium</td></tr><tr><td>FRD5027</td><td>TXN10023</td><td>ACC1076</td><td>0.41</td><td>2024-03-20</td><td>Medium</td></tr><tr><td>FRD5028</td><td>TXN10037</td><td>ACC1057</td><td>0.89</td><td>2024-02-10</td><td>High</td></tr><tr><td>FRD5029</td><td>TXN10029</td><td>ACC1007</td><td>0.33</td><td>2024-03-19</td><td>Medium</td></tr></tbody></table></div>"
      ]
     },
     "metadata": {
      "application/vnd.databricks.v1+output": {
       "addedWidgets": {},
       "aggData": [],
       "aggError": "",
       "aggOverflow": false,
       "aggSchema": [],
       "aggSeriesLimitReached": false,
       "aggType": "",
       "arguments": {},
       "columnCustomDisplayInfos": {},
       "data": [
        [
         "FRD5000",
         "TXN10058",
         "ACC1093",
         0.99,
         "2024-03-30",
         "High"
        ],
        [
         "FRD5001",
         "TXN10063",
         "ACC1031",
         0.34,
         "2024-02-13",
         "Medium"
        ],
        [
         "FRD5002",
         "TXN10043",
         "ACC1037",
         0.66,
         "2024-02-17",
         "Medium"
        ],
        [
         "FRD5003",
         "TXN10077",
         "ACC1043",
         0.55,
         "2024-02-04",
         "Medium"
        ],
        [
         "FRD5004",
         "TXN10079",
         "ACC1017",
         0.32,
         "2024-02-16",
         "Medium"
        ],
        [
         "FRD5005",
         "TXN10008",
         "ACC1053",
         0.93,
         "2024-02-08",
         "High"
        ],
        [
         "FRD5006",
         "TXN10002",
         "ACC1088",
         0.32,
         "2024-03-29",
         "Medium"
        ],
        [
         "FRD5007",
         "TXN10051",
         "ACC1060",
         0.95,
         "2024-02-02",
         "High"
        ],
        [
         "FRD5008",
         "TXN10083",
         "ACC1066",
         0.88,
         "2024-02-25",
         "High"
        ],
        [
         "FRD5009",
         "TXN10027",
         "ACC1052",
         0.41,
         "2024-03-03",
         "Medium"
        ],
        [
         "FRD5010",
         "TXN10007",
         "ACC1085",
         0.36,
         "2024-02-19",
         "Medium"
        ],
        [
         "FRD5011",
         "TXN10072",
         "ACC1005",
         0.65,
         "2024-03-22",
         "Medium"
        ],
        [
         "FRD5012",
         "TXN10088",
         "ACC1089",
         0.3,
         "2024-03-06",
         "Medium"
        ],
        [
         "FRD5013",
         "TXN10097",
         "ACC1017",
         0.48,
         "2024-02-17",
         "Medium"
        ],
        [
         "FRD5014",
         "TXN10070",
         "ACC1080",
         0.62,
         "2024-02-23",
         "Medium"
        ],
        [
         "FRD5015",
         "TXN10022",
         "ACC1007",
         0.42,
         "2024-03-21",
         "Medium"
        ],
        [
         "FRD5016",
         "TXN10082",
         "ACC1024",
         0.41,
         "2024-02-07",
         "Medium"
        ],
        [
         "FRD5017",
         "TXN10015",
         "ACC1053",
         0.69,
         "2024-02-27",
         "Medium"
        ],
        [
         "FRD5018",
         "TXN10092",
         "ACC1009",
         0.36,
         "2024-03-31",
         "Medium"
        ],
        [
         "FRD5019",
         "TXN10008",
         "ACC1053",
         0.88,
         "2024-02-08",
         "High"
        ],
        [
         "FRD5020",
         "TXN10098",
         "ACC1060",
         0.44,
         "2024-03-19",
         "Medium"
        ],
        [
         "FRD5021",
         "TXN10091",
         "ACC1060",
         0.47,
         "2024-03-30",
         "Medium"
        ],
        [
         "FRD5022",
         "TXN10028",
         "ACC1012",
         0.55,
         "2024-03-09",
         "Medium"
        ],
        [
         "FRD5023",
         "TXN10085",
         "ACC1044",
         0.57,
         "2024-02-08",
         "Medium"
        ],
        [
         "FRD5024",
         "TXN10061",
         "ACC1063",
         0.55,
         "2024-03-13",
         "Medium"
        ],
        [
         "FRD5025",
         "TXN10023",
         "ACC1076",
         0.32,
         "2024-03-09",
         "Medium"
        ],
        [
         "FRD5026",
         "TXN10086",
         "ACC1041",
         0.64,
         "2024-03-06",
         "Medium"
        ],
        [
         "FRD5027",
         "TXN10023",
         "ACC1076",
         0.41,
         "2024-03-20",
         "Medium"
        ],
        [
         "FRD5028",
         "TXN10037",
         "ACC1057",
         0.89,
         "2024-02-10",
         "High"
        ],
        [
         "FRD5029",
         "TXN10029",
         "ACC1007",
         0.33,
         "2024-03-19",
         "Medium"
        ]
       ],
       "datasetInfos": [],
       "dbfsResultPath": null,
       "isJsonSchema": true,
       "metadata": {},
       "overflow": false,
       "plotOptions": {
        "customPlotOptions": {},
        "displayType": "table",
        "pivotAggregation": null,
        "pivotColumns": null,
        "xColumns": null,
        "yColumns": null
       },
       "removedWidgets": [],
       "schema": [
        {
         "metadata": "{}",
         "name": "fraud_id",
         "type": "\"string\""
        },
        {
         "metadata": "{}",
         "name": "transaction_id",
         "type": "\"string\""
        },
        {
         "metadata": "{}",
         "name": "account_id",
         "type": "\"string\""
        },
        {
         "metadata": "{}",
         "name": "fraud_score",
         "type": "\"float\""
        },
        {
         "metadata": "{\"__detected_date_formats\":\"yyyy-M-d\"}",
         "name": "detection_date",
         "type": "\"date\""
        },
        {
         "metadata": "{}",
         "name": "fraud_risk_level",
         "type": "\"string\""
        }
       ],
       "type": "table"
      }
     },
     "output_type": "display_data"
    }
   ],
   "source": [
    "from pyspark.sql.functions import col, to_date, when\n",
    "from pyspark.sql.types import FloatType\n",
    " \n",
    "# Convert fraud_score to float\n",
    "fraud_detection_df = fraud_detection_df.withColumn(\"fraud_score\", col(\"fraud_score\").cast(FloatType()))\n",
    " \n",
    "\n",
    " \n",
    "# Categorize Fraud Risk Levels based on fraud_score\n",
    "fraud_detection_df = fraud_detection_df.withColumn(\n",
    "    \"fraud_risk_level\",\n",
    "    when(col(\"fraud_score\") < 0.3, \"Low\")\n",
    "    .when((col(\"fraud_score\") >= 0.3) & (col(\"fraud_score\") < 0.7), \"Medium\")\n",
    "    .otherwise(\"High\")\n",
    ")\n",
    " \n",
    "# Filter out transactions with invalid or null fraud_score\n",
    "fraud_detection_df = fraud_detection_df.filter(col(\"fraud_score\").isNotNull())\n",
    " \n",
    "# Drop duplicate fraud IDs (if any)\n",
    "fraud_detection_df = fraud_detection_df.dropDuplicates([\"fraud_id\"])\n",
    " \n",
    "# Display the transformed DataFrame\n",
    "display(fraud_detection_df)"
   ]
  },
  {
   "cell_type": "code",
   "execution_count": null,
   "metadata": {},
   "outputs": [],
   "source": [
    "# JDBC configuration\n",
    "jdbcHostname = \"sudhir16.database.windows.net\"\n",
    "jdbcPort = 1433  \n",
    "# Default port\n",
    "jdbcDatabase = \"sudhir-database\"\n",
    "jdbcUsername = \"sudhir\"\n",
    "jdbcPassword = \"admin@16\"\n",
    " \n",
    "jdbcUrl = f\"jdbc:sqlserver://{jdbcHostname}:{jdbcPort};database={jdbcDatabase};user={jdbcUsername};password={jdbcPassword}\"\n",
    "jdbcDriver = \"com.microsoft.sqlserver.jdbc.SQLServerDriver\""
   ]
  },
  {
   "cell_type": "code",
   "execution_count": null,
   "metadata": {},
   "outputs": [],
   "source": [
    "transactional_df.write \\\n",
    "    .format(\"jdbc\") \\\n",
    "    .option(\"url\", jdbcUrl) \\\n",
    "    .option(\"dbtable\", \"transactional_data\") \\\n",
    "    .option(\"user\", jdbcUsername) \\\n",
    "    .option(\"password\", jdbcPassword) \\\n",
    "    .option(\"driver\", jdbcDriver) \\\n",
    "    .mode(\"overwrite\") \\\n",
    "    .save()"
   ]
  },
  {
   "cell_type": "code",
   "execution_count": null,
   "metadata": {},
   "outputs": [],
   "source": [
    "customer_df.write \\\n",
    "    .format(\"jdbc\") \\\n",
    "    .option(\"url\", jdbcUrl) \\\n",
    "    .option(\"dbtable\", \"customer_data\") \\\n",
    "    .option(\"user\", jdbcUsername) \\\n",
    "    .option(\"password\", jdbcPassword) \\\n",
    "    .option(\"driver\", jdbcDriver) \\\n",
    "    .mode(\"overwrite\") \\\n",
    "    .save()"
   ]
  },
  {
   "cell_type": "code",
   "execution_count": null,
   "metadata": {},
   "outputs": [],
   "source": [
    "merchant_df.write \\\n",
    "    .format(\"jdbc\") \\\n",
    "    .option(\"url\", jdbcUrl) \\\n",
    "    .option(\"dbtable\", \"merchant_data\") \\\n",
    "    .option(\"user\", jdbcUsername) \\\n",
    "    .option(\"password\", jdbcPassword) \\\n",
    "    .option(\"driver\", jdbcDriver) \\\n",
    "    .mode(\"overwrite\") \\\n",
    "    .save()"
   ]
  },
  {
   "cell_type": "code",
   "execution_count": null,
   "metadata": {},
   "outputs": [],
   "source": [
    "compliance_df.write \\\n",
    "    .format(\"jdbc\") \\\n",
    "    .option(\"url\", jdbcUrl) \\\n",
    "    .option(\"dbtable\", \"compliance_data\") \\\n",
    "    .option(\"user\", jdbcUsername) \\\n",
    "    .option(\"password\", jdbcPassword) \\\n",
    "    .option(\"driver\", jdbcDriver) \\\n",
    "    .mode(\"overwrite\") \\\n",
    "    .save()\n"
   ]
  },
  {
   "cell_type": "code",
   "execution_count": null,
   "metadata": {},
   "outputs": [],
   "source": [
    "fraud_detection_df.write \\\n",
    "    .format(\"jdbc\") \\\n",
    "    .option(\"url\", jdbcUrl) \\\n",
    "    .option(\"dbtable\", \"fraud_detection_data\") \\\n",
    "    .option(\"user\", jdbcUsername) \\\n",
    "    .option(\"password\", jdbcPassword) \\\n",
    "    .option(\"driver\", jdbcDriver) \\\n",
    "    .mode(\"overwrite\") \\\n",
    "    .save()"
   ]
  },
  {
   "cell_type": "code",
   "execution_count": null,
   "metadata": {},
   "outputs": [],
   "source": []
  }
 ],
 "metadata": {
  "application/vnd.databricks.v1+notebook": {
   "computePreferences": null,
   "dashboards": [],
   "environmentMetadata": {
    "base_environment": "",
    "environment_version": "2"
   },
   "language": "python",
   "notebookMetadata": {
    "pythonIndentUnit": 4
   },
   "notebookName": "Historical-Data",
   "widgets": {}
  },
  "language_info": {
   "name": "python"
  }
 },
 "nbformat": 4,
 "nbformat_minor": 0
}
