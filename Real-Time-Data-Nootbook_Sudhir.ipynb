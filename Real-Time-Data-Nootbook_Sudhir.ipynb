{
 "cells": [
  {
   "cell_type": "code",
   "execution_count": 0,
   "metadata": {
    "application/vnd.databricks.v1+cell": {
     "cellMetadata": {
      "byteLimit": 2048000,
      "rowLimit": 10000
     },
     "inputWidgets": {},
     "nuid": "540a80fe-e979-4a62-9498-543c7e1ed5f1",
     "showTitle": false,
     "tableResultSettingsMap": {},
     "title": ""
    }
   },
   "outputs": [
    {
     "data": {
      "text/html": [
       "<style scoped>\n",
       "  .table-result-container {\n",
       "    max-height: 300px;\n",
       "    overflow: auto;\n",
       "  }\n",
       "  table, th, td {\n",
       "    border: 1px solid black;\n",
       "    border-collapse: collapse;\n",
       "  }\n",
       "  th, td {\n",
       "    padding: 5px;\n",
       "  }\n",
       "  th {\n",
       "    text-align: left;\n",
       "  }\n",
       "</style><div class='table-result-container'><table class='table-result'><thead style='background-color: white'><tr><th>transaction_id</th><th>customer_id</th><th>transaction_date</th><th>transaction_type</th><th>transaction_amount</th><th>payment_method</th></tr></thead><tbody><tr><td>RT_TXN20000</td><td>CUST1070</td><td>2025-02-20 16:26:09</td><td>Deposit</td><td>150000.0</td><td>Credit Card</td></tr><tr><td>RT_TXN20001</td><td>CUST1077</td><td>2025-02-20 12:26:09</td><td>Deposit</td><td>150000.0</td><td>UPI</td></tr><tr><td>RT_TXN20002</td><td>CUST1024</td><td>2025-02-20 14:26:09</td><td>Insurance Premium</td><td>20000.0</td><td>Net Banking</td></tr><tr><td>RT_TXN20003</td><td>CUST1014</td><td>2025-02-20 02:26:09</td><td>Fund Transfer</td><td>5000.0</td><td>Net Banking</td></tr><tr><td>RT_TXN20004</td><td>CUST1066</td><td>2025-02-20 09:26:09</td><td>Insurance Premium</td><td>1000.0</td><td>Net Banking</td></tr><tr><td>RT_TXN20005</td><td>CUST1070</td><td>2025-02-19 23:26:09</td><td>Deposit</td><td>200000.0</td><td>UPI</td></tr><tr><td>RT_TXN20006</td><td>CUST1025</td><td>2025-02-20 12:26:09</td><td>Bill Payment</td><td>2000.0</td><td>Credit Card</td></tr><tr><td>RT_TXN20007</td><td>CUST1057</td><td>2025-02-20 08:26:09</td><td>Bill Payment</td><td>2000.0</td><td>Credit Card</td></tr><tr><td>RT_TXN20008</td><td>CUST1014</td><td>2025-02-20 02:26:09</td><td>Withdrawal</td><td>15000.0</td><td>Debit Card</td></tr><tr><td>RT_TXN20009</td><td>CUST1024</td><td>2025-02-19 21:26:09</td><td>Stock Investment</td><td>200000.0</td><td>Net Banking</td></tr><tr><td>RT_TXN20010</td><td>CUST1016</td><td>2025-02-20 02:26:09</td><td>Bill Payment</td><td>500.0</td><td>Credit Card</td></tr><tr><td>RT_TXN20011</td><td>CUST1016</td><td>2025-02-20 09:26:09</td><td>Insurance Premium</td><td>5000.0</td><td>Credit Card</td></tr><tr><td>RT_TXN20012</td><td>CUST1030</td><td>2025-02-20 20:26:09</td><td>Stock Investment</td><td>100000.0</td><td>Net Banking</td></tr><tr><td>RT_TXN20013</td><td>CUST1073</td><td>2025-02-20 17:26:09</td><td>Bill Payment</td><td>2000.0</td><td>Net Banking</td></tr><tr><td>RT_TXN20014</td><td>CUST1095</td><td>2025-02-20 07:26:09</td><td>Withdrawal</td><td>20000.0</td><td>Debit Card</td></tr><tr><td>RT_TXN20015</td><td>CUST1007</td><td>2025-02-20 16:26:09</td><td>Fund Transfer</td><td>15000.0</td><td>UPI</td></tr><tr><td>RT_TXN20016</td><td>CUST1017</td><td>2025-02-20 03:26:09</td><td>Bill Payment</td><td>2000.0</td><td>UPI</td></tr><tr><td>RT_TXN20017</td><td>CUST1051</td><td>2025-02-19 21:26:09</td><td>Fund Transfer</td><td>30000.0</td><td>Net Banking</td></tr><tr><td>RT_TXN20018</td><td>CUST1039</td><td>2025-02-20 06:26:09</td><td>Insurance Premium</td><td>1000.0</td><td>Credit Card</td></tr><tr><td>RT_TXN20019</td><td>CUST1040</td><td>2025-02-20 19:26:09</td><td>Insurance Premium</td><td>20000.0</td><td>Credit Card</td></tr><tr><td>RT_TXN20020</td><td>CUST1026</td><td>2025-02-20 19:26:09</td><td>Bill Payment</td><td>2000.0</td><td>Credit Card</td></tr><tr><td>RT_TXN20021</td><td>CUST1001</td><td>2025-02-20 06:26:09</td><td>Stock Investment</td><td>50000.0</td><td>Net Banking</td></tr><tr><td>RT_TXN20022</td><td>CUST1079</td><td>2025-02-20 20:26:09</td><td>Insurance Premium</td><td>20000.0</td><td>Net Banking</td></tr><tr><td>RT_TXN20023</td><td>CUST1016</td><td>2025-02-20 11:26:09</td><td>Bill Payment</td><td>10000.0</td><td>Net Banking</td></tr><tr><td>RT_TXN20024</td><td>CUST1079</td><td>2025-02-20 16:26:09</td><td>Fund Transfer</td><td>5000.0</td><td>UPI</td></tr><tr><td>RT_TXN20025</td><td>CUST1036</td><td>2025-02-20 17:26:09</td><td>Deposit</td><td>50000.0</td><td>Credit Card</td></tr><tr><td>RT_TXN20026</td><td>CUST1053</td><td>2025-02-20 17:26:09</td><td>Deposit</td><td>150000.0</td><td>Credit Card</td></tr><tr><td>RT_TXN20027</td><td>CUST1025</td><td>2025-02-20 21:26:09</td><td>Withdrawal</td><td>20000.0</td><td>Debit Card</td></tr><tr><td>RT_TXN20028</td><td>CUST1030</td><td>2025-02-20 16:26:09</td><td>Bill Payment</td><td>500.0</td><td>UPI</td></tr><tr><td>RT_TXN20029</td><td>CUST1085</td><td>2025-02-20 17:26:09</td><td>Bill Payment</td><td>2000.0</td><td>UPI</td></tr><tr><td>RT_TXN20030</td><td>CUST1001</td><td>2025-02-20 02:26:09</td><td>Loan Payment</td><td>1000.0</td><td>UPI</td></tr><tr><td>RT_TXN20031</td><td>CUST1006</td><td>2025-02-20 09:26:09</td><td>Insurance Premium</td><td>5000.0</td><td>Credit Card</td></tr><tr><td>RT_TXN20032</td><td>CUST1006</td><td>2025-02-20 07:26:09</td><td>Withdrawal</td><td>20000.0</td><td>Debit Card</td></tr><tr><td>RT_TXN20033</td><td>CUST1098</td><td>2025-02-20 01:26:09</td><td>Insurance Premium</td><td>20000.0</td><td>Net Banking</td></tr><tr><td>RT_TXN20034</td><td>CUST1003</td><td>2025-02-20 02:26:09</td><td>Withdrawal</td><td>5000.0</td><td>Net Banking</td></tr><tr><td>RT_TXN20035</td><td>CUST1064</td><td>2025-02-19 21:26:09</td><td>Loan Payment</td><td>50000.0</td><td>UPI</td></tr><tr><td>RT_TXN20036</td><td>CUST1034</td><td>2025-02-20 00:26:09</td><td>Loan Payment</td><td>50000.0</td><td>Net Banking</td></tr><tr><td>RT_TXN20037</td><td>CUST1081</td><td>2025-02-20 14:26:09</td><td>Bill Payment</td><td>10000.0</td><td>Credit Card</td></tr><tr><td>RT_TXN20038</td><td>CUST1083</td><td>2025-02-20 07:26:09</td><td>Loan Payment</td><td>5000.0</td><td>Net Banking</td></tr><tr><td>RT_TXN20039</td><td>CUST1028</td><td>2025-02-20 10:26:09</td><td>Insurance Premium</td><td>10000.0</td><td>Credit Card</td></tr><tr><td>RT_TXN20040</td><td>CUST1010</td><td>2025-02-20 16:26:09</td><td>Deposit</td><td>100000.0</td><td>UPI</td></tr><tr><td>RT_TXN20041</td><td>CUST1016</td><td>2025-02-20 10:26:09</td><td>Deposit</td><td>10000.0</td><td>Net Banking</td></tr><tr><td>RT_TXN20042</td><td>CUST1068</td><td>2025-02-20 21:26:09</td><td>Insurance Premium</td><td>5000.0</td><td>Credit Card</td></tr><tr><td>RT_TXN20043</td><td>CUST1064</td><td>2025-02-19 22:26:09</td><td>Loan Payment</td><td>1000.0</td><td>UPI</td></tr><tr><td>RT_TXN20044</td><td>CUST1033</td><td>2025-02-20 11:26:09</td><td>Insurance Premium</td><td>1000.0</td><td>Net Banking</td></tr><tr><td>RT_TXN20045</td><td>CUST1091</td><td>2025-02-20 18:26:09</td><td>Deposit</td><td>100000.0</td><td>UPI</td></tr><tr><td>RT_TXN20046</td><td>CUST1027</td><td>2025-02-20 04:26:09</td><td>Stock Investment</td><td>10000.0</td><td>Net Banking</td></tr><tr><td>RT_TXN20047</td><td>CUST1046</td><td>2025-02-20 20:26:09</td><td>Deposit</td><td>100000.0</td><td>UPI</td></tr><tr><td>RT_TXN20048</td><td>CUST1064</td><td>2025-02-20 18:26:09</td><td>Bill Payment</td><td>10000.0</td><td>Credit Card</td></tr><tr><td>RT_TXN20049</td><td>CUST1019</td><td>2025-02-20 02:26:09</td><td>Fund Transfer</td><td>5000.0</td><td>UPI</td></tr><tr><td>RT_TXN20050</td><td>CUST1097</td><td>2025-02-20 19:26:09</td><td>Bill Payment</td><td>10000.0</td><td>UPI</td></tr><tr><td>RT_TXN20051</td><td>CUST1083</td><td>2025-02-20 11:26:09</td><td>Bill Payment</td><td>10000.0</td><td>Credit Card</td></tr><tr><td>RT_TXN20052</td><td>CUST1048</td><td>2025-02-20 21:26:09</td><td>Loan Payment</td><td>10000.0</td><td>UPI</td></tr><tr><td>RT_TXN20053</td><td>CUST1081</td><td>2025-02-20 00:26:09</td><td>Loan Payment</td><td>10000.0</td><td>UPI</td></tr><tr><td>RT_TXN20054</td><td>CUST1036</td><td>2025-02-20 02:26:09</td><td>Bill Payment</td><td>5000.0</td><td>Net Banking</td></tr><tr><td>RT_TXN20055</td><td>CUST1011</td><td>2025-02-20 11:26:09</td><td>Loan Payment</td><td>1000.0</td><td>UPI</td></tr><tr><td>RT_TXN20056</td><td>CUST1006</td><td>2025-02-20 10:26:09</td><td>Fund Transfer</td><td>20000.0</td><td>UPI</td></tr><tr><td>RT_TXN20057</td><td>CUST1060</td><td>2025-02-20 14:26:09</td><td>Insurance Premium</td><td>1000.0</td><td>Credit Card</td></tr><tr><td>RT_TXN20058</td><td>CUST1035</td><td>2025-02-20 02:26:09</td><td>Stock Investment</td><td>500000.0</td><td>Net Banking</td></tr><tr><td>RT_TXN20059</td><td>CUST1049</td><td>2025-02-20 13:26:09</td><td>Fund Transfer</td><td>20000.0</td><td>Net Banking</td></tr><tr><td>RT_TXN20060</td><td>CUST1016</td><td>2025-02-20 16:26:09</td><td>Loan Payment</td><td>50000.0</td><td>UPI</td></tr><tr><td>RT_TXN20061</td><td>CUST1032</td><td>2025-02-20 20:26:09</td><td>Insurance Premium</td><td>1000.0</td><td>Net Banking</td></tr><tr><td>RT_TXN20062</td><td>CUST1093</td><td>2025-02-20 04:26:09</td><td>Withdrawal</td><td>10000.0</td><td>Net Banking</td></tr><tr><td>RT_TXN20063</td><td>CUST1046</td><td>2025-02-20 09:26:09</td><td>Fund Transfer</td><td>15000.0</td><td>Net Banking</td></tr><tr><td>RT_TXN20064</td><td>CUST1072</td><td>2025-02-20 09:26:09</td><td>Fund Transfer</td><td>15000.0</td><td>UPI</td></tr><tr><td>RT_TXN20065</td><td>CUST1060</td><td>2025-02-19 22:26:09</td><td>Loan Payment</td><td>50000.0</td><td>UPI</td></tr><tr><td>RT_TXN20066</td><td>CUST1061</td><td>2025-02-20 09:26:09</td><td>Bill Payment</td><td>10000.0</td><td>UPI</td></tr><tr><td>RT_TXN20067</td><td>CUST1080</td><td>2025-02-20 09:26:09</td><td>Deposit</td><td>150000.0</td><td>Credit Card</td></tr><tr><td>RT_TXN20068</td><td>CUST1010</td><td>2025-02-20 18:26:09</td><td>Bill Payment</td><td>5000.0</td><td>Credit Card</td></tr><tr><td>RT_TXN20069</td><td>CUST1086</td><td>2025-02-20 15:26:09</td><td>Loan Payment</td><td>20000.0</td><td>Net Banking</td></tr><tr><td>RT_TXN20070</td><td>CUST1077</td><td>2025-02-20 07:26:09</td><td>Bill Payment</td><td>5000.0</td><td>UPI</td></tr><tr><td>RT_TXN20071</td><td>CUST1099</td><td>2025-02-20 04:26:09</td><td>Deposit</td><td>50000.0</td><td>UPI</td></tr><tr><td>RT_TXN20072</td><td>CUST1049</td><td>2025-02-20 20:26:09</td><td>Stock Investment</td><td>10000.0</td><td>Net Banking</td></tr><tr><td>RT_TXN20073</td><td>CUST1073</td><td>2025-02-20 11:26:09</td><td>Deposit</td><td>50000.0</td><td>Net Banking</td></tr><tr><td>RT_TXN20074</td><td>CUST1073</td><td>2025-02-20 15:26:09</td><td>Deposit</td><td>10000.0</td><td>UPI</td></tr><tr><td>RT_TXN20075</td><td>CUST1078</td><td>2025-02-19 21:26:09</td><td>Bill Payment</td><td>500.0</td><td>Net Banking</td></tr><tr><td>RT_TXN20076</td><td>CUST1094</td><td>2025-02-20 14:26:09</td><td>Loan Payment</td><td>50000.0</td><td>Net Banking</td></tr><tr><td>RT_TXN20077</td><td>CUST1096</td><td>2025-02-20 07:26:09</td><td>Deposit</td><td>10000.0</td><td>Credit Card</td></tr><tr><td>RT_TXN20078</td><td>CUST1095</td><td>2025-02-20 17:26:09</td><td>Insurance Premium</td><td>5000.0</td><td>Net Banking</td></tr><tr><td>RT_TXN20079</td><td>CUST1075</td><td>2025-02-20 20:26:09</td><td>Insurance Premium</td><td>10000.0</td><td>Net Banking</td></tr><tr><td>RT_TXN20080</td><td>CUST1014</td><td>2025-02-20 14:26:09</td><td>Loan Payment</td><td>1000.0</td><td>Net Banking</td></tr><tr><td>RT_TXN20081</td><td>CUST1022</td><td>2025-02-20 19:26:09</td><td>Fund Transfer</td><td>20000.0</td><td>UPI</td></tr><tr><td>RT_TXN20082</td><td>CUST1087</td><td>2025-02-19 21:26:09</td><td>Loan Payment</td><td>5000.0</td><td>Net Banking</td></tr><tr><td>RT_TXN20083</td><td>CUST1080</td><td>2025-02-20 01:26:09</td><td>Stock Investment</td><td>10000.0</td><td>Net Banking</td></tr><tr><td>RT_TXN20084</td><td>CUST1069</td><td>2025-02-20 20:26:09</td><td>Loan Payment</td><td>20000.0</td><td>UPI</td></tr><tr><td>RT_TXN20085</td><td>CUST1060</td><td>2025-02-20 16:26:09</td><td>Deposit</td><td>100000.0</td><td>Net Banking</td></tr><tr><td>RT_TXN20086</td><td>CUST1045</td><td>2025-02-20 12:26:09</td><td>Bill Payment</td><td>10000.0</td><td>Net Banking</td></tr><tr><td>RT_TXN20087</td><td>CUST1032</td><td>2025-02-20 02:26:09</td><td>Withdrawal</td><td>10000.0</td><td>Net Banking</td></tr><tr><td>RT_TXN20088</td><td>CUST1045</td><td>2025-02-20 02:26:09</td><td>Withdrawal</td><td>20000.0</td><td>Net Banking</td></tr><tr><td>RT_TXN20089</td><td>CUST1004</td><td>2025-02-20 04:26:09</td><td>Loan Payment</td><td>20000.0</td><td>Net Banking</td></tr><tr><td>RT_TXN20090</td><td>CUST1067</td><td>2025-02-20 07:26:09</td><td>Insurance Premium</td><td>20000.0</td><td>Credit Card</td></tr><tr><td>RT_TXN20091</td><td>CUST1050</td><td>2025-02-19 23:26:09</td><td>Deposit</td><td>200000.0</td><td>Net Banking</td></tr><tr><td>RT_TXN20092</td><td>CUST1096</td><td>2025-02-20 01:26:09</td><td>Stock Investment</td><td>10000.0</td><td>Net Banking</td></tr><tr><td>RT_TXN20093</td><td>CUST1037</td><td>2025-02-20 00:26:09</td><td>Stock Investment</td><td>100000.0</td><td>Net Banking</td></tr><tr><td>RT_TXN20094</td><td>CUST1011</td><td>2025-02-20 07:26:09</td><td>Fund Transfer</td><td>5000.0</td><td>UPI</td></tr><tr><td>RT_TXN20095</td><td>CUST1005</td><td>2025-02-20 03:26:09</td><td>Stock Investment</td><td>10000.0</td><td>Net Banking</td></tr><tr><td>RT_TXN20096</td><td>CUST1060</td><td>2025-02-20 03:26:09</td><td>Insurance Premium</td><td>5000.0</td><td>Credit Card</td></tr><tr><td>RT_TXN20097</td><td>CUST1031</td><td>2025-02-20 10:26:09</td><td>Stock Investment</td><td>100000.0</td><td>Net Banking</td></tr><tr><td>RT_TXN20098</td><td>CUST1063</td><td>2025-02-20 00:26:09</td><td>Bill Payment</td><td>2000.0</td><td>Credit Card</td></tr><tr><td>RT_TXN20099</td><td>CUST1062</td><td>2025-02-20 07:26:09</td><td>Bill Payment</td><td>10000.0</td><td>Credit Card</td></tr><tr><td>RT_TXN20000</td><td>CUST1070</td><td>2025-02-20 16:26:09</td><td>Deposit</td><td>150000.0</td><td>Credit Card</td></tr><tr><td>RT_TXN20001</td><td>CUST1077</td><td>2025-02-20 12:26:09</td><td>Deposit</td><td>150000.0</td><td>UPI</td></tr><tr><td>RT_TXN20002</td><td>CUST1024</td><td>2025-02-20 14:26:09</td><td>Insurance Premium</td><td>20000.0</td><td>Net Banking</td></tr><tr><td>RT_TXN20003</td><td>CUST1014</td><td>2025-02-20 02:26:09</td><td>Fund Transfer</td><td>5000.0</td><td>Net Banking</td></tr><tr><td>RT_TXN20004</td><td>CUST1066</td><td>2025-02-20 09:26:09</td><td>Insurance Premium</td><td>1000.0</td><td>Net Banking</td></tr><tr><td>RT_TXN20005</td><td>CUST1070</td><td>2025-02-19 23:26:09</td><td>Deposit</td><td>200000.0</td><td>UPI</td></tr><tr><td>RT_TXN20006</td><td>CUST1025</td><td>2025-02-20 12:26:09</td><td>Bill Payment</td><td>2000.0</td><td>Credit Card</td></tr><tr><td>RT_TXN20007</td><td>CUST1057</td><td>2025-02-20 08:26:09</td><td>Bill Payment</td><td>2000.0</td><td>Credit Card</td></tr><tr><td>RT_TXN20008</td><td>CUST1014</td><td>2025-02-20 02:26:09</td><td>Withdrawal</td><td>15000.0</td><td>Debit Card</td></tr><tr><td>RT_TXN20009</td><td>CUST1024</td><td>2025-02-19 21:26:09</td><td>Stock Investment</td><td>200000.0</td><td>Net Banking</td></tr><tr><td>RT_TXN20010</td><td>CUST1016</td><td>2025-02-20 02:26:09</td><td>Bill Payment</td><td>500.0</td><td>Credit Card</td></tr><tr><td>RT_TXN20011</td><td>CUST1016</td><td>2025-02-20 09:26:09</td><td>Insurance Premium</td><td>5000.0</td><td>Credit Card</td></tr><tr><td>RT_TXN20012</td><td>CUST1030</td><td>2025-02-20 20:26:09</td><td>Stock Investment</td><td>100000.0</td><td>Net Banking</td></tr><tr><td>RT_TXN20013</td><td>CUST1073</td><td>2025-02-20 17:26:09</td><td>Bill Payment</td><td>2000.0</td><td>Net Banking</td></tr><tr><td>RT_TXN20014</td><td>CUST1095</td><td>2025-02-20 07:26:09</td><td>Withdrawal</td><td>20000.0</td><td>Debit Card</td></tr><tr><td>RT_TXN20015</td><td>CUST1007</td><td>2025-02-20 16:26:09</td><td>Fund Transfer</td><td>15000.0</td><td>UPI</td></tr><tr><td>RT_TXN20016</td><td>CUST1017</td><td>2025-02-20 03:26:09</td><td>Bill Payment</td><td>2000.0</td><td>UPI</td></tr><tr><td>RT_TXN20017</td><td>CUST1051</td><td>2025-02-19 21:26:09</td><td>Fund Transfer</td><td>30000.0</td><td>Net Banking</td></tr><tr><td>RT_TXN20018</td><td>CUST1039</td><td>2025-02-20 06:26:09</td><td>Insurance Premium</td><td>1000.0</td><td>Credit Card</td></tr><tr><td>RT_TXN20019</td><td>CUST1040</td><td>2025-02-20 19:26:09</td><td>Insurance Premium</td><td>20000.0</td><td>Credit Card</td></tr><tr><td>RT_TXN20020</td><td>CUST1026</td><td>2025-02-20 19:26:09</td><td>Bill Payment</td><td>2000.0</td><td>Credit Card</td></tr><tr><td>RT_TXN20021</td><td>CUST1001</td><td>2025-02-20 06:26:09</td><td>Stock Investment</td><td>50000.0</td><td>Net Banking</td></tr><tr><td>RT_TXN20022</td><td>CUST1079</td><td>2025-02-20 20:26:09</td><td>Insurance Premium</td><td>20000.0</td><td>Net Banking</td></tr><tr><td>RT_TXN20023</td><td>CUST1016</td><td>2025-02-20 11:26:09</td><td>Bill Payment</td><td>10000.0</td><td>Net Banking</td></tr><tr><td>RT_TXN20024</td><td>CUST1079</td><td>2025-02-20 16:26:09</td><td>Fund Transfer</td><td>5000.0</td><td>UPI</td></tr><tr><td>RT_TXN20025</td><td>CUST1036</td><td>2025-02-20 17:26:09</td><td>Deposit</td><td>50000.0</td><td>Credit Card</td></tr><tr><td>RT_TXN20026</td><td>CUST1053</td><td>2025-02-20 17:26:09</td><td>Deposit</td><td>150000.0</td><td>Credit Card</td></tr><tr><td>RT_TXN20027</td><td>CUST1025</td><td>2025-02-20 21:26:09</td><td>Withdrawal</td><td>20000.0</td><td>Debit Card</td></tr><tr><td>RT_TXN20028</td><td>CUST1030</td><td>2025-02-20 16:26:09</td><td>Bill Payment</td><td>500.0</td><td>UPI</td></tr><tr><td>RT_TXN20029</td><td>CUST1085</td><td>2025-02-20 17:26:09</td><td>Bill Payment</td><td>2000.0</td><td>UPI</td></tr><tr><td>RT_TXN20030</td><td>CUST1001</td><td>2025-02-20 02:26:09</td><td>Loan Payment</td><td>1000.0</td><td>UPI</td></tr><tr><td>RT_TXN20031</td><td>CUST1006</td><td>2025-02-20 09:26:09</td><td>Insurance Premium</td><td>5000.0</td><td>Credit Card</td></tr><tr><td>RT_TXN20032</td><td>CUST1006</td><td>2025-02-20 07:26:09</td><td>Withdrawal</td><td>20000.0</td><td>Debit Card</td></tr><tr><td>RT_TXN20033</td><td>CUST1098</td><td>2025-02-20 01:26:09</td><td>Insurance Premium</td><td>20000.0</td><td>Net Banking</td></tr><tr><td>RT_TXN20034</td><td>CUST1003</td><td>2025-02-20 02:26:09</td><td>Withdrawal</td><td>5000.0</td><td>Net Banking</td></tr><tr><td>RT_TXN20035</td><td>CUST1064</td><td>2025-02-19 21:26:09</td><td>Loan Payment</td><td>50000.0</td><td>UPI</td></tr><tr><td>RT_TXN20036</td><td>CUST1034</td><td>2025-02-20 00:26:09</td><td>Loan Payment</td><td>50000.0</td><td>Net Banking</td></tr><tr><td>RT_TXN20037</td><td>CUST1081</td><td>2025-02-20 14:26:09</td><td>Bill Payment</td><td>10000.0</td><td>Credit Card</td></tr><tr><td>RT_TXN20038</td><td>CUST1083</td><td>2025-02-20 07:26:09</td><td>Loan Payment</td><td>5000.0</td><td>Net Banking</td></tr><tr><td>RT_TXN20039</td><td>CUST1028</td><td>2025-02-20 10:26:09</td><td>Insurance Premium</td><td>10000.0</td><td>Credit Card</td></tr><tr><td>RT_TXN20040</td><td>CUST1010</td><td>2025-02-20 16:26:09</td><td>Deposit</td><td>100000.0</td><td>UPI</td></tr><tr><td>RT_TXN20041</td><td>CUST1016</td><td>2025-02-20 10:26:09</td><td>Deposit</td><td>10000.0</td><td>Net Banking</td></tr><tr><td>RT_TXN20042</td><td>CUST1068</td><td>2025-02-20 21:26:09</td><td>Insurance Premium</td><td>5000.0</td><td>Credit Card</td></tr><tr><td>RT_TXN20043</td><td>CUST1064</td><td>2025-02-19 22:26:09</td><td>Loan Payment</td><td>1000.0</td><td>UPI</td></tr><tr><td>RT_TXN20044</td><td>CUST1033</td><td>2025-02-20 11:26:09</td><td>Insurance Premium</td><td>1000.0</td><td>Net Banking</td></tr><tr><td>RT_TXN20045</td><td>CUST1091</td><td>2025-02-20 18:26:09</td><td>Deposit</td><td>100000.0</td><td>UPI</td></tr><tr><td>RT_TXN20046</td><td>CUST1027</td><td>2025-02-20 04:26:09</td><td>Stock Investment</td><td>10000.0</td><td>Net Banking</td></tr><tr><td>RT_TXN20047</td><td>CUST1046</td><td>2025-02-20 20:26:09</td><td>Deposit</td><td>100000.0</td><td>UPI</td></tr><tr><td>RT_TXN20048</td><td>CUST1064</td><td>2025-02-20 18:26:09</td><td>Bill Payment</td><td>10000.0</td><td>Credit Card</td></tr><tr><td>RT_TXN20049</td><td>CUST1019</td><td>2025-02-20 02:26:09</td><td>Fund Transfer</td><td>5000.0</td><td>UPI</td></tr><tr><td>RT_TXN20050</td><td>CUST1097</td><td>2025-02-20 19:26:09</td><td>Bill Payment</td><td>10000.0</td><td>UPI</td></tr><tr><td>RT_TXN20051</td><td>CUST1083</td><td>2025-02-20 11:26:09</td><td>Bill Payment</td><td>10000.0</td><td>Credit Card</td></tr><tr><td>RT_TXN20052</td><td>CUST1048</td><td>2025-02-20 21:26:09</td><td>Loan Payment</td><td>10000.0</td><td>UPI</td></tr><tr><td>RT_TXN20053</td><td>CUST1081</td><td>2025-02-20 00:26:09</td><td>Loan Payment</td><td>10000.0</td><td>UPI</td></tr><tr><td>RT_TXN20054</td><td>CUST1036</td><td>2025-02-20 02:26:09</td><td>Bill Payment</td><td>5000.0</td><td>Net Banking</td></tr><tr><td>RT_TXN20055</td><td>CUST1011</td><td>2025-02-20 11:26:09</td><td>Loan Payment</td><td>1000.0</td><td>UPI</td></tr><tr><td>RT_TXN20056</td><td>CUST1006</td><td>2025-02-20 10:26:09</td><td>Fund Transfer</td><td>20000.0</td><td>UPI</td></tr><tr><td>RT_TXN20057</td><td>CUST1060</td><td>2025-02-20 14:26:09</td><td>Insurance Premium</td><td>1000.0</td><td>Credit Card</td></tr><tr><td>RT_TXN20058</td><td>CUST1035</td><td>2025-02-20 02:26:09</td><td>Stock Investment</td><td>500000.0</td><td>Net Banking</td></tr><tr><td>RT_TXN20059</td><td>CUST1049</td><td>2025-02-20 13:26:09</td><td>Fund Transfer</td><td>20000.0</td><td>Net Banking</td></tr><tr><td>RT_TXN20060</td><td>CUST1016</td><td>2025-02-20 16:26:09</td><td>Loan Payment</td><td>50000.0</td><td>UPI</td></tr><tr><td>RT_TXN20061</td><td>CUST1032</td><td>2025-02-20 20:26:09</td><td>Insurance Premium</td><td>1000.0</td><td>Net Banking</td></tr><tr><td>RT_TXN20062</td><td>CUST1093</td><td>2025-02-20 04:26:09</td><td>Withdrawal</td><td>10000.0</td><td>Net Banking</td></tr><tr><td>RT_TXN20063</td><td>CUST1046</td><td>2025-02-20 09:26:09</td><td>Fund Transfer</td><td>15000.0</td><td>Net Banking</td></tr><tr><td>RT_TXN20064</td><td>CUST1072</td><td>2025-02-20 09:26:09</td><td>Fund Transfer</td><td>15000.0</td><td>UPI</td></tr><tr><td>RT_TXN20065</td><td>CUST1060</td><td>2025-02-19 22:26:09</td><td>Loan Payment</td><td>50000.0</td><td>UPI</td></tr><tr><td>RT_TXN20066</td><td>CUST1061</td><td>2025-02-20 09:26:09</td><td>Bill Payment</td><td>10000.0</td><td>UPI</td></tr><tr><td>RT_TXN20067</td><td>CUST1080</td><td>2025-02-20 09:26:09</td><td>Deposit</td><td>150000.0</td><td>Credit Card</td></tr><tr><td>RT_TXN20068</td><td>CUST1010</td><td>2025-02-20 18:26:09</td><td>Bill Payment</td><td>5000.0</td><td>Credit Card</td></tr><tr><td>RT_TXN20069</td><td>CUST1086</td><td>2025-02-20 15:26:09</td><td>Loan Payment</td><td>20000.0</td><td>Net Banking</td></tr><tr><td>RT_TXN20070</td><td>CUST1077</td><td>2025-02-20 07:26:09</td><td>Bill Payment</td><td>5000.0</td><td>UPI</td></tr><tr><td>RT_TXN20071</td><td>CUST1099</td><td>2025-02-20 04:26:09</td><td>Deposit</td><td>50000.0</td><td>UPI</td></tr><tr><td>RT_TXN20072</td><td>CUST1049</td><td>2025-02-20 20:26:09</td><td>Stock Investment</td><td>10000.0</td><td>Net Banking</td></tr><tr><td>RT_TXN20073</td><td>CUST1073</td><td>2025-02-20 11:26:09</td><td>Deposit</td><td>50000.0</td><td>Net Banking</td></tr><tr><td>RT_TXN20074</td><td>CUST1073</td><td>2025-02-20 15:26:09</td><td>Deposit</td><td>10000.0</td><td>UPI</td></tr><tr><td>RT_TXN20075</td><td>CUST1078</td><td>2025-02-19 21:26:09</td><td>Bill Payment</td><td>500.0</td><td>Net Banking</td></tr><tr><td>RT_TXN20076</td><td>CUST1094</td><td>2025-02-20 14:26:09</td><td>Loan Payment</td><td>50000.0</td><td>Net Banking</td></tr><tr><td>RT_TXN20077</td><td>CUST1096</td><td>2025-02-20 07:26:09</td><td>Deposit</td><td>10000.0</td><td>Credit Card</td></tr><tr><td>RT_TXN20078</td><td>CUST1095</td><td>2025-02-20 17:26:09</td><td>Insurance Premium</td><td>5000.0</td><td>Net Banking</td></tr><tr><td>RT_TXN20079</td><td>CUST1075</td><td>2025-02-20 20:26:09</td><td>Insurance Premium</td><td>10000.0</td><td>Net Banking</td></tr><tr><td>RT_TXN20080</td><td>CUST1014</td><td>2025-02-20 14:26:09</td><td>Loan Payment</td><td>1000.0</td><td>Net Banking</td></tr><tr><td>RT_TXN20081</td><td>CUST1022</td><td>2025-02-20 19:26:09</td><td>Fund Transfer</td><td>20000.0</td><td>UPI</td></tr><tr><td>RT_TXN20082</td><td>CUST1087</td><td>2025-02-19 21:26:09</td><td>Loan Payment</td><td>5000.0</td><td>Net Banking</td></tr><tr><td>RT_TXN20083</td><td>CUST1080</td><td>2025-02-20 01:26:09</td><td>Stock Investment</td><td>10000.0</td><td>Net Banking</td></tr><tr><td>RT_TXN20084</td><td>CUST1069</td><td>2025-02-20 20:26:09</td><td>Loan Payment</td><td>20000.0</td><td>UPI</td></tr><tr><td>RT_TXN20085</td><td>CUST1060</td><td>2025-02-20 16:26:09</td><td>Deposit</td><td>100000.0</td><td>Net Banking</td></tr><tr><td>RT_TXN20086</td><td>CUST1045</td><td>2025-02-20 12:26:09</td><td>Bill Payment</td><td>10000.0</td><td>Net Banking</td></tr><tr><td>RT_TXN20087</td><td>CUST1032</td><td>2025-02-20 02:26:09</td><td>Withdrawal</td><td>10000.0</td><td>Net Banking</td></tr><tr><td>RT_TXN20088</td><td>CUST1045</td><td>2025-02-20 02:26:09</td><td>Withdrawal</td><td>20000.0</td><td>Net Banking</td></tr><tr><td>RT_TXN20089</td><td>CUST1004</td><td>2025-02-20 04:26:09</td><td>Loan Payment</td><td>20000.0</td><td>Net Banking</td></tr><tr><td>RT_TXN20090</td><td>CUST1067</td><td>2025-02-20 07:26:09</td><td>Insurance Premium</td><td>20000.0</td><td>Credit Card</td></tr><tr><td>RT_TXN20091</td><td>CUST1050</td><td>2025-02-19 23:26:09</td><td>Deposit</td><td>200000.0</td><td>Net Banking</td></tr><tr><td>RT_TXN20092</td><td>CUST1096</td><td>2025-02-20 01:26:09</td><td>Stock Investment</td><td>10000.0</td><td>Net Banking</td></tr><tr><td>RT_TXN20093</td><td>CUST1037</td><td>2025-02-20 00:26:09</td><td>Stock Investment</td><td>100000.0</td><td>Net Banking</td></tr><tr><td>RT_TXN20094</td><td>CUST1011</td><td>2025-02-20 07:26:09</td><td>Fund Transfer</td><td>5000.0</td><td>UPI</td></tr><tr><td>RT_TXN20095</td><td>CUST1005</td><td>2025-02-20 03:26:09</td><td>Stock Investment</td><td>10000.0</td><td>Net Banking</td></tr><tr><td>RT_TXN20096</td><td>CUST1060</td><td>2025-02-20 03:26:09</td><td>Insurance Premium</td><td>5000.0</td><td>Credit Card</td></tr><tr><td>RT_TXN20097</td><td>CUST1031</td><td>2025-02-20 10:26:09</td><td>Stock Investment</td><td>100000.0</td><td>Net Banking</td></tr><tr><td>RT_TXN20098</td><td>CUST1063</td><td>2025-02-20 00:26:09</td><td>Bill Payment</td><td>2000.0</td><td>Credit Card</td></tr><tr><td>RT_TXN20099</td><td>CUST1062</td><td>2025-02-20 07:26:09</td><td>Bill Payment</td><td>10000.0</td><td>Credit Card</td></tr></tbody></table></div>"
      ]
     },
     "metadata": {
      "application/vnd.databricks.v1+output": {
       "addedWidgets": {},
       "aggData": [],
       "aggError": "",
       "aggOverflow": false,
       "aggSchema": [],
       "aggSeriesLimitReached": false,
       "aggType": "",
       "arguments": {},
       "columnCustomDisplayInfos": {},
       "data": [
        [
         "RT_TXN20000",
         "CUST1070",
         "2025-02-20 16:26:09",
         "Deposit",
         150000,
         "Credit Card"
        ],
        [
         "RT_TXN20001",
         "CUST1077",
         "2025-02-20 12:26:09",
         "Deposit",
         150000,
         "UPI"
        ],
        [
         "RT_TXN20002",
         "CUST1024",
         "2025-02-20 14:26:09",
         "Insurance Premium",
         20000,
         "Net Banking"
        ],
        [
         "RT_TXN20003",
         "CUST1014",
         "2025-02-20 02:26:09",
         "Fund Transfer",
         5000,
         "Net Banking"
        ],
        [
         "RT_TXN20004",
         "CUST1066",
         "2025-02-20 09:26:09",
         "Insurance Premium",
         1000,
         "Net Banking"
        ],
        [
         "RT_TXN20005",
         "CUST1070",
         "2025-02-19 23:26:09",
         "Deposit",
         200000,
         "UPI"
        ],
        [
         "RT_TXN20006",
         "CUST1025",
         "2025-02-20 12:26:09",
         "Bill Payment",
         2000,
         "Credit Card"
        ],
        [
         "RT_TXN20007",
         "CUST1057",
         "2025-02-20 08:26:09",
         "Bill Payment",
         2000,
         "Credit Card"
        ],
        [
         "RT_TXN20008",
         "CUST1014",
         "2025-02-20 02:26:09",
         "Withdrawal",
         15000,
         "Debit Card"
        ],
        [
         "RT_TXN20009",
         "CUST1024",
         "2025-02-19 21:26:09",
         "Stock Investment",
         200000,
         "Net Banking"
        ],
        [
         "RT_TXN20010",
         "CUST1016",
         "2025-02-20 02:26:09",
         "Bill Payment",
         500,
         "Credit Card"
        ],
        [
         "RT_TXN20011",
         "CUST1016",
         "2025-02-20 09:26:09",
         "Insurance Premium",
         5000,
         "Credit Card"
        ],
        [
         "RT_TXN20012",
         "CUST1030",
         "2025-02-20 20:26:09",
         "Stock Investment",
         100000,
         "Net Banking"
        ],
        [
         "RT_TXN20013",
         "CUST1073",
         "2025-02-20 17:26:09",
         "Bill Payment",
         2000,
         "Net Banking"
        ],
        [
         "RT_TXN20014",
         "CUST1095",
         "2025-02-20 07:26:09",
         "Withdrawal",
         20000,
         "Debit Card"
        ],
        [
         "RT_TXN20015",
         "CUST1007",
         "2025-02-20 16:26:09",
         "Fund Transfer",
         15000,
         "UPI"
        ],
        [
         "RT_TXN20016",
         "CUST1017",
         "2025-02-20 03:26:09",
         "Bill Payment",
         2000,
         "UPI"
        ],
        [
         "RT_TXN20017",
         "CUST1051",
         "2025-02-19 21:26:09",
         "Fund Transfer",
         30000,
         "Net Banking"
        ],
        [
         "RT_TXN20018",
         "CUST1039",
         "2025-02-20 06:26:09",
         "Insurance Premium",
         1000,
         "Credit Card"
        ],
        [
         "RT_TXN20019",
         "CUST1040",
         "2025-02-20 19:26:09",
         "Insurance Premium",
         20000,
         "Credit Card"
        ],
        [
         "RT_TXN20020",
         "CUST1026",
         "2025-02-20 19:26:09",
         "Bill Payment",
         2000,
         "Credit Card"
        ],
        [
         "RT_TXN20021",
         "CUST1001",
         "2025-02-20 06:26:09",
         "Stock Investment",
         50000,
         "Net Banking"
        ],
        [
         "RT_TXN20022",
         "CUST1079",
         "2025-02-20 20:26:09",
         "Insurance Premium",
         20000,
         "Net Banking"
        ],
        [
         "RT_TXN20023",
         "CUST1016",
         "2025-02-20 11:26:09",
         "Bill Payment",
         10000,
         "Net Banking"
        ],
        [
         "RT_TXN20024",
         "CUST1079",
         "2025-02-20 16:26:09",
         "Fund Transfer",
         5000,
         "UPI"
        ],
        [
         "RT_TXN20025",
         "CUST1036",
         "2025-02-20 17:26:09",
         "Deposit",
         50000,
         "Credit Card"
        ],
        [
         "RT_TXN20026",
         "CUST1053",
         "2025-02-20 17:26:09",
         "Deposit",
         150000,
         "Credit Card"
        ],
        [
         "RT_TXN20027",
         "CUST1025",
         "2025-02-20 21:26:09",
         "Withdrawal",
         20000,
         "Debit Card"
        ],
        [
         "RT_TXN20028",
         "CUST1030",
         "2025-02-20 16:26:09",
         "Bill Payment",
         500,
         "UPI"
        ],
        [
         "RT_TXN20029",
         "CUST1085",
         "2025-02-20 17:26:09",
         "Bill Payment",
         2000,
         "UPI"
        ],
        [
         "RT_TXN20030",
         "CUST1001",
         "2025-02-20 02:26:09",
         "Loan Payment",
         1000,
         "UPI"
        ],
        [
         "RT_TXN20031",
         "CUST1006",
         "2025-02-20 09:26:09",
         "Insurance Premium",
         5000,
         "Credit Card"
        ],
        [
         "RT_TXN20032",
         "CUST1006",
         "2025-02-20 07:26:09",
         "Withdrawal",
         20000,
         "Debit Card"
        ],
        [
         "RT_TXN20033",
         "CUST1098",
         "2025-02-20 01:26:09",
         "Insurance Premium",
         20000,
         "Net Banking"
        ],
        [
         "RT_TXN20034",
         "CUST1003",
         "2025-02-20 02:26:09",
         "Withdrawal",
         5000,
         "Net Banking"
        ],
        [
         "RT_TXN20035",
         "CUST1064",
         "2025-02-19 21:26:09",
         "Loan Payment",
         50000,
         "UPI"
        ],
        [
         "RT_TXN20036",
         "CUST1034",
         "2025-02-20 00:26:09",
         "Loan Payment",
         50000,
         "Net Banking"
        ],
        [
         "RT_TXN20037",
         "CUST1081",
         "2025-02-20 14:26:09",
         "Bill Payment",
         10000,
         "Credit Card"
        ],
        [
         "RT_TXN20038",
         "CUST1083",
         "2025-02-20 07:26:09",
         "Loan Payment",
         5000,
         "Net Banking"
        ],
        [
         "RT_TXN20039",
         "CUST1028",
         "2025-02-20 10:26:09",
         "Insurance Premium",
         10000,
         "Credit Card"
        ],
        [
         "RT_TXN20040",
         "CUST1010",
         "2025-02-20 16:26:09",
         "Deposit",
         100000,
         "UPI"
        ],
        [
         "RT_TXN20041",
         "CUST1016",
         "2025-02-20 10:26:09",
         "Deposit",
         10000,
         "Net Banking"
        ],
        [
         "RT_TXN20042",
         "CUST1068",
         "2025-02-20 21:26:09",
         "Insurance Premium",
         5000,
         "Credit Card"
        ],
        [
         "RT_TXN20043",
         "CUST1064",
         "2025-02-19 22:26:09",
         "Loan Payment",
         1000,
         "UPI"
        ],
        [
         "RT_TXN20044",
         "CUST1033",
         "2025-02-20 11:26:09",
         "Insurance Premium",
         1000,
         "Net Banking"
        ],
        [
         "RT_TXN20045",
         "CUST1091",
         "2025-02-20 18:26:09",
         "Deposit",
         100000,
         "UPI"
        ],
        [
         "RT_TXN20046",
         "CUST1027",
         "2025-02-20 04:26:09",
         "Stock Investment",
         10000,
         "Net Banking"
        ],
        [
         "RT_TXN20047",
         "CUST1046",
         "2025-02-20 20:26:09",
         "Deposit",
         100000,
         "UPI"
        ],
        [
         "RT_TXN20048",
         "CUST1064",
         "2025-02-20 18:26:09",
         "Bill Payment",
         10000,
         "Credit Card"
        ],
        [
         "RT_TXN20049",
         "CUST1019",
         "2025-02-20 02:26:09",
         "Fund Transfer",
         5000,
         "UPI"
        ],
        [
         "RT_TXN20050",
         "CUST1097",
         "2025-02-20 19:26:09",
         "Bill Payment",
         10000,
         "UPI"
        ],
        [
         "RT_TXN20051",
         "CUST1083",
         "2025-02-20 11:26:09",
         "Bill Payment",
         10000,
         "Credit Card"
        ],
        [
         "RT_TXN20052",
         "CUST1048",
         "2025-02-20 21:26:09",
         "Loan Payment",
         10000,
         "UPI"
        ],
        [
         "RT_TXN20053",
         "CUST1081",
         "2025-02-20 00:26:09",
         "Loan Payment",
         10000,
         "UPI"
        ],
        [
         "RT_TXN20054",
         "CUST1036",
         "2025-02-20 02:26:09",
         "Bill Payment",
         5000,
         "Net Banking"
        ],
        [
         "RT_TXN20055",
         "CUST1011",
         "2025-02-20 11:26:09",
         "Loan Payment",
         1000,
         "UPI"
        ],
        [
         "RT_TXN20056",
         "CUST1006",
         "2025-02-20 10:26:09",
         "Fund Transfer",
         20000,
         "UPI"
        ],
        [
         "RT_TXN20057",
         "CUST1060",
         "2025-02-20 14:26:09",
         "Insurance Premium",
         1000,
         "Credit Card"
        ],
        [
         "RT_TXN20058",
         "CUST1035",
         "2025-02-20 02:26:09",
         "Stock Investment",
         500000,
         "Net Banking"
        ],
        [
         "RT_TXN20059",
         "CUST1049",
         "2025-02-20 13:26:09",
         "Fund Transfer",
         20000,
         "Net Banking"
        ],
        [
         "RT_TXN20060",
         "CUST1016",
         "2025-02-20 16:26:09",
         "Loan Payment",
         50000,
         "UPI"
        ],
        [
         "RT_TXN20061",
         "CUST1032",
         "2025-02-20 20:26:09",
         "Insurance Premium",
         1000,
         "Net Banking"
        ],
        [
         "RT_TXN20062",
         "CUST1093",
         "2025-02-20 04:26:09",
         "Withdrawal",
         10000,
         "Net Banking"
        ],
        [
         "RT_TXN20063",
         "CUST1046",
         "2025-02-20 09:26:09",
         "Fund Transfer",
         15000,
         "Net Banking"
        ],
        [
         "RT_TXN20064",
         "CUST1072",
         "2025-02-20 09:26:09",
         "Fund Transfer",
         15000,
         "UPI"
        ],
        [
         "RT_TXN20065",
         "CUST1060",
         "2025-02-19 22:26:09",
         "Loan Payment",
         50000,
         "UPI"
        ],
        [
         "RT_TXN20066",
         "CUST1061",
         "2025-02-20 09:26:09",
         "Bill Payment",
         10000,
         "UPI"
        ],
        [
         "RT_TXN20067",
         "CUST1080",
         "2025-02-20 09:26:09",
         "Deposit",
         150000,
         "Credit Card"
        ],
        [
         "RT_TXN20068",
         "CUST1010",
         "2025-02-20 18:26:09",
         "Bill Payment",
         5000,
         "Credit Card"
        ],
        [
         "RT_TXN20069",
         "CUST1086",
         "2025-02-20 15:26:09",
         "Loan Payment",
         20000,
         "Net Banking"
        ],
        [
         "RT_TXN20070",
         "CUST1077",
         "2025-02-20 07:26:09",
         "Bill Payment",
         5000,
         "UPI"
        ],
        [
         "RT_TXN20071",
         "CUST1099",
         "2025-02-20 04:26:09",
         "Deposit",
         50000,
         "UPI"
        ],
        [
         "RT_TXN20072",
         "CUST1049",
         "2025-02-20 20:26:09",
         "Stock Investment",
         10000,
         "Net Banking"
        ],
        [
         "RT_TXN20073",
         "CUST1073",
         "2025-02-20 11:26:09",
         "Deposit",
         50000,
         "Net Banking"
        ],
        [
         "RT_TXN20074",
         "CUST1073",
         "2025-02-20 15:26:09",
         "Deposit",
         10000,
         "UPI"
        ],
        [
         "RT_TXN20075",
         "CUST1078",
         "2025-02-19 21:26:09",
         "Bill Payment",
         500,
         "Net Banking"
        ],
        [
         "RT_TXN20076",
         "CUST1094",
         "2025-02-20 14:26:09",
         "Loan Payment",
         50000,
         "Net Banking"
        ],
        [
         "RT_TXN20077",
         "CUST1096",
         "2025-02-20 07:26:09",
         "Deposit",
         10000,
         "Credit Card"
        ],
        [
         "RT_TXN20078",
         "CUST1095",
         "2025-02-20 17:26:09",
         "Insurance Premium",
         5000,
         "Net Banking"
        ],
        [
         "RT_TXN20079",
         "CUST1075",
         "2025-02-20 20:26:09",
         "Insurance Premium",
         10000,
         "Net Banking"
        ],
        [
         "RT_TXN20080",
         "CUST1014",
         "2025-02-20 14:26:09",
         "Loan Payment",
         1000,
         "Net Banking"
        ],
        [
         "RT_TXN20081",
         "CUST1022",
         "2025-02-20 19:26:09",
         "Fund Transfer",
         20000,
         "UPI"
        ],
        [
         "RT_TXN20082",
         "CUST1087",
         "2025-02-19 21:26:09",
         "Loan Payment",
         5000,
         "Net Banking"
        ],
        [
         "RT_TXN20083",
         "CUST1080",
         "2025-02-20 01:26:09",
         "Stock Investment",
         10000,
         "Net Banking"
        ],
        [
         "RT_TXN20084",
         "CUST1069",
         "2025-02-20 20:26:09",
         "Loan Payment",
         20000,
         "UPI"
        ],
        [
         "RT_TXN20085",
         "CUST1060",
         "2025-02-20 16:26:09",
         "Deposit",
         100000,
         "Net Banking"
        ],
        [
         "RT_TXN20086",
         "CUST1045",
         "2025-02-20 12:26:09",
         "Bill Payment",
         10000,
         "Net Banking"
        ],
        [
         "RT_TXN20087",
         "CUST1032",
         "2025-02-20 02:26:09",
         "Withdrawal",
         10000,
         "Net Banking"
        ],
        [
         "RT_TXN20088",
         "CUST1045",
         "2025-02-20 02:26:09",
         "Withdrawal",
         20000,
         "Net Banking"
        ],
        [
         "RT_TXN20089",
         "CUST1004",
         "2025-02-20 04:26:09",
         "Loan Payment",
         20000,
         "Net Banking"
        ],
        [
         "RT_TXN20090",
         "CUST1067",
         "2025-02-20 07:26:09",
         "Insurance Premium",
         20000,
         "Credit Card"
        ],
        [
         "RT_TXN20091",
         "CUST1050",
         "2025-02-19 23:26:09",
         "Deposit",
         200000,
         "Net Banking"
        ],
        [
         "RT_TXN20092",
         "CUST1096",
         "2025-02-20 01:26:09",
         "Stock Investment",
         10000,
         "Net Banking"
        ],
        [
         "RT_TXN20093",
         "CUST1037",
         "2025-02-20 00:26:09",
         "Stock Investment",
         100000,
         "Net Banking"
        ],
        [
         "RT_TXN20094",
         "CUST1011",
         "2025-02-20 07:26:09",
         "Fund Transfer",
         5000,
         "UPI"
        ],
        [
         "RT_TXN20095",
         "CUST1005",
         "2025-02-20 03:26:09",
         "Stock Investment",
         10000,
         "Net Banking"
        ],
        [
         "RT_TXN20096",
         "CUST1060",
         "2025-02-20 03:26:09",
         "Insurance Premium",
         5000,
         "Credit Card"
        ],
        [
         "RT_TXN20097",
         "CUST1031",
         "2025-02-20 10:26:09",
         "Stock Investment",
         100000,
         "Net Banking"
        ],
        [
         "RT_TXN20098",
         "CUST1063",
         "2025-02-20 00:26:09",
         "Bill Payment",
         2000,
         "Credit Card"
        ],
        [
         "RT_TXN20099",
         "CUST1062",
         "2025-02-20 07:26:09",
         "Bill Payment",
         10000,
         "Credit Card"
        ],
        [
         "RT_TXN20000",
         "CUST1070",
         "2025-02-20 16:26:09",
         "Deposit",
         150000,
         "Credit Card"
        ],
        [
         "RT_TXN20001",
         "CUST1077",
         "2025-02-20 12:26:09",
         "Deposit",
         150000,
         "UPI"
        ],
        [
         "RT_TXN20002",
         "CUST1024",
         "2025-02-20 14:26:09",
         "Insurance Premium",
         20000,
         "Net Banking"
        ],
        [
         "RT_TXN20003",
         "CUST1014",
         "2025-02-20 02:26:09",
         "Fund Transfer",
         5000,
         "Net Banking"
        ],
        [
         "RT_TXN20004",
         "CUST1066",
         "2025-02-20 09:26:09",
         "Insurance Premium",
         1000,
         "Net Banking"
        ],
        [
         "RT_TXN20005",
         "CUST1070",
         "2025-02-19 23:26:09",
         "Deposit",
         200000,
         "UPI"
        ],
        [
         "RT_TXN20006",
         "CUST1025",
         "2025-02-20 12:26:09",
         "Bill Payment",
         2000,
         "Credit Card"
        ],
        [
         "RT_TXN20007",
         "CUST1057",
         "2025-02-20 08:26:09",
         "Bill Payment",
         2000,
         "Credit Card"
        ],
        [
         "RT_TXN20008",
         "CUST1014",
         "2025-02-20 02:26:09",
         "Withdrawal",
         15000,
         "Debit Card"
        ],
        [
         "RT_TXN20009",
         "CUST1024",
         "2025-02-19 21:26:09",
         "Stock Investment",
         200000,
         "Net Banking"
        ],
        [
         "RT_TXN20010",
         "CUST1016",
         "2025-02-20 02:26:09",
         "Bill Payment",
         500,
         "Credit Card"
        ],
        [
         "RT_TXN20011",
         "CUST1016",
         "2025-02-20 09:26:09",
         "Insurance Premium",
         5000,
         "Credit Card"
        ],
        [
         "RT_TXN20012",
         "CUST1030",
         "2025-02-20 20:26:09",
         "Stock Investment",
         100000,
         "Net Banking"
        ],
        [
         "RT_TXN20013",
         "CUST1073",
         "2025-02-20 17:26:09",
         "Bill Payment",
         2000,
         "Net Banking"
        ],
        [
         "RT_TXN20014",
         "CUST1095",
         "2025-02-20 07:26:09",
         "Withdrawal",
         20000,
         "Debit Card"
        ],
        [
         "RT_TXN20015",
         "CUST1007",
         "2025-02-20 16:26:09",
         "Fund Transfer",
         15000,
         "UPI"
        ],
        [
         "RT_TXN20016",
         "CUST1017",
         "2025-02-20 03:26:09",
         "Bill Payment",
         2000,
         "UPI"
        ],
        [
         "RT_TXN20017",
         "CUST1051",
         "2025-02-19 21:26:09",
         "Fund Transfer",
         30000,
         "Net Banking"
        ],
        [
         "RT_TXN20018",
         "CUST1039",
         "2025-02-20 06:26:09",
         "Insurance Premium",
         1000,
         "Credit Card"
        ],
        [
         "RT_TXN20019",
         "CUST1040",
         "2025-02-20 19:26:09",
         "Insurance Premium",
         20000,
         "Credit Card"
        ],
        [
         "RT_TXN20020",
         "CUST1026",
         "2025-02-20 19:26:09",
         "Bill Payment",
         2000,
         "Credit Card"
        ],
        [
         "RT_TXN20021",
         "CUST1001",
         "2025-02-20 06:26:09",
         "Stock Investment",
         50000,
         "Net Banking"
        ],
        [
         "RT_TXN20022",
         "CUST1079",
         "2025-02-20 20:26:09",
         "Insurance Premium",
         20000,
         "Net Banking"
        ],
        [
         "RT_TXN20023",
         "CUST1016",
         "2025-02-20 11:26:09",
         "Bill Payment",
         10000,
         "Net Banking"
        ],
        [
         "RT_TXN20024",
         "CUST1079",
         "2025-02-20 16:26:09",
         "Fund Transfer",
         5000,
         "UPI"
        ],
        [
         "RT_TXN20025",
         "CUST1036",
         "2025-02-20 17:26:09",
         "Deposit",
         50000,
         "Credit Card"
        ],
        [
         "RT_TXN20026",
         "CUST1053",
         "2025-02-20 17:26:09",
         "Deposit",
         150000,
         "Credit Card"
        ],
        [
         "RT_TXN20027",
         "CUST1025",
         "2025-02-20 21:26:09",
         "Withdrawal",
         20000,
         "Debit Card"
        ],
        [
         "RT_TXN20028",
         "CUST1030",
         "2025-02-20 16:26:09",
         "Bill Payment",
         500,
         "UPI"
        ],
        [
         "RT_TXN20029",
         "CUST1085",
         "2025-02-20 17:26:09",
         "Bill Payment",
         2000,
         "UPI"
        ],
        [
         "RT_TXN20030",
         "CUST1001",
         "2025-02-20 02:26:09",
         "Loan Payment",
         1000,
         "UPI"
        ],
        [
         "RT_TXN20031",
         "CUST1006",
         "2025-02-20 09:26:09",
         "Insurance Premium",
         5000,
         "Credit Card"
        ],
        [
         "RT_TXN20032",
         "CUST1006",
         "2025-02-20 07:26:09",
         "Withdrawal",
         20000,
         "Debit Card"
        ],
        [
         "RT_TXN20033",
         "CUST1098",
         "2025-02-20 01:26:09",
         "Insurance Premium",
         20000,
         "Net Banking"
        ],
        [
         "RT_TXN20034",
         "CUST1003",
         "2025-02-20 02:26:09",
         "Withdrawal",
         5000,
         "Net Banking"
        ],
        [
         "RT_TXN20035",
         "CUST1064",
         "2025-02-19 21:26:09",
         "Loan Payment",
         50000,
         "UPI"
        ],
        [
         "RT_TXN20036",
         "CUST1034",
         "2025-02-20 00:26:09",
         "Loan Payment",
         50000,
         "Net Banking"
        ],
        [
         "RT_TXN20037",
         "CUST1081",
         "2025-02-20 14:26:09",
         "Bill Payment",
         10000,
         "Credit Card"
        ],
        [
         "RT_TXN20038",
         "CUST1083",
         "2025-02-20 07:26:09",
         "Loan Payment",
         5000,
         "Net Banking"
        ],
        [
         "RT_TXN20039",
         "CUST1028",
         "2025-02-20 10:26:09",
         "Insurance Premium",
         10000,
         "Credit Card"
        ],
        [
         "RT_TXN20040",
         "CUST1010",
         "2025-02-20 16:26:09",
         "Deposit",
         100000,
         "UPI"
        ],
        [
         "RT_TXN20041",
         "CUST1016",
         "2025-02-20 10:26:09",
         "Deposit",
         10000,
         "Net Banking"
        ],
        [
         "RT_TXN20042",
         "CUST1068",
         "2025-02-20 21:26:09",
         "Insurance Premium",
         5000,
         "Credit Card"
        ],
        [
         "RT_TXN20043",
         "CUST1064",
         "2025-02-19 22:26:09",
         "Loan Payment",
         1000,
         "UPI"
        ],
        [
         "RT_TXN20044",
         "CUST1033",
         "2025-02-20 11:26:09",
         "Insurance Premium",
         1000,
         "Net Banking"
        ],
        [
         "RT_TXN20045",
         "CUST1091",
         "2025-02-20 18:26:09",
         "Deposit",
         100000,
         "UPI"
        ],
        [
         "RT_TXN20046",
         "CUST1027",
         "2025-02-20 04:26:09",
         "Stock Investment",
         10000,
         "Net Banking"
        ],
        [
         "RT_TXN20047",
         "CUST1046",
         "2025-02-20 20:26:09",
         "Deposit",
         100000,
         "UPI"
        ],
        [
         "RT_TXN20048",
         "CUST1064",
         "2025-02-20 18:26:09",
         "Bill Payment",
         10000,
         "Credit Card"
        ],
        [
         "RT_TXN20049",
         "CUST1019",
         "2025-02-20 02:26:09",
         "Fund Transfer",
         5000,
         "UPI"
        ],
        [
         "RT_TXN20050",
         "CUST1097",
         "2025-02-20 19:26:09",
         "Bill Payment",
         10000,
         "UPI"
        ],
        [
         "RT_TXN20051",
         "CUST1083",
         "2025-02-20 11:26:09",
         "Bill Payment",
         10000,
         "Credit Card"
        ],
        [
         "RT_TXN20052",
         "CUST1048",
         "2025-02-20 21:26:09",
         "Loan Payment",
         10000,
         "UPI"
        ],
        [
         "RT_TXN20053",
         "CUST1081",
         "2025-02-20 00:26:09",
         "Loan Payment",
         10000,
         "UPI"
        ],
        [
         "RT_TXN20054",
         "CUST1036",
         "2025-02-20 02:26:09",
         "Bill Payment",
         5000,
         "Net Banking"
        ],
        [
         "RT_TXN20055",
         "CUST1011",
         "2025-02-20 11:26:09",
         "Loan Payment",
         1000,
         "UPI"
        ],
        [
         "RT_TXN20056",
         "CUST1006",
         "2025-02-20 10:26:09",
         "Fund Transfer",
         20000,
         "UPI"
        ],
        [
         "RT_TXN20057",
         "CUST1060",
         "2025-02-20 14:26:09",
         "Insurance Premium",
         1000,
         "Credit Card"
        ],
        [
         "RT_TXN20058",
         "CUST1035",
         "2025-02-20 02:26:09",
         "Stock Investment",
         500000,
         "Net Banking"
        ],
        [
         "RT_TXN20059",
         "CUST1049",
         "2025-02-20 13:26:09",
         "Fund Transfer",
         20000,
         "Net Banking"
        ],
        [
         "RT_TXN20060",
         "CUST1016",
         "2025-02-20 16:26:09",
         "Loan Payment",
         50000,
         "UPI"
        ],
        [
         "RT_TXN20061",
         "CUST1032",
         "2025-02-20 20:26:09",
         "Insurance Premium",
         1000,
         "Net Banking"
        ],
        [
         "RT_TXN20062",
         "CUST1093",
         "2025-02-20 04:26:09",
         "Withdrawal",
         10000,
         "Net Banking"
        ],
        [
         "RT_TXN20063",
         "CUST1046",
         "2025-02-20 09:26:09",
         "Fund Transfer",
         15000,
         "Net Banking"
        ],
        [
         "RT_TXN20064",
         "CUST1072",
         "2025-02-20 09:26:09",
         "Fund Transfer",
         15000,
         "UPI"
        ],
        [
         "RT_TXN20065",
         "CUST1060",
         "2025-02-19 22:26:09",
         "Loan Payment",
         50000,
         "UPI"
        ],
        [
         "RT_TXN20066",
         "CUST1061",
         "2025-02-20 09:26:09",
         "Bill Payment",
         10000,
         "UPI"
        ],
        [
         "RT_TXN20067",
         "CUST1080",
         "2025-02-20 09:26:09",
         "Deposit",
         150000,
         "Credit Card"
        ],
        [
         "RT_TXN20068",
         "CUST1010",
         "2025-02-20 18:26:09",
         "Bill Payment",
         5000,
         "Credit Card"
        ],
        [
         "RT_TXN20069",
         "CUST1086",
         "2025-02-20 15:26:09",
         "Loan Payment",
         20000,
         "Net Banking"
        ],
        [
         "RT_TXN20070",
         "CUST1077",
         "2025-02-20 07:26:09",
         "Bill Payment",
         5000,
         "UPI"
        ],
        [
         "RT_TXN20071",
         "CUST1099",
         "2025-02-20 04:26:09",
         "Deposit",
         50000,
         "UPI"
        ],
        [
         "RT_TXN20072",
         "CUST1049",
         "2025-02-20 20:26:09",
         "Stock Investment",
         10000,
         "Net Banking"
        ],
        [
         "RT_TXN20073",
         "CUST1073",
         "2025-02-20 11:26:09",
         "Deposit",
         50000,
         "Net Banking"
        ],
        [
         "RT_TXN20074",
         "CUST1073",
         "2025-02-20 15:26:09",
         "Deposit",
         10000,
         "UPI"
        ],
        [
         "RT_TXN20075",
         "CUST1078",
         "2025-02-19 21:26:09",
         "Bill Payment",
         500,
         "Net Banking"
        ],
        [
         "RT_TXN20076",
         "CUST1094",
         "2025-02-20 14:26:09",
         "Loan Payment",
         50000,
         "Net Banking"
        ],
        [
         "RT_TXN20077",
         "CUST1096",
         "2025-02-20 07:26:09",
         "Deposit",
         10000,
         "Credit Card"
        ],
        [
         "RT_TXN20078",
         "CUST1095",
         "2025-02-20 17:26:09",
         "Insurance Premium",
         5000,
         "Net Banking"
        ],
        [
         "RT_TXN20079",
         "CUST1075",
         "2025-02-20 20:26:09",
         "Insurance Premium",
         10000,
         "Net Banking"
        ],
        [
         "RT_TXN20080",
         "CUST1014",
         "2025-02-20 14:26:09",
         "Loan Payment",
         1000,
         "Net Banking"
        ],
        [
         "RT_TXN20081",
         "CUST1022",
         "2025-02-20 19:26:09",
         "Fund Transfer",
         20000,
         "UPI"
        ],
        [
         "RT_TXN20082",
         "CUST1087",
         "2025-02-19 21:26:09",
         "Loan Payment",
         5000,
         "Net Banking"
        ],
        [
         "RT_TXN20083",
         "CUST1080",
         "2025-02-20 01:26:09",
         "Stock Investment",
         10000,
         "Net Banking"
        ],
        [
         "RT_TXN20084",
         "CUST1069",
         "2025-02-20 20:26:09",
         "Loan Payment",
         20000,
         "UPI"
        ],
        [
         "RT_TXN20085",
         "CUST1060",
         "2025-02-20 16:26:09",
         "Deposit",
         100000,
         "Net Banking"
        ],
        [
         "RT_TXN20086",
         "CUST1045",
         "2025-02-20 12:26:09",
         "Bill Payment",
         10000,
         "Net Banking"
        ],
        [
         "RT_TXN20087",
         "CUST1032",
         "2025-02-20 02:26:09",
         "Withdrawal",
         10000,
         "Net Banking"
        ],
        [
         "RT_TXN20088",
         "CUST1045",
         "2025-02-20 02:26:09",
         "Withdrawal",
         20000,
         "Net Banking"
        ],
        [
         "RT_TXN20089",
         "CUST1004",
         "2025-02-20 04:26:09",
         "Loan Payment",
         20000,
         "Net Banking"
        ],
        [
         "RT_TXN20090",
         "CUST1067",
         "2025-02-20 07:26:09",
         "Insurance Premium",
         20000,
         "Credit Card"
        ],
        [
         "RT_TXN20091",
         "CUST1050",
         "2025-02-19 23:26:09",
         "Deposit",
         200000,
         "Net Banking"
        ],
        [
         "RT_TXN20092",
         "CUST1096",
         "2025-02-20 01:26:09",
         "Stock Investment",
         10000,
         "Net Banking"
        ],
        [
         "RT_TXN20093",
         "CUST1037",
         "2025-02-20 00:26:09",
         "Stock Investment",
         100000,
         "Net Banking"
        ],
        [
         "RT_TXN20094",
         "CUST1011",
         "2025-02-20 07:26:09",
         "Fund Transfer",
         5000,
         "UPI"
        ],
        [
         "RT_TXN20095",
         "CUST1005",
         "2025-02-20 03:26:09",
         "Stock Investment",
         10000,
         "Net Banking"
        ],
        [
         "RT_TXN20096",
         "CUST1060",
         "2025-02-20 03:26:09",
         "Insurance Premium",
         5000,
         "Credit Card"
        ],
        [
         "RT_TXN20097",
         "CUST1031",
         "2025-02-20 10:26:09",
         "Stock Investment",
         100000,
         "Net Banking"
        ],
        [
         "RT_TXN20098",
         "CUST1063",
         "2025-02-20 00:26:09",
         "Bill Payment",
         2000,
         "Credit Card"
        ],
        [
         "RT_TXN20099",
         "CUST1062",
         "2025-02-20 07:26:09",
         "Bill Payment",
         10000,
         "Credit Card"
        ]
       ],
       "datasetInfos": [],
       "dbfsResultPath": null,
       "isJsonSchema": true,
       "metadata": {},
       "overflow": false,
       "plotOptions": {
        "customPlotOptions": {},
        "displayType": "table",
        "pivotAggregation": null,
        "pivotColumns": null,
        "xColumns": null,
        "yColumns": null
       },
       "removedWidgets": [],
       "schema": [
        {
         "metadata": "{}",
         "name": "transaction_id",
         "type": "\"string\""
        },
        {
         "metadata": "{}",
         "name": "customer_id",
         "type": "\"string\""
        },
        {
         "metadata": "{}",
         "name": "transaction_date",
         "type": "\"string\""
        },
        {
         "metadata": "{}",
         "name": "transaction_type",
         "type": "\"string\""
        },
        {
         "metadata": "{}",
         "name": "transaction_amount",
         "type": "\"double\""
        },
        {
         "metadata": "{}",
         "name": "payment_method",
         "type": "\"string\""
        }
       ],
       "type": "table"
      }
     },
     "output_type": "display_data"
    }
   ],
   "source": [
    "# Databricks notebook source\n",
    "from pyspark.sql.functions import *\n",
    "from pyspark.sql.types import StringType, StructType, StructField, IntegerType, DoubleType\n",
    "from pyspark.sql.functions import col, expr\n",
    "\n",
    "# Define the updated schema\n",
    "transaction_schema = StructType([\n",
    "    StructField(\"transaction_id\", StringType(), True),\n",
    "    StructField(\"customer_id\", StringType(), True),\n",
    "    StructField(\"transaction_date\", StringType(), True),\n",
    "    StructField(\"transaction_type\", StringType(), True),\n",
    "    StructField(\"transaction_amount\", DoubleType(), True),\n",
    "    StructField(\"payment_method\", StringType(), True)\n",
    "])\n",
    "\n",
    "connectionString = \"\"\n",
    "ehConf = {\n",
    "    \"eventhubs.connectionString\": sc._jvm.org.apache.spark.eventhubs.EventHubsUtils.encrypt(connectionString),\n",
    "    \"eventhubs.consumerGroup\": \"$Default\"  # Change if using a different consumer group\n",
    "}\n",
    " \n",
    "# Reading the stream from Azure Event Hub\n",
    "df = spark.readStream.format(\"eventhubs\").options(**ehConf).load()\n",
    " \n",
    "# Transforming the data\n",
    "df = df.selectExpr(\"CAST(body AS STRING) as json_data\") \\\n",
    "       .withColumn(\"data\", from_json(col(\"json_data\"), transaction_schema)) \\\n",
    "       .select(\"data.*\")  # Extract only required fields\n",
    " \n",
    "display(df)\n",
    "# Function to process each micro-batch and write to Delta\n",
    "def process_batch(batchDF, batch_id):\n",
    "    if batchDF.count() > 0:\n",
    "        batchDF.write \\\n",
    "            .format(\"delta\") \\\n",
    "            .mode(\"append\") \\\n",
    "            .saveAsTable(\"default.my_delta_table\")  # Save to Delta table\n",
    " \n",
    "# Start streaming and apply foreachBatch\n",
    "query = df.writeStream \\\n",
    "    .outputMode(\"append\") \\\n",
    "    .foreachBatch(process_batch) \\\n",
    "    .option(\"checkpointLocation\", \"dbfs:/user/hive/warehouse/checkpoint/\") \\\n",
    "    .start()\n",
    " "
   ]
  },
  {
   "cell_type": "code",
   "execution_count": 0,
   "metadata": {
    "application/vnd.databricks.v1+cell": {
     "cellMetadata": {
      "byteLimit": 2048000,
      "rowLimit": 10000
     },
     "inputWidgets": {},
     "nuid": "7a0ac26c-3314-4845-a7cf-5cb39e94b6bc",
     "showTitle": false,
     "tableResultSettingsMap": {},
     "title": ""
    }
   },
   "outputs": [],
   "source": [
    "cosmos_endpoint = \"\"\n",
    "cosmos_key = \"\"\n",
    "cosmos_database = \"\"\n",
    "cosmos_container = \"my_container\"\n",
    " \n",
    "cosmos_config = {\n",
    "    \"spark.cosmos.accountEndpoint\": cosmos_endpoint,\n",
    "    \"spark.cosmos.accountKey\": cosmos_key,\n",
    "    \"spark.cosmos.database\": cosmos_database,\n",
    "    \"spark.cosmos.container\": cosmos_container,\n",
    "    \"spark.cosmos.write.strategy\": \"ItemOverwrite\"\n",
    "}"
   ]
  },
  {
   "cell_type": "code",
   "execution_count": 0,
   "metadata": {
    "application/vnd.databricks.v1+cell": {
     "cellMetadata": {
      "byteLimit": 2048000,
      "rowLimit": 10000
     },
     "inputWidgets": {},
     "nuid": "26d2ca78-ca2e-4ac4-99c9-d25af44e394b",
     "showTitle": false,
     "tableResultSettingsMap": {},
     "title": ""
    }
   },
   "outputs": [],
   "source": [
    "from pyspark.sql.functions import col\n",
    "df = spark.read.format(\"delta\").load(\"dbfs:/user/hive/warehouse/my_delta_table\")\n",
    "df = df.withColumn(\"id\", col(\"transaction_id\").cast(\"string\"))"
   ]
  },
  {
   "cell_type": "code",
   "execution_count": 0,
   "metadata": {
    "application/vnd.databricks.v1+cell": {
     "cellMetadata": {
      "byteLimit": 2048000,
      "rowLimit": 10000
     },
     "inputWidgets": {},
     "nuid": "af610666-0872-4077-97ed-4fc9d9716bf4",
     "showTitle": false,
     "tableResultSettingsMap": {},
     "title": ""
    }
   },
   "outputs": [],
   "source": [
    "df.write \\\n",
    "    .format(\"cosmos.oltp\") \\\n",
    "    .mode(\"APPEND\") \\\n",
    "    .option(\"spark.synapse.linkedService\", \"your-linked-service\") \\\n",
    "    .option(\"spark.cosmos.accountEndpoint\", cosmos_endpoint) \\\n",
    "    .option(\"spark.cosmos.accountKey\", cosmos_key) \\\n",
    "    .option(\"spark.cosmos.database\", cosmos_database) \\\n",
    "    .option(\"spark.cosmos.container\", cosmos_container) \\\n",
    "    .save()"
   ]
  }
 ],
 "metadata": {
  "application/vnd.databricks.v1+notebook": {
   "computePreferences": null,
   "dashboards": [],
   "environmentMetadata": {
    "base_environment": "",
    "environment_version": "2"
   },
   "language": "python",
   "notebookMetadata": {
    "pythonIndentUnit": 4
   },
   "notebookName": "Real_time",
   "widgets": {}
  },
  "language_info": {
   "name": "python"
  }
 },
 "nbformat": 4,
 "nbformat_minor": 0
}
